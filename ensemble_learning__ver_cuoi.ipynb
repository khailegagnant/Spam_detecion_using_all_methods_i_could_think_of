{
 "cells": [
  {
   "cell_type": "code",
   "execution_count": 1,
   "metadata": {},
   "outputs": [
    {
     "name": "stderr",
     "output_type": "stream",
     "text": [
      "[nltk_data] Downloading package punkt to\n",
      "[nltk_data]     C:\\Users\\DELL\\AppData\\Roaming\\nltk_data...\n",
      "[nltk_data]   Package punkt is already up-to-date!\n",
      "[nltk_data] Downloading package wordnet to\n",
      "[nltk_data]     C:\\Users\\DELL\\AppData\\Roaming\\nltk_data...\n",
      "[nltk_data]   Package wordnet is already up-to-date!\n",
      "[nltk_data] Downloading package stopwords to\n",
      "[nltk_data]     C:\\Users\\DELL\\AppData\\Roaming\\nltk_data...\n",
      "[nltk_data]   Package stopwords is already up-to-date!\n"
     ]
    }
   ],
   "source": [
    "import pandas as pd\n",
    "import numpy as np\n",
    "import matplotlib.pyplot as plt\n",
    "import re\n",
    "import nltk\n",
    "from sklearn.decomposition import PCA\n",
    "from sklearn.preprocessing import LabelEncoder\n",
    "from nltk.tokenize import word_tokenize\n",
    "from nltk.corpus import stopwords\n",
    "from sklearn.model_selection import train_test_split\n",
    "import tensorflow as tf\n",
    "from tensorflow.keras.models import load_model\n",
    "from sklearn.metrics import classification_report\n",
    "from sklearn.linear_model import LogisticRegression\n",
    "from sklearn.metrics import accuracy_score\n",
    "from sklearn.metrics import f1_score\n",
    "from sklearn.metrics import accuracy_score, f1_score, classification_report\n",
    "from sklearn.ensemble import RandomForestClassifier\n",
    "from sklearn.metrics import confusion_matrix\n",
    "import seaborn as sns\n",
    "import matplotlib.pyplot as plt\n",
    "from sklearn.model_selection import KFold, StratifiedKFold, cross_val_score, learning_curve\n",
    "nltk.download('punkt')\n",
    "nltk.download('wordnet')\n",
    "nltk.download('stopwords')\n",
    "from sklearn.feature_extraction.text import TfidfVectorizer\n"
   ]
  },
  {
   "cell_type": "code",
   "execution_count": 2,
   "metadata": {},
   "outputs": [],
   "source": [
    "df = pd.read_csv(r'data.csv')"
   ]
  },
  {
   "cell_type": "markdown",
   "metadata": {},
   "source": [
    "This part of the project is a colaboration between: Le Linh Long, Nguyen Quang Huy, Nguyen Tuan Khai ( me), Pham Thai Son",
    "\n"
   ]
  },
  {
   "cell_type": "markdown",
   "metadata": {},
   "source": [
    "features includes:\n",
    "\n",
    "Overall: Basically stars from 1 to 5\n",
    "\n",
    "\"VERFIFIED\": This is our target variable, which determines if the comment is a spam or not. 0  IS SPAM and 1 IS NOT SPAM\n",
    "\n",
    "Reviewtext: The comments\n",
    "\n",
    "unixReviewtime: The time that the comment was posted, in case you don't know what unix time is, I suggest you look it up since you might find it useful (We didn't tho)\n",
    "\n",
    "The rest are quite self explanatory :)"
   ]
  },
  {
   "cell_type": "code",
   "execution_count": 3,
   "metadata": {},
   "outputs": [
    {
     "data": {
      "text/html": [
       "<div>\n",
       "<style scoped>\n",
       "    .dataframe tbody tr th:only-of-type {\n",
       "        vertical-align: middle;\n",
       "    }\n",
       "\n",
       "    .dataframe tbody tr th {\n",
       "        vertical-align: top;\n",
       "    }\n",
       "\n",
       "    .dataframe thead th {\n",
       "        text-align: right;\n",
       "    }\n",
       "</style>\n",
       "<table border=\"1\" class=\"dataframe\">\n",
       "  <thead>\n",
       "    <tr style=\"text-align: right;\">\n",
       "      <th></th>\n",
       "      <th>overall</th>\n",
       "      <th>verified</th>\n",
       "      <th>reviewerID</th>\n",
       "      <th>product</th>\n",
       "      <th>productID</th>\n",
       "      <th>reviewText</th>\n",
       "      <th>unixReviewTime</th>\n",
       "    </tr>\n",
       "  </thead>\n",
       "  <tbody>\n",
       "    <tr>\n",
       "      <th>0</th>\n",
       "      <td>5</td>\n",
       "      <td>1</td>\n",
       "      <td>A30VYJQW4XWDQ6</td>\n",
       "      <td>AGELESS™: UltraMAX Gold™ Capsules, HGH Anti-Ag...</td>\n",
       "      <td>B0011FYB5I</td>\n",
       "      <td>Made me look older, it was the opposite.</td>\n",
       "      <td>1472692083</td>\n",
       "    </tr>\n",
       "    <tr>\n",
       "      <th>1</th>\n",
       "      <td>5</td>\n",
       "      <td>1</td>\n",
       "      <td>A30VYJQW4XWDQ6</td>\n",
       "      <td>AGELESS™: UltraMAX Gold™ Capsules, HGH Anti-Ag...</td>\n",
       "      <td>B0011FYB5I</td>\n",
       "      <td>Works good with exercise.</td>\n",
       "      <td>1472690218</td>\n",
       "    </tr>\n",
       "    <tr>\n",
       "      <th>2</th>\n",
       "      <td>5</td>\n",
       "      <td>1</td>\n",
       "      <td>A28F08XFZRKIH5</td>\n",
       "      <td>All Natural Deodorant for Women &amp; Men. Organic...</td>\n",
       "      <td>B01DKQAXC0</td>\n",
       "      <td>great smell, and work better than the bad stuf...</td>\n",
       "      <td>1472692009</td>\n",
       "    </tr>\n",
       "    <tr>\n",
       "      <th>3</th>\n",
       "      <td>3</td>\n",
       "      <td>1</td>\n",
       "      <td>A157AUOFPJQ46Q</td>\n",
       "      <td>American Crew Body Wash for Men, Tea Tree Leaf...</td>\n",
       "      <td>B000X7ST9Y</td>\n",
       "      <td>I don't understand the bad reviews because thi...</td>\n",
       "      <td>1472690166</td>\n",
       "    </tr>\n",
       "    <tr>\n",
       "      <th>4</th>\n",
       "      <td>5</td>\n",
       "      <td>1</td>\n",
       "      <td>A2USMIT2CSA08</td>\n",
       "      <td>Andalou Naturals, Toner Facial Toner Helps Hyd...</td>\n",
       "      <td>B0091OCA86</td>\n",
       "      <td>Smells amazing and does a good job of refreshi...</td>\n",
       "      <td>1472691711</td>\n",
       "    </tr>\n",
       "  </tbody>\n",
       "</table>\n",
       "</div>"
      ],
      "text/plain": [
       "   overall  verified      reviewerID  \\\n",
       "0        5         1  A30VYJQW4XWDQ6   \n",
       "1        5         1  A30VYJQW4XWDQ6   \n",
       "2        5         1  A28F08XFZRKIH5   \n",
       "3        3         1  A157AUOFPJQ46Q   \n",
       "4        5         1   A2USMIT2CSA08   \n",
       "\n",
       "                                             product   productID  \\\n",
       "0  AGELESS™: UltraMAX Gold™ Capsules, HGH Anti-Ag...  B0011FYB5I   \n",
       "1  AGELESS™: UltraMAX Gold™ Capsules, HGH Anti-Ag...  B0011FYB5I   \n",
       "2  All Natural Deodorant for Women & Men. Organic...  B01DKQAXC0   \n",
       "3  American Crew Body Wash for Men, Tea Tree Leaf...  B000X7ST9Y   \n",
       "4  Andalou Naturals, Toner Facial Toner Helps Hyd...  B0091OCA86   \n",
       "\n",
       "                                          reviewText  unixReviewTime  \n",
       "0           Made me look older, it was the opposite.      1472692083  \n",
       "1                          Works good with exercise.      1472690218  \n",
       "2  great smell, and work better than the bad stuf...      1472692009  \n",
       "3  I don't understand the bad reviews because thi...      1472690166  \n",
       "4  Smells amazing and does a good job of refreshi...      1472691711  "
      ]
     },
     "execution_count": 3,
     "metadata": {},
     "output_type": "execute_result"
    }
   ],
   "source": [
    "df.head()"
   ]
  },
  {
   "cell_type": "markdown",
   "metadata": {},
   "source": [
    "## Text preprocessing"
   ]
  },
  {
   "cell_type": "markdown",
   "metadata": {},
   "source": [
    "Here we droped product and unixreviewtime variables since we already have productID and unixReviewtime appeared to be useless to us"
   ]
  },
  {
   "cell_type": "code",
   "execution_count": 6,
   "metadata": {},
   "outputs": [
    {
     "data": {
      "text/html": [
       "<div>\n",
       "<style scoped>\n",
       "    .dataframe tbody tr th:only-of-type {\n",
       "        vertical-align: middle;\n",
       "    }\n",
       "\n",
       "    .dataframe tbody tr th {\n",
       "        vertical-align: top;\n",
       "    }\n",
       "\n",
       "    .dataframe thead th {\n",
       "        text-align: right;\n",
       "    }\n",
       "</style>\n",
       "<table border=\"1\" class=\"dataframe\">\n",
       "  <thead>\n",
       "    <tr style=\"text-align: right;\">\n",
       "      <th></th>\n",
       "      <th>overall</th>\n",
       "      <th>verified</th>\n",
       "      <th>reviewerID</th>\n",
       "      <th>productID</th>\n",
       "      <th>reviewText</th>\n",
       "    </tr>\n",
       "  </thead>\n",
       "  <tbody>\n",
       "    <tr>\n",
       "      <th>0</th>\n",
       "      <td>5</td>\n",
       "      <td>1</td>\n",
       "      <td>A30VYJQW4XWDQ6</td>\n",
       "      <td>B0011FYB5I</td>\n",
       "      <td>Made me look older, it was the opposite.</td>\n",
       "    </tr>\n",
       "    <tr>\n",
       "      <th>1</th>\n",
       "      <td>5</td>\n",
       "      <td>1</td>\n",
       "      <td>A30VYJQW4XWDQ6</td>\n",
       "      <td>B0011FYB5I</td>\n",
       "      <td>Works good with exercise.</td>\n",
       "    </tr>\n",
       "    <tr>\n",
       "      <th>2</th>\n",
       "      <td>5</td>\n",
       "      <td>1</td>\n",
       "      <td>A28F08XFZRKIH5</td>\n",
       "      <td>B01DKQAXC0</td>\n",
       "      <td>great smell, and work better than the bad stuf...</td>\n",
       "    </tr>\n",
       "    <tr>\n",
       "      <th>3</th>\n",
       "      <td>3</td>\n",
       "      <td>1</td>\n",
       "      <td>A157AUOFPJQ46Q</td>\n",
       "      <td>B000X7ST9Y</td>\n",
       "      <td>I don't understand the bad reviews because thi...</td>\n",
       "    </tr>\n",
       "    <tr>\n",
       "      <th>4</th>\n",
       "      <td>5</td>\n",
       "      <td>1</td>\n",
       "      <td>A2USMIT2CSA08</td>\n",
       "      <td>B0091OCA86</td>\n",
       "      <td>Smells amazing and does a good job of refreshi...</td>\n",
       "    </tr>\n",
       "    <tr>\n",
       "      <th>...</th>\n",
       "      <td>...</td>\n",
       "      <td>...</td>\n",
       "      <td>...</td>\n",
       "      <td>...</td>\n",
       "      <td>...</td>\n",
       "    </tr>\n",
       "    <tr>\n",
       "      <th>4216</th>\n",
       "      <td>5</td>\n",
       "      <td>0</td>\n",
       "      <td>A3E5V5TSTAY3R9</td>\n",
       "      <td>B0006O10P4</td>\n",
       "      <td>This is the best smelling soap I've ever found...</td>\n",
       "    </tr>\n",
       "    <tr>\n",
       "      <th>4217</th>\n",
       "      <td>5</td>\n",
       "      <td>0</td>\n",
       "      <td>A3E5V5TSTAY3R9</td>\n",
       "      <td>B0006O10P4</td>\n",
       "      <td>This is the best smelling soap I've ever found...</td>\n",
       "    </tr>\n",
       "    <tr>\n",
       "      <th>4218</th>\n",
       "      <td>5</td>\n",
       "      <td>0</td>\n",
       "      <td>A281NPSIMI1C2R</td>\n",
       "      <td>B0006O10P4</td>\n",
       "      <td>Warm, soothing and a little spicy. This zum ba...</td>\n",
       "    </tr>\n",
       "    <tr>\n",
       "      <th>4219</th>\n",
       "      <td>5</td>\n",
       "      <td>1</td>\n",
       "      <td>A3E5V5TSTAY3R9</td>\n",
       "      <td>B0006O10P4</td>\n",
       "      <td>I decided to SPLURGE ($8.98 for a 3 oz. bar) a...</td>\n",
       "    </tr>\n",
       "    <tr>\n",
       "      <th>4220</th>\n",
       "      <td>5</td>\n",
       "      <td>1</td>\n",
       "      <td>A3E5V5TSTAY3R9</td>\n",
       "      <td>B0006O10P4</td>\n",
       "      <td>This is the best smelling soap I've ever found...</td>\n",
       "    </tr>\n",
       "  </tbody>\n",
       "</table>\n",
       "<p>4221 rows × 5 columns</p>\n",
       "</div>"
      ],
      "text/plain": [
       "      overall  verified      reviewerID   productID  \\\n",
       "0           5         1  A30VYJQW4XWDQ6  B0011FYB5I   \n",
       "1           5         1  A30VYJQW4XWDQ6  B0011FYB5I   \n",
       "2           5         1  A28F08XFZRKIH5  B01DKQAXC0   \n",
       "3           3         1  A157AUOFPJQ46Q  B000X7ST9Y   \n",
       "4           5         1   A2USMIT2CSA08  B0091OCA86   \n",
       "...       ...       ...             ...         ...   \n",
       "4216        5         0  A3E5V5TSTAY3R9  B0006O10P4   \n",
       "4217        5         0  A3E5V5TSTAY3R9  B0006O10P4   \n",
       "4218        5         0  A281NPSIMI1C2R  B0006O10P4   \n",
       "4219        5         1  A3E5V5TSTAY3R9  B0006O10P4   \n",
       "4220        5         1  A3E5V5TSTAY3R9  B0006O10P4   \n",
       "\n",
       "                                             reviewText  \n",
       "0              Made me look older, it was the opposite.  \n",
       "1                             Works good with exercise.  \n",
       "2     great smell, and work better than the bad stuf...  \n",
       "3     I don't understand the bad reviews because thi...  \n",
       "4     Smells amazing and does a good job of refreshi...  \n",
       "...                                                 ...  \n",
       "4216  This is the best smelling soap I've ever found...  \n",
       "4217  This is the best smelling soap I've ever found...  \n",
       "4218  Warm, soothing and a little spicy. This zum ba...  \n",
       "4219  I decided to SPLURGE ($8.98 for a 3 oz. bar) a...  \n",
       "4220  This is the best smelling soap I've ever found...  \n",
       "\n",
       "[4221 rows x 5 columns]"
      ]
     },
     "execution_count": 6,
     "metadata": {},
     "output_type": "execute_result"
    }
   ],
   "source": [
    "df.drop('product', axis=1, inplace=True)\n",
    "df.drop('unixReviewTime', axis=1, inplace=True)\n",
    "df"
   ]
  },
  {
   "cell_type": "markdown",
   "metadata": {},
   "source": [
    "Since we are going to use machine learning algorithms, which only work with numbers, we need to find a way to transform our data into numerical values. This is achieved by TfidfVectorizer()  an Sklearn object used to convert a collection of text documents into a matrix of TF-IDF features. TF-IDF stands for Term Frequency-Inverse Document Frequency. It is used to:\n",
    "\n",
    "* Calculate Term Frequency: How often a term appears in a document.\n",
    "* Calculate Inverse Document Frequency: How common or rare a term is across all documents.\n",
    "* Weight Terms: Give more importance to terms that are unique to a document and less to common terms.\n",
    "This helps in text classification, clustering, and information retrieval by highlighting important words in documents.\n",
    "\n",
    " In order to do that, we first have to 'clean and process' our data our data a little bit."
   ]
  },
  {
   "cell_type": "code",
   "execution_count": 7,
   "metadata": {},
   "outputs": [],
   "source": [
    "def remove_bullet_points(text):\n",
    "    bullet_point_pattern = re.compile(r'\\s*[\\u2022\\u2023\\u25E6]\\s*') \n",
    "    cleaned_text = bullet_point_pattern.sub(' ', text)\n",
    "\n",
    "    return cleaned_text"
   ]
  },
  {
   "cell_type": "code",
   "execution_count": 8,
   "metadata": {},
   "outputs": [],
   "source": [
    "def remove_emojis_and_symbols_from_text(text):\n",
    "    # Define pattern to match emojis\n",
    "    emoji_pattern = re.compile(\"[\"\n",
    "                           u\"\\U0001F600-\\U0001F64F\"  # emoticons\n",
    "                           u\"\\U0001F300-\\U0001F5FF\"  # symbols & pictographs\n",
    "                           u\"\\U0001F680-\\U0001F6FF\"  # transport & map symbols\n",
    "                           u\"\\U0001F1E0-\\U0001F1FF\"  # flags (iOS)\n",
    "                           u\"\\U00002500-\\U00002BEF\"  # chinese char\n",
    "                           u\"\\U00002702-\\U000027B0\"\n",
    "                           u\"\\U00002702-\\U000027B0\"\n",
    "                           u\"\\U000024C2-\\U0001F251\"\n",
    "                           u\"\\U0001f926-\\U0001f937\"\n",
    "                           u\"\\U00010000-\\U0010ffff\"\n",
    "                           u\"\\u2640-\\u2642\"\n",
    "                           u\"\\u2600-\\u2B55\"\n",
    "                           u\"\\u200d\"\n",
    "                           u\"\\u23cf\"\n",
    "                           u\"\\u23e9\"\n",
    "                           u\"\\u231a\"\n",
    "                           u\"\\ufe0f\"  # dingbats\n",
    "                           u\"\\u3030\"\n",
    "                           u\"\\u00ae\" # trade Marks ®\n",
    "                           u\"\\u00A9\" # copy Right ©\n",
    "                           u\"\\u2122\" # Trade Mark TM\n",
    "                           u\"\\u200b\"\n",
    "                           \"]+\", flags=re.UNICODE)\n",
    "    # Remove emojis from the text\n",
    "    cleaned_text = emoji_pattern.sub(r' ', text)\n",
    "    return cleaned_text"
   ]
  },
  {
   "cell_type": "code",
   "execution_count": 9,
   "metadata": {},
   "outputs": [],
   "source": [
    "def decontraction(x):\n",
    "    contractions = {\n",
    "        \"you've\": 'you have',\n",
    "        \"you're\": 'you are',\n",
    "        \"haven't\": 'have not',\n",
    "        \"hasn't\": 'has not',\n",
    "        \"hadn't've\": 'had not have',\n",
    "        \"hadn't\": 'had not',\n",
    "        \"don't\": 'do not',\n",
    "        \"doesn't\": 'does not',\n",
    "        \"didn't\": 'did not',\n",
    "        \"couldn't've\": 'could not have',\n",
    "        \"couldn't\": 'could not',\n",
    "        \"could've\": 'could have',\n",
    "        \"'cause\": 'because',\n",
    "        \"can't've\": 'cannot have',\n",
    "        \"aren't\": 'are not',\n",
    "        \"ain't\": 'am not',\n",
    "        \"can't\": 'can not',\n",
    "        \"won't\": 'will not',\n",
    "        \"he'd\": 'he would',\n",
    "        \"he'd've\": 'he would have',\n",
    "        \"he'll\": 'he will',\n",
    "        \"he'll've\": 'he will have',\n",
    "        \"he's\": 'he is',\n",
    "        \"how'd\": 'how did',\n",
    "        \"how'd'y\": 'how do you',\n",
    "        \"how'll\": 'how will',\n",
    "        \"how's\": 'how does',\n",
    "        \"i'd\": 'i would',\n",
    "        \"i'd've\": 'i would have',\n",
    "        \"i'll\": 'i will',\n",
    "        \"i'll've\": 'i will have',\n",
    "        \"i'm\": 'i am',\n",
    "        \"i've\": 'i have',\n",
    "        \"isn't\": 'is not',\n",
    "        \"it'd\": 'it would',\n",
    "        \"it'd've\": 'it would have',\n",
    "        \"it'll\": 'it will',\n",
    "        \"it'll've\": 'it will have',\n",
    "        \"it's\": 'it is',\n",
    "        \"let's\": 'let us',\n",
    "        \"ma'am\": 'madam',\n",
    "        \"mayn't\": 'may not',\n",
    "        \"might've\": 'might have',\n",
    "        \"mightn't\": 'might not',\n",
    "        \"mightn't've\": 'might not have',\n",
    "        \"must've\": 'must have',\n",
    "        \"mustn't\": 'must not',\n",
    "        \"mustn't've\": 'must not have',\n",
    "        \"needn't\": 'need not',\n",
    "        \"needn't've\": 'need not have',\n",
    "        \"o'clock\": 'of the clock',\n",
    "        \"oughtn't\": 'ought not',\n",
    "        \"oughtn't've\": 'ought not have',\n",
    "        \"shan't\": 'shall not',\n",
    "        \"sha'n't\": 'shall not',\n",
    "        \"shan't've\": 'shall not have',\n",
    "        \"she'd\": 'she would',\n",
    "        \"she'd've\": 'she would have',\n",
    "        \"she'll\": 'she will',\n",
    "        \"she'll've\": 'she will have',\n",
    "        \"she's\": 'she is',\n",
    "        \"should've\": 'should have',\n",
    "        \"shouldn't\": 'should not',\n",
    "        \"shouldn't've\": 'should not have',\n",
    "        \"so've\": 'so have',\n",
    "        \"so's\": 'so is',\n",
    "        \"that'd\": 'that would',\n",
    "        \"that'd've\": 'that would have',\n",
    "        \"that's\": 'that is',\n",
    "        \"there'd\": 'there would',\n",
    "        \"there'd've\": 'there would have',\n",
    "        \"there's\": 'there is',\n",
    "        \"they'd\": 'they would',\n",
    "        \"they'd've\": 'they would have',\n",
    "        \"they'll\": 'they will',\n",
    "        \"they'll've\": 'they will have',\n",
    "        \"they're\": 'they are',\n",
    "        \"they've\": 'they have',\n",
    "        \"to've\": 'to have',\n",
    "        \"wasn't\": 'was not',\n",
    "        \"we're\": 'we are',\n",
    "        \"'s\": \" is\",\n",
    "        \"n't\": ' not',\n",
    "        \"'re\": ' are',\n",
    "        \"'d\": ' would',\n",
    "        \"'ll\": ' will',\n",
    "        \"'t\": ' not',\n",
    "        \"'ve\": ' have',\n",
    "        \"'m\": ' am',\n",
    "        ' u ': ' you ',\n",
    "        ' ur ': ' your ',\n",
    "        ' n ': ' and '\n",
    "    }\n",
    "\n",
    "    contractions_comma = {\n",
    "        \"you’ve\": 'you have',\n",
    "        \"you’re\": 'you are',\n",
    "        \"haven’t\": 'have not',\n",
    "        \"hasn’t\": 'has not',\n",
    "        \"hadn’t've\": 'had not have',\n",
    "        \"hadn’t\": 'had not',\n",
    "        \"don’t\": 'do not',\n",
    "        \"doesn’t\": 'does not',\n",
    "        \"didn’t\": 'did not',\n",
    "        \"couldn’t’ve\": 'could not have',\n",
    "        \"couldn’t\": 'could not',\n",
    "        \"could’ve\": 'could have',\n",
    "        \"’cause\": 'because',\n",
    "        \"can’t’ve\": 'cannot have',\n",
    "        \"aren’t\": 'are not',\n",
    "        \"ain’t\": 'am not',\n",
    "        \"can’t\": 'can not',\n",
    "        \"won’t\": 'will not',\n",
    "        \"he’d\": 'he would',\n",
    "        \"he'd've\": 'he would have',\n",
    "        \"he’ll\": 'he will',\n",
    "        \"he’ll’ve\": 'he will have',\n",
    "        \"he’s\": 'he is',\n",
    "        \"how’d\": 'how did',\n",
    "        \"how’d'y\": 'how do you',\n",
    "        \"how’ll\": 'how will',\n",
    "        \"how’s\": 'how does',\n",
    "        \"i’d\": 'i would',\n",
    "        \"i’d’ve\": 'i would have',\n",
    "        \"i’ll\": 'i will',\n",
    "        \"i’ll’ve\": 'i will have',\n",
    "        \"i’m\": 'i am',\n",
    "        \"i’ve\": 'i have',\n",
    "        \"isn’t\": 'is not',\n",
    "        \"it’d\": 'it would',\n",
    "        \"it’d’ve\": 'it would have',\n",
    "        \"it’ll\": 'it will',\n",
    "        \"it'll've\": 'it will have',\n",
    "        \"it’s\": 'it is',\n",
    "        \"let's\": 'let us',\n",
    "        \"ma’am\": 'madam',\n",
    "        \"mayn’t\": 'may not',\n",
    "        \"might’ve\": 'might have',\n",
    "        \"mightn’t\": 'might not',\n",
    "        \"mightn’t've\": 'might not have',\n",
    "        \"must’ve\": 'must have',\n",
    "        \"mustn’t\": 'must not',\n",
    "        \"mustn’t’ve\": 'must not have',\n",
    "        \"needn’t\": 'need not',\n",
    "        \"needn’t’ve\": 'need not have',\n",
    "        \"o’clock\": 'of the clock',\n",
    "        \"oughtn’t\": 'ought not',\n",
    "        \"oughtn’t’ve\": 'ought not have',\n",
    "        \"shan’t\": 'shall not',\n",
    "        \"sha’n’t\": 'shall not',\n",
    "        \"shan’t’ve\": 'shall not have',\n",
    "        \"she’d\": 'she would',\n",
    "        \"she’d’ve\": 'she would have',\n",
    "        \"she’ll\": 'she will',\n",
    "        \"she’ll’ve\": 'she will have',\n",
    "        \"she’s\": 'she is',\n",
    "        \"should’ve\": 'should have',\n",
    "        \"shouldn’t\": 'should not',\n",
    "        \"shouldn't've\": 'should not have',\n",
    "        \"so’ve\": 'so have',\n",
    "        \"so's\": 'so is',\n",
    "        \"that’d\": 'that would',\n",
    "        \"that’d've\": 'that would have',\n",
    "        \"that’s\": 'that is',\n",
    "        \"there’d\": 'there would',\n",
    "        \"there’d’ve\": 'there would have',\n",
    "        \"there’s\": 'there is',\n",
    "        \"they’d\": 'they would',\n",
    "        \"they’d've\": 'they would have',\n",
    "        \"they’ll\": 'they will',\n",
    "        \"they’ll've\": 'they will have',\n",
    "        \"they’re\": 'they are',\n",
    "        \"they’ve\": 'they have',\n",
    "        \"to’ve\": 'to have',\n",
    "        \"wasn’t\": 'was not',\n",
    "        \"we’re\": 'we are',\n",
    "        \"’s\": \" is\",\n",
    "        \"n’t\": ' not',\n",
    "        \"’re\": ' are',\n",
    "        \"’d\": ' would',\n",
    "        \"’ll\": ' will',\n",
    "        \"’t\": ' not',\n",
    "        \"’ve\": ' have',\n",
    "        \"’m\": ' am',\n",
    "        ' u ': ' you ',\n",
    "        ' ur ': ' your ',\n",
    "        ' n ': ' and '\n",
    "    }\n",
    "\n",
    "    for key in contractions:\n",
    "        value = contractions[key]\n",
    "        x = x.replace(key, value)\n",
    "\n",
    "    for key in contractions_comma:\n",
    "        value = contractions_comma[key]\n",
    "        x = x.replace(key, value)\n",
    "    return x"
   ]
  },
  {
   "cell_type": "code",
   "execution_count": 10,
   "metadata": {},
   "outputs": [],
   "source": [
    "def removepunc(x):\n",
    "    punctuation = '!\\xad\\xa0\\xe2\\x80\\x9d\\xe2\\x80\\x99\\xe2\\x80\\xa2()*+-/:;<=>[]^_`{|}~@#,.?$%&\"”“’‘\\'…<>«»'\n",
    "    translation_table = str.maketrans(punctuation, ' ' * len(punctuation))\n",
    "    return x.translate(translation_table)"
   ]
  },
  {
   "cell_type": "code",
   "execution_count": 11,
   "metadata": {},
   "outputs": [],
   "source": [
    "def remove_extra_spaces(text):\n",
    "    return re.sub(r'\\s+', ' ', text)"
   ]
  },
  {
   "cell_type": "code",
   "execution_count": 12,
   "metadata": {},
   "outputs": [],
   "source": [
    "def remove_html_tags(text):\n",
    "    clean = re.compile('<.*?>')\n",
    "    return re.sub(clean, ' ', text)"
   ]
  },
  {
   "cell_type": "code",
   "execution_count": 13,
   "metadata": {},
   "outputs": [],
   "source": [
    "def remove_ampersand(text):\n",
    "    text = text.replace('&amp;', '')\n",
    "    text = text.replace('andamp;', '')\n",
    "    return text"
   ]
  },
  {
   "cell_type": "code",
   "execution_count": 14,
   "metadata": {},
   "outputs": [],
   "source": [
    "def remove_code_from_text(text):\n",
    "    code_pattern = r'\\b[0-9a-fA-F]{64}\\b'  # Assuming the code is a 64-character hexadecimal string\n",
    "    cleaned_text = re.sub(code_pattern, ' ', text)\n",
    "\n",
    "    return cleaned_text"
   ]
  },
  {
   "cell_type": "code",
   "execution_count": 15,
   "metadata": {},
   "outputs": [],
   "source": [
    "def remove_number_from_text(text):\n",
    "    number_pattern = r'[0-9]'  # Assuming the code is a 64-character hexadecimal string\n",
    "    cleaned_text = re.sub(number_pattern, ' ', text)\n",
    "\n",
    "    return cleaned_text"
   ]
  },
  {
   "cell_type": "code",
   "execution_count": 16,
   "metadata": {},
   "outputs": [],
   "source": [
    "def remove_currency_symbols(text):\n",
    "    currency_pattern = re.compile(r'[$€¥₹£¢₽₩₪₴₱₨฿₦₮₲₭₵₿]')  # Matches any currency symbol\n",
    "    cleaned_text = currency_pattern.sub(' ', text)\n",
    "\n",
    "    return cleaned_text"
   ]
  },
  {
   "cell_type": "code",
   "execution_count": 17,
   "metadata": {},
   "outputs": [],
   "source": [
    "def remove_hyphens(text):\n",
    "    hyphen_pattern = re.compile(r'\\b(\\w+)[-—‑–](\\w+)\\b')  # Matches hyphens within words\n",
    "    cleaned_text = hyphen_pattern.sub(r'\\1 \\2', text)\n",
    "\n",
    "    return cleaned_text"
   ]
  },
  {
   "cell_type": "code",
   "execution_count": 18,
   "metadata": {},
   "outputs": [],
   "source": [
    "def text_processing(text):\n",
    "\n",
    "    # Lowercasing text\n",
    "    text = text.lower()\n",
    "\n",
    "    # Removing URLs from text\n",
    "    text = re.sub(r\"http\\S+\", \"\", text)\n",
    "\n",
    "    # Removing newline character\n",
    "    text = re.sub(r\"\\n\", \"\", text)\n",
    "\n",
    "    # Replacing & character with 'and'\n",
    "    text = re.sub(r\"&\", \"and\", text)\n",
    "\n",
    "    # Removing HTML tags\n",
    "    text = remove_html_tags(text)\n",
    "\n",
    "    # Removing ampersand from the text\n",
    "    text = remove_ampersand(text)\n",
    "\n",
    "    # Performing decontraction on the text\n",
    "    text = decontraction(text)\n",
    "\n",
    "    # Removing the punctuations from the text\n",
    "    text = removepunc(text)\n",
    "\n",
    "    # Removing 64-character hexadecimal string in the text\n",
    "    text = remove_code_from_text(text)\n",
    "\n",
    "    # Removing number in the text\n",
    "    text = remove_number_from_text(text)\n",
    "\n",
    "    # Removing emojis from text\n",
    "    text = remove_emojis_and_symbols_from_text(text)\n",
    "\n",
    "    # Remove •, ‣, and ◦ bullet points\n",
    "    text = remove_bullet_points(text)\n",
    "\n",
    "    # Remove hyphens from hyphenated word\n",
    "    text = remove_hyphens(text)\n",
    "\n",
    "    # Remove currency symbols from the text\n",
    "    text = remove_currency_symbols(text)\n",
    "\n",
    "    # Removing extra space in the text\n",
    "    text = remove_extra_spaces(text)\n",
    "\n",
    "    return text"
   ]
  },
  {
   "cell_type": "code",
   "execution_count": 19,
   "metadata": {},
   "outputs": [
    {
     "data": {
      "text/plain": [
       "0                 made me look older it was the opposite \n",
       "1                               works good with exercise \n",
       "2       great smell and work better than the bad stuff...\n",
       "3       i do not understand the bad reviews because th...\n",
       "4       smells amazing and does a good job of refreshi...\n",
       "                              ...                        \n",
       "4216    this is the best smelling soap i have ever fou...\n",
       "4217    this is the best smelling soap i have ever fou...\n",
       "4218    warm soothing and a little spicy this zum bar ...\n",
       "4219    i decided to splurge for a oz bar and buy this...\n",
       "4220    this is the best smelling soap i have ever fou...\n",
       "Name: clean_reviewText, Length: 4221, dtype: object"
      ]
     },
     "execution_count": 19,
     "metadata": {},
     "output_type": "execute_result"
    }
   ],
   "source": [
    "df['clean_reviewText'] = df['reviewText'].map(str).apply(text_processing)\n",
    "df['clean_reviewText']"
   ]
  },
  {
   "cell_type": "markdown",
   "metadata": {},
   "source": [
    "#### Tokenization\n",
    "\n",
    "Splitting the input text into individual words. The most basic and common method for word tokenization is to split the text on whitespace characters (spaces, tabs, newlines) to separate words"
   ]
  },
  {
   "cell_type": "code",
   "execution_count": 20,
   "metadata": {},
   "outputs": [],
   "source": [
    "df['tokenized'] = df['clean_reviewText'].apply(lambda sentence:word_tokenize(sentence))"
   ]
  },
  {
   "cell_type": "code",
   "execution_count": 21,
   "metadata": {},
   "outputs": [
    {
     "data": {
      "text/plain": [
       "0         [made, me, look, older, it, was, the, opposite]\n",
       "1                           [works, good, with, exercise]\n",
       "2       [great, smell, and, work, better, than, the, b...\n",
       "3       [i, do, not, understand, the, bad, reviews, be...\n",
       "4       [smells, amazing, and, does, a, good, job, of,...\n",
       "                              ...                        \n",
       "4216    [this, is, the, best, smelling, soap, i, have,...\n",
       "4217    [this, is, the, best, smelling, soap, i, have,...\n",
       "4218    [warm, soothing, and, a, little, spicy, this, ...\n",
       "4219    [i, decided, to, splurge, for, a, oz, bar, and...\n",
       "4220    [this, is, the, best, smelling, soap, i, have,...\n",
       "Name: tokenized, Length: 4221, dtype: object"
      ]
     },
     "execution_count": 21,
     "metadata": {},
     "output_type": "execute_result"
    }
   ],
   "source": [
    "df['tokenized']"
   ]
  },
  {
   "cell_type": "markdown",
   "metadata": {},
   "source": [
    "#### Removing stopwords\n",
    "\n",
    "Stopwords are commonly used words in a language that are considered to have little or no semantic meaning, e.g 'the', 'is', 'and', 'a', 'an'\n",
    "\n",
    "Removing them reduce dimensionality without losing meaning -> overall W"
   ]
  },
  {
   "cell_type": "code",
   "execution_count": 22,
   "metadata": {},
   "outputs": [
    {
     "name": "stdout",
     "output_type": "stream",
     "text": [
      "Total number of Stop words:  179\n",
      "\n",
      "['i', 'me', 'my', 'myself', 'we', 'our', 'ours', 'ourselves', 'you', \"you're\", \"you've\", \"you'll\", \"you'd\", 'your', 'yours', 'yourself', 'yourselves', 'he', 'him', 'his', 'himself', 'she', \"she's\", 'her', 'hers', 'herself', 'it', \"it's\", 'its', 'itself', 'they', 'them', 'their', 'theirs', 'themselves', 'what', 'which', 'who', 'whom', 'this', 'that', \"that'll\", 'these', 'those', 'am', 'is', 'are', 'was', 'were', 'be', 'been', 'being', 'have', 'has', 'had', 'having', 'do', 'does', 'did', 'doing', 'a', 'an', 'the', 'and', 'but', 'if', 'or', 'because', 'as', 'until', 'while', 'of', 'at', 'by', 'for', 'with', 'about', 'against', 'between', 'into', 'through', 'during', 'before', 'after', 'above', 'below', 'to', 'from', 'up', 'down', 'in', 'out', 'on', 'off', 'over', 'under', 'again', 'further', 'then', 'once', 'here', 'there', 'when', 'where', 'why', 'how', 'all', 'any', 'both', 'each', 'few', 'more', 'most', 'other', 'some', 'such', 'no', 'nor', 'not', 'only', 'own', 'same', 'so', 'than', 'too', 'very', 's', 't', 'can', 'will', 'just', 'don', \"don't\", 'should', \"should've\", 'now', 'd', 'll', 'm', 'o', 're', 've', 'y', 'ain', 'aren', \"aren't\", 'couldn', \"couldn't\", 'didn', \"didn't\", 'doesn', \"doesn't\", 'hadn', \"hadn't\", 'hasn', \"hasn't\", 'haven', \"haven't\", 'isn', \"isn't\", 'ma', 'mightn', \"mightn't\", 'mustn', \"mustn't\", 'needn', \"needn't\", 'shan', \"shan't\", 'shouldn', \"shouldn't\", 'wasn', \"wasn't\", 'weren', \"weren't\", 'won', \"won't\", 'wouldn', \"wouldn't\"]\n"
     ]
    }
   ],
   "source": [
    "nltk_stopwords = stopwords.words('english')\n",
    "print(\"Total number of Stop words: \",len(nltk_stopwords))\n",
    "print()\n",
    "print(nltk_stopwords)"
   ]
  },
  {
   "cell_type": "code",
   "execution_count": 23,
   "metadata": {},
   "outputs": [
    {
     "data": {
      "text/plain": [
       "0                           [made, look, older, opposite]\n",
       "1                                 [works, good, exercise]\n",
       "2       [great, smell, work, better, bad, stuff, go, f...\n",
       "3       [understand, bad, reviews, excellent, body, wa...\n",
       "4       [smells, amazing, good, job, refreshing, provi...\n",
       "                              ...                        \n",
       "4216    [best, smelling, soap, ever, found, potently, ...\n",
       "4217    [best, smelling, soap, ever, found, potently, ...\n",
       "4218    [warm, soothing, little, spicy, zum, bar, soap...\n",
       "4219    [decided, splurge, oz, bar, buy, wonderfully, ...\n",
       "4220    [best, smelling, soap, ever, found, potently, ...\n",
       "Name: stopwords_removed, Length: 4221, dtype: object"
      ]
     },
     "execution_count": 23,
     "metadata": {},
     "output_type": "execute_result"
    }
   ],
   "source": [
    "def remove_stopwords(tokens):\n",
    "    # Get the English stop words from NLTK\n",
    "    stop_words = set(stopwords.words('english'))\n",
    "\n",
    "    return [word for word in tokens if word.lower() not in stop_words]\n",
    "\n",
    "# Removing stop words from the tokenized text column\n",
    "df['stopwords_removed'] = df['tokenized'].apply(remove_stopwords)\n",
    "\n",
    "df['stopwords_removed']"
   ]
  },
  {
   "cell_type": "code",
   "execution_count": 24,
   "metadata": {},
   "outputs": [],
   "source": [
    "# from sklearn.feature_extraction.text import TfidfVectorizer\n",
    "\n",
    "# # Sample data: a list of documents\n",
    "# documents = [\n",
    "#     \"The sky is blue.\",\n",
    "#     \"The sun is bright today.\",\n",
    "#     \"The sun in the sky is bright.\",\n",
    "#     \"We can see the shining sun, the bright sun.\"\n",
    "# ]\n",
    "\n",
    "# # Initialize the TfidfVectorizer\n",
    "# vectorizer = TfidfVectorizer()\n",
    "\n",
    "# # Fit and transform the documents\n",
    "# tfidf_matrix = vectorizer.fit_transform(documents)\n",
    "\n",
    "# # Convert the TF-IDF matrix to a dense format (optional)\n",
    "# tfidf_matrix_dense = tfidf_matrix.toarray()\n",
    "\n",
    "# # Get the feature names (words)\n",
    "# feature_names = vectorizer.get_feature_names_out()\n",
    "\n",
    "# # Display the TF-IDF matrix\n",
    "# print(\"TF-IDF Matrix (Dense Format):\")\n",
    "# print(tfidf_matrix_dense)\n",
    "\n",
    "# print(\"\\nFeature Names:\")\n",
    "# print(feature_names)\n",
    "\n",
    "# # Create a DataFrame for better visualization (optional)\n",
    "# import pandas as pd\n",
    "\n",
    "# df = pd.DataFrame(tfidf_matrix_dense, columns=feature_names)\n",
    "# print(\"\\nTF-IDF DataFrame:\")\n",
    "# print(df)\n"
   ]
  },
  {
   "cell_type": "markdown",
   "metadata": {},
   "source": [
    "#### Stemming\n",
    "\n",
    "Reduce words to their base or root form, called a stem. The stem may not necessarily be a valid word itself, but it represents the core meaning of the word."
   ]
  },
  {
   "cell_type": "code",
   "execution_count": 25,
   "metadata": {},
   "outputs": [
    {
     "data": {
      "text/html": [
       "<div>\n",
       "<style scoped>\n",
       "    .dataframe tbody tr th:only-of-type {\n",
       "        vertical-align: middle;\n",
       "    }\n",
       "\n",
       "    .dataframe tbody tr th {\n",
       "        vertical-align: top;\n",
       "    }\n",
       "\n",
       "    .dataframe thead th {\n",
       "        text-align: right;\n",
       "    }\n",
       "</style>\n",
       "<table border=\"1\" class=\"dataframe\">\n",
       "  <thead>\n",
       "    <tr style=\"text-align: right;\">\n",
       "      <th></th>\n",
       "      <th>overall</th>\n",
       "      <th>verified</th>\n",
       "      <th>reviewerID</th>\n",
       "      <th>productID</th>\n",
       "      <th>reviewText</th>\n",
       "      <th>clean_reviewText</th>\n",
       "      <th>tokenized</th>\n",
       "      <th>stopwords_removed</th>\n",
       "      <th>stemmatized_text</th>\n",
       "    </tr>\n",
       "  </thead>\n",
       "  <tbody>\n",
       "    <tr>\n",
       "      <th>0</th>\n",
       "      <td>5</td>\n",
       "      <td>1</td>\n",
       "      <td>A30VYJQW4XWDQ6</td>\n",
       "      <td>B0011FYB5I</td>\n",
       "      <td>Made me look older, it was the opposite.</td>\n",
       "      <td>made me look older it was the opposite</td>\n",
       "      <td>[made, me, look, older, it, was, the, opposite]</td>\n",
       "      <td>[made, look, older, opposite]</td>\n",
       "      <td>[made, look, older, opposit]</td>\n",
       "    </tr>\n",
       "    <tr>\n",
       "      <th>1</th>\n",
       "      <td>5</td>\n",
       "      <td>1</td>\n",
       "      <td>A30VYJQW4XWDQ6</td>\n",
       "      <td>B0011FYB5I</td>\n",
       "      <td>Works good with exercise.</td>\n",
       "      <td>works good with exercise</td>\n",
       "      <td>[works, good, with, exercise]</td>\n",
       "      <td>[works, good, exercise]</td>\n",
       "      <td>[work, good, exercis]</td>\n",
       "    </tr>\n",
       "    <tr>\n",
       "      <th>2</th>\n",
       "      <td>5</td>\n",
       "      <td>1</td>\n",
       "      <td>A28F08XFZRKIH5</td>\n",
       "      <td>B01DKQAXC0</td>\n",
       "      <td>great smell, and work better than the bad stuf...</td>\n",
       "      <td>great smell and work better than the bad stuff...</td>\n",
       "      <td>[great, smell, and, work, better, than, the, b...</td>\n",
       "      <td>[great, smell, work, better, bad, stuff, go, f...</td>\n",
       "      <td>[great, smell, work, better, bad, stuff, go, f...</td>\n",
       "    </tr>\n",
       "    <tr>\n",
       "      <th>3</th>\n",
       "      <td>3</td>\n",
       "      <td>1</td>\n",
       "      <td>A157AUOFPJQ46Q</td>\n",
       "      <td>B000X7ST9Y</td>\n",
       "      <td>I don't understand the bad reviews because thi...</td>\n",
       "      <td>i do not understand the bad reviews because th...</td>\n",
       "      <td>[i, do, not, understand, the, bad, reviews, be...</td>\n",
       "      <td>[understand, bad, reviews, excellent, body, wa...</td>\n",
       "      <td>[understand, bad, review, excel, bodi, wash, s...</td>\n",
       "    </tr>\n",
       "    <tr>\n",
       "      <th>4</th>\n",
       "      <td>5</td>\n",
       "      <td>1</td>\n",
       "      <td>A2USMIT2CSA08</td>\n",
       "      <td>B0091OCA86</td>\n",
       "      <td>Smells amazing and does a good job of refreshi...</td>\n",
       "      <td>smells amazing and does a good job of refreshi...</td>\n",
       "      <td>[smells, amazing, and, does, a, good, job, of,...</td>\n",
       "      <td>[smells, amazing, good, job, refreshing, provi...</td>\n",
       "      <td>[smell, amaz, good, job, refresh, provid, mois...</td>\n",
       "    </tr>\n",
       "    <tr>\n",
       "      <th>...</th>\n",
       "      <td>...</td>\n",
       "      <td>...</td>\n",
       "      <td>...</td>\n",
       "      <td>...</td>\n",
       "      <td>...</td>\n",
       "      <td>...</td>\n",
       "      <td>...</td>\n",
       "      <td>...</td>\n",
       "      <td>...</td>\n",
       "    </tr>\n",
       "    <tr>\n",
       "      <th>4216</th>\n",
       "      <td>5</td>\n",
       "      <td>0</td>\n",
       "      <td>A3E5V5TSTAY3R9</td>\n",
       "      <td>B0006O10P4</td>\n",
       "      <td>This is the best smelling soap I've ever found...</td>\n",
       "      <td>this is the best smelling soap i have ever fou...</td>\n",
       "      <td>[this, is, the, best, smelling, soap, i, have,...</td>\n",
       "      <td>[best, smelling, soap, ever, found, potently, ...</td>\n",
       "      <td>[best, smell, soap, ever, found, potent, scent...</td>\n",
       "    </tr>\n",
       "    <tr>\n",
       "      <th>4217</th>\n",
       "      <td>5</td>\n",
       "      <td>0</td>\n",
       "      <td>A3E5V5TSTAY3R9</td>\n",
       "      <td>B0006O10P4</td>\n",
       "      <td>This is the best smelling soap I've ever found...</td>\n",
       "      <td>this is the best smelling soap i have ever fou...</td>\n",
       "      <td>[this, is, the, best, smelling, soap, i, have,...</td>\n",
       "      <td>[best, smelling, soap, ever, found, potently, ...</td>\n",
       "      <td>[best, smell, soap, ever, found, potent, scent...</td>\n",
       "    </tr>\n",
       "    <tr>\n",
       "      <th>4218</th>\n",
       "      <td>5</td>\n",
       "      <td>0</td>\n",
       "      <td>A281NPSIMI1C2R</td>\n",
       "      <td>B0006O10P4</td>\n",
       "      <td>Warm, soothing and a little spicy. This zum ba...</td>\n",
       "      <td>warm soothing and a little spicy this zum bar ...</td>\n",
       "      <td>[warm, soothing, and, a, little, spicy, this, ...</td>\n",
       "      <td>[warm, soothing, little, spicy, zum, bar, soap...</td>\n",
       "      <td>[warm, sooth, littl, spici, zum, bar, soap, pe...</td>\n",
       "    </tr>\n",
       "    <tr>\n",
       "      <th>4219</th>\n",
       "      <td>5</td>\n",
       "      <td>1</td>\n",
       "      <td>A3E5V5TSTAY3R9</td>\n",
       "      <td>B0006O10P4</td>\n",
       "      <td>I decided to SPLURGE ($8.98 for a 3 oz. bar) a...</td>\n",
       "      <td>i decided to splurge for a oz bar and buy this...</td>\n",
       "      <td>[i, decided, to, splurge, for, a, oz, bar, and...</td>\n",
       "      <td>[decided, splurge, oz, bar, buy, wonderfully, ...</td>\n",
       "      <td>[decid, splurg, oz, bar, buy, wonder, strong, ...</td>\n",
       "    </tr>\n",
       "    <tr>\n",
       "      <th>4220</th>\n",
       "      <td>5</td>\n",
       "      <td>1</td>\n",
       "      <td>A3E5V5TSTAY3R9</td>\n",
       "      <td>B0006O10P4</td>\n",
       "      <td>This is the best smelling soap I've ever found...</td>\n",
       "      <td>this is the best smelling soap i have ever fou...</td>\n",
       "      <td>[this, is, the, best, smelling, soap, i, have,...</td>\n",
       "      <td>[best, smelling, soap, ever, found, potently, ...</td>\n",
       "      <td>[best, smell, soap, ever, found, potent, scent...</td>\n",
       "    </tr>\n",
       "  </tbody>\n",
       "</table>\n",
       "<p>4221 rows × 9 columns</p>\n",
       "</div>"
      ],
      "text/plain": [
       "      overall  verified      reviewerID   productID  \\\n",
       "0           5         1  A30VYJQW4XWDQ6  B0011FYB5I   \n",
       "1           5         1  A30VYJQW4XWDQ6  B0011FYB5I   \n",
       "2           5         1  A28F08XFZRKIH5  B01DKQAXC0   \n",
       "3           3         1  A157AUOFPJQ46Q  B000X7ST9Y   \n",
       "4           5         1   A2USMIT2CSA08  B0091OCA86   \n",
       "...       ...       ...             ...         ...   \n",
       "4216        5         0  A3E5V5TSTAY3R9  B0006O10P4   \n",
       "4217        5         0  A3E5V5TSTAY3R9  B0006O10P4   \n",
       "4218        5         0  A281NPSIMI1C2R  B0006O10P4   \n",
       "4219        5         1  A3E5V5TSTAY3R9  B0006O10P4   \n",
       "4220        5         1  A3E5V5TSTAY3R9  B0006O10P4   \n",
       "\n",
       "                                             reviewText  \\\n",
       "0              Made me look older, it was the opposite.   \n",
       "1                             Works good with exercise.   \n",
       "2     great smell, and work better than the bad stuf...   \n",
       "3     I don't understand the bad reviews because thi...   \n",
       "4     Smells amazing and does a good job of refreshi...   \n",
       "...                                                 ...   \n",
       "4216  This is the best smelling soap I've ever found...   \n",
       "4217  This is the best smelling soap I've ever found...   \n",
       "4218  Warm, soothing and a little spicy. This zum ba...   \n",
       "4219  I decided to SPLURGE ($8.98 for a 3 oz. bar) a...   \n",
       "4220  This is the best smelling soap I've ever found...   \n",
       "\n",
       "                                       clean_reviewText  \\\n",
       "0               made me look older it was the opposite    \n",
       "1                             works good with exercise    \n",
       "2     great smell and work better than the bad stuff...   \n",
       "3     i do not understand the bad reviews because th...   \n",
       "4     smells amazing and does a good job of refreshi...   \n",
       "...                                                 ...   \n",
       "4216  this is the best smelling soap i have ever fou...   \n",
       "4217  this is the best smelling soap i have ever fou...   \n",
       "4218  warm soothing and a little spicy this zum bar ...   \n",
       "4219  i decided to splurge for a oz bar and buy this...   \n",
       "4220  this is the best smelling soap i have ever fou...   \n",
       "\n",
       "                                              tokenized  \\\n",
       "0       [made, me, look, older, it, was, the, opposite]   \n",
       "1                         [works, good, with, exercise]   \n",
       "2     [great, smell, and, work, better, than, the, b...   \n",
       "3     [i, do, not, understand, the, bad, reviews, be...   \n",
       "4     [smells, amazing, and, does, a, good, job, of,...   \n",
       "...                                                 ...   \n",
       "4216  [this, is, the, best, smelling, soap, i, have,...   \n",
       "4217  [this, is, the, best, smelling, soap, i, have,...   \n",
       "4218  [warm, soothing, and, a, little, spicy, this, ...   \n",
       "4219  [i, decided, to, splurge, for, a, oz, bar, and...   \n",
       "4220  [this, is, the, best, smelling, soap, i, have,...   \n",
       "\n",
       "                                      stopwords_removed  \\\n",
       "0                         [made, look, older, opposite]   \n",
       "1                               [works, good, exercise]   \n",
       "2     [great, smell, work, better, bad, stuff, go, f...   \n",
       "3     [understand, bad, reviews, excellent, body, wa...   \n",
       "4     [smells, amazing, good, job, refreshing, provi...   \n",
       "...                                                 ...   \n",
       "4216  [best, smelling, soap, ever, found, potently, ...   \n",
       "4217  [best, smelling, soap, ever, found, potently, ...   \n",
       "4218  [warm, soothing, little, spicy, zum, bar, soap...   \n",
       "4219  [decided, splurge, oz, bar, buy, wonderfully, ...   \n",
       "4220  [best, smelling, soap, ever, found, potently, ...   \n",
       "\n",
       "                                       stemmatized_text  \n",
       "0                          [made, look, older, opposit]  \n",
       "1                                 [work, good, exercis]  \n",
       "2     [great, smell, work, better, bad, stuff, go, f...  \n",
       "3     [understand, bad, review, excel, bodi, wash, s...  \n",
       "4     [smell, amaz, good, job, refresh, provid, mois...  \n",
       "...                                                 ...  \n",
       "4216  [best, smell, soap, ever, found, potent, scent...  \n",
       "4217  [best, smell, soap, ever, found, potent, scent...  \n",
       "4218  [warm, sooth, littl, spici, zum, bar, soap, pe...  \n",
       "4219  [decid, splurg, oz, bar, buy, wonder, strong, ...  \n",
       "4220  [best, smell, soap, ever, found, potent, scent...  \n",
       "\n",
       "[4221 rows x 9 columns]"
      ]
     },
     "execution_count": 25,
     "metadata": {},
     "output_type": "execute_result"
    }
   ],
   "source": [
    "snow_stemmer = nltk.stem.SnowballStemmer('english')\n",
    "\n",
    "df['stemmatized_text'] = df['stopwords_removed'].apply(lambda x: [snow_stemmer.stem(word) for word in x])\n",
    "df"
   ]
  },
  {
   "cell_type": "code",
   "execution_count": 26,
   "metadata": {},
   "outputs": [
    {
     "data": {
      "text/html": [
       "<div>\n",
       "<style scoped>\n",
       "    .dataframe tbody tr th:only-of-type {\n",
       "        vertical-align: middle;\n",
       "    }\n",
       "\n",
       "    .dataframe tbody tr th {\n",
       "        vertical-align: top;\n",
       "    }\n",
       "\n",
       "    .dataframe thead th {\n",
       "        text-align: right;\n",
       "    }\n",
       "</style>\n",
       "<table border=\"1\" class=\"dataframe\">\n",
       "  <thead>\n",
       "    <tr style=\"text-align: right;\">\n",
       "      <th></th>\n",
       "      <th>overall</th>\n",
       "      <th>verified</th>\n",
       "      <th>reviewerID</th>\n",
       "      <th>productID</th>\n",
       "      <th>reviewText</th>\n",
       "    </tr>\n",
       "  </thead>\n",
       "  <tbody>\n",
       "    <tr>\n",
       "      <th>0</th>\n",
       "      <td>5</td>\n",
       "      <td>1</td>\n",
       "      <td>A30VYJQW4XWDQ6</td>\n",
       "      <td>B0011FYB5I</td>\n",
       "      <td>[made, look, older, opposit]</td>\n",
       "    </tr>\n",
       "    <tr>\n",
       "      <th>1</th>\n",
       "      <td>5</td>\n",
       "      <td>1</td>\n",
       "      <td>A30VYJQW4XWDQ6</td>\n",
       "      <td>B0011FYB5I</td>\n",
       "      <td>[work, good, exercis]</td>\n",
       "    </tr>\n",
       "    <tr>\n",
       "      <th>2</th>\n",
       "      <td>5</td>\n",
       "      <td>1</td>\n",
       "      <td>A28F08XFZRKIH5</td>\n",
       "      <td>B01DKQAXC0</td>\n",
       "      <td>[great, smell, work, better, bad, stuff, go, f...</td>\n",
       "    </tr>\n",
       "    <tr>\n",
       "      <th>3</th>\n",
       "      <td>3</td>\n",
       "      <td>1</td>\n",
       "      <td>A157AUOFPJQ46Q</td>\n",
       "      <td>B000X7ST9Y</td>\n",
       "      <td>[understand, bad, review, excel, bodi, wash, s...</td>\n",
       "    </tr>\n",
       "    <tr>\n",
       "      <th>4</th>\n",
       "      <td>5</td>\n",
       "      <td>1</td>\n",
       "      <td>A2USMIT2CSA08</td>\n",
       "      <td>B0091OCA86</td>\n",
       "      <td>[smell, amaz, good, job, refresh, provid, mois...</td>\n",
       "    </tr>\n",
       "    <tr>\n",
       "      <th>...</th>\n",
       "      <td>...</td>\n",
       "      <td>...</td>\n",
       "      <td>...</td>\n",
       "      <td>...</td>\n",
       "      <td>...</td>\n",
       "    </tr>\n",
       "    <tr>\n",
       "      <th>4216</th>\n",
       "      <td>5</td>\n",
       "      <td>0</td>\n",
       "      <td>A3E5V5TSTAY3R9</td>\n",
       "      <td>B0006O10P4</td>\n",
       "      <td>[best, smell, soap, ever, found, potent, scent...</td>\n",
       "    </tr>\n",
       "    <tr>\n",
       "      <th>4217</th>\n",
       "      <td>5</td>\n",
       "      <td>0</td>\n",
       "      <td>A3E5V5TSTAY3R9</td>\n",
       "      <td>B0006O10P4</td>\n",
       "      <td>[best, smell, soap, ever, found, potent, scent...</td>\n",
       "    </tr>\n",
       "    <tr>\n",
       "      <th>4218</th>\n",
       "      <td>5</td>\n",
       "      <td>0</td>\n",
       "      <td>A281NPSIMI1C2R</td>\n",
       "      <td>B0006O10P4</td>\n",
       "      <td>[warm, sooth, littl, spici, zum, bar, soap, pe...</td>\n",
       "    </tr>\n",
       "    <tr>\n",
       "      <th>4219</th>\n",
       "      <td>5</td>\n",
       "      <td>1</td>\n",
       "      <td>A3E5V5TSTAY3R9</td>\n",
       "      <td>B0006O10P4</td>\n",
       "      <td>[decid, splurg, oz, bar, buy, wonder, strong, ...</td>\n",
       "    </tr>\n",
       "    <tr>\n",
       "      <th>4220</th>\n",
       "      <td>5</td>\n",
       "      <td>1</td>\n",
       "      <td>A3E5V5TSTAY3R9</td>\n",
       "      <td>B0006O10P4</td>\n",
       "      <td>[best, smell, soap, ever, found, potent, scent...</td>\n",
       "    </tr>\n",
       "  </tbody>\n",
       "</table>\n",
       "<p>4221 rows × 5 columns</p>\n",
       "</div>"
      ],
      "text/plain": [
       "      overall  verified      reviewerID   productID  \\\n",
       "0           5         1  A30VYJQW4XWDQ6  B0011FYB5I   \n",
       "1           5         1  A30VYJQW4XWDQ6  B0011FYB5I   \n",
       "2           5         1  A28F08XFZRKIH5  B01DKQAXC0   \n",
       "3           3         1  A157AUOFPJQ46Q  B000X7ST9Y   \n",
       "4           5         1   A2USMIT2CSA08  B0091OCA86   \n",
       "...       ...       ...             ...         ...   \n",
       "4216        5         0  A3E5V5TSTAY3R9  B0006O10P4   \n",
       "4217        5         0  A3E5V5TSTAY3R9  B0006O10P4   \n",
       "4218        5         0  A281NPSIMI1C2R  B0006O10P4   \n",
       "4219        5         1  A3E5V5TSTAY3R9  B0006O10P4   \n",
       "4220        5         1  A3E5V5TSTAY3R9  B0006O10P4   \n",
       "\n",
       "                                             reviewText  \n",
       "0                          [made, look, older, opposit]  \n",
       "1                                 [work, good, exercis]  \n",
       "2     [great, smell, work, better, bad, stuff, go, f...  \n",
       "3     [understand, bad, review, excel, bodi, wash, s...  \n",
       "4     [smell, amaz, good, job, refresh, provid, mois...  \n",
       "...                                                 ...  \n",
       "4216  [best, smell, soap, ever, found, potent, scent...  \n",
       "4217  [best, smell, soap, ever, found, potent, scent...  \n",
       "4218  [warm, sooth, littl, spici, zum, bar, soap, pe...  \n",
       "4219  [decid, splurg, oz, bar, buy, wonder, strong, ...  \n",
       "4220  [best, smell, soap, ever, found, potent, scent...  \n",
       "\n",
       "[4221 rows x 5 columns]"
      ]
     },
     "execution_count": 26,
     "metadata": {},
     "output_type": "execute_result"
    }
   ],
   "source": [
    "df = df.drop(['reviewText',\n",
    "              'tokenized', 'clean_reviewText', 'stopwords_removed'], axis=1)\n",
    "\n",
    "# Rename the column\n",
    "df = df.rename(columns={'stemmatized_text': 'reviewText'})\n",
    "df"
   ]
  },
  {
   "cell_type": "code",
   "execution_count": 27,
   "metadata": {},
   "outputs": [
    {
     "data": {
      "text/plain": [
       "0                                 made look older opposit\n",
       "1                                       work good exercis\n",
       "2              great smell work better bad stuff go figur\n",
       "3       understand bad review excel bodi wash smell ni...\n",
       "4       smell amaz good job refresh provid moistur fre...\n",
       "                              ...                        \n",
       "4216    best smell soap ever found potent scent put ba...\n",
       "4217    best smell soap ever found potent scent put ba...\n",
       "4218    warm sooth littl spici zum bar soap perfect fa...\n",
       "4219    decid splurg oz bar buy wonder strong smell so...\n",
       "4220    best smell soap ever found potent scent put ba...\n",
       "Name: new_reviewText, Length: 4221, dtype: object"
      ]
     },
     "execution_count": 27,
     "metadata": {},
     "output_type": "execute_result"
    }
   ],
   "source": [
    "def join_words(tokens):\n",
    "    sentence = ' '.join(tokens)\n",
    "    return sentence\n",
    "\n",
    "# joining the tokenized words to provide as input to the TfidfVectorizer\n",
    "df['new_reviewText'] = df['reviewText'].apply(join_words)\n",
    "df['new_reviewText']"
   ]
  },
  {
   "cell_type": "markdown",
   "metadata": {},
   "source": [
    "#### TfidfVectorizer\n",
    "\n",
    "Text feature vectorization."
   ]
  },
  {
   "cell_type": "code",
   "execution_count": 28,
   "metadata": {},
   "outputs": [
    {
     "data": {
      "text/html": [
       "<div>\n",
       "<style scoped>\n",
       "    .dataframe tbody tr th:only-of-type {\n",
       "        vertical-align: middle;\n",
       "    }\n",
       "\n",
       "    .dataframe tbody tr th {\n",
       "        vertical-align: top;\n",
       "    }\n",
       "\n",
       "    .dataframe thead th {\n",
       "        text-align: right;\n",
       "    }\n",
       "</style>\n",
       "<table border=\"1\" class=\"dataframe\">\n",
       "  <thead>\n",
       "    <tr style=\"text-align: right;\">\n",
       "      <th></th>\n",
       "      <th>aaa</th>\n",
       "      <th>abat</th>\n",
       "      <th>abil</th>\n",
       "      <th>abl</th>\n",
       "      <th>abras</th>\n",
       "      <th>absenc</th>\n",
       "      <th>absinth</th>\n",
       "      <th>absolut</th>\n",
       "      <th>absorb</th>\n",
       "      <th>abstain</th>\n",
       "      <th>...</th>\n",
       "      <th>yummi</th>\n",
       "      <th>yup</th>\n",
       "      <th>zeal</th>\n",
       "      <th>zent</th>\n",
       "      <th>zero</th>\n",
       "      <th>zest</th>\n",
       "      <th>zingi</th>\n",
       "      <th>zipper</th>\n",
       "      <th>zone</th>\n",
       "      <th>zum</th>\n",
       "    </tr>\n",
       "  </thead>\n",
       "  <tbody>\n",
       "    <tr>\n",
       "      <th>0</th>\n",
       "      <td>0.0</td>\n",
       "      <td>0.0</td>\n",
       "      <td>0.0</td>\n",
       "      <td>0.0</td>\n",
       "      <td>0.0</td>\n",
       "      <td>0.0</td>\n",
       "      <td>0.0</td>\n",
       "      <td>0.0</td>\n",
       "      <td>0.0</td>\n",
       "      <td>0.0</td>\n",
       "      <td>...</td>\n",
       "      <td>0.0</td>\n",
       "      <td>0.0</td>\n",
       "      <td>0.0</td>\n",
       "      <td>0.0</td>\n",
       "      <td>0.0</td>\n",
       "      <td>0.0</td>\n",
       "      <td>0.0</td>\n",
       "      <td>0.0</td>\n",
       "      <td>0.0</td>\n",
       "      <td>0.0</td>\n",
       "    </tr>\n",
       "    <tr>\n",
       "      <th>1</th>\n",
       "      <td>0.0</td>\n",
       "      <td>0.0</td>\n",
       "      <td>0.0</td>\n",
       "      <td>0.0</td>\n",
       "      <td>0.0</td>\n",
       "      <td>0.0</td>\n",
       "      <td>0.0</td>\n",
       "      <td>0.0</td>\n",
       "      <td>0.0</td>\n",
       "      <td>0.0</td>\n",
       "      <td>...</td>\n",
       "      <td>0.0</td>\n",
       "      <td>0.0</td>\n",
       "      <td>0.0</td>\n",
       "      <td>0.0</td>\n",
       "      <td>0.0</td>\n",
       "      <td>0.0</td>\n",
       "      <td>0.0</td>\n",
       "      <td>0.0</td>\n",
       "      <td>0.0</td>\n",
       "      <td>0.0</td>\n",
       "    </tr>\n",
       "    <tr>\n",
       "      <th>2</th>\n",
       "      <td>0.0</td>\n",
       "      <td>0.0</td>\n",
       "      <td>0.0</td>\n",
       "      <td>0.0</td>\n",
       "      <td>0.0</td>\n",
       "      <td>0.0</td>\n",
       "      <td>0.0</td>\n",
       "      <td>0.0</td>\n",
       "      <td>0.0</td>\n",
       "      <td>0.0</td>\n",
       "      <td>...</td>\n",
       "      <td>0.0</td>\n",
       "      <td>0.0</td>\n",
       "      <td>0.0</td>\n",
       "      <td>0.0</td>\n",
       "      <td>0.0</td>\n",
       "      <td>0.0</td>\n",
       "      <td>0.0</td>\n",
       "      <td>0.0</td>\n",
       "      <td>0.0</td>\n",
       "      <td>0.0</td>\n",
       "    </tr>\n",
       "    <tr>\n",
       "      <th>3</th>\n",
       "      <td>0.0</td>\n",
       "      <td>0.0</td>\n",
       "      <td>0.0</td>\n",
       "      <td>0.0</td>\n",
       "      <td>0.0</td>\n",
       "      <td>0.0</td>\n",
       "      <td>0.0</td>\n",
       "      <td>0.0</td>\n",
       "      <td>0.0</td>\n",
       "      <td>0.0</td>\n",
       "      <td>...</td>\n",
       "      <td>0.0</td>\n",
       "      <td>0.0</td>\n",
       "      <td>0.0</td>\n",
       "      <td>0.0</td>\n",
       "      <td>0.0</td>\n",
       "      <td>0.0</td>\n",
       "      <td>0.0</td>\n",
       "      <td>0.0</td>\n",
       "      <td>0.0</td>\n",
       "      <td>0.0</td>\n",
       "    </tr>\n",
       "    <tr>\n",
       "      <th>4</th>\n",
       "      <td>0.0</td>\n",
       "      <td>0.0</td>\n",
       "      <td>0.0</td>\n",
       "      <td>0.0</td>\n",
       "      <td>0.0</td>\n",
       "      <td>0.0</td>\n",
       "      <td>0.0</td>\n",
       "      <td>0.0</td>\n",
       "      <td>0.0</td>\n",
       "      <td>0.0</td>\n",
       "      <td>...</td>\n",
       "      <td>0.0</td>\n",
       "      <td>0.0</td>\n",
       "      <td>0.0</td>\n",
       "      <td>0.0</td>\n",
       "      <td>0.0</td>\n",
       "      <td>0.0</td>\n",
       "      <td>0.0</td>\n",
       "      <td>0.0</td>\n",
       "      <td>0.0</td>\n",
       "      <td>0.0</td>\n",
       "    </tr>\n",
       "  </tbody>\n",
       "</table>\n",
       "<p>5 rows × 3931 columns</p>\n",
       "</div>"
      ],
      "text/plain": [
       "   aaa  abat  abil  abl  abras  absenc  absinth  absolut  absorb  abstain  \\\n",
       "0  0.0   0.0   0.0  0.0    0.0     0.0      0.0      0.0     0.0      0.0   \n",
       "1  0.0   0.0   0.0  0.0    0.0     0.0      0.0      0.0     0.0      0.0   \n",
       "2  0.0   0.0   0.0  0.0    0.0     0.0      0.0      0.0     0.0      0.0   \n",
       "3  0.0   0.0   0.0  0.0    0.0     0.0      0.0      0.0     0.0      0.0   \n",
       "4  0.0   0.0   0.0  0.0    0.0     0.0      0.0      0.0     0.0      0.0   \n",
       "\n",
       "   ...  yummi  yup  zeal  zent  zero  zest  zingi  zipper  zone  zum  \n",
       "0  ...    0.0  0.0   0.0   0.0   0.0   0.0    0.0     0.0   0.0  0.0  \n",
       "1  ...    0.0  0.0   0.0   0.0   0.0   0.0    0.0     0.0   0.0  0.0  \n",
       "2  ...    0.0  0.0   0.0   0.0   0.0   0.0    0.0     0.0   0.0  0.0  \n",
       "3  ...    0.0  0.0   0.0   0.0   0.0   0.0    0.0     0.0   0.0  0.0  \n",
       "4  ...    0.0  0.0   0.0   0.0   0.0   0.0    0.0     0.0   0.0  0.0  \n",
       "\n",
       "[5 rows x 3931 columns]"
      ]
     },
     "execution_count": 28,
     "metadata": {},
     "output_type": "execute_result"
    }
   ],
   "source": [
    "tfidf_vectorizer = TfidfVectorizer()\n",
    "tfidf_matrix = tfidf_vectorizer.fit_transform(df['new_reviewText'])\n",
    "tfidf_df = pd.DataFrame(tfidf_matrix.toarray(), columns=tfidf_vectorizer.get_feature_names_out())\n",
    "tfidf_df.head()"
   ]
  },
  {
   "cell_type": "code",
   "execution_count": 29,
   "metadata": {},
   "outputs": [
    {
     "name": "stdout",
     "output_type": "stream",
     "text": [
      "['PC1', 'PC2', 'PC3', 'PC4', 'PC5', 'PC6', 'PC7', 'PC8', 'PC9', 'PC10', 'PC11', 'PC12', 'PC13', 'PC14', 'PC15', 'PC16', 'PC17', 'PC18', 'PC19', 'PC20', 'PC21', 'PC22', 'PC23', 'PC24', 'PC25', 'PC26', 'PC27', 'PC28', 'PC29', 'PC30', 'PC31', 'PC32', 'PC33', 'PC34', 'PC35', 'PC36', 'PC37', 'PC38', 'PC39', 'PC40', 'PC41', 'PC42', 'PC43', 'PC44', 'PC45', 'PC46', 'PC47', 'PC48', 'PC49', 'PC50', 'PC51', 'PC52', 'PC53', 'PC54', 'PC55', 'PC56', 'PC57', 'PC58', 'PC59', 'PC60', 'PC61', 'PC62', 'PC63', 'PC64', 'PC65', 'PC66', 'PC67', 'PC68', 'PC69', 'PC70', 'PC71', 'PC72', 'PC73', 'PC74', 'PC75', 'PC76', 'PC77', 'PC78', 'PC79', 'PC80', 'PC81', 'PC82', 'PC83', 'PC84', 'PC85', 'PC86', 'PC87', 'PC88', 'PC89', 'PC90', 'PC91', 'PC92', 'PC93', 'PC94', 'PC95', 'PC96', 'PC97', 'PC98', 'PC99', 'PC100', 'PC101', 'PC102', 'PC103', 'PC104', 'PC105', 'PC106', 'PC107', 'PC108', 'PC109', 'PC110', 'PC111', 'PC112', 'PC113', 'PC114', 'PC115', 'PC116', 'PC117', 'PC118', 'PC119', 'PC120', 'PC121', 'PC122', 'PC123', 'PC124', 'PC125', 'PC126', 'PC127', 'PC128', 'PC129', 'PC130', 'PC131', 'PC132', 'PC133', 'PC134', 'PC135', 'PC136', 'PC137', 'PC138', 'PC139', 'PC140', 'PC141', 'PC142', 'PC143', 'PC144', 'PC145', 'PC146', 'PC147', 'PC148', 'PC149', 'PC150', 'PC151', 'PC152', 'PC153', 'PC154', 'PC155', 'PC156', 'PC157', 'PC158', 'PC159', 'PC160', 'PC161', 'PC162', 'PC163', 'PC164', 'PC165', 'PC166', 'PC167', 'PC168', 'PC169', 'PC170', 'PC171', 'PC172', 'PC173', 'PC174', 'PC175', 'PC176', 'PC177', 'PC178', 'PC179', 'PC180', 'PC181', 'PC182', 'PC183', 'PC184', 'PC185', 'PC186', 'PC187', 'PC188', 'PC189', 'PC190', 'PC191', 'PC192', 'PC193', 'PC194', 'PC195', 'PC196', 'PC197', 'PC198', 'PC199', 'PC200', 'PC201', 'PC202', 'PC203', 'PC204', 'PC205', 'PC206', 'PC207', 'PC208', 'PC209', 'PC210', 'PC211', 'PC212', 'PC213', 'PC214', 'PC215', 'PC216', 'PC217', 'PC218', 'PC219', 'PC220', 'PC221', 'PC222', 'PC223', 'PC224', 'PC225', 'PC226', 'PC227', 'PC228', 'PC229', 'PC230', 'PC231', 'PC232', 'PC233', 'PC234', 'PC235', 'PC236', 'PC237', 'PC238', 'PC239', 'PC240', 'PC241', 'PC242', 'PC243', 'PC244', 'PC245', 'PC246', 'PC247', 'PC248', 'PC249', 'PC250', 'PC251', 'PC252', 'PC253', 'PC254', 'PC255', 'PC256', 'PC257', 'PC258', 'PC259', 'PC260', 'PC261', 'PC262', 'PC263', 'PC264', 'PC265', 'PC266', 'PC267', 'PC268', 'PC269', 'PC270', 'PC271', 'PC272', 'PC273', 'PC274', 'PC275', 'PC276', 'PC277', 'PC278', 'PC279', 'PC280', 'PC281', 'PC282', 'PC283', 'PC284', 'PC285', 'PC286', 'PC287', 'PC288', 'PC289', 'PC290', 'PC291', 'PC292', 'PC293', 'PC294', 'PC295', 'PC296', 'PC297', 'PC298', 'PC299', 'PC300', 'PC301', 'PC302', 'PC303', 'PC304', 'PC305', 'PC306', 'PC307', 'PC308', 'PC309', 'PC310', 'PC311', 'PC312', 'PC313', 'PC314', 'PC315', 'PC316', 'PC317', 'PC318', 'PC319', 'PC320', 'PC321', 'PC322', 'PC323', 'PC324', 'PC325', 'PC326', 'PC327', 'PC328', 'PC329', 'PC330', 'PC331', 'PC332', 'PC333', 'PC334', 'PC335', 'PC336', 'PC337', 'PC338', 'PC339', 'PC340', 'PC341', 'PC342', 'PC343', 'PC344', 'PC345', 'PC346', 'PC347', 'PC348', 'PC349', 'PC350', 'PC351', 'PC352', 'PC353', 'PC354', 'PC355', 'PC356', 'PC357', 'PC358', 'PC359', 'PC360', 'PC361', 'PC362', 'PC363', 'PC364', 'PC365', 'PC366', 'PC367', 'PC368', 'PC369', 'PC370', 'PC371', 'PC372', 'PC373', 'PC374', 'PC375', 'PC376', 'PC377', 'PC378', 'PC379', 'PC380', 'PC381', 'PC382', 'PC383', 'PC384', 'PC385', 'PC386', 'PC387', 'PC388', 'PC389', 'PC390', 'PC391', 'PC392', 'PC393', 'PC394', 'PC395', 'PC396', 'PC397', 'PC398', 'PC399', 'PC400', 'PC401', 'PC402', 'PC403', 'PC404', 'PC405', 'PC406', 'PC407', 'PC408', 'PC409', 'PC410', 'PC411', 'PC412', 'PC413', 'PC414', 'PC415', 'PC416', 'PC417', 'PC418', 'PC419', 'PC420', 'PC421', 'PC422', 'PC423', 'PC424', 'PC425', 'PC426', 'PC427', 'PC428', 'PC429', 'PC430', 'PC431', 'PC432', 'PC433', 'PC434', 'PC435', 'PC436', 'PC437', 'PC438', 'PC439', 'PC440', 'PC441', 'PC442', 'PC443', 'PC444', 'PC445', 'PC446', 'PC447', 'PC448', 'PC449', 'PC450', 'PC451', 'PC452', 'PC453', 'PC454', 'PC455', 'PC456', 'PC457', 'PC458', 'PC459', 'PC460', 'PC461', 'PC462', 'PC463', 'PC464', 'PC465', 'PC466', 'PC467', 'PC468', 'PC469', 'PC470', 'PC471', 'PC472', 'PC473', 'PC474', 'PC475', 'PC476', 'PC477', 'PC478', 'PC479', 'PC480', 'PC481', 'PC482', 'PC483', 'PC484', 'PC485', 'PC486', 'PC487', 'PC488', 'PC489', 'PC490', 'PC491', 'PC492', 'PC493', 'PC494', 'PC495', 'PC496', 'PC497', 'PC498', 'PC499', 'PC500', 'PC501', 'PC502', 'PC503', 'PC504', 'PC505', 'PC506', 'PC507', 'PC508', 'PC509', 'PC510', 'PC511', 'PC512', 'PC513', 'PC514', 'PC515', 'PC516', 'PC517', 'PC518', 'PC519', 'PC520', 'PC521', 'PC522', 'PC523', 'PC524', 'PC525', 'PC526', 'PC527', 'PC528', 'PC529', 'PC530', 'PC531', 'PC532', 'PC533', 'PC534', 'PC535', 'PC536', 'PC537', 'PC538', 'PC539', 'PC540', 'PC541', 'PC542', 'PC543', 'PC544', 'PC545', 'PC546', 'PC547', 'PC548', 'PC549', 'PC550', 'PC551', 'PC552', 'PC553', 'PC554', 'PC555', 'PC556', 'PC557', 'PC558', 'PC559', 'PC560', 'PC561', 'PC562', 'PC563', 'PC564', 'PC565', 'PC566', 'PC567', 'PC568', 'PC569', 'PC570', 'PC571', 'PC572', 'PC573', 'PC574', 'PC575', 'PC576', 'PC577', 'PC578', 'PC579', 'PC580', 'PC581', 'PC582', 'PC583', 'PC584', 'PC585', 'PC586', 'PC587', 'PC588', 'PC589', 'PC590', 'PC591', 'PC592', 'PC593', 'PC594', 'PC595', 'PC596', 'PC597', 'PC598', 'PC599', 'PC600', 'PC601', 'PC602', 'PC603', 'PC604', 'PC605', 'PC606', 'PC607', 'PC608', 'PC609', 'PC610', 'PC611', 'PC612', 'PC613', 'PC614', 'PC615', 'PC616', 'PC617', 'PC618', 'PC619', 'PC620', 'PC621', 'PC622', 'PC623', 'PC624', 'PC625', 'PC626', 'PC627', 'PC628', 'PC629', 'PC630', 'PC631', 'PC632', 'PC633', 'PC634', 'PC635', 'PC636', 'PC637', 'PC638', 'PC639', 'PC640', 'PC641', 'PC642', 'PC643', 'PC644', 'PC645', 'PC646', 'PC647', 'PC648', 'PC649', 'PC650', 'PC651', 'PC652', 'PC653', 'PC654', 'PC655', 'PC656', 'PC657', 'PC658', 'PC659', 'PC660', 'PC661', 'PC662', 'PC663', 'PC664', 'PC665', 'PC666', 'PC667', 'PC668', 'PC669', 'PC670', 'PC671', 'PC672', 'PC673', 'PC674', 'PC675', 'PC676', 'PC677', 'PC678', 'PC679', 'PC680', 'PC681', 'PC682', 'PC683', 'PC684', 'PC685', 'PC686', 'PC687', 'PC688', 'PC689', 'PC690', 'PC691', 'PC692', 'PC693', 'PC694', 'PC695', 'PC696', 'PC697', 'PC698', 'PC699', 'PC700', 'PC701', 'PC702', 'PC703', 'PC704', 'PC705', 'PC706', 'PC707', 'PC708', 'PC709', 'PC710', 'PC711', 'PC712', 'PC713', 'PC714', 'PC715', 'PC716', 'PC717', 'PC718', 'PC719', 'PC720', 'PC721', 'PC722', 'PC723', 'PC724', 'PC725', 'PC726', 'PC727', 'PC728', 'PC729', 'PC730', 'PC731', 'PC732', 'PC733', 'PC734', 'PC735', 'PC736', 'PC737', 'PC738', 'PC739', 'PC740', 'PC741', 'PC742', 'PC743', 'PC744', 'PC745', 'PC746', 'PC747', 'PC748', 'PC749', 'PC750']\n"
     ]
    }
   ],
   "source": [
    "#make list of principal components (PC)\n",
    "\n",
    "num_components = 750 \n",
    "pc_words = [f\"PC{i}\" for i in range(1, num_components + 1)]\n",
    "\n",
    "print(pc_words)"
   ]
  },
  {
   "cell_type": "code",
   "execution_count": 30,
   "metadata": {},
   "outputs": [],
   "source": [
    "dense_tfidf_matrix = tfidf_matrix.toarray()\n",
    "pca = PCA(n_components=750)\n",
    "pca_result = pca.fit_transform(dense_tfidf_matrix)\n",
    "pca_df = pd.DataFrame(data=pca_result, columns=pc_words)\n",
    "\n",
    "pca_df\n",
    "pca_df = pca_df.reset_index(drop=True)"
   ]
  },
  {
   "cell_type": "code",
   "execution_count": 31,
   "metadata": {},
   "outputs": [],
   "source": [
    "a = pca.explained_variance_ratio_\n",
    "\n",
    "\n",
    "# Cumulative explained variance ratio\n",
    "b = np.cumsum(a)\n",
    "print(b[-1])"
   ]
  },
  {
   "cell_type": "code",
   "execution_count": 33,
   "metadata": {},
   "outputs": [
    {
     "data": {
      "image/png": "[encoded data removed]",
      "text/plain": [
       "<Figure size 1200x800 with 1 Axes>"
      ]
     },
     "metadata": {},
     "output_type": "display_data"
    }
   ],
   "source": [
    "plt.figure(figsize = (12, 8))\n",
    "plt.grid()\n",
    "plt.plot(range(1, len(b) + 1), b, color = 'teal', linewidth = 2)\n",
    "plt.xlabel('Number of Principal Components')\n",
    "plt.ylabel('Cumulative Explained Variance Ratio')\n",
    "plt.title('Cumulative Explained Variance Ratio by Principal Components', fontsize = 16)\n",
    "\n",
    "plt.axhline(y=0.95, color='red', linestyle='--')\n",
    "plt.text(100, 0.95, 'CV = 0.95', ha='left', va='bottom')\n",
    "\n",
    "# for i, var in enumerate(b):\n",
    "#     plt.text(i + 1, var, f'{var:.2f}', ha='right', va='bottom', fontsize = 12)\n",
    "\n",
    "plt.show()"
   ]
  },
  {
   "cell_type": "code",
   "execution_count": 34,
   "metadata": {},
   "outputs": [
    {
     "data": {
      "text/html": [
       "<div>\n",
       "<style scoped>\n",
       "    .dataframe tbody tr th:only-of-type {\n",
       "        vertical-align: middle;\n",
       "    }\n",
       "\n",
       "    .dataframe tbody tr th {\n",
       "        vertical-align: top;\n",
       "    }\n",
       "\n",
       "    .dataframe thead th {\n",
       "        text-align: right;\n",
       "    }\n",
       "</style>\n",
       "<table border=\"1\" class=\"dataframe\">\n",
       "  <thead>\n",
       "    <tr style=\"text-align: right;\">\n",
       "      <th></th>\n",
       "      <th>overall</th>\n",
       "      <th>verified</th>\n",
       "      <th>reviewerID</th>\n",
       "      <th>productID</th>\n",
       "    </tr>\n",
       "  </thead>\n",
       "  <tbody>\n",
       "    <tr>\n",
       "      <th>0</th>\n",
       "      <td>5</td>\n",
       "      <td>1</td>\n",
       "      <td>A30VYJQW4XWDQ6</td>\n",
       "      <td>B0011FYB5I</td>\n",
       "    </tr>\n",
       "    <tr>\n",
       "      <th>1</th>\n",
       "      <td>5</td>\n",
       "      <td>1</td>\n",
       "      <td>A30VYJQW4XWDQ6</td>\n",
       "      <td>B0011FYB5I</td>\n",
       "    </tr>\n",
       "    <tr>\n",
       "      <th>2</th>\n",
       "      <td>5</td>\n",
       "      <td>1</td>\n",
       "      <td>A28F08XFZRKIH5</td>\n",
       "      <td>B01DKQAXC0</td>\n",
       "    </tr>\n",
       "    <tr>\n",
       "      <th>3</th>\n",
       "      <td>3</td>\n",
       "      <td>1</td>\n",
       "      <td>A157AUOFPJQ46Q</td>\n",
       "      <td>B000X7ST9Y</td>\n",
       "    </tr>\n",
       "    <tr>\n",
       "      <th>4</th>\n",
       "      <td>5</td>\n",
       "      <td>1</td>\n",
       "      <td>A2USMIT2CSA08</td>\n",
       "      <td>B0091OCA86</td>\n",
       "    </tr>\n",
       "    <tr>\n",
       "      <th>...</th>\n",
       "      <td>...</td>\n",
       "      <td>...</td>\n",
       "      <td>...</td>\n",
       "      <td>...</td>\n",
       "    </tr>\n",
       "    <tr>\n",
       "      <th>4216</th>\n",
       "      <td>5</td>\n",
       "      <td>0</td>\n",
       "      <td>A3E5V5TSTAY3R9</td>\n",
       "      <td>B0006O10P4</td>\n",
       "    </tr>\n",
       "    <tr>\n",
       "      <th>4217</th>\n",
       "      <td>5</td>\n",
       "      <td>0</td>\n",
       "      <td>A3E5V5TSTAY3R9</td>\n",
       "      <td>B0006O10P4</td>\n",
       "    </tr>\n",
       "    <tr>\n",
       "      <th>4218</th>\n",
       "      <td>5</td>\n",
       "      <td>0</td>\n",
       "      <td>A281NPSIMI1C2R</td>\n",
       "      <td>B0006O10P4</td>\n",
       "    </tr>\n",
       "    <tr>\n",
       "      <th>4219</th>\n",
       "      <td>5</td>\n",
       "      <td>1</td>\n",
       "      <td>A3E5V5TSTAY3R9</td>\n",
       "      <td>B0006O10P4</td>\n",
       "    </tr>\n",
       "    <tr>\n",
       "      <th>4220</th>\n",
       "      <td>5</td>\n",
       "      <td>1</td>\n",
       "      <td>A3E5V5TSTAY3R9</td>\n",
       "      <td>B0006O10P4</td>\n",
       "    </tr>\n",
       "  </tbody>\n",
       "</table>\n",
       "<p>4221 rows × 4 columns</p>\n",
       "</div>"
      ],
      "text/plain": [
       "      overall  verified      reviewerID   productID\n",
       "0           5         1  A30VYJQW4XWDQ6  B0011FYB5I\n",
       "1           5         1  A30VYJQW4XWDQ6  B0011FYB5I\n",
       "2           5         1  A28F08XFZRKIH5  B01DKQAXC0\n",
       "3           3         1  A157AUOFPJQ46Q  B000X7ST9Y\n",
       "4           5         1   A2USMIT2CSA08  B0091OCA86\n",
       "...       ...       ...             ...         ...\n",
       "4216        5         0  A3E5V5TSTAY3R9  B0006O10P4\n",
       "4217        5         0  A3E5V5TSTAY3R9  B0006O10P4\n",
       "4218        5         0  A281NPSIMI1C2R  B0006O10P4\n",
       "4219        5         1  A3E5V5TSTAY3R9  B0006O10P4\n",
       "4220        5         1  A3E5V5TSTAY3R9  B0006O10P4\n",
       "\n",
       "[4221 rows x 4 columns]"
      ]
     },
     "execution_count": 34,
     "metadata": {},
     "output_type": "execute_result"
    }
   ],
   "source": [
    "df = df.drop(['reviewText', 'new_reviewText'], axis=1)\n",
    "df = df.reset_index(drop=True)\n",
    "df"
   ]
  },
  {
   "cell_type": "code",
   "execution_count": 35,
   "metadata": {},
   "outputs": [
    {
     "data": {
      "text/html": [
       "<div>\n",
       "<style scoped>\n",
       "    .dataframe tbody tr th:only-of-type {\n",
       "        vertical-align: middle;\n",
       "    }\n",
       "\n",
       "    .dataframe tbody tr th {\n",
       "        vertical-align: top;\n",
       "    }\n",
       "\n",
       "    .dataframe thead th {\n",
       "        text-align: right;\n",
       "    }\n",
       "</style>\n",
       "<table border=\"1\" class=\"dataframe\">\n",
       "  <thead>\n",
       "    <tr style=\"text-align: right;\">\n",
       "      <th></th>\n",
       "      <th>overall</th>\n",
       "      <th>verified</th>\n",
       "      <th>reviewerID_encoded</th>\n",
       "      <th>productID_encoded</th>\n",
       "    </tr>\n",
       "  </thead>\n",
       "  <tbody>\n",
       "    <tr>\n",
       "      <th>0</th>\n",
       "      <td>5</td>\n",
       "      <td>1</td>\n",
       "      <td>533</td>\n",
       "      <td>25</td>\n",
       "    </tr>\n",
       "    <tr>\n",
       "      <th>1</th>\n",
       "      <td>5</td>\n",
       "      <td>1</td>\n",
       "      <td>533</td>\n",
       "      <td>25</td>\n",
       "    </tr>\n",
       "    <tr>\n",
       "      <th>2</th>\n",
       "      <td>5</td>\n",
       "      <td>1</td>\n",
       "      <td>320</td>\n",
       "      <td>82</td>\n",
       "    </tr>\n",
       "    <tr>\n",
       "      <th>3</th>\n",
       "      <td>3</td>\n",
       "      <td>1</td>\n",
       "      <td>36</td>\n",
       "      <td>21</td>\n",
       "    </tr>\n",
       "    <tr>\n",
       "      <th>4</th>\n",
       "      <td>5</td>\n",
       "      <td>1</td>\n",
       "      <td>494</td>\n",
       "      <td>51</td>\n",
       "    </tr>\n",
       "    <tr>\n",
       "      <th>...</th>\n",
       "      <td>...</td>\n",
       "      <td>...</td>\n",
       "      <td>...</td>\n",
       "      <td>...</td>\n",
       "    </tr>\n",
       "    <tr>\n",
       "      <th>4216</th>\n",
       "      <td>5</td>\n",
       "      <td>0</td>\n",
       "      <td>623</td>\n",
       "      <td>4</td>\n",
       "    </tr>\n",
       "    <tr>\n",
       "      <th>4217</th>\n",
       "      <td>5</td>\n",
       "      <td>0</td>\n",
       "      <td>623</td>\n",
       "      <td>4</td>\n",
       "    </tr>\n",
       "    <tr>\n",
       "      <th>4218</th>\n",
       "      <td>5</td>\n",
       "      <td>0</td>\n",
       "      <td>317</td>\n",
       "      <td>4</td>\n",
       "    </tr>\n",
       "    <tr>\n",
       "      <th>4219</th>\n",
       "      <td>5</td>\n",
       "      <td>1</td>\n",
       "      <td>623</td>\n",
       "      <td>4</td>\n",
       "    </tr>\n",
       "    <tr>\n",
       "      <th>4220</th>\n",
       "      <td>5</td>\n",
       "      <td>1</td>\n",
       "      <td>623</td>\n",
       "      <td>4</td>\n",
       "    </tr>\n",
       "  </tbody>\n",
       "</table>\n",
       "<p>4221 rows × 4 columns</p>\n",
       "</div>"
      ],
      "text/plain": [
       "      overall  verified  reviewerID_encoded  productID_encoded\n",
       "0           5         1                 533                 25\n",
       "1           5         1                 533                 25\n",
       "2           5         1                 320                 82\n",
       "3           3         1                  36                 21\n",
       "4           5         1                 494                 51\n",
       "...       ...       ...                 ...                ...\n",
       "4216        5         0                 623                  4\n",
       "4217        5         0                 623                  4\n",
       "4218        5         0                 317                  4\n",
       "4219        5         1                 623                  4\n",
       "4220        5         1                 623                  4\n",
       "\n",
       "[4221 rows x 4 columns]"
      ]
     },
     "execution_count": 35,
     "metadata": {},
     "output_type": "execute_result"
    }
   ],
   "source": [
    "label_encoder = LabelEncoder()\n",
    "df['reviewerID_encoded'] = label_encoder.fit_transform(df['reviewerID'])\n",
    "df['productID_encoded'] = label_encoder.fit_transform(df['productID'])\n",
    "df.drop(['reviewerID', 'productID'], axis=1, inplace=True)\n",
    "df"
   ]
  },
  {
   "cell_type": "code",
   "execution_count": 36,
   "metadata": {},
   "outputs": [
    {
     "data": {
      "text/html": [
       "<div>\n",
       "<style scoped>\n",
       "    .dataframe tbody tr th:only-of-type {\n",
       "        vertical-align: middle;\n",
       "    }\n",
       "\n",
       "    .dataframe tbody tr th {\n",
       "        vertical-align: top;\n",
       "    }\n",
       "\n",
       "    .dataframe thead th {\n",
       "        text-align: right;\n",
       "    }\n",
       "</style>\n",
       "<table border=\"1\" class=\"dataframe\">\n",
       "  <thead>\n",
       "    <tr style=\"text-align: right;\">\n",
       "      <th></th>\n",
       "      <th>overall</th>\n",
       "      <th>verified</th>\n",
       "      <th>reviewerID_encoded</th>\n",
       "      <th>productID_encoded</th>\n",
       "      <th>PC1</th>\n",
       "      <th>PC2</th>\n",
       "      <th>PC3</th>\n",
       "      <th>PC4</th>\n",
       "      <th>PC5</th>\n",
       "      <th>PC6</th>\n",
       "      <th>...</th>\n",
       "      <th>PC741</th>\n",
       "      <th>PC742</th>\n",
       "      <th>PC743</th>\n",
       "      <th>PC744</th>\n",
       "      <th>PC745</th>\n",
       "      <th>PC746</th>\n",
       "      <th>PC747</th>\n",
       "      <th>PC748</th>\n",
       "      <th>PC749</th>\n",
       "      <th>PC750</th>\n",
       "    </tr>\n",
       "  </thead>\n",
       "  <tbody>\n",
       "    <tr>\n",
       "      <th>0</th>\n",
       "      <td>5</td>\n",
       "      <td>1</td>\n",
       "      <td>533</td>\n",
       "      <td>25</td>\n",
       "      <td>-0.030391</td>\n",
       "      <td>-0.066808</td>\n",
       "      <td>-0.028680</td>\n",
       "      <td>-0.008844</td>\n",
       "      <td>0.020442</td>\n",
       "      <td>-0.057178</td>\n",
       "      <td>...</td>\n",
       "      <td>0.063907</td>\n",
       "      <td>-0.054334</td>\n",
       "      <td>-0.024219</td>\n",
       "      <td>0.005124</td>\n",
       "      <td>-0.011635</td>\n",
       "      <td>0.062794</td>\n",
       "      <td>-0.036580</td>\n",
       "      <td>0.044481</td>\n",
       "      <td>0.120703</td>\n",
       "      <td>-0.037945</td>\n",
       "    </tr>\n",
       "    <tr>\n",
       "      <th>1</th>\n",
       "      <td>5</td>\n",
       "      <td>1</td>\n",
       "      <td>533</td>\n",
       "      <td>25</td>\n",
       "      <td>-0.073535</td>\n",
       "      <td>-0.051843</td>\n",
       "      <td>0.219820</td>\n",
       "      <td>-0.107845</td>\n",
       "      <td>-0.098319</td>\n",
       "      <td>-0.112098</td>\n",
       "      <td>...</td>\n",
       "      <td>0.167717</td>\n",
       "      <td>-0.062236</td>\n",
       "      <td>0.004368</td>\n",
       "      <td>-0.121906</td>\n",
       "      <td>0.083606</td>\n",
       "      <td>0.039276</td>\n",
       "      <td>0.159958</td>\n",
       "      <td>0.007437</td>\n",
       "      <td>-0.003664</td>\n",
       "      <td>0.214607</td>\n",
       "    </tr>\n",
       "    <tr>\n",
       "      <th>2</th>\n",
       "      <td>5</td>\n",
       "      <td>1</td>\n",
       "      <td>320</td>\n",
       "      <td>82</td>\n",
       "      <td>-0.097053</td>\n",
       "      <td>0.133551</td>\n",
       "      <td>-0.037547</td>\n",
       "      <td>-0.042236</td>\n",
       "      <td>-0.197429</td>\n",
       "      <td>-0.070346</td>\n",
       "      <td>...</td>\n",
       "      <td>-0.033552</td>\n",
       "      <td>-0.038959</td>\n",
       "      <td>0.006124</td>\n",
       "      <td>0.012723</td>\n",
       "      <td>-0.022609</td>\n",
       "      <td>-0.044578</td>\n",
       "      <td>-0.009030</td>\n",
       "      <td>-0.012648</td>\n",
       "      <td>0.042060</td>\n",
       "      <td>-0.004179</td>\n",
       "    </tr>\n",
       "    <tr>\n",
       "      <th>3</th>\n",
       "      <td>3</td>\n",
       "      <td>1</td>\n",
       "      <td>36</td>\n",
       "      <td>21</td>\n",
       "      <td>-0.044693</td>\n",
       "      <td>-0.113632</td>\n",
       "      <td>-0.095022</td>\n",
       "      <td>-0.076171</td>\n",
       "      <td>0.093969</td>\n",
       "      <td>0.218642</td>\n",
       "      <td>...</td>\n",
       "      <td>-0.005619</td>\n",
       "      <td>0.011321</td>\n",
       "      <td>0.006665</td>\n",
       "      <td>-0.002533</td>\n",
       "      <td>-0.002673</td>\n",
       "      <td>0.036199</td>\n",
       "      <td>-0.012880</td>\n",
       "      <td>0.022211</td>\n",
       "      <td>-0.002687</td>\n",
       "      <td>0.018618</td>\n",
       "    </tr>\n",
       "    <tr>\n",
       "      <th>4</th>\n",
       "      <td>5</td>\n",
       "      <td>1</td>\n",
       "      <td>494</td>\n",
       "      <td>51</td>\n",
       "      <td>-0.049544</td>\n",
       "      <td>-0.073450</td>\n",
       "      <td>0.136081</td>\n",
       "      <td>-0.135660</td>\n",
       "      <td>-0.124650</td>\n",
       "      <td>0.126126</td>\n",
       "      <td>...</td>\n",
       "      <td>0.030181</td>\n",
       "      <td>-0.001601</td>\n",
       "      <td>0.006389</td>\n",
       "      <td>0.029576</td>\n",
       "      <td>-0.025364</td>\n",
       "      <td>-0.016693</td>\n",
       "      <td>-0.009809</td>\n",
       "      <td>0.011055</td>\n",
       "      <td>0.014113</td>\n",
       "      <td>0.000482</td>\n",
       "    </tr>\n",
       "    <tr>\n",
       "      <th>...</th>\n",
       "      <td>...</td>\n",
       "      <td>...</td>\n",
       "      <td>...</td>\n",
       "      <td>...</td>\n",
       "      <td>...</td>\n",
       "      <td>...</td>\n",
       "      <td>...</td>\n",
       "      <td>...</td>\n",
       "      <td>...</td>\n",
       "      <td>...</td>\n",
       "      <td>...</td>\n",
       "      <td>...</td>\n",
       "      <td>...</td>\n",
       "      <td>...</td>\n",
       "      <td>...</td>\n",
       "      <td>...</td>\n",
       "      <td>...</td>\n",
       "      <td>...</td>\n",
       "      <td>...</td>\n",
       "      <td>...</td>\n",
       "      <td>...</td>\n",
       "    </tr>\n",
       "    <tr>\n",
       "      <th>4216</th>\n",
       "      <td>5</td>\n",
       "      <td>0</td>\n",
       "      <td>623</td>\n",
       "      <td>4</td>\n",
       "      <td>-0.033322</td>\n",
       "      <td>-0.081877</td>\n",
       "      <td>-0.074644</td>\n",
       "      <td>-0.076394</td>\n",
       "      <td>-0.084853</td>\n",
       "      <td>0.084122</td>\n",
       "      <td>...</td>\n",
       "      <td>0.002191</td>\n",
       "      <td>-0.013218</td>\n",
       "      <td>-0.014857</td>\n",
       "      <td>0.004137</td>\n",
       "      <td>0.001255</td>\n",
       "      <td>0.015686</td>\n",
       "      <td>-0.006123</td>\n",
       "      <td>0.002723</td>\n",
       "      <td>-0.013112</td>\n",
       "      <td>-0.007891</td>\n",
       "    </tr>\n",
       "    <tr>\n",
       "      <th>4217</th>\n",
       "      <td>5</td>\n",
       "      <td>0</td>\n",
       "      <td>623</td>\n",
       "      <td>4</td>\n",
       "      <td>-0.036226</td>\n",
       "      <td>-0.078744</td>\n",
       "      <td>-0.074215</td>\n",
       "      <td>-0.080633</td>\n",
       "      <td>-0.077985</td>\n",
       "      <td>0.077965</td>\n",
       "      <td>...</td>\n",
       "      <td>0.003146</td>\n",
       "      <td>-0.009404</td>\n",
       "      <td>-0.019159</td>\n",
       "      <td>0.005669</td>\n",
       "      <td>-0.003221</td>\n",
       "      <td>0.019699</td>\n",
       "      <td>-0.007780</td>\n",
       "      <td>0.001762</td>\n",
       "      <td>-0.012379</td>\n",
       "      <td>-0.008842</td>\n",
       "    </tr>\n",
       "    <tr>\n",
       "      <th>4218</th>\n",
       "      <td>5</td>\n",
       "      <td>0</td>\n",
       "      <td>317</td>\n",
       "      <td>4</td>\n",
       "      <td>0.000837</td>\n",
       "      <td>-0.046980</td>\n",
       "      <td>-0.088055</td>\n",
       "      <td>-0.049398</td>\n",
       "      <td>-0.040374</td>\n",
       "      <td>-0.000471</td>\n",
       "      <td>...</td>\n",
       "      <td>0.052930</td>\n",
       "      <td>-0.054625</td>\n",
       "      <td>-0.000015</td>\n",
       "      <td>0.020195</td>\n",
       "      <td>0.012444</td>\n",
       "      <td>0.042998</td>\n",
       "      <td>-0.000829</td>\n",
       "      <td>0.007251</td>\n",
       "      <td>0.066860</td>\n",
       "      <td>-0.010619</td>\n",
       "    </tr>\n",
       "    <tr>\n",
       "      <th>4219</th>\n",
       "      <td>5</td>\n",
       "      <td>1</td>\n",
       "      <td>623</td>\n",
       "      <td>4</td>\n",
       "      <td>-0.031084</td>\n",
       "      <td>-0.064400</td>\n",
       "      <td>-0.064344</td>\n",
       "      <td>-0.072426</td>\n",
       "      <td>-0.092444</td>\n",
       "      <td>0.073647</td>\n",
       "      <td>...</td>\n",
       "      <td>-0.031699</td>\n",
       "      <td>0.042773</td>\n",
       "      <td>0.056439</td>\n",
       "      <td>-0.101035</td>\n",
       "      <td>-0.008071</td>\n",
       "      <td>-0.002521</td>\n",
       "      <td>0.044285</td>\n",
       "      <td>-0.028403</td>\n",
       "      <td>-0.011153</td>\n",
       "      <td>0.013646</td>\n",
       "    </tr>\n",
       "    <tr>\n",
       "      <th>4220</th>\n",
       "      <td>5</td>\n",
       "      <td>1</td>\n",
       "      <td>623</td>\n",
       "      <td>4</td>\n",
       "      <td>-0.033322</td>\n",
       "      <td>-0.081877</td>\n",
       "      <td>-0.074644</td>\n",
       "      <td>-0.076394</td>\n",
       "      <td>-0.084853</td>\n",
       "      <td>0.084122</td>\n",
       "      <td>...</td>\n",
       "      <td>0.002191</td>\n",
       "      <td>-0.013218</td>\n",
       "      <td>-0.014857</td>\n",
       "      <td>0.004137</td>\n",
       "      <td>0.001255</td>\n",
       "      <td>0.015686</td>\n",
       "      <td>-0.006123</td>\n",
       "      <td>0.002723</td>\n",
       "      <td>-0.013112</td>\n",
       "      <td>-0.007891</td>\n",
       "    </tr>\n",
       "  </tbody>\n",
       "</table>\n",
       "<p>4221 rows × 754 columns</p>\n",
       "</div>"
      ],
      "text/plain": [
       "      overall  verified  reviewerID_encoded  productID_encoded       PC1  \\\n",
       "0           5         1                 533                 25 -0.030391   \n",
       "1           5         1                 533                 25 -0.073535   \n",
       "2           5         1                 320                 82 -0.097053   \n",
       "3           3         1                  36                 21 -0.044693   \n",
       "4           5         1                 494                 51 -0.049544   \n",
       "...       ...       ...                 ...                ...       ...   \n",
       "4216        5         0                 623                  4 -0.033322   \n",
       "4217        5         0                 623                  4 -0.036226   \n",
       "4218        5         0                 317                  4  0.000837   \n",
       "4219        5         1                 623                  4 -0.031084   \n",
       "4220        5         1                 623                  4 -0.033322   \n",
       "\n",
       "           PC2       PC3       PC4       PC5       PC6  ...     PC741  \\\n",
       "0    -0.066808 -0.028680 -0.008844  0.020442 -0.057178  ...  0.063907   \n",
       "1    -0.051843  0.219820 -0.107845 -0.098319 -0.112098  ...  0.167717   \n",
       "2     0.133551 -0.037547 -0.042236 -0.197429 -0.070346  ... -0.033552   \n",
       "3    -0.113632 -0.095022 -0.076171  0.093969  0.218642  ... -0.005619   \n",
       "4    -0.073450  0.136081 -0.135660 -0.124650  0.126126  ...  0.030181   \n",
       "...        ...       ...       ...       ...       ...  ...       ...   \n",
       "4216 -0.081877 -0.074644 -0.076394 -0.084853  0.084122  ...  0.002191   \n",
       "4217 -0.078744 -0.074215 -0.080633 -0.077985  0.077965  ...  0.003146   \n",
       "4218 -0.046980 -0.088055 -0.049398 -0.040374 -0.000471  ...  0.052930   \n",
       "4219 -0.064400 -0.064344 -0.072426 -0.092444  0.073647  ... -0.031699   \n",
       "4220 -0.081877 -0.074644 -0.076394 -0.084853  0.084122  ...  0.002191   \n",
       "\n",
       "         PC742     PC743     PC744     PC745     PC746     PC747     PC748  \\\n",
       "0    -0.054334 -0.024219  0.005124 -0.011635  0.062794 -0.036580  0.044481   \n",
       "1    -0.062236  0.004368 -0.121906  0.083606  0.039276  0.159958  0.007437   \n",
       "2    -0.038959  0.006124  0.012723 -0.022609 -0.044578 -0.009030 -0.012648   \n",
       "3     0.011321  0.006665 -0.002533 -0.002673  0.036199 -0.012880  0.022211   \n",
       "4    -0.001601  0.006389  0.029576 -0.025364 -0.016693 -0.009809  0.011055   \n",
       "...        ...       ...       ...       ...       ...       ...       ...   \n",
       "4216 -0.013218 -0.014857  0.004137  0.001255  0.015686 -0.006123  0.002723   \n",
       "4217 -0.009404 -0.019159  0.005669 -0.003221  0.019699 -0.007780  0.001762   \n",
       "4218 -0.054625 -0.000015  0.020195  0.012444  0.042998 -0.000829  0.007251   \n",
       "4219  0.042773  0.056439 -0.101035 -0.008071 -0.002521  0.044285 -0.028403   \n",
       "4220 -0.013218 -0.014857  0.004137  0.001255  0.015686 -0.006123  0.002723   \n",
       "\n",
       "         PC749     PC750  \n",
       "0     0.120703 -0.037945  \n",
       "1    -0.003664  0.214607  \n",
       "2     0.042060 -0.004179  \n",
       "3    -0.002687  0.018618  \n",
       "4     0.014113  0.000482  \n",
       "...        ...       ...  \n",
       "4216 -0.013112 -0.007891  \n",
       "4217 -0.012379 -0.008842  \n",
       "4218  0.066860 -0.010619  \n",
       "4219 -0.011153  0.013646  \n",
       "4220 -0.013112 -0.007891  \n",
       "\n",
       "[4221 rows x 754 columns]"
      ]
     },
     "execution_count": 36,
     "metadata": {},
     "output_type": "execute_result"
    }
   ],
   "source": [
    "df_final = pd.concat([df, pca_df], axis=1)\n",
    "df_final"
   ]
  },
  {
   "cell_type": "code",
   "execution_count": 37,
   "metadata": {},
   "outputs": [],
   "source": [
    "df_final.to_csv(\"trump2024.csv\", index=False)"
   ]
  },
  {
   "cell_type": "markdown",
   "metadata": {},
   "source": [
    "# TTVS"
   ]
  },
  {
   "cell_type": "code",
   "execution_count": 38,
   "metadata": {},
   "outputs": [],
   "source": [
    "X = df_final.drop('verified',axis =1)\n",
    "y = df_final['verified']"
   ]
  },
  {
   "cell_type": "code",
   "execution_count": 39,
   "metadata": {},
   "outputs": [
    {
     "data": {
      "text/plain": [
       "verified\n",
       "1    3423\n",
       "0     798\n",
       "Name: count, dtype: int64"
      ]
     },
     "execution_count": 39,
     "metadata": {},
     "output_type": "execute_result"
    }
   ],
   "source": [
    "y.value_counts()"
   ]
  },
  {
   "cell_type": "code",
   "execution_count": 40,
   "metadata": {},
   "outputs": [
    {
     "data": {
      "text/plain": [
       "<Axes: xlabel='verified', ylabel='count'>"
      ]
     },
     "execution_count": 40,
     "metadata": {},
     "output_type": "execute_result"
    },
    {
     "data": {
      "image/png": "[encoded data removed]",
      "text/plain": [
       "<Figure size 640x480 with 1 Axes>"
      ]
     },
     "metadata": {},
     "output_type": "display_data"
    }
   ],
   "source": [
    "sns.countplot(df_final,x = y)\n",
    "plt.grid()\n",
    "plt.title('Label Distribution')"
   ]
  },
  {
   "cell_type": "code",
   "execution_count": 41,
   "metadata": {},
   "outputs": [],
   "source": [
    "X_T,X_test,y_T,y_test =     train_test_split(X,y,test_size= 0.19,stratify=y,random_state= 4122004)\n",
    "X_train,X_val,y_train,y_val =     train_test_split(X_T,y_T,test_size= 0.11,stratify=y_T,random_state= 4122004)\n"
   ]
  },
  {
   "cell_type": "code",
   "execution_count": 42,
   "metadata": {},
   "outputs": [
    {
     "name": "stdout",
     "output_type": "stream",
     "text": [
      "y_train: 1615    1\n",
      "3416    0\n",
      "2101    1\n",
      "1689    0\n",
      "3664    0\n",
      "       ..\n",
      "3662    0\n",
      "3826    1\n",
      "2871    1\n",
      "3413    0\n",
      "3941    1\n",
      "Name: verified, Length: 3042, dtype: int64\n"
     ]
    }
   ],
   "source": [
    "# print(\"X_T:\", X_T)\n",
    "# print(\"X_test:\", X_test)\n",
    "# print(\"y_T:\", y_T)\n",
    "# print(\"y_test:\", y_test)\n",
    "# print(\"X_train:\", X_train)\n",
    "# print(\"X_val:\", X_val)\n",
    "print(\"y_train:\", y_train)\n",
    "# print(\"y_val:\", y_val)\n"
   ]
  },
  {
   "cell_type": "code",
   "execution_count": 43,
   "metadata": {},
   "outputs": [
    {
     "name": "stdout",
     "output_type": "stream",
     "text": [
      "X_train:       overall  reviewerID_encoded  productID_encoded       PC1       PC2  \\\n",
      "1615        4                   1                 13 -0.043659 -0.055629   \n",
      "3416        5                 353                 23 -0.045027 -0.085542   \n",
      "2101        5                 547                 13 -0.031125 -0.087821   \n",
      "1689        5                 659                 13 -0.052535 -0.108437   \n",
      "3664        1                 147                 39  0.055383 -0.039908   \n",
      "...       ...                 ...                ...       ...       ...   \n",
      "3662        1                 768                 39 -0.032198 -0.113122   \n",
      "3826        2                 606                  5  0.103703  0.038062   \n",
      "2871        5                 618                 71 -0.140266  0.156767   \n",
      "3413        5                 150                 23 -0.040640 -0.072531   \n",
      "3941        5                 253                  5  0.103249 -0.066222   \n",
      "\n",
      "           PC3       PC4       PC5       PC6       PC7  ...     PC741  \\\n",
      "1615 -0.064754 -0.050852  0.071310  0.112423  0.048823  ...  0.030403   \n",
      "3416 -0.047478 -0.033083  0.040621 -0.032923 -0.024751  ...  0.035641   \n",
      "2101 -0.053831 -0.046399  0.030783 -0.059648 -0.052646  ... -0.015571   \n",
      "1689  0.211856 -0.158581 -0.098875 -0.033109  0.017517  ... -0.002676   \n",
      "3664 -0.046373 -0.034788  0.002447  0.050015 -0.016392  ...  0.002702   \n",
      "...        ...       ...       ...       ...       ...  ...       ...   \n",
      "3662 -0.114543 -0.085288 -0.027010  0.041695 -0.009614  ... -0.005503   \n",
      "3826 -0.040891  0.026308 -0.068119 -0.003046 -0.071622  ... -0.008100   \n",
      "2871 -0.084148  0.005674 -0.130617 -0.101788 -0.033140  ... -0.003858   \n",
      "3413 -0.039323 -0.048676 -0.008404 -0.038644 -0.042998  ...  0.006701   \n",
      "3941 -0.049972 -0.011785  0.070018 -0.061784  0.020826  ... -0.009819   \n",
      "\n",
      "         PC742     PC743     PC744     PC745     PC746     PC747     PC748  \\\n",
      "1615  0.000408 -0.015350  0.004321 -0.004306  0.015413  0.008269  0.003323   \n",
      "3416 -0.010991  0.012493 -0.011748  0.062166 -0.012791 -0.038610  0.017511   \n",
      "2101 -0.003261 -0.001928 -0.013975 -0.004505 -0.006381  0.004809 -0.011528   \n",
      "1689  0.011826 -0.017080 -0.003838  0.001509  0.007417 -0.000865 -0.006046   \n",
      "3664 -0.001945 -0.012595 -0.013862  0.006819 -0.001979  0.015771  0.001873   \n",
      "...        ...       ...       ...       ...       ...       ...       ...   \n",
      "3662  0.020032  0.002850  0.038718 -0.024424 -0.007660  0.028401  0.027582   \n",
      "3826 -0.001481 -0.017126 -0.004640  0.002499 -0.009089  0.006156  0.001174   \n",
      "2871 -0.001557 -0.001559 -0.002328  0.000030 -0.000205  0.000524 -0.000595   \n",
      "3413  0.009662  0.000781 -0.024433  0.002680  0.071829 -0.013997 -0.076409   \n",
      "3941  0.007632 -0.000977  0.012738  0.028348 -0.010360 -0.013034 -0.006670   \n",
      "\n",
      "         PC749     PC750  \n",
      "1615  0.009495  0.013948  \n",
      "3416  0.037141  0.019649  \n",
      "2101  0.006685  0.005094  \n",
      "1689 -0.002827 -0.006078  \n",
      "3664 -0.005360 -0.036973  \n",
      "...        ...       ...  \n",
      "3662 -0.038192  0.028469  \n",
      "3826 -0.009768  0.006102  \n",
      "2871 -0.000873  0.003957  \n",
      "3413 -0.014667  0.026609  \n",
      "3941  0.004969 -0.003851  \n",
      "\n",
      "[3042 rows x 753 columns]\n"
     ]
    }
   ],
   "source": [
    "print(\"X_train:\", X_train)"
   ]
  },
  {
   "cell_type": "markdown",
   "metadata": {},
   "source": [
    "## ANN"
   ]
  },
  {
   "cell_type": "code",
   "execution_count": 44,
   "metadata": {},
   "outputs": [],
   "source": [
    "from scikeras.wrappers import KerasClassifier\n",
    "from sklearn.model_selection import GridSearchCV\n",
    "from tensorflow.keras.models import Sequential\n",
    "from tensorflow.keras.layers import Dense\n",
    "from tensorflow.keras.optimizers import Adam, SGD"
   ]
  },
  {
   "cell_type": "code",
   "execution_count": 45,
   "metadata": {},
   "outputs": [],
   "source": [
    "X_T_Ann = X_T\n",
    "X_test_Ann = X_test\n",
    "y_test_Ann = y_test\n",
    "X_train_Ann = X_train\n",
    "X_val_Ann = X_val\n",
    "y_train_Ann = y_train\n",
    "y_val_Ann = y_val\n",
    "y_T_Ann = y_T"
   ]
  },
  {
   "cell_type": "code",
   "execution_count": 46,
   "metadata": {},
   "outputs": [
    {
     "name": "stderr",
     "output_type": "stream",
     "text": [
      "c:\\Users\\DELL\\AppData\\Local\\Programs\\Python\\Python312\\Lib\\site-packages\\joblib\\externals\\loky\\process_executor.py:752: UserWarning: A worker stopped while some jobs were given to the executor. This can be caused by a too short worker timeout or by a memory leak.\n",
      "  warnings.warn(\n",
      "c:\\Users\\DELL\\AppData\\Local\\Programs\\Python\\Python312\\Lib\\site-packages\\keras\\src\\layers\\core\\dense.py:87: UserWarning: Do not pass an `input_shape`/`input_dim` argument to a layer. When using Sequential models, prefer using an `Input(shape)` object as the first layer in the model instead.\n",
      "  super().__init__(activity_regularizer=activity_regularizer, **kwargs)\n"
     ]
    },
    {
     "name": "stdout",
     "output_type": "stream",
     "text": [
      "Best: 0.9181459566074951 using {'batch_size': 8, 'epochs': 20, 'init': 'glorot_uniform', 'optimizer': 'adam'}\n",
      "0.8560157790927022 (0.016909692504420357) with: {'batch_size': 8, 'epochs': 10, 'init': 'glorot_uniform', 'optimizer': 'SGD'}\n",
      "0.8468113083497699 (0.00761067514976345) with: {'batch_size': 8, 'epochs': 10, 'init': 'glorot_uniform', 'optimizer': 'adam'}\n",
      "0.8333333333333334 (0.009894751442006845) with: {'batch_size': 8, 'epochs': 10, 'init': 'normal', 'optimizer': 'SGD'}\n",
      "0.8362919132149901 (0.008483555490180102) with: {'batch_size': 8, 'epochs': 10, 'init': 'normal', 'optimizer': 'adam'}\n",
      "0.8303747534516766 (0.01536268434654558) with: {'batch_size': 8, 'epochs': 10, 'init': 'uniform', 'optimizer': 'SGD'}\n",
      "0.834319526627219 (0.005280203288694591) with: {'batch_size': 8, 'epochs': 10, 'init': 'uniform', 'optimizer': 'adam'}\n",
      "0.885930309007232 (0.023146964815626517) with: {'batch_size': 8, 'epochs': 20, 'init': 'glorot_uniform', 'optimizer': 'SGD'}\n",
      "0.9181459566074951 (0.011416012724645201) with: {'batch_size': 8, 'epochs': 20, 'init': 'glorot_uniform', 'optimizer': 'adam'}\n",
      "0.8701512163050625 (0.04791135930784239) with: {'batch_size': 8, 'epochs': 20, 'init': 'normal', 'optimizer': 'SGD'}\n",
      "0.9053254437869823 (0.013736083113593827) with: {'batch_size': 8, 'epochs': 20, 'init': 'normal', 'optimizer': 'adam'}\n",
      "0.9040105193951348 (0.00046489597711147344) with: {'batch_size': 8, 'epochs': 20, 'init': 'uniform', 'optimizer': 'SGD'}\n",
      "0.9049967126890204 (0.010353725015137162) with: {'batch_size': 8, 'epochs': 20, 'init': 'uniform', 'optimizer': 'adam'}\n",
      "0.8389217619986851 (0.010722883912097369) with: {'batch_size': 16, 'epochs': 10, 'init': 'glorot_uniform', 'optimizer': 'SGD'}\n",
      "0.8412228796844182 (0.0021304210053937848) with: {'batch_size': 16, 'epochs': 10, 'init': 'glorot_uniform', 'optimizer': 'adam'}\n",
      "0.8425378040762656 (0.006254535697054712) with: {'batch_size': 16, 'epochs': 10, 'init': 'normal', 'optimizer': 'SGD'}\n",
      "0.84155161078238 (0.0074817926868777475) with: {'batch_size': 16, 'epochs': 10, 'init': 'normal', 'optimizer': 'adam'}\n",
      "0.8412228796844182 (0.0048979830459406366) with: {'batch_size': 16, 'epochs': 10, 'init': 'uniform', 'optimizer': 'SGD'}\n",
      "0.8399079552925707 (0.006753004136809363) with: {'batch_size': 16, 'epochs': 10, 'init': 'uniform', 'optimizer': 'adam'}\n",
      "0.8389217619986851 (0.0593484827826508) with: {'batch_size': 16, 'epochs': 20, 'init': 'glorot_uniform', 'optimizer': 'SGD'}\n",
      "0.8708086785009863 (0.011916218908870364) with: {'batch_size': 16, 'epochs': 20, 'init': 'glorot_uniform', 'optimizer': 'adam'}\n",
      "0.8665351742274819 (0.028289980241880522) with: {'batch_size': 16, 'epochs': 20, 'init': 'normal', 'optimizer': 'SGD'}\n",
      "0.9102564102564102 (0.014039550627260127) with: {'batch_size': 16, 'epochs': 20, 'init': 'normal', 'optimizer': 'adam'}\n",
      "0.901051939513478 (0.024692060431576478) with: {'batch_size': 16, 'epochs': 20, 'init': 'uniform', 'optimizer': 'SGD'}\n",
      "0.903024326101249 (0.013385452381000897) with: {'batch_size': 16, 'epochs': 20, 'init': 'uniform', 'optimizer': 'adam'}\n",
      "0.8162393162393161 (0.04300476255493235) with: {'batch_size': 32, 'epochs': 10, 'init': 'glorot_uniform', 'optimizer': 'SGD'}\n",
      "0.8359631821170282 (0.01888988546819019) with: {'batch_size': 32, 'epochs': 10, 'init': 'glorot_uniform', 'optimizer': 'adam'}\n",
      "0.8310322156476002 (0.010932471497906571) with: {'batch_size': 32, 'epochs': 10, 'init': 'normal', 'optimizer': 'SGD'}\n",
      "0.8372781065088758 (0.007765293761352859) with: {'batch_size': 32, 'epochs': 10, 'init': 'normal', 'optimizer': 'adam'}\n",
      "0.8228139381985535 (0.011510283629198915) with: {'batch_size': 32, 'epochs': 10, 'init': 'uniform', 'optimizer': 'SGD'}\n",
      "0.8408941485864562 (0.0060436477024491085) with: {'batch_size': 32, 'epochs': 10, 'init': 'uniform', 'optimizer': 'adam'}\n",
      "0.8244575936883628 (0.07805685137414332) with: {'batch_size': 32, 'epochs': 20, 'init': 'glorot_uniform', 'optimizer': 'SGD'}\n",
      "0.8951347797501642 (0.010932471497906519) with: {'batch_size': 32, 'epochs': 20, 'init': 'glorot_uniform', 'optimizer': 'adam'}\n",
      "0.8780407626561474 (0.01658708193496764) with: {'batch_size': 32, 'epochs': 20, 'init': 'normal', 'optimizer': 'SGD'}\n",
      "0.8941485864562787 (0.032172010860379574) with: {'batch_size': 32, 'epochs': 20, 'init': 'normal', 'optimizer': 'adam'}\n",
      "0.8925049309664694 (0.01255219138200973) with: {'batch_size': 32, 'epochs': 20, 'init': 'uniform', 'optimizer': 'SGD'}\n",
      "0.9026955950032872 (0.018665443217065602) with: {'batch_size': 32, 'epochs': 20, 'init': 'uniform', 'optimizer': 'adam'}\n",
      "Epoch 1/20\n",
      "\u001b[1m381/381\u001b[0m \u001b[32m━━━━━━━━━━━━━━━━━━━━\u001b[0m\u001b[37m\u001b[0m \u001b[1m2s\u001b[0m 2ms/step - accuracy: 0.9614 - loss: 0.1204\n",
      "Epoch 2/20\n",
      "\u001b[1m381/381\u001b[0m \u001b[32m━━━━━━━━━━━━━━━━━━━━\u001b[0m\u001b[37m\u001b[0m \u001b[1m1s\u001b[0m 2ms/step - accuracy: 0.9569 - loss: 0.1348\n",
      "Epoch 3/20\n",
      "\u001b[1m381/381\u001b[0m \u001b[32m━━━━━━━━━━━━━━━━━━━━\u001b[0m\u001b[37m\u001b[0m \u001b[1m1s\u001b[0m 1ms/step - accuracy: 0.9602 - loss: 0.1173\n",
      "Epoch 4/20\n",
      "\u001b[1m381/381\u001b[0m \u001b[32m━━━━━━━━━━━━━━━━━━━━\u001b[0m\u001b[37m\u001b[0m \u001b[1m1s\u001b[0m 2ms/step - accuracy: 0.9622 - loss: 0.1066\n",
      "Epoch 5/20\n",
      "\u001b[1m381/381\u001b[0m \u001b[32m━━━━━━━━━━━━━━━━━━━━\u001b[0m\u001b[37m\u001b[0m \u001b[1m1s\u001b[0m 2ms/step - accuracy: 0.9589 - loss: 0.1277\n",
      "Epoch 6/20\n",
      "\u001b[1m381/381\u001b[0m \u001b[32m━━━━━━━━━━━━━━━━━━━━\u001b[0m\u001b[37m\u001b[0m \u001b[1m1s\u001b[0m 2ms/step - accuracy: 0.9370 - loss: 0.1948\n",
      "Epoch 7/20\n",
      "\u001b[1m381/381\u001b[0m \u001b[32m━━━━━━━━━━━━━━━━━━━━\u001b[0m\u001b[37m\u001b[0m \u001b[1m1s\u001b[0m 2ms/step - accuracy: 0.9562 - loss: 0.1426\n",
      "Epoch 8/20\n",
      "\u001b[1m381/381\u001b[0m \u001b[32m━━━━━━━━━━━━━━━━━━━━\u001b[0m\u001b[37m\u001b[0m \u001b[1m1s\u001b[0m 2ms/step - accuracy: 0.9551 - loss: 0.1450\n",
      "Epoch 9/20\n",
      "\u001b[1m381/381\u001b[0m \u001b[32m━━━━━━━━━━━━━━━━━━━━\u001b[0m\u001b[37m\u001b[0m \u001b[1m1s\u001b[0m 2ms/step - accuracy: 0.9582 - loss: 0.1335\n",
      "Epoch 10/20\n",
      "\u001b[1m381/381\u001b[0m \u001b[32m━━━━━━━━━━━━━━━━━━━━\u001b[0m\u001b[37m\u001b[0m \u001b[1m1s\u001b[0m 2ms/step - accuracy: 0.9581 - loss: 0.1259\n",
      "Epoch 11/20\n",
      "\u001b[1m381/381\u001b[0m \u001b[32m━━━━━━━━━━━━━━━━━━━━\u001b[0m\u001b[37m\u001b[0m \u001b[1m1s\u001b[0m 2ms/step - accuracy: 0.9525 - loss: 0.1742\n",
      "Epoch 12/20\n",
      "\u001b[1m381/381\u001b[0m \u001b[32m━━━━━━━━━━━━━━━━━━━━\u001b[0m\u001b[37m\u001b[0m \u001b[1m1s\u001b[0m 2ms/step - accuracy: 0.9404 - loss: 0.1690\n",
      "Epoch 13/20\n",
      "\u001b[1m381/381\u001b[0m \u001b[32m━━━━━━━━━━━━━━━━━━━━\u001b[0m\u001b[37m\u001b[0m \u001b[1m1s\u001b[0m 2ms/step - accuracy: 0.9394 - loss: 0.1879\n",
      "Epoch 14/20\n",
      "\u001b[1m381/381\u001b[0m \u001b[32m━━━━━━━━━━━━━━━━━━━━\u001b[0m\u001b[37m\u001b[0m \u001b[1m1s\u001b[0m 2ms/step - accuracy: 0.9629 - loss: 0.1090\n",
      "Epoch 15/20\n",
      "\u001b[1m381/381\u001b[0m \u001b[32m━━━━━━━━━━━━━━━━━━━━\u001b[0m\u001b[37m\u001b[0m \u001b[1m0s\u001b[0m 1ms/step - accuracy: 0.9712 - loss: 0.0909\n",
      "Epoch 16/20\n",
      "\u001b[1m381/381\u001b[0m \u001b[32m━━━━━━━━━━━━━━━━━━━━\u001b[0m\u001b[37m\u001b[0m \u001b[1m0s\u001b[0m 1ms/step - accuracy: 0.9661 - loss: 0.0999\n",
      "Epoch 17/20\n",
      "\u001b[1m381/381\u001b[0m \u001b[32m━━━━━━━━━━━━━━━━━━━━\u001b[0m\u001b[37m\u001b[0m \u001b[1m0s\u001b[0m 1ms/step - accuracy: 0.9576 - loss: 0.1233\n",
      "Epoch 18/20\n",
      "\u001b[1m381/381\u001b[0m \u001b[32m━━━━━━━━━━━━━━━━━━━━\u001b[0m\u001b[37m\u001b[0m \u001b[1m0s\u001b[0m 1ms/step - accuracy: 0.9755 - loss: 0.0841\n",
      "Epoch 19/20\n",
      "\u001b[1m381/381\u001b[0m \u001b[32m━━━━━━━━━━━━━━━━━━━━\u001b[0m\u001b[37m\u001b[0m \u001b[1m1s\u001b[0m 1ms/step - accuracy: 0.9766 - loss: 0.0956\n",
      "Epoch 20/20\n",
      "\u001b[1m381/381\u001b[0m \u001b[32m━━━━━━━━━━━━━━━━━━━━\u001b[0m\u001b[37m\u001b[0m \u001b[1m0s\u001b[0m 1ms/step - accuracy: 0.9718 - loss: 0.0930\n"
     ]
    }
   ],
   "source": [
    "def create_model(optimizer='adam', init='glorot_uniform'):\n",
    "    model = Sequential()\n",
    "    model.add(Dense(16, input_shape=(753,), activation='relu', kernel_initializer=init))\n",
    "    model.add(Dense(32, activation='relu', kernel_initializer=init))\n",
    "    model.add(Dense(32, activation='relu', kernel_initializer=init))\n",
    "    model.add(Dense(2, activation='softmax'))\n",
    "    model.compile(optimizer=optimizer, loss='sparse_categorical_crossentropy', metrics=['accuracy'])\n",
    "    return model\n",
    "\n",
    "model = KerasClassifier(model=create_model, optimizer='adam', init='glorot_uniform', verbose=0)\n",
    "\n",
    "batch_size = [8, 16, 32]\n",
    "epochs = [10, 20]\n",
    "optimizer = ['SGD', 'adam']\n",
    "init = ['glorot_uniform', 'normal', 'uniform']\n",
    "\n",
    "param_grid = dict(batch_size=batch_size, epochs=epochs, optimizer=optimizer, init=init)\n",
    "\n",
    "grid = GridSearchCV(estimator=model, param_grid=param_grid, n_jobs=-1, cv=3)\n",
    "\n",
    "grid_result = grid.fit(X_train_Ann, y_train_Ann)\n",
    "\n",
    "print(f\"Best: {grid_result.best_score_} using {grid_result.best_params_}\")\n",
    "means = grid_result.cv_results_['mean_test_score']\n",
    "stds = grid_result.cv_results_['std_test_score']\n",
    "params = grid_result.cv_results_['params']\n",
    "for mean, std, param in zip(means, stds, params):\n",
    "    print(f\"{mean} ({std}) with: {param}\")\n",
    "\n",
    "best_model = grid_result.best_estimator_.model_\n",
    "\n",
    "best_model.fit(X_train_Ann, y_train_Ann, epochs=grid_result.best_params_['epochs'], batch_size=grid_result.best_params_['batch_size'])\n",
    "\n",
    "best_model.save('model_Ann.keras')"
   ]
  },
  {
   "cell_type": "code",
   "execution_count": 47,
   "metadata": {},
   "outputs": [
    {
     "name": "stdout",
     "output_type": "stream",
     "text": [
      "\u001b[1m26/26\u001b[0m \u001b[32m━━━━━━━━━━━━━━━━━━━━\u001b[0m\u001b[37m\u001b[0m \u001b[1m0s\u001b[0m 2ms/step\n",
      "Classification Report:\n",
      "               precision    recall  f1-score   support\n",
      "\n",
      "           0       0.78      0.92      0.84       152\n",
      "           1       0.98      0.94      0.96       650\n",
      "\n",
      "    accuracy                           0.94       802\n",
      "   macro avg       0.88      0.93      0.90       802\n",
      "weighted avg       0.94      0.94      0.94       802\n",
      "\n",
      "________________________________________________________\n",
      "Confusion matrix: \n",
      "                  Predicted: Spam  Predicted: Not Spam\n",
      "Actual: Spam                  140                   12\n",
      "Actual: Not Spam               40                  610\n"
     ]
    }
   ],
   "source": [
    "y_pred_prob_Ann = best_model.predict(X_test_Ann)\n",
    "y_pred_Ann = np.argmax(y_pred_prob_Ann, axis=1)\n",
    "\n",
    "report_ann = classification_report(y_test_Ann, y_pred_Ann)\n",
    "print(f\"Classification Report:\\n\", report_ann)\n",
    "\n",
    "cm = pd.DataFrame(confusion_matrix(y_test, y_pred_Ann), ['Actual: Spam', 'Actual: Not Spam'], ['Predicted: Spam', 'Predicted: Not Spam'])\n",
    "\n",
    "print('________________________________________________________')\n",
    "print('Confusion matrix: ')\n",
    "print(cm)"
   ]
  },
  {
   "cell_type": "code",
   "execution_count": 48,
   "metadata": {},
   "outputs": [
    {
     "name": "stdout",
     "output_type": "stream",
     "text": [
      "\u001b[1m26/26\u001b[0m \u001b[32m━━━━━━━━━━━━━━━━━━━━\u001b[0m\u001b[37m\u001b[0m \u001b[1m0s\u001b[0m 860us/step - accuracy: 0.9111 - loss: 0.3581\n",
      "Artificial Neural Network Accuracy: 93.5162\n"
     ]
    }
   ],
   "source": [
    "results_ann = best_model.evaluate(X_test_Ann, y_test_Ann)\n",
    "accuracy_ann = results_ann[-1]\n",
    "print(f\"Artificial Neural Network Accuracy: {accuracy_ann * 100:.4f}\")"
   ]
  },
  {
   "cell_type": "markdown",
   "metadata": {},
   "source": [
    "## Random Forest"
   ]
  },
  {
   "cell_type": "code",
   "execution_count": 49,
   "metadata": {},
   "outputs": [],
   "source": [
    "from sklearn.ensemble import RandomForestClassifier\n",
    "from sklearn.model_selection import RandomizedSearchCV\n",
    "from sklearn.metrics import accuracy_score"
   ]
  },
  {
   "cell_type": "code",
   "execution_count": 50,
   "metadata": {},
   "outputs": [],
   "source": [
    "X_T_Rf = X_T\n",
    "X_test_Rf = X_test\n",
    "y_test_Rf = y_test\n",
    "X_train_Rf = X_train\n",
    "X_val_Rf = X_val\n",
    "y_train_Rf = y_train\n",
    "y_val_Rf = y_val\n",
    "y_T_Rf = y_T"
   ]
  },
  {
   "cell_type": "code",
   "execution_count": 51,
   "metadata": {},
   "outputs": [],
   "source": [
    "# from sklearn.ensemble import RandomForestClassifier\n",
    "# from sklearn.model_selection import GridSearchCV\n",
    "# from sklearn.metrics import accuracy_score\n",
    "# import joblib\n",
    "\n",
    "# X_T_Rf = X_T\n",
    "# X_test_Rf = X_test\n",
    "# y_test_Rf = y_test\n",
    "# X_train_Rf = X_train\n",
    "# X_val_Rf = X_val\n",
    "# y_train_Rf = y_train\n",
    "# y_val_Rf = y_val\n",
    "# y_T_Rf = y_T\n",
    "\n",
    "# param_grid = {\n",
    "#     'n_estimators': [50, 100, 200],\n",
    "#     'max_features': ['auto', 'sqrt', 'log2'],\n",
    "#     'max_depth': [None, 10, 20, 30],\n",
    "#     'min_samples_split': [2, 5, 10],\n",
    "#     'min_samples_leaf': [1, 2, 4],\n",
    "#     'bootstrap': [True, False]\n",
    "# }\n",
    "\n",
    "# rf_classifier = RandomForestClassifier(random_state=42)\n",
    "\n",
    "# grid_search = GridSearchCV(estimator=rf_classifier, param_grid=param_grid, \n",
    "#                            cv=3, verbose=2)\n",
    "\n",
    "# grid_search.fit(X_train_Rf, y_train_Rf)\n",
    "\n",
    "# print(f\"Best: {grid_search.best_score_} using {grid_search.best_params_}\")\n",
    "\n",
    "# best_rf_model = grid_search.best_estimator_\n",
    "\n",
    "# if X_test_Rf is not None and y_test_Rf is not None:\n",
    "#     y_pred = best_rf_model.predict(X_test_Rf)\n",
    "#     test_accuracy = accuracy_score(y_test_Rf, y_pred)\n",
    "#     print(f\"Test Accuracy: {test_accuracy}\")\n",
    "\n",
    "# joblib.dump(best_rf_model, 'model_Rf.pkl')"
   ]
  },
  {
   "cell_type": "code",
   "execution_count": 52,
   "metadata": {},
   "outputs": [
    {
     "name": "stdout",
     "output_type": "stream",
     "text": [
      "Fitting 3 folds for each of 100 candidates, totalling 300 fits\n",
      "[CV] END bootstrap=False, max_depth=None, max_features=sqrt, min_samples_leaf=4, min_samples_split=2, n_estimators=200; total time=  20.2s\n",
      "[CV] END bootstrap=False, max_depth=None, max_features=sqrt, min_samples_leaf=4, min_samples_split=2, n_estimators=200; total time=  18.9s\n",
      "[CV] END bootstrap=False, max_depth=None, max_features=sqrt, min_samples_leaf=4, min_samples_split=2, n_estimators=200; total time=  16.8s\n",
      "[CV] END bootstrap=False, max_depth=10, max_features=auto, min_samples_leaf=3, min_samples_split=8, n_estimators=200; total time=   0.0s\n",
      "[CV] END bootstrap=False, max_depth=10, max_features=auto, min_samples_leaf=3, min_samples_split=8, n_estimators=200; total time=   0.0s\n",
      "[CV] END bootstrap=False, max_depth=10, max_features=auto, min_samples_leaf=3, min_samples_split=8, n_estimators=200; total time=   0.0s\n",
      "[CV] END bootstrap=True, max_depth=30, max_features=log2, min_samples_leaf=4, min_samples_split=5, n_estimators=100; total time=   1.8s\n",
      "[CV] END bootstrap=True, max_depth=30, max_features=log2, min_samples_leaf=4, min_samples_split=5, n_estimators=100; total time=   1.7s\n",
      "[CV] END bootstrap=True, max_depth=30, max_features=log2, min_samples_leaf=4, min_samples_split=5, n_estimators=100; total time=   1.8s\n",
      "[CV] END bootstrap=True, max_depth=None, max_features=sqrt, min_samples_leaf=4, min_samples_split=9, n_estimators=100; total time=   6.6s\n",
      "[CV] END bootstrap=True, max_depth=None, max_features=sqrt, min_samples_leaf=4, min_samples_split=9, n_estimators=100; total time=   6.9s\n",
      "[CV] END bootstrap=True, max_depth=None, max_features=sqrt, min_samples_leaf=4, min_samples_split=9, n_estimators=100; total time=   7.6s\n",
      "[CV] END bootstrap=False, max_depth=None, max_features=sqrt, min_samples_leaf=1, min_samples_split=2, n_estimators=150; total time=  19.8s\n",
      "[CV] END bootstrap=False, max_depth=None, max_features=sqrt, min_samples_leaf=1, min_samples_split=2, n_estimators=150; total time=  19.5s\n",
      "[CV] END bootstrap=False, max_depth=None, max_features=sqrt, min_samples_leaf=1, min_samples_split=2, n_estimators=150; total time=  15.9s\n",
      "[CV] END bootstrap=False, max_depth=None, max_features=auto, min_samples_leaf=3, min_samples_split=8, n_estimators=100; total time=   0.0s\n",
      "[CV] END bootstrap=False, max_depth=None, max_features=auto, min_samples_leaf=3, min_samples_split=8, n_estimators=100; total time=   0.0s\n",
      "[CV] END bootstrap=False, max_depth=None, max_features=auto, min_samples_leaf=3, min_samples_split=8, n_estimators=100; total time=   0.0s\n",
      "[CV] END bootstrap=True, max_depth=50, max_features=sqrt, min_samples_leaf=4, min_samples_split=4, n_estimators=50; total time=   3.9s\n",
      "[CV] END bootstrap=True, max_depth=50, max_features=sqrt, min_samples_leaf=4, min_samples_split=4, n_estimators=50; total time=   3.5s\n",
      "[CV] END bootstrap=True, max_depth=50, max_features=sqrt, min_samples_leaf=4, min_samples_split=4, n_estimators=50; total time=   3.1s\n",
      "[CV] END bootstrap=True, max_depth=20, max_features=sqrt, min_samples_leaf=3, min_samples_split=3, n_estimators=150; total time=   8.0s\n",
      "[CV] END bootstrap=True, max_depth=20, max_features=sqrt, min_samples_leaf=3, min_samples_split=3, n_estimators=150; total time=  10.0s\n",
      "[CV] END bootstrap=True, max_depth=20, max_features=sqrt, min_samples_leaf=3, min_samples_split=3, n_estimators=150; total time=   8.9s\n",
      "[CV] END bootstrap=False, max_depth=None, max_features=log2, min_samples_leaf=3, min_samples_split=8, n_estimators=50; total time=   1.6s\n",
      "[CV] END bootstrap=False, max_depth=None, max_features=log2, min_samples_leaf=3, min_samples_split=8, n_estimators=50; total time=   1.6s\n",
      "[CV] END bootstrap=False, max_depth=None, max_features=log2, min_samples_leaf=3, min_samples_split=8, n_estimators=50; total time=   1.4s\n",
      "[CV] END bootstrap=True, max_depth=40, max_features=auto, min_samples_leaf=3, min_samples_split=3, n_estimators=250; total time=   0.0s\n",
      "[CV] END bootstrap=True, max_depth=40, max_features=auto, min_samples_leaf=3, min_samples_split=3, n_estimators=250; total time=   0.0s\n",
      "[CV] END bootstrap=True, max_depth=40, max_features=auto, min_samples_leaf=3, min_samples_split=3, n_estimators=250; total time=   0.0s\n",
      "[CV] END bootstrap=False, max_depth=None, max_features=log2, min_samples_leaf=3, min_samples_split=2, n_estimators=200; total time=   6.7s\n",
      "[CV] END bootstrap=False, max_depth=None, max_features=log2, min_samples_leaf=3, min_samples_split=2, n_estimators=200; total time=   7.1s\n",
      "[CV] END bootstrap=False, max_depth=None, max_features=log2, min_samples_leaf=3, min_samples_split=2, n_estimators=200; total time=   6.9s\n",
      "[CV] END bootstrap=True, max_depth=10, max_features=log2, min_samples_leaf=4, min_samples_split=4, n_estimators=150; total time=   2.9s\n",
      "[CV] END bootstrap=True, max_depth=10, max_features=log2, min_samples_leaf=4, min_samples_split=4, n_estimators=150; total time=   2.5s\n",
      "[CV] END bootstrap=True, max_depth=10, max_features=log2, min_samples_leaf=4, min_samples_split=4, n_estimators=150; total time=   2.8s\n",
      "[CV] END bootstrap=True, max_depth=None, max_features=log2, min_samples_leaf=1, min_samples_split=6, n_estimators=100; total time=   5.9s\n",
      "[CV] END bootstrap=True, max_depth=None, max_features=log2, min_samples_leaf=1, min_samples_split=6, n_estimators=100; total time=   2.9s\n",
      "[CV] END bootstrap=True, max_depth=None, max_features=log2, min_samples_leaf=1, min_samples_split=6, n_estimators=100; total time=   2.3s\n",
      "[CV] END bootstrap=True, max_depth=10, max_features=log2, min_samples_leaf=2, min_samples_split=4, n_estimators=150; total time=   2.3s\n",
      "[CV] END bootstrap=True, max_depth=10, max_features=log2, min_samples_leaf=2, min_samples_split=4, n_estimators=150; total time=   2.4s\n",
      "[CV] END bootstrap=True, max_depth=10, max_features=log2, min_samples_leaf=2, min_samples_split=4, n_estimators=150; total time=   2.7s\n",
      "[CV] END bootstrap=False, max_depth=30, max_features=log2, min_samples_leaf=4, min_samples_split=9, n_estimators=250; total time=   8.2s\n",
      "[CV] END bootstrap=False, max_depth=30, max_features=log2, min_samples_leaf=4, min_samples_split=9, n_estimators=250; total time=   8.0s\n",
      "[CV] END bootstrap=False, max_depth=30, max_features=log2, min_samples_leaf=4, min_samples_split=9, n_estimators=250; total time=   7.4s\n",
      "[CV] END bootstrap=False, max_depth=10, max_features=sqrt, min_samples_leaf=3, min_samples_split=2, n_estimators=250; total time=  13.3s\n",
      "[CV] END bootstrap=False, max_depth=10, max_features=sqrt, min_samples_leaf=3, min_samples_split=2, n_estimators=250; total time=  15.3s\n",
      "[CV] END bootstrap=False, max_depth=10, max_features=sqrt, min_samples_leaf=3, min_samples_split=2, n_estimators=250; total time=  13.8s\n",
      "[CV] END bootstrap=True, max_depth=20, max_features=log2, min_samples_leaf=4, min_samples_split=7, n_estimators=50; total time=   0.8s\n",
      "[CV] END bootstrap=True, max_depth=20, max_features=log2, min_samples_leaf=4, min_samples_split=7, n_estimators=50; total time=   0.9s\n",
      "[CV] END bootstrap=True, max_depth=20, max_features=log2, min_samples_leaf=4, min_samples_split=7, n_estimators=50; total time=   1.0s\n",
      "[CV] END bootstrap=False, max_depth=10, max_features=log2, min_samples_leaf=2, min_samples_split=3, n_estimators=50; total time=   0.9s\n",
      "[CV] END bootstrap=False, max_depth=10, max_features=log2, min_samples_leaf=2, min_samples_split=3, n_estimators=50; total time=   0.8s\n",
      "[CV] END bootstrap=False, max_depth=10, max_features=log2, min_samples_leaf=2, min_samples_split=3, n_estimators=50; total time=   0.7s\n",
      "[CV] END bootstrap=False, max_depth=None, max_features=sqrt, min_samples_leaf=1, min_samples_split=4, n_estimators=250; total time=  43.2s\n",
      "[CV] END bootstrap=False, max_depth=None, max_features=sqrt, min_samples_leaf=1, min_samples_split=4, n_estimators=250; total time=  37.7s\n",
      "[CV] END bootstrap=False, max_depth=None, max_features=sqrt, min_samples_leaf=1, min_samples_split=4, n_estimators=250; total time=  30.6s\n",
      "[CV] END bootstrap=False, max_depth=30, max_features=log2, min_samples_leaf=3, min_samples_split=7, n_estimators=50; total time=   1.5s\n",
      "[CV] END bootstrap=False, max_depth=30, max_features=log2, min_samples_leaf=3, min_samples_split=7, n_estimators=50; total time=   1.8s\n",
      "[CV] END bootstrap=False, max_depth=30, max_features=log2, min_samples_leaf=3, min_samples_split=7, n_estimators=50; total time=   1.5s\n",
      "[CV] END bootstrap=False, max_depth=30, max_features=log2, min_samples_leaf=4, min_samples_split=7, n_estimators=250; total time=   7.6s\n",
      "[CV] END bootstrap=False, max_depth=30, max_features=log2, min_samples_leaf=4, min_samples_split=7, n_estimators=250; total time=   7.6s\n",
      "[CV] END bootstrap=False, max_depth=30, max_features=log2, min_samples_leaf=4, min_samples_split=7, n_estimators=250; total time=   7.4s\n",
      "[CV] END bootstrap=False, max_depth=50, max_features=auto, min_samples_leaf=1, min_samples_split=8, n_estimators=150; total time=   0.0s\n",
      "[CV] END bootstrap=False, max_depth=50, max_features=auto, min_samples_leaf=1, min_samples_split=8, n_estimators=150; total time=   0.0s\n",
      "[CV] END bootstrap=False, max_depth=50, max_features=auto, min_samples_leaf=1, min_samples_split=8, n_estimators=150; total time=   0.0s\n",
      "[CV] END bootstrap=True, max_depth=40, max_features=sqrt, min_samples_leaf=3, min_samples_split=5, n_estimators=100; total time=   7.8s\n",
      "[CV] END bootstrap=True, max_depth=40, max_features=sqrt, min_samples_leaf=3, min_samples_split=5, n_estimators=100; total time=   7.8s\n",
      "[CV] END bootstrap=True, max_depth=40, max_features=sqrt, min_samples_leaf=3, min_samples_split=5, n_estimators=100; total time=   6.7s\n",
      "[CV] END bootstrap=True, max_depth=30, max_features=log2, min_samples_leaf=1, min_samples_split=6, n_estimators=150; total time=   3.9s\n",
      "[CV] END bootstrap=True, max_depth=30, max_features=log2, min_samples_leaf=1, min_samples_split=6, n_estimators=150; total time=   3.5s\n",
      "[CV] END bootstrap=True, max_depth=30, max_features=log2, min_samples_leaf=1, min_samples_split=6, n_estimators=150; total time=   3.5s\n",
      "[CV] END bootstrap=False, max_depth=30, max_features=log2, min_samples_leaf=2, min_samples_split=2, n_estimators=50; total time=   1.4s\n",
      "[CV] END bootstrap=False, max_depth=30, max_features=log2, min_samples_leaf=2, min_samples_split=2, n_estimators=50; total time=   1.6s\n",
      "[CV] END bootstrap=False, max_depth=30, max_features=log2, min_samples_leaf=2, min_samples_split=2, n_estimators=50; total time=   1.3s\n",
      "[CV] END bootstrap=True, max_depth=30, max_features=log2, min_samples_leaf=1, min_samples_split=10, n_estimators=250; total time=   5.8s\n",
      "[CV] END bootstrap=True, max_depth=30, max_features=log2, min_samples_leaf=1, min_samples_split=10, n_estimators=250; total time=   6.7s\n",
      "[CV] END bootstrap=True, max_depth=30, max_features=log2, min_samples_leaf=1, min_samples_split=10, n_estimators=250; total time=   5.3s\n",
      "[CV] END bootstrap=False, max_depth=10, max_features=auto, min_samples_leaf=4, min_samples_split=5, n_estimators=100; total time=   0.0s\n",
      "[CV] END bootstrap=False, max_depth=10, max_features=auto, min_samples_leaf=4, min_samples_split=5, n_estimators=100; total time=   0.0s\n",
      "[CV] END bootstrap=False, max_depth=10, max_features=auto, min_samples_leaf=4, min_samples_split=5, n_estimators=100; total time=   0.0s\n",
      "[CV] END bootstrap=False, max_depth=10, max_features=log2, min_samples_leaf=1, min_samples_split=8, n_estimators=250; total time=   4.6s\n",
      "[CV] END bootstrap=False, max_depth=10, max_features=log2, min_samples_leaf=1, min_samples_split=8, n_estimators=250; total time=   4.7s\n",
      "[CV] END bootstrap=False, max_depth=10, max_features=log2, min_samples_leaf=1, min_samples_split=8, n_estimators=250; total time=   4.1s\n",
      "[CV] END bootstrap=True, max_depth=20, max_features=auto, min_samples_leaf=2, min_samples_split=6, n_estimators=250; total time=   0.0s\n",
      "[CV] END bootstrap=True, max_depth=20, max_features=auto, min_samples_leaf=2, min_samples_split=6, n_estimators=250; total time=   0.0s\n",
      "[CV] END bootstrap=True, max_depth=20, max_features=auto, min_samples_leaf=2, min_samples_split=6, n_estimators=250; total time=   0.0s\n",
      "[CV] END bootstrap=False, max_depth=30, max_features=auto, min_samples_leaf=3, min_samples_split=6, n_estimators=50; total time=   0.0s\n",
      "[CV] END bootstrap=False, max_depth=30, max_features=auto, min_samples_leaf=3, min_samples_split=6, n_estimators=50; total time=   0.0s\n",
      "[CV] END bootstrap=False, max_depth=30, max_features=auto, min_samples_leaf=3, min_samples_split=6, n_estimators=50; total time=   0.0s\n",
      "[CV] END bootstrap=False, max_depth=50, max_features=sqrt, min_samples_leaf=4, min_samples_split=8, n_estimators=50; total time=   5.0s\n",
      "[CV] END bootstrap=False, max_depth=50, max_features=sqrt, min_samples_leaf=4, min_samples_split=8, n_estimators=50; total time=   4.9s\n",
      "[CV] END bootstrap=False, max_depth=50, max_features=sqrt, min_samples_leaf=4, min_samples_split=8, n_estimators=50; total time=   4.5s\n",
      "[CV] END bootstrap=True, max_depth=20, max_features=sqrt, min_samples_leaf=2, min_samples_split=8, n_estimators=50; total time=   2.8s\n",
      "[CV] END bootstrap=True, max_depth=20, max_features=sqrt, min_samples_leaf=2, min_samples_split=8, n_estimators=50; total time=   2.8s\n",
      "[CV] END bootstrap=True, max_depth=20, max_features=sqrt, min_samples_leaf=2, min_samples_split=8, n_estimators=50; total time=   2.6s\n",
      "[CV] END bootstrap=True, max_depth=10, max_features=log2, min_samples_leaf=4, min_samples_split=4, n_estimators=250; total time=   3.1s\n",
      "[CV] END bootstrap=True, max_depth=10, max_features=log2, min_samples_leaf=4, min_samples_split=4, n_estimators=250; total time=   3.0s\n",
      "[CV] END bootstrap=True, max_depth=10, max_features=log2, min_samples_leaf=4, min_samples_split=4, n_estimators=250; total time=   2.8s\n",
      "[CV] END bootstrap=True, max_depth=20, max_features=auto, min_samples_leaf=4, min_samples_split=3, n_estimators=100; total time=   0.0s\n",
      "[CV] END bootstrap=True, max_depth=20, max_features=auto, min_samples_leaf=4, min_samples_split=3, n_estimators=100; total time=   0.0s\n",
      "[CV] END bootstrap=True, max_depth=20, max_features=auto, min_samples_leaf=4, min_samples_split=3, n_estimators=100; total time=   0.0s\n",
      "[CV] END bootstrap=True, max_depth=None, max_features=log2, min_samples_leaf=3, min_samples_split=5, n_estimators=250; total time=   4.9s\n",
      "[CV] END bootstrap=True, max_depth=None, max_features=log2, min_samples_leaf=3, min_samples_split=5, n_estimators=250; total time=   5.3s\n",
      "[CV] END bootstrap=True, max_depth=None, max_features=log2, min_samples_leaf=3, min_samples_split=5, n_estimators=250; total time=   4.8s\n",
      "[CV] END bootstrap=True, max_depth=20, max_features=log2, min_samples_leaf=4, min_samples_split=9, n_estimators=150; total time=   2.6s\n",
      "[CV] END bootstrap=True, max_depth=20, max_features=log2, min_samples_leaf=4, min_samples_split=9, n_estimators=150; total time=   2.6s\n",
      "[CV] END bootstrap=True, max_depth=20, max_features=log2, min_samples_leaf=4, min_samples_split=9, n_estimators=150; total time=   2.7s\n",
      "[CV] END bootstrap=False, max_depth=40, max_features=auto, min_samples_leaf=4, min_samples_split=5, n_estimators=200; total time=   0.0s\n",
      "[CV] END bootstrap=False, max_depth=40, max_features=auto, min_samples_leaf=4, min_samples_split=5, n_estimators=200; total time=   0.0s\n",
      "[CV] END bootstrap=False, max_depth=40, max_features=auto, min_samples_leaf=4, min_samples_split=5, n_estimators=200; total time=   0.0s\n",
      "[CV] END bootstrap=False, max_depth=None, max_features=log2, min_samples_leaf=4, min_samples_split=9, n_estimators=50; total time=   1.4s\n",
      "[CV] END bootstrap=False, max_depth=None, max_features=log2, min_samples_leaf=4, min_samples_split=9, n_estimators=50; total time=   1.3s\n",
      "[CV] END bootstrap=False, max_depth=None, max_features=log2, min_samples_leaf=4, min_samples_split=9, n_estimators=50; total time=   1.3s\n",
      "[CV] END bootstrap=False, max_depth=None, max_features=auto, min_samples_leaf=2, min_samples_split=8, n_estimators=250; total time=   0.0s\n",
      "[CV] END bootstrap=False, max_depth=None, max_features=auto, min_samples_leaf=2, min_samples_split=8, n_estimators=250; total time=   0.0s\n",
      "[CV] END bootstrap=False, max_depth=None, max_features=auto, min_samples_leaf=2, min_samples_split=8, n_estimators=250; total time=   0.0s\n",
      "[CV] END bootstrap=False, max_depth=40, max_features=sqrt, min_samples_leaf=4, min_samples_split=8, n_estimators=200; total time=  20.7s\n",
      "[CV] END bootstrap=False, max_depth=40, max_features=sqrt, min_samples_leaf=4, min_samples_split=8, n_estimators=200; total time=  21.6s\n",
      "[CV] END bootstrap=False, max_depth=40, max_features=sqrt, min_samples_leaf=4, min_samples_split=8, n_estimators=200; total time=  18.6s\n",
      "[CV] END bootstrap=False, max_depth=10, max_features=auto, min_samples_leaf=4, min_samples_split=6, n_estimators=200; total time=   0.0s\n",
      "[CV] END bootstrap=False, max_depth=10, max_features=auto, min_samples_leaf=4, min_samples_split=6, n_estimators=200; total time=   0.0s\n",
      "[CV] END bootstrap=False, max_depth=10, max_features=auto, min_samples_leaf=4, min_samples_split=6, n_estimators=200; total time=   0.0s\n",
      "[CV] END bootstrap=False, max_depth=None, max_features=auto, min_samples_leaf=4, min_samples_split=9, n_estimators=200; total time=   0.0s\n",
      "[CV] END bootstrap=False, max_depth=None, max_features=auto, min_samples_leaf=4, min_samples_split=9, n_estimators=200; total time=   0.0s\n",
      "[CV] END bootstrap=False, max_depth=None, max_features=auto, min_samples_leaf=4, min_samples_split=9, n_estimators=200; total time=   0.0s\n",
      "[CV] END bootstrap=True, max_depth=None, max_features=auto, min_samples_leaf=1, min_samples_split=8, n_estimators=100; total time=   0.0s\n",
      "[CV] END bootstrap=True, max_depth=None, max_features=auto, min_samples_leaf=1, min_samples_split=8, n_estimators=100; total time=   0.0s\n",
      "[CV] END bootstrap=True, max_depth=None, max_features=auto, min_samples_leaf=1, min_samples_split=8, n_estimators=100; total time=   0.0s\n",
      "[CV] END bootstrap=True, max_depth=10, max_features=log2, min_samples_leaf=1, min_samples_split=8, n_estimators=150; total time=   1.7s\n",
      "[CV] END bootstrap=True, max_depth=10, max_features=log2, min_samples_leaf=1, min_samples_split=8, n_estimators=150; total time=   2.3s\n",
      "[CV] END bootstrap=True, max_depth=10, max_features=log2, min_samples_leaf=1, min_samples_split=8, n_estimators=150; total time=   1.7s\n",
      "[CV] END bootstrap=True, max_depth=50, max_features=log2, min_samples_leaf=3, min_samples_split=5, n_estimators=100; total time=   1.9s\n",
      "[CV] END bootstrap=True, max_depth=50, max_features=log2, min_samples_leaf=3, min_samples_split=5, n_estimators=100; total time=   1.8s\n",
      "[CV] END bootstrap=True, max_depth=50, max_features=log2, min_samples_leaf=3, min_samples_split=5, n_estimators=100; total time=   1.8s\n",
      "[CV] END bootstrap=True, max_depth=40, max_features=sqrt, min_samples_leaf=3, min_samples_split=5, n_estimators=150; total time=  10.8s\n",
      "[CV] END bootstrap=True, max_depth=40, max_features=sqrt, min_samples_leaf=3, min_samples_split=5, n_estimators=150; total time=  10.7s\n",
      "[CV] END bootstrap=True, max_depth=40, max_features=sqrt, min_samples_leaf=3, min_samples_split=5, n_estimators=150; total time=   9.5s\n",
      "[CV] END bootstrap=False, max_depth=40, max_features=sqrt, min_samples_leaf=2, min_samples_split=5, n_estimators=100; total time=  11.3s\n",
      "[CV] END bootstrap=False, max_depth=40, max_features=sqrt, min_samples_leaf=2, min_samples_split=5, n_estimators=100; total time=  11.1s\n",
      "[CV] END bootstrap=False, max_depth=40, max_features=sqrt, min_samples_leaf=2, min_samples_split=5, n_estimators=100; total time=   9.3s\n",
      "[CV] END bootstrap=True, max_depth=30, max_features=auto, min_samples_leaf=4, min_samples_split=3, n_estimators=50; total time=   0.0s\n",
      "[CV] END bootstrap=True, max_depth=30, max_features=auto, min_samples_leaf=4, min_samples_split=3, n_estimators=50; total time=   0.0s\n",
      "[CV] END bootstrap=True, max_depth=30, max_features=auto, min_samples_leaf=4, min_samples_split=3, n_estimators=50; total time=   0.0s\n",
      "[CV] END bootstrap=True, max_depth=None, max_features=sqrt, min_samples_leaf=4, min_samples_split=8, n_estimators=100; total time=   6.2s\n",
      "[CV] END bootstrap=True, max_depth=None, max_features=sqrt, min_samples_leaf=4, min_samples_split=8, n_estimators=100; total time=   6.2s\n",
      "[CV] END bootstrap=True, max_depth=None, max_features=sqrt, min_samples_leaf=4, min_samples_split=8, n_estimators=100; total time=   5.7s\n",
      "[CV] END bootstrap=False, max_depth=30, max_features=auto, min_samples_leaf=4, min_samples_split=3, n_estimators=200; total time=   0.0s\n",
      "[CV] END bootstrap=False, max_depth=30, max_features=auto, min_samples_leaf=4, min_samples_split=3, n_estimators=200; total time=   0.0s\n",
      "[CV] END bootstrap=False, max_depth=30, max_features=auto, min_samples_leaf=4, min_samples_split=3, n_estimators=200; total time=   0.0s\n",
      "[CV] END bootstrap=True, max_depth=20, max_features=log2, min_samples_leaf=4, min_samples_split=8, n_estimators=200; total time=   3.3s\n",
      "[CV] END bootstrap=True, max_depth=20, max_features=log2, min_samples_leaf=4, min_samples_split=8, n_estimators=200; total time=   3.2s\n",
      "[CV] END bootstrap=True, max_depth=20, max_features=log2, min_samples_leaf=4, min_samples_split=8, n_estimators=200; total time=   3.2s\n",
      "[CV] END bootstrap=False, max_depth=50, max_features=log2, min_samples_leaf=4, min_samples_split=3, n_estimators=250; total time=   6.8s\n",
      "[CV] END bootstrap=False, max_depth=50, max_features=log2, min_samples_leaf=4, min_samples_split=3, n_estimators=250; total time=   6.2s\n",
      "[CV] END bootstrap=False, max_depth=50, max_features=log2, min_samples_leaf=4, min_samples_split=3, n_estimators=250; total time=   6.1s\n",
      "[CV] END bootstrap=True, max_depth=None, max_features=auto, min_samples_leaf=3, min_samples_split=10, n_estimators=150; total time=   0.0s\n",
      "[CV] END bootstrap=True, max_depth=None, max_features=auto, min_samples_leaf=3, min_samples_split=10, n_estimators=150; total time=   0.0s\n",
      "[CV] END bootstrap=True, max_depth=None, max_features=auto, min_samples_leaf=3, min_samples_split=10, n_estimators=150; total time=   0.0s\n",
      "[CV] END bootstrap=False, max_depth=20, max_features=log2, min_samples_leaf=1, min_samples_split=8, n_estimators=150; total time=   3.6s\n",
      "[CV] END bootstrap=False, max_depth=20, max_features=log2, min_samples_leaf=1, min_samples_split=8, n_estimators=150; total time=   3.6s\n",
      "[CV] END bootstrap=False, max_depth=20, max_features=log2, min_samples_leaf=1, min_samples_split=8, n_estimators=150; total time=   3.4s\n",
      "[CV] END bootstrap=False, max_depth=None, max_features=auto, min_samples_leaf=3, min_samples_split=5, n_estimators=100; total time=   0.0s\n",
      "[CV] END bootstrap=False, max_depth=None, max_features=auto, min_samples_leaf=3, min_samples_split=5, n_estimators=100; total time=   0.0s\n",
      "[CV] END bootstrap=False, max_depth=None, max_features=auto, min_samples_leaf=3, min_samples_split=5, n_estimators=100; total time=   0.0s\n",
      "[CV] END bootstrap=False, max_depth=20, max_features=log2, min_samples_leaf=3, min_samples_split=6, n_estimators=50; total time=   1.1s\n",
      "[CV] END bootstrap=False, max_depth=20, max_features=log2, min_samples_leaf=3, min_samples_split=6, n_estimators=50; total time=   1.1s\n",
      "[CV] END bootstrap=False, max_depth=20, max_features=log2, min_samples_leaf=3, min_samples_split=6, n_estimators=50; total time=   1.0s\n",
      "[CV] END bootstrap=True, max_depth=30, max_features=auto, min_samples_leaf=3, min_samples_split=7, n_estimators=150; total time=   0.0s\n",
      "[CV] END bootstrap=True, max_depth=30, max_features=auto, min_samples_leaf=3, min_samples_split=7, n_estimators=150; total time=   0.0s\n",
      "[CV] END bootstrap=True, max_depth=30, max_features=auto, min_samples_leaf=3, min_samples_split=7, n_estimators=150; total time=   0.0s\n",
      "[CV] END bootstrap=False, max_depth=None, max_features=sqrt, min_samples_leaf=4, min_samples_split=8, n_estimators=50; total time=   4.7s\n",
      "[CV] END bootstrap=False, max_depth=None, max_features=sqrt, min_samples_leaf=4, min_samples_split=8, n_estimators=50; total time=   4.6s\n",
      "[CV] END bootstrap=False, max_depth=None, max_features=sqrt, min_samples_leaf=4, min_samples_split=8, n_estimators=50; total time=   4.0s\n",
      "[CV] END bootstrap=True, max_depth=None, max_features=log2, min_samples_leaf=3, min_samples_split=7, n_estimators=100; total time=   1.8s\n",
      "[CV] END bootstrap=True, max_depth=None, max_features=log2, min_samples_leaf=3, min_samples_split=7, n_estimators=100; total time=   1.8s\n",
      "[CV] END bootstrap=True, max_depth=None, max_features=log2, min_samples_leaf=3, min_samples_split=7, n_estimators=100; total time=   1.9s\n",
      "[CV] END bootstrap=False, max_depth=10, max_features=auto, min_samples_leaf=2, min_samples_split=8, n_estimators=200; total time=   0.0s\n",
      "[CV] END bootstrap=False, max_depth=10, max_features=auto, min_samples_leaf=2, min_samples_split=8, n_estimators=200; total time=   0.0s\n",
      "[CV] END bootstrap=False, max_depth=10, max_features=auto, min_samples_leaf=2, min_samples_split=8, n_estimators=200; total time=   0.0s\n",
      "[CV] END bootstrap=True, max_depth=50, max_features=sqrt, min_samples_leaf=2, min_samples_split=3, n_estimators=150; total time=  11.8s\n",
      "[CV] END bootstrap=True, max_depth=50, max_features=sqrt, min_samples_leaf=2, min_samples_split=3, n_estimators=150; total time=  11.3s\n",
      "[CV] END bootstrap=True, max_depth=50, max_features=sqrt, min_samples_leaf=2, min_samples_split=3, n_estimators=150; total time=  10.2s\n",
      "[CV] END bootstrap=False, max_depth=30, max_features=sqrt, min_samples_leaf=1, min_samples_split=2, n_estimators=200; total time=  19.7s\n",
      "[CV] END bootstrap=False, max_depth=30, max_features=sqrt, min_samples_leaf=1, min_samples_split=2, n_estimators=200; total time=  19.4s\n",
      "[CV] END bootstrap=False, max_depth=30, max_features=sqrt, min_samples_leaf=1, min_samples_split=2, n_estimators=200; total time=  18.1s\n",
      "[CV] END bootstrap=True, max_depth=10, max_features=auto, min_samples_leaf=1, min_samples_split=6, n_estimators=100; total time=   0.0s\n",
      "[CV] END bootstrap=True, max_depth=10, max_features=auto, min_samples_leaf=1, min_samples_split=6, n_estimators=100; total time=   0.0s\n",
      "[CV] END bootstrap=True, max_depth=10, max_features=auto, min_samples_leaf=1, min_samples_split=6, n_estimators=100; total time=   0.0s\n",
      "[CV] END bootstrap=True, max_depth=None, max_features=sqrt, min_samples_leaf=2, min_samples_split=4, n_estimators=250; total time=  18.6s\n",
      "[CV] END bootstrap=True, max_depth=None, max_features=sqrt, min_samples_leaf=2, min_samples_split=4, n_estimators=250; total time=  18.7s\n",
      "[CV] END bootstrap=True, max_depth=None, max_features=sqrt, min_samples_leaf=2, min_samples_split=4, n_estimators=250; total time=  17.3s\n",
      "[CV] END bootstrap=False, max_depth=40, max_features=auto, min_samples_leaf=2, min_samples_split=3, n_estimators=100; total time=   0.0s\n",
      "[CV] END bootstrap=False, max_depth=40, max_features=auto, min_samples_leaf=2, min_samples_split=3, n_estimators=100; total time=   0.0s\n",
      "[CV] END bootstrap=False, max_depth=40, max_features=auto, min_samples_leaf=2, min_samples_split=3, n_estimators=100; total time=   0.0s\n",
      "[CV] END bootstrap=False, max_depth=50, max_features=log2, min_samples_leaf=3, min_samples_split=3, n_estimators=150; total time=   4.0s\n",
      "[CV] END bootstrap=False, max_depth=50, max_features=log2, min_samples_leaf=3, min_samples_split=3, n_estimators=150; total time=   4.0s\n",
      "[CV] END bootstrap=False, max_depth=50, max_features=log2, min_samples_leaf=3, min_samples_split=3, n_estimators=150; total time=   3.6s\n",
      "[CV] END bootstrap=False, max_depth=20, max_features=sqrt, min_samples_leaf=3, min_samples_split=4, n_estimators=150; total time=  10.7s\n",
      "[CV] END bootstrap=False, max_depth=20, max_features=sqrt, min_samples_leaf=3, min_samples_split=4, n_estimators=150; total time=  10.6s\n",
      "[CV] END bootstrap=False, max_depth=20, max_features=sqrt, min_samples_leaf=3, min_samples_split=4, n_estimators=150; total time=  10.3s\n",
      "[CV] END bootstrap=False, max_depth=None, max_features=auto, min_samples_leaf=1, min_samples_split=2, n_estimators=50; total time=   0.0s\n",
      "[CV] END bootstrap=False, max_depth=None, max_features=auto, min_samples_leaf=1, min_samples_split=2, n_estimators=50; total time=   0.0s\n",
      "[CV] END bootstrap=False, max_depth=None, max_features=auto, min_samples_leaf=1, min_samples_split=2, n_estimators=50; total time=   0.0s\n",
      "[CV] END bootstrap=False, max_depth=20, max_features=auto, min_samples_leaf=1, min_samples_split=2, n_estimators=200; total time=   0.0s\n",
      "[CV] END bootstrap=False, max_depth=20, max_features=auto, min_samples_leaf=1, min_samples_split=2, n_estimators=200; total time=   0.0s\n",
      "[CV] END bootstrap=False, max_depth=20, max_features=auto, min_samples_leaf=1, min_samples_split=2, n_estimators=200; total time=   0.0s\n",
      "[CV] END bootstrap=True, max_depth=10, max_features=log2, min_samples_leaf=1, min_samples_split=7, n_estimators=100; total time=   1.1s\n",
      "[CV] END bootstrap=True, max_depth=10, max_features=log2, min_samples_leaf=1, min_samples_split=7, n_estimators=100; total time=   1.1s\n",
      "[CV] END bootstrap=True, max_depth=10, max_features=log2, min_samples_leaf=1, min_samples_split=7, n_estimators=100; total time=   1.1s\n",
      "[CV] END bootstrap=False, max_depth=30, max_features=log2, min_samples_leaf=4, min_samples_split=6, n_estimators=200; total time=   5.2s\n",
      "[CV] END bootstrap=False, max_depth=30, max_features=log2, min_samples_leaf=4, min_samples_split=6, n_estimators=200; total time=   5.0s\n",
      "[CV] END bootstrap=False, max_depth=30, max_features=log2, min_samples_leaf=4, min_samples_split=6, n_estimators=200; total time=   4.8s\n",
      "[CV] END bootstrap=True, max_depth=40, max_features=log2, min_samples_leaf=3, min_samples_split=8, n_estimators=50; total time=   0.9s\n",
      "[CV] END bootstrap=True, max_depth=40, max_features=log2, min_samples_leaf=3, min_samples_split=8, n_estimators=50; total time=   0.8s\n",
      "[CV] END bootstrap=True, max_depth=40, max_features=log2, min_samples_leaf=3, min_samples_split=8, n_estimators=50; total time=   0.8s\n",
      "[CV] END bootstrap=False, max_depth=30, max_features=sqrt, min_samples_leaf=1, min_samples_split=4, n_estimators=50; total time=   4.9s\n",
      "[CV] END bootstrap=False, max_depth=30, max_features=sqrt, min_samples_leaf=1, min_samples_split=4, n_estimators=50; total time=   4.8s\n",
      "[CV] END bootstrap=False, max_depth=30, max_features=sqrt, min_samples_leaf=1, min_samples_split=4, n_estimators=50; total time=   4.4s\n",
      "[CV] END bootstrap=False, max_depth=30, max_features=log2, min_samples_leaf=1, min_samples_split=6, n_estimators=250; total time=   7.5s\n",
      "[CV] END bootstrap=False, max_depth=30, max_features=log2, min_samples_leaf=1, min_samples_split=6, n_estimators=250; total time=   7.1s\n",
      "[CV] END bootstrap=False, max_depth=30, max_features=log2, min_samples_leaf=1, min_samples_split=6, n_estimators=250; total time=   6.7s\n",
      "[CV] END bootstrap=False, max_depth=50, max_features=sqrt, min_samples_leaf=3, min_samples_split=8, n_estimators=250; total time=  31.0s\n",
      "[CV] END bootstrap=False, max_depth=50, max_features=sqrt, min_samples_leaf=3, min_samples_split=8, n_estimators=250; total time=  28.6s\n",
      "[CV] END bootstrap=False, max_depth=50, max_features=sqrt, min_samples_leaf=3, min_samples_split=8, n_estimators=250; total time=  31.0s\n",
      "[CV] END bootstrap=True, max_depth=None, max_features=sqrt, min_samples_leaf=1, min_samples_split=9, n_estimators=150; total time=  20.2s\n",
      "[CV] END bootstrap=True, max_depth=None, max_features=sqrt, min_samples_leaf=1, min_samples_split=9, n_estimators=150; total time=  18.5s\n",
      "[CV] END bootstrap=True, max_depth=None, max_features=sqrt, min_samples_leaf=1, min_samples_split=9, n_estimators=150; total time=  15.0s\n",
      "[CV] END bootstrap=True, max_depth=40, max_features=auto, min_samples_leaf=4, min_samples_split=7, n_estimators=200; total time=   0.0s\n",
      "[CV] END bootstrap=True, max_depth=40, max_features=auto, min_samples_leaf=4, min_samples_split=7, n_estimators=200; total time=   0.0s\n",
      "[CV] END bootstrap=True, max_depth=40, max_features=auto, min_samples_leaf=4, min_samples_split=7, n_estimators=200; total time=   0.0s\n",
      "[CV] END bootstrap=False, max_depth=50, max_features=log2, min_samples_leaf=1, min_samples_split=9, n_estimators=100; total time=   3.6s\n",
      "[CV] END bootstrap=False, max_depth=50, max_features=log2, min_samples_leaf=1, min_samples_split=9, n_estimators=100; total time=   3.0s\n",
      "[CV] END bootstrap=False, max_depth=50, max_features=log2, min_samples_leaf=1, min_samples_split=9, n_estimators=100; total time=   3.0s\n",
      "[CV] END bootstrap=True, max_depth=10, max_features=sqrt, min_samples_leaf=1, min_samples_split=9, n_estimators=100; total time=   3.2s\n",
      "[CV] END bootstrap=True, max_depth=10, max_features=sqrt, min_samples_leaf=1, min_samples_split=9, n_estimators=100; total time=   3.3s\n",
      "[CV] END bootstrap=True, max_depth=10, max_features=sqrt, min_samples_leaf=1, min_samples_split=9, n_estimators=100; total time=   3.2s\n",
      "[CV] END bootstrap=True, max_depth=None, max_features=auto, min_samples_leaf=3, min_samples_split=3, n_estimators=100; total time=   0.0s\n",
      "[CV] END bootstrap=True, max_depth=None, max_features=auto, min_samples_leaf=3, min_samples_split=3, n_estimators=100; total time=   0.0s\n",
      "[CV] END bootstrap=True, max_depth=None, max_features=auto, min_samples_leaf=3, min_samples_split=3, n_estimators=100; total time=   0.0s\n",
      "[CV] END bootstrap=False, max_depth=50, max_features=sqrt, min_samples_leaf=3, min_samples_split=2, n_estimators=250; total time=  26.3s\n",
      "[CV] END bootstrap=False, max_depth=50, max_features=sqrt, min_samples_leaf=3, min_samples_split=2, n_estimators=250; total time=  26.2s\n",
      "[CV] END bootstrap=False, max_depth=50, max_features=sqrt, min_samples_leaf=3, min_samples_split=2, n_estimators=250; total time=  22.3s\n",
      "[CV] END bootstrap=True, max_depth=20, max_features=log2, min_samples_leaf=2, min_samples_split=2, n_estimators=150; total time=   2.7s\n",
      "[CV] END bootstrap=True, max_depth=20, max_features=log2, min_samples_leaf=2, min_samples_split=2, n_estimators=150; total time=   2.7s\n",
      "[CV] END bootstrap=True, max_depth=20, max_features=log2, min_samples_leaf=2, min_samples_split=2, n_estimators=150; total time=   2.6s\n",
      "[CV] END bootstrap=True, max_depth=10, max_features=log2, min_samples_leaf=2, min_samples_split=9, n_estimators=150; total time=   1.8s\n",
      "[CV] END bootstrap=True, max_depth=10, max_features=log2, min_samples_leaf=2, min_samples_split=9, n_estimators=150; total time=   1.8s\n",
      "[CV] END bootstrap=True, max_depth=10, max_features=log2, min_samples_leaf=2, min_samples_split=9, n_estimators=150; total time=   1.7s\n",
      "[CV] END bootstrap=True, max_depth=20, max_features=sqrt, min_samples_leaf=3, min_samples_split=7, n_estimators=50; total time=   2.7s\n",
      "[CV] END bootstrap=True, max_depth=20, max_features=sqrt, min_samples_leaf=3, min_samples_split=7, n_estimators=50; total time=   2.6s\n",
      "[CV] END bootstrap=True, max_depth=20, max_features=sqrt, min_samples_leaf=3, min_samples_split=7, n_estimators=50; total time=   3.2s\n",
      "[CV] END bootstrap=False, max_depth=50, max_features=sqrt, min_samples_leaf=3, min_samples_split=4, n_estimators=250; total time=  27.9s\n",
      "[CV] END bootstrap=False, max_depth=50, max_features=sqrt, min_samples_leaf=3, min_samples_split=4, n_estimators=250; total time=  25.3s\n",
      "[CV] END bootstrap=False, max_depth=50, max_features=sqrt, min_samples_leaf=3, min_samples_split=4, n_estimators=250; total time=  21.9s\n",
      "[CV] END bootstrap=True, max_depth=50, max_features=auto, min_samples_leaf=3, min_samples_split=3, n_estimators=50; total time=   0.0s\n",
      "[CV] END bootstrap=True, max_depth=50, max_features=auto, min_samples_leaf=3, min_samples_split=3, n_estimators=50; total time=   0.0s\n",
      "[CV] END bootstrap=True, max_depth=50, max_features=auto, min_samples_leaf=3, min_samples_split=3, n_estimators=50; total time=   0.0s\n",
      "[CV] END bootstrap=False, max_depth=None, max_features=auto, min_samples_leaf=1, min_samples_split=9, n_estimators=150; total time=   0.0s\n",
      "[CV] END bootstrap=False, max_depth=None, max_features=auto, min_samples_leaf=1, min_samples_split=9, n_estimators=150; total time=   0.0s\n",
      "[CV] END bootstrap=False, max_depth=None, max_features=auto, min_samples_leaf=1, min_samples_split=9, n_estimators=150; total time=   0.0s\n",
      "[CV] END bootstrap=False, max_depth=30, max_features=auto, min_samples_leaf=1, min_samples_split=6, n_estimators=200; total time=   0.0s\n",
      "[CV] END bootstrap=False, max_depth=30, max_features=auto, min_samples_leaf=1, min_samples_split=6, n_estimators=200; total time=   0.0s\n",
      "[CV] END bootstrap=False, max_depth=30, max_features=auto, min_samples_leaf=1, min_samples_split=6, n_estimators=200; total time=   0.0s\n",
      "[CV] END bootstrap=False, max_depth=20, max_features=auto, min_samples_leaf=3, min_samples_split=10, n_estimators=200; total time=   0.0s\n",
      "[CV] END bootstrap=False, max_depth=20, max_features=auto, min_samples_leaf=3, min_samples_split=10, n_estimators=200; total time=   0.0s\n",
      "[CV] END bootstrap=False, max_depth=20, max_features=auto, min_samples_leaf=3, min_samples_split=10, n_estimators=200; total time=   0.0s\n",
      "[CV] END bootstrap=False, max_depth=40, max_features=auto, min_samples_leaf=4, min_samples_split=4, n_estimators=50; total time=   0.0s\n",
      "[CV] END bootstrap=False, max_depth=40, max_features=auto, min_samples_leaf=4, min_samples_split=4, n_estimators=50; total time=   0.0s\n",
      "[CV] END bootstrap=False, max_depth=40, max_features=auto, min_samples_leaf=4, min_samples_split=4, n_estimators=50; total time=   0.0s\n",
      "[CV] END bootstrap=True, max_depth=40, max_features=sqrt, min_samples_leaf=3, min_samples_split=6, n_estimators=200; total time=  13.8s\n",
      "[CV] END bootstrap=True, max_depth=40, max_features=sqrt, min_samples_leaf=3, min_samples_split=6, n_estimators=200; total time=  14.6s\n",
      "[CV] END bootstrap=True, max_depth=40, max_features=sqrt, min_samples_leaf=3, min_samples_split=6, n_estimators=200; total time=  12.7s\n",
      "[CV] END bootstrap=True, max_depth=20, max_features=log2, min_samples_leaf=4, min_samples_split=10, n_estimators=150; total time=   2.7s\n",
      "[CV] END bootstrap=True, max_depth=20, max_features=log2, min_samples_leaf=4, min_samples_split=10, n_estimators=150; total time=   2.5s\n",
      "[CV] END bootstrap=True, max_depth=20, max_features=log2, min_samples_leaf=4, min_samples_split=10, n_estimators=150; total time=   2.6s\n",
      "[CV] END bootstrap=True, max_depth=50, max_features=sqrt, min_samples_leaf=1, min_samples_split=2, n_estimators=200; total time=  18.5s\n",
      "[CV] END bootstrap=True, max_depth=50, max_features=sqrt, min_samples_leaf=1, min_samples_split=2, n_estimators=200; total time=  17.2s\n",
      "[CV] END bootstrap=True, max_depth=50, max_features=sqrt, min_samples_leaf=1, min_samples_split=2, n_estimators=200; total time=  15.2s\n",
      "[CV] END bootstrap=False, max_depth=10, max_features=sqrt, min_samples_leaf=2, min_samples_split=9, n_estimators=100; total time=   4.5s\n",
      "[CV] END bootstrap=False, max_depth=10, max_features=sqrt, min_samples_leaf=2, min_samples_split=9, n_estimators=100; total time=   4.3s\n",
      "[CV] END bootstrap=False, max_depth=10, max_features=sqrt, min_samples_leaf=2, min_samples_split=9, n_estimators=100; total time=   4.2s\n",
      "[CV] END bootstrap=True, max_depth=20, max_features=sqrt, min_samples_leaf=2, min_samples_split=6, n_estimators=200; total time=  13.5s\n",
      "[CV] END bootstrap=True, max_depth=20, max_features=sqrt, min_samples_leaf=2, min_samples_split=6, n_estimators=200; total time=  14.6s\n",
      "[CV] END bootstrap=True, max_depth=20, max_features=sqrt, min_samples_leaf=2, min_samples_split=6, n_estimators=200; total time=  13.0s\n",
      "[CV] END bootstrap=False, max_depth=30, max_features=auto, min_samples_leaf=3, min_samples_split=8, n_estimators=250; total time=   0.0s\n",
      "[CV] END bootstrap=False, max_depth=30, max_features=auto, min_samples_leaf=3, min_samples_split=8, n_estimators=250; total time=   0.0s\n",
      "[CV] END bootstrap=False, max_depth=30, max_features=auto, min_samples_leaf=3, min_samples_split=8, n_estimators=250; total time=   0.0s\n",
      "[CV] END bootstrap=True, max_depth=50, max_features=sqrt, min_samples_leaf=4, min_samples_split=8, n_estimators=50; total time=   3.8s\n",
      "[CV] END bootstrap=True, max_depth=50, max_features=sqrt, min_samples_leaf=4, min_samples_split=8, n_estimators=50; total time=   4.5s\n",
      "[CV] END bootstrap=True, max_depth=50, max_features=sqrt, min_samples_leaf=4, min_samples_split=8, n_estimators=50; total time=   3.5s\n",
      "[CV] END bootstrap=True, max_depth=20, max_features=log2, min_samples_leaf=2, min_samples_split=6, n_estimators=250; total time=   5.0s\n",
      "[CV] END bootstrap=True, max_depth=20, max_features=log2, min_samples_leaf=2, min_samples_split=6, n_estimators=250; total time=   4.8s\n",
      "[CV] END bootstrap=True, max_depth=20, max_features=log2, min_samples_leaf=2, min_samples_split=6, n_estimators=250; total time=   4.5s\n",
      "[CV] END bootstrap=False, max_depth=50, max_features=auto, min_samples_leaf=1, min_samples_split=4, n_estimators=100; total time=   0.0s\n",
      "[CV] END bootstrap=False, max_depth=50, max_features=auto, min_samples_leaf=1, min_samples_split=4, n_estimators=100; total time=   0.0s\n",
      "[CV] END bootstrap=False, max_depth=50, max_features=auto, min_samples_leaf=1, min_samples_split=4, n_estimators=100; total time=   0.0s\n",
      "[CV] END bootstrap=True, max_depth=None, max_features=sqrt, min_samples_leaf=1, min_samples_split=5, n_estimators=200; total time=  19.9s\n",
      "[CV] END bootstrap=True, max_depth=None, max_features=sqrt, min_samples_leaf=1, min_samples_split=5, n_estimators=200; total time=  19.2s\n",
      "[CV] END bootstrap=True, max_depth=None, max_features=sqrt, min_samples_leaf=1, min_samples_split=5, n_estimators=200; total time=  18.5s\n"
     ]
    },
    {
     "name": "stderr",
     "output_type": "stream",
     "text": [
      "c:\\Users\\DELL\\AppData\\Local\\Programs\\Python\\Python312\\Lib\\site-packages\\sklearn\\model_selection\\_validation.py:540: FitFailedWarning: \n",
      "96 fits failed out of a total of 300.\n",
      "The score on these train-test partitions for these parameters will be set to nan.\n",
      "If these failures are not expected, you can try to debug them by setting error_score='raise'.\n",
      "\n",
      "Below are more details about the failures:\n",
      "--------------------------------------------------------------------------------\n",
      "96 fits failed with the following error:\n",
      "Traceback (most recent call last):\n",
      "  File \"c:\\Users\\DELL\\AppData\\Local\\Programs\\Python\\Python312\\Lib\\site-packages\\sklearn\\model_selection\\_validation.py\", line 888, in _fit_and_score\n",
      "    estimator.fit(X_train, y_train, **fit_params)\n",
      "  File \"c:\\Users\\DELL\\AppData\\Local\\Programs\\Python\\Python312\\Lib\\site-packages\\sklearn\\base.py\", line 1466, in wrapper\n",
      "    estimator._validate_params()\n",
      "  File \"c:\\Users\\DELL\\AppData\\Local\\Programs\\Python\\Python312\\Lib\\site-packages\\sklearn\\base.py\", line 666, in _validate_params\n",
      "    validate_parameter_constraints(\n",
      "  File \"c:\\Users\\DELL\\AppData\\Local\\Programs\\Python\\Python312\\Lib\\site-packages\\sklearn\\utils\\_param_validation.py\", line 95, in validate_parameter_constraints\n",
      "    raise InvalidParameterError(\n",
      "sklearn.utils._param_validation.InvalidParameterError: The 'max_features' parameter of RandomForestClassifier must be an int in the range [1, inf), a float in the range (0.0, 1.0], a str among {'log2', 'sqrt'} or None. Got 'auto' instead.\n",
      "\n",
      "  warnings.warn(some_fits_failed_message, FitFailedWarning)\n",
      "c:\\Users\\DELL\\AppData\\Local\\Programs\\Python\\Python312\\Lib\\site-packages\\sklearn\\model_selection\\_search.py:1102: UserWarning: One or more of the test scores are non-finite: [0.94871795        nan 0.90664037 0.92011834 0.95069034        nan\n",
      " 0.92274819 0.91420118 0.93622617        nan 0.94247206 0.86127548\n",
      " 0.93852728 0.86489152 0.9355687  0.89053254 0.90433925 0.88593031\n",
      " 0.95266272 0.93425378 0.93819855        nan 0.93392505 0.93721236\n",
      " 0.94214333 0.93491124        nan 0.88362919        nan        nan\n",
      " 0.94477318 0.91354372 0.85930309        nan 0.92011834 0.90072321\n",
      "        nan 0.93754109        nan 0.94838922        nan        nan\n",
      "        nan 0.8678501  0.92340565 0.93359632 0.94904668        nan\n",
      " 0.91913215        nan 0.90302433 0.93688363        nan 0.93195266\n",
      "        nan 0.9270217         nan 0.94477318 0.91748849        nan\n",
      " 0.94115713 0.94838922        nan 0.94444444        nan 0.94017094\n",
      " 0.93458251        nan        nan 0.87179487 0.93984221 0.91091387\n",
      " 0.94477318 0.94871795 0.94970414 0.94575937        nan 0.94411571\n",
      " 0.87705457        nan 0.95101907 0.91485865 0.86653517 0.9165023\n",
      " 0.95101907        nan        nan        nan        nan        nan\n",
      " 0.93589744 0.89579224 0.9503616  0.88921762 0.92241946        nan\n",
      " 0.92274819 0.91420118        nan 0.94707429]\n",
      "  warnings.warn(\n"
     ]
    },
    {
     "name": "stdout",
     "output_type": "stream",
     "text": [
      "Best: 0.952662721893491 using {'n_estimators': 250, 'min_samples_split': 4, 'min_samples_leaf': 1, 'max_features': 'sqrt', 'max_depth': None, 'bootstrap': False}\n",
      "Test Accuracy: 0.9738154613466334\n"
     ]
    },
    {
     "data": {
      "text/plain": [
       "['model_Rf.pkl']"
      ]
     },
     "execution_count": 52,
     "metadata": {},
     "output_type": "execute_result"
    }
   ],
   "source": [
    "\n",
    "param_dist = {\n",
    "    'n_estimators': np.arange(50, 251, 50),          \n",
    "    'max_features': ['auto', 'sqrt', 'log2'],        \n",
    "    'max_depth': [None, 10, 20, 30, 40, 50],          \n",
    "    'min_samples_split': np.arange(2, 11),            \n",
    "    'min_samples_leaf': np.arange(1, 5),              \n",
    "    'bootstrap': [True, False]                        \n",
    "}\n",
    "\n",
    "rf_classifier = RandomForestClassifier(random_state=42)\n",
    "\n",
    "random_search = RandomizedSearchCV(estimator=rf_classifier, param_distributions=param_dist, \n",
    "                                   n_iter=100, cv=3, verbose=2, random_state=42)\n",
    "\n",
    "random_search.fit(X_train_Rf, y_train_Rf)\n",
    "\n",
    "print(f\"Best: {random_search.best_score_} using {random_search.best_params_}\")\n",
    "\n",
    "best_rf_model = random_search.best_estimator_\n",
    "\n",
    "if X_test_Rf is not None and y_test_Rf is not None:\n",
    "    y_pred = best_rf_model.predict(X_test_Rf)\n",
    "    test_accuracy = accuracy_score(y_test_Rf, y_pred)\n",
    "    print(f\"Test Accuracy: {test_accuracy}\")\n",
    "\n",
    "joblib.dump(best_rf_model, 'model_Rf.pkl')"
   ]
  },
  {
   "cell_type": "code",
   "execution_count": 53,
   "metadata": {},
   "outputs": [
    {
     "name": "stdout",
     "output_type": "stream",
     "text": [
      "Classification Report:\n",
      "               precision    recall  f1-score   support\n",
      "\n",
      "           0       0.91      0.96      0.93       152\n",
      "           1       0.99      0.98      0.98       650\n",
      "\n",
      "    accuracy                           0.97       802\n",
      "   macro avg       0.95      0.97      0.96       802\n",
      "weighted avg       0.97      0.97      0.97       802\n",
      "\n",
      "________________________________________________________\n",
      "Confusion matrix: \n",
      "                  Predicted: Spam  Predicted: Not Spam\n",
      "Actual: Spam                  146                    6\n",
      "Actual: Not Spam               15                  635\n"
     ]
    }
   ],
   "source": [
    "y_pred_Rf = best_rf_model.predict(X_test_Rf)\n",
    "\n",
    "report_Rf = classification_report(y_test_Rf, y_pred_Rf)\n",
    "\n",
    "print(f\"Classification Report:\\n\", report_Rf)\n",
    "\n",
    "cm = pd.DataFrame(confusion_matrix(y_test, y_pred_Rf), ['Actual: Spam', 'Actual: Not Spam'], ['Predicted: Spam', 'Predicted: Not Spam'])\n",
    "\n",
    "print('________________________________________________________')\n",
    "print('Confusion matrix: ')\n",
    "print(cm)"
   ]
  },
  {
   "cell_type": "code",
   "execution_count": 54,
   "metadata": {},
   "outputs": [
    {
     "name": "stdout",
     "output_type": "stream",
     "text": [
      "Random Forest Accuracy: 97.3815\n"
     ]
    }
   ],
   "source": [
    "acc_rf = round(best_rf_model.score(X_test_Rf, y_test_Rf) * 100, 4)\n",
    "print(f\"Random Forest Accuracy: {acc_rf}\" )"
   ]
  },
  {
   "cell_type": "markdown",
   "metadata": {},
   "source": [
    "## KNN"
   ]
  },
  {
   "cell_type": "code",
   "execution_count": 55,
   "metadata": {},
   "outputs": [],
   "source": [
    "from sklearn.model_selection import GridSearchCV, train_test_split\n",
    "from sklearn.neighbors import KNeighborsClassifier\n",
    "from sklearn.pipeline import Pipeline\n",
    "from sklearn.preprocessing import StandardScaler\n",
    "from sklearn.metrics import accuracy_score\n",
    "import joblib"
   ]
  },
  {
   "cell_type": "code",
   "execution_count": 56,
   "metadata": {},
   "outputs": [],
   "source": [
    "X_T_knn = X_T\n",
    "X_test_knn = X_test\n",
    "y_test_knn = y_test\n",
    "X_train_knn = X_train\n",
    "X_val_knn = X_val\n",
    "y_train_knn = y_train\n",
    "y_val_knn = y_val\n",
    "y_T_knn = y_T"
   ]
  },
  {
   "cell_type": "code",
   "execution_count": 57,
   "metadata": {},
   "outputs": [
    {
     "name": "stdout",
     "output_type": "stream",
     "text": [
      "Fitting 3 folds for each of 30 candidates, totalling 90 fits\n"
     ]
    },
    {
     "name": "stdout",
     "output_type": "stream",
     "text": [
      "Best: 0.8833004602235371 using {'metric': 'manhattan', 'n_neighbors': 3, 'weights': 'distance'}\n"
     ]
    },
    {
     "data": {
      "text/plain": [
       "['model_knn.pkl']"
      ]
     },
     "execution_count": 57,
     "metadata": {},
     "output_type": "execute_result"
    }
   ],
   "source": [
    "knn = KNeighborsClassifier()\n",
    "\n",
    "param_grid = {\n",
    "    'n_neighbors': [3, 5, 7, 9, 11],  \n",
    "    'weights': ['uniform', 'distance'],  \n",
    "    'metric': ['euclidean', 'manhattan', 'minkowski']  \n",
    "}\n",
    "\n",
    "grid_search = GridSearchCV(estimator=knn, param_grid=param_grid, cv=3, n_jobs=-1, verbose=2)\n",
    "\n",
    "grid_search.fit(X_train_knn, y_train_knn)\n",
    "\n",
    "print(f\"Best: {grid_search.best_score_} using {grid_search.best_params_}\")\n",
    "\n",
    "best_knn_model = grid_search.best_estimator_\n",
    "\n",
    "joblib.dump(best_knn_model, 'model_knn.pkl')"
   ]
  },
  {
   "cell_type": "code",
   "execution_count": 58,
   "metadata": {},
   "outputs": [
    {
     "name": "stdout",
     "output_type": "stream",
     "text": [
      "Classification Report:\n",
      "               precision    recall  f1-score   support\n",
      "\n",
      "           0       0.61      0.85      0.71       109\n",
      "           1       0.98      0.91      0.94       693\n",
      "\n",
      "    accuracy                           0.91       802\n",
      "   macro avg       0.79      0.88      0.83       802\n",
      "weighted avg       0.93      0.91      0.91       802\n",
      "\n",
      "________________________________________________________\n",
      "Confusion matrix: \n",
      "                  Predicted: Spam  Predicted: Not Spam\n",
      "Actual: Spam                   93                   59\n",
      "Actual: Not Spam               16                  634\n"
     ]
    }
   ],
   "source": [
    "y_pred_knn = best_knn_model.predict(X_test_knn)\n",
    "\n",
    "report_knn = classification_report(y_pred_knn, y_test_knn)\n",
    "\n",
    "print(f\"Classification Report:\\n\", report_knn)\n",
    "\n",
    "cm = pd.DataFrame(confusion_matrix(y_test, y_pred_knn), ['Actual: Spam', 'Actual: Not Spam'], ['Predicted: Spam', 'Predicted: Not Spam'])\n",
    "\n",
    "print('________________________________________________________')\n",
    "print('Confusion matrix: ')\n",
    "print(cm)"
   ]
  },
  {
   "cell_type": "code",
   "execution_count": 59,
   "metadata": {},
   "outputs": [
    {
     "name": "stdout",
     "output_type": "stream",
     "text": [
      "KNN Accuracy: 90.6484\n"
     ]
    }
   ],
   "source": [
    "acc_knn = round(best_knn_model.score(X_test_knn, y_test_knn) * 100, 4)\n",
    "print(f\"KNN Accuracy: {acc_knn}\" )"
   ]
  },
  {
   "cell_type": "markdown",
   "metadata": {},
   "source": [
    "## Logistic regression"
   ]
  },
  {
   "cell_type": "code",
   "execution_count": 60,
   "metadata": {},
   "outputs": [],
   "source": [
    "from sklearn.model_selection import GridSearchCV, train_test_split\n",
    "from sklearn.linear_model import LogisticRegression\n",
    "from sklearn.pipeline import Pipeline\n",
    "from sklearn.preprocessing import StandardScaler\n",
    "from sklearn.metrics import accuracy_score\n",
    "import joblib"
   ]
  },
  {
   "cell_type": "code",
   "execution_count": 61,
   "metadata": {},
   "outputs": [],
   "source": [
    "X_T_lr = X_T\n",
    "X_test_lr = X_test\n",
    "y_test_lr = y_test\n",
    "X_train_lr = X_train\n",
    "X_val_lr = X_val\n",
    "y_train_lr = y_train\n",
    "y_val_lr = y_val\n",
    "y_T_lr = y_T"
   ]
  },
  {
   "cell_type": "code",
   "execution_count": 62,
   "metadata": {},
   "outputs": [
    {
     "name": "stderr",
     "output_type": "stream",
     "text": [
      "c:\\Users\\DELL\\AppData\\Local\\Programs\\Python\\Python312\\Lib\\site-packages\\sklearn\\model_selection\\_validation.py:540: FitFailedWarning: \n",
      "48 fits failed out of a total of 96.\n",
      "The score on these train-test partitions for these parameters will be set to nan.\n",
      "If these failures are not expected, you can try to debug them by setting error_score='raise'.\n",
      "\n",
      "Below are more details about the failures:\n",
      "--------------------------------------------------------------------------------\n",
      "12 fits failed with the following error:\n",
      "Traceback (most recent call last):\n",
      "  File \"c:\\Users\\DELL\\AppData\\Local\\Programs\\Python\\Python312\\Lib\\site-packages\\sklearn\\model_selection\\_validation.py\", line 888, in _fit_and_score\n",
      "    estimator.fit(X_train, y_train, **fit_params)\n",
      "  File \"c:\\Users\\DELL\\AppData\\Local\\Programs\\Python\\Python312\\Lib\\site-packages\\sklearn\\base.py\", line 1473, in wrapper\n",
      "    return fit_method(estimator, *args, **kwargs)\n",
      "           ^^^^^^^^^^^^^^^^^^^^^^^^^^^^^^^^^^^^^^\n",
      "  File \"c:\\Users\\DELL\\AppData\\Local\\Programs\\Python\\Python312\\Lib\\site-packages\\sklearn\\pipeline.py\", line 473, in fit\n",
      "    self._final_estimator.fit(Xt, y, **last_step_params[\"fit\"])\n",
      "  File \"c:\\Users\\DELL\\AppData\\Local\\Programs\\Python\\Python312\\Lib\\site-packages\\sklearn\\base.py\", line 1473, in wrapper\n",
      "    return fit_method(estimator, *args, **kwargs)\n",
      "           ^^^^^^^^^^^^^^^^^^^^^^^^^^^^^^^^^^^^^^\n",
      "  File \"c:\\Users\\DELL\\AppData\\Local\\Programs\\Python\\Python312\\Lib\\site-packages\\sklearn\\linear_model\\_logistic.py\", line 1194, in fit\n",
      "    solver = _check_solver(self.solver, self.penalty, self.dual)\n",
      "             ^^^^^^^^^^^^^^^^^^^^^^^^^^^^^^^^^^^^^^^^^^^^^^^^^^^\n",
      "  File \"c:\\Users\\DELL\\AppData\\Local\\Programs\\Python\\Python312\\Lib\\site-packages\\sklearn\\linear_model\\_logistic.py\", line 75, in _check_solver\n",
      "    raise ValueError(\n",
      "ValueError: Only 'saga' solver supports elasticnet penalty, got solver=liblinear.\n",
      "\n",
      "--------------------------------------------------------------------------------\n",
      "12 fits failed with the following error:\n",
      "Traceback (most recent call last):\n",
      "  File \"c:\\Users\\DELL\\AppData\\Local\\Programs\\Python\\Python312\\Lib\\site-packages\\sklearn\\model_selection\\_validation.py\", line 888, in _fit_and_score\n",
      "    estimator.fit(X_train, y_train, **fit_params)\n",
      "  File \"c:\\Users\\DELL\\AppData\\Local\\Programs\\Python\\Python312\\Lib\\site-packages\\sklearn\\base.py\", line 1473, in wrapper\n",
      "    return fit_method(estimator, *args, **kwargs)\n",
      "           ^^^^^^^^^^^^^^^^^^^^^^^^^^^^^^^^^^^^^^\n",
      "  File \"c:\\Users\\DELL\\AppData\\Local\\Programs\\Python\\Python312\\Lib\\site-packages\\sklearn\\pipeline.py\", line 473, in fit\n",
      "    self._final_estimator.fit(Xt, y, **last_step_params[\"fit\"])\n",
      "  File \"c:\\Users\\DELL\\AppData\\Local\\Programs\\Python\\Python312\\Lib\\site-packages\\sklearn\\base.py\", line 1473, in wrapper\n",
      "    return fit_method(estimator, *args, **kwargs)\n",
      "           ^^^^^^^^^^^^^^^^^^^^^^^^^^^^^^^^^^^^^^\n",
      "  File \"c:\\Users\\DELL\\AppData\\Local\\Programs\\Python\\Python312\\Lib\\site-packages\\sklearn\\linear_model\\_logistic.py\", line 1204, in fit\n",
      "    raise ValueError(\"l1_ratio must be specified when penalty is elasticnet.\")\n",
      "ValueError: l1_ratio must be specified when penalty is elasticnet.\n",
      "\n",
      "--------------------------------------------------------------------------------\n",
      "8 fits failed with the following error:\n",
      "Traceback (most recent call last):\n",
      "  File \"c:\\Users\\DELL\\AppData\\Local\\Programs\\Python\\Python312\\Lib\\site-packages\\sklearn\\model_selection\\_validation.py\", line 888, in _fit_and_score\n",
      "    estimator.fit(X_train, y_train, **fit_params)\n",
      "  File \"c:\\Users\\DELL\\AppData\\Local\\Programs\\Python\\Python312\\Lib\\site-packages\\sklearn\\base.py\", line 1473, in wrapper\n",
      "    return fit_method(estimator, *args, **kwargs)\n",
      "           ^^^^^^^^^^^^^^^^^^^^^^^^^^^^^^^^^^^^^^\n",
      "  File \"c:\\Users\\DELL\\AppData\\Local\\Programs\\Python\\Python312\\Lib\\site-packages\\sklearn\\pipeline.py\", line 473, in fit\n",
      "    self._final_estimator.fit(Xt, y, **last_step_params[\"fit\"])\n",
      "  File \"c:\\Users\\DELL\\AppData\\Local\\Programs\\Python\\Python312\\Lib\\site-packages\\sklearn\\base.py\", line 1466, in wrapper\n",
      "    estimator._validate_params()\n",
      "  File \"c:\\Users\\DELL\\AppData\\Local\\Programs\\Python\\Python312\\Lib\\site-packages\\sklearn\\base.py\", line 666, in _validate_params\n",
      "    validate_parameter_constraints(\n",
      "  File \"c:\\Users\\DELL\\AppData\\Local\\Programs\\Python\\Python312\\Lib\\site-packages\\sklearn\\utils\\_param_validation.py\", line 95, in validate_parameter_constraints\n",
      "    raise InvalidParameterError(\n",
      "sklearn.utils._param_validation.InvalidParameterError: The 'penalty' parameter of LogisticRegression must be a str among {'l2', 'l1', 'elasticnet'} or None. Got 'none' instead.\n",
      "\n",
      "--------------------------------------------------------------------------------\n",
      "9 fits failed with the following error:\n",
      "Traceback (most recent call last):\n",
      "  File \"c:\\Users\\DELL\\AppData\\Local\\Programs\\Python\\Python312\\Lib\\site-packages\\sklearn\\model_selection\\_validation.py\", line 888, in _fit_and_score\n",
      "    estimator.fit(X_train, y_train, **fit_params)\n",
      "  File \"c:\\Users\\DELL\\AppData\\Local\\Programs\\Python\\Python312\\Lib\\site-packages\\sklearn\\base.py\", line 1473, in wrapper\n",
      "    return fit_method(estimator, *args, **kwargs)\n",
      "           ^^^^^^^^^^^^^^^^^^^^^^^^^^^^^^^^^^^^^^\n",
      "  File \"c:\\Users\\DELL\\AppData\\Local\\Programs\\Python\\Python312\\Lib\\site-packages\\sklearn\\pipeline.py\", line 473, in fit\n",
      "    self._final_estimator.fit(Xt, y, **last_step_params[\"fit\"])\n",
      "  File \"c:\\Users\\DELL\\AppData\\Local\\Programs\\Python\\Python312\\Lib\\site-packages\\sklearn\\base.py\", line 1466, in wrapper\n",
      "    estimator._validate_params()\n",
      "  File \"c:\\Users\\DELL\\AppData\\Local\\Programs\\Python\\Python312\\Lib\\site-packages\\sklearn\\base.py\", line 666, in _validate_params\n",
      "    validate_parameter_constraints(\n",
      "  File \"c:\\Users\\DELL\\AppData\\Local\\Programs\\Python\\Python312\\Lib\\site-packages\\sklearn\\utils\\_param_validation.py\", line 95, in validate_parameter_constraints\n",
      "    raise InvalidParameterError(\n",
      "sklearn.utils._param_validation.InvalidParameterError: The 'penalty' parameter of LogisticRegression must be a str among {'elasticnet', 'l2', 'l1'} or None. Got 'none' instead.\n",
      "\n",
      "--------------------------------------------------------------------------------\n",
      "7 fits failed with the following error:\n",
      "Traceback (most recent call last):\n",
      "  File \"c:\\Users\\DELL\\AppData\\Local\\Programs\\Python\\Python312\\Lib\\site-packages\\sklearn\\model_selection\\_validation.py\", line 888, in _fit_and_score\n",
      "    estimator.fit(X_train, y_train, **fit_params)\n",
      "  File \"c:\\Users\\DELL\\AppData\\Local\\Programs\\Python\\Python312\\Lib\\site-packages\\sklearn\\base.py\", line 1473, in wrapper\n",
      "    return fit_method(estimator, *args, **kwargs)\n",
      "           ^^^^^^^^^^^^^^^^^^^^^^^^^^^^^^^^^^^^^^\n",
      "  File \"c:\\Users\\DELL\\AppData\\Local\\Programs\\Python\\Python312\\Lib\\site-packages\\sklearn\\pipeline.py\", line 473, in fit\n",
      "    self._final_estimator.fit(Xt, y, **last_step_params[\"fit\"])\n",
      "  File \"c:\\Users\\DELL\\AppData\\Local\\Programs\\Python\\Python312\\Lib\\site-packages\\sklearn\\base.py\", line 1466, in wrapper\n",
      "    estimator._validate_params()\n",
      "  File \"c:\\Users\\DELL\\AppData\\Local\\Programs\\Python\\Python312\\Lib\\site-packages\\sklearn\\base.py\", line 666, in _validate_params\n",
      "    validate_parameter_constraints(\n",
      "  File \"c:\\Users\\DELL\\AppData\\Local\\Programs\\Python\\Python312\\Lib\\site-packages\\sklearn\\utils\\_param_validation.py\", line 95, in validate_parameter_constraints\n",
      "    raise InvalidParameterError(\n",
      "sklearn.utils._param_validation.InvalidParameterError: The 'penalty' parameter of LogisticRegression must be a str among {'l2', 'elasticnet', 'l1'} or None. Got 'none' instead.\n",
      "\n",
      "  warnings.warn(some_fits_failed_message, FitFailedWarning)\n",
      "c:\\Users\\DELL\\AppData\\Local\\Programs\\Python\\Python312\\Lib\\site-packages\\sklearn\\model_selection\\_search.py:1102: UserWarning: One or more of the test scores are non-finite: [0.91058514 0.91025641 0.92932281 0.93721236        nan        nan\n",
      "        nan        nan 0.92833662 0.93523997 0.92274819 0.93425378\n",
      "        nan        nan        nan        nan 0.92537804 0.93523997\n",
      " 0.92406312 0.93589744        nan        nan        nan        nan\n",
      " 0.92833662 0.93622617 0.93458251 0.9365549         nan        nan\n",
      "        nan        nan]\n",
      "  warnings.warn(\n"
     ]
    },
    {
     "name": "stdout",
     "output_type": "stream",
     "text": [
      "Best: 0.9372123602892833 using {'logreg__C': 0.1, 'logreg__penalty': 'l2', 'logreg__solver': 'saga'}\n"
     ]
    },
    {
     "name": "stderr",
     "output_type": "stream",
     "text": [
      "c:\\Users\\DELL\\AppData\\Local\\Programs\\Python\\Python312\\Lib\\site-packages\\sklearn\\linear_model\\_sag.py:349: ConvergenceWarning: The max_iter was reached which means the coef_ did not converge\n",
      "  warnings.warn(\n"
     ]
    },
    {
     "data": {
      "text/plain": [
       "['model_logreg.pkl']"
      ]
     },
     "execution_count": 62,
     "metadata": {},
     "output_type": "execute_result"
    }
   ],
   "source": [
    "logreg = LogisticRegression()\n",
    "\n",
    "pipe = Pipeline([\n",
    "    ('scaler', StandardScaler()), \n",
    "    ('logreg', logreg)\n",
    "])\n",
    "\n",
    "param_grid = {\n",
    "    'logreg__penalty': ['l1', 'l2', 'elasticnet', 'none'],  \n",
    "    'logreg__C': [0.1, 1.0, 10, 100],  \n",
    "    'logreg__solver': ['liblinear', 'saga']  \n",
    "}\n",
    "\n",
    "grid_search = GridSearchCV(estimator=pipe, param_grid=param_grid, cv=3, n_jobs=-1)\n",
    "\n",
    "grid_search.fit(X_train_lr, y_train_lr)\n",
    "\n",
    "print(f\"Best: {grid_search.best_score_} using {grid_search.best_params_}\")\n",
    "\n",
    "best_logreg_model = grid_search.best_estimator_\n",
    "\n",
    "joblib.dump(best_logreg_model, 'model_logreg.pkl')"
   ]
  },
  {
   "cell_type": "code",
   "execution_count": 63,
   "metadata": {},
   "outputs": [
    {
     "name": "stdout",
     "output_type": "stream",
     "text": [
      "Classification Report:\n",
      "               precision    recall  f1-score   support\n",
      "\n",
      "           0       0.82      0.93      0.87       134\n",
      "           1       0.98      0.96      0.97       668\n",
      "\n",
      "    accuracy                           0.95       802\n",
      "   macro avg       0.90      0.94      0.92       802\n",
      "weighted avg       0.96      0.95      0.95       802\n",
      "\n",
      "________________________________________________________\n",
      "Confusion matrix: \n",
      "                  Predicted: Spam  Predicted: Not Spam\n",
      "Actual: Spam                  124                   28\n",
      "Actual: Not Spam               10                  640\n"
     ]
    }
   ],
   "source": [
    "y_pred_lr = best_logreg_model.predict(X_test_lr)\n",
    "\n",
    "report_lr = classification_report(y_pred_lr, y_test_lr)\n",
    "\n",
    "print(f\"Classification Report:\\n\", report_lr)\n",
    "\n",
    "cm = pd.DataFrame(confusion_matrix(y_test, y_pred_lr), ['Actual: Spam', 'Actual: Not Spam'], ['Predicted: Spam', 'Predicted: Not Spam'])\n",
    "\n",
    "print('________________________________________________________')\n",
    "print('Confusion matrix: ')\n",
    "print(cm)"
   ]
  },
  {
   "cell_type": "code",
   "execution_count": 64,
   "metadata": {},
   "outputs": [
    {
     "name": "stdout",
     "output_type": "stream",
     "text": [
      "Logistic Regression Accuracy: 95.2618\n"
     ]
    }
   ],
   "source": [
    "y_pred_lr = best_logreg_model.predict(X_test_lr)\n",
    "acc_lr = round(accuracy_score(y_test_lr, y_pred_lr) * 100, 4)\n",
    "print(f\"Logistic Regression Accuracy: {acc_lr}\")"
   ]
  },
  {
   "cell_type": "markdown",
   "metadata": {},
   "source": [
    "## Decision tree"
   ]
  },
  {
   "cell_type": "code",
   "execution_count": 65,
   "metadata": {},
   "outputs": [
    {
     "name": "stdout",
     "output_type": "stream",
     "text": [
      "Best: 0.9194608809993424 using {'min_samples_split': 2, 'min_samples_leaf': 1, 'max_features': 'log2', 'max_depth': None}\n",
      "Test Accuracy: 0.9364089775561097\n"
     ]
    },
    {
     "name": "stderr",
     "output_type": "stream",
     "text": [
      "c:\\Users\\DELL\\AppData\\Local\\Programs\\Python\\Python312\\Lib\\site-packages\\sklearn\\model_selection\\_validation.py:540: FitFailedWarning: \n",
      "84 fits failed out of a total of 300.\n",
      "The score on these train-test partitions for these parameters will be set to nan.\n",
      "If these failures are not expected, you can try to debug them by setting error_score='raise'.\n",
      "\n",
      "Below are more details about the failures:\n",
      "--------------------------------------------------------------------------------\n",
      "84 fits failed with the following error:\n",
      "Traceback (most recent call last):\n",
      "  File \"c:\\Users\\DELL\\AppData\\Local\\Programs\\Python\\Python312\\Lib\\site-packages\\sklearn\\model_selection\\_validation.py\", line 888, in _fit_and_score\n",
      "    estimator.fit(X_train, y_train, **fit_params)\n",
      "  File \"c:\\Users\\DELL\\AppData\\Local\\Programs\\Python\\Python312\\Lib\\site-packages\\sklearn\\base.py\", line 1466, in wrapper\n",
      "    estimator._validate_params()\n",
      "  File \"c:\\Users\\DELL\\AppData\\Local\\Programs\\Python\\Python312\\Lib\\site-packages\\sklearn\\base.py\", line 666, in _validate_params\n",
      "    validate_parameter_constraints(\n",
      "  File \"c:\\Users\\DELL\\AppData\\Local\\Programs\\Python\\Python312\\Lib\\site-packages\\sklearn\\utils\\_param_validation.py\", line 95, in validate_parameter_constraints\n",
      "    raise InvalidParameterError(\n",
      "sklearn.utils._param_validation.InvalidParameterError: The 'max_features' parameter of DecisionTreeClassifier must be an int in the range [1, inf), a float in the range (0.0, 1.0], a str among {'log2', 'sqrt'} or None. Got 'auto' instead.\n",
      "\n",
      "  warnings.warn(some_fits_failed_message, FitFailedWarning)\n",
      "c:\\Users\\DELL\\AppData\\Local\\Programs\\Python\\Python312\\Lib\\site-packages\\sklearn\\model_selection\\_search.py:1102: UserWarning: One or more of the test scores are non-finite: [0.88099934        nan 0.88625904 0.86423406 0.91946088        nan\n",
      " 0.86686391        nan        nan 0.88198554 0.87672584 0.86489152\n",
      "        nan 0.89546351        nan        nan 0.90335306 0.8974359\n",
      " 0.87672584        nan        nan 0.87672584        nan 0.8974359\n",
      " 0.86489152        nan 0.86127548 0.89184747 0.90762656        nan\n",
      " 0.89546351 0.8974359  0.86127548 0.89940828        nan 0.85239974\n",
      "        nan 0.88593031 0.85239974 0.86456279 0.86620644 0.90631164\n",
      " 0.88034188 0.91025641 0.88856016        nan 0.91025641 0.88527285\n",
      " 0.8964497         nan 0.86489152 0.88034188 0.882643   0.89316239\n",
      "        nan        nan 0.86127548 0.86324786 0.89250493 0.89086128\n",
      " 0.89907955        nan 0.86489152 0.90105194 0.8974359  0.8773833\n",
      "        nan        nan 0.86620644 0.88198554 0.87672584 0.89579224\n",
      " 0.89316239 0.882643          nan 0.90762656 0.86028928 0.86620644\n",
      "        nan 0.90762656 0.90039448 0.87672584 0.87573964        nan\n",
      " 0.87146614        nan 0.87639711 0.89184747 0.88625904 0.88132807\n",
      "        nan 0.86456279 0.9112426         nan        nan 0.8974359\n",
      " 0.86489152 0.89710717 0.87804076 0.87245233]\n",
      "  warnings.warn(\n"
     ]
    },
    {
     "data": {
      "text/plain": [
       "['model_dec_tree.pkl']"
      ]
     },
     "execution_count": 65,
     "metadata": {},
     "output_type": "execute_result"
    }
   ],
   "source": [
    "from sklearn.tree import DecisionTreeClassifier\n",
    "param_dist = {        \n",
    "    'max_features': ['auto', 'sqrt', 'log2'],        \n",
    "    'max_depth': [None, 10, 20, 30, 40, 50],          \n",
    "    'min_samples_split': np.arange(2, 11),            \n",
    "    'min_samples_leaf': np.arange(1, 5)         \n",
    "}\n",
    "\n",
    "decision_tree = DecisionTreeClassifier(random_state = 1)\n",
    "\n",
    "random_search = RandomizedSearchCV(estimator=decision_tree, param_distributions=param_dist, \n",
    "                                   n_iter=100, cv=3, random_state=42)\n",
    "\n",
    "random_search.fit(X_train, y_train)\n",
    "\n",
    "print(f\"Best: {random_search.best_score_} using {random_search.best_params_}\")\n",
    "\n",
    "best_dec_tree_model = random_search.best_estimator_\n",
    "\n",
    "if X_test is not None and y_test is not None:\n",
    "    y_pred_dec_tree = best_dec_tree_model.predict(X_test)\n",
    "    test_accuracy = accuracy_score(y_test, y_pred_dec_tree)\n",
    "    print(f\"Test Accuracy: {test_accuracy}\")\n",
    "\n",
    "joblib.dump(best_dec_tree_model, 'model_dec_tree.pkl')"
   ]
  },
  {
   "cell_type": "code",
   "execution_count": 66,
   "metadata": {},
   "outputs": [
    {
     "name": "stdout",
     "output_type": "stream",
     "text": [
      "Classification Report:\n",
      "               precision    recall  f1-score   support\n",
      "\n",
      "           0       0.74      0.90      0.82       125\n",
      "           1       0.98      0.94      0.96       677\n",
      "\n",
      "    accuracy                           0.94       802\n",
      "   macro avg       0.86      0.92      0.89       802\n",
      "weighted avg       0.94      0.94      0.94       802\n",
      "\n",
      "________________________________________________________\n",
      "Confusion matrix: \n",
      "                  Predicted: Spam  Predicted: Not Spam\n",
      "Actual: Spam                  113                   39\n",
      "Actual: Not Spam               12                  638\n"
     ]
    }
   ],
   "source": [
    "y_pred_dec_tree = best_dec_tree_model.predict(X_test)\n",
    "\n",
    "report_dec_tree = classification_report(y_pred_dec_tree, y_test)\n",
    "\n",
    "print(f\"Classification Report:\\n\", report_dec_tree)\n",
    "\n",
    "cm = pd.DataFrame(confusion_matrix(y_test, y_pred_dec_tree), ['Actual: Spam', 'Actual: Not Spam'], ['Predicted: Spam', 'Predicted: Not Spam'])\n",
    "\n",
    "print('________________________________________________________')\n",
    "print('Confusion matrix: ')\n",
    "print(cm)"
   ]
  },
  {
   "cell_type": "code",
   "execution_count": 67,
   "metadata": {},
   "outputs": [
    {
     "name": "stdout",
     "output_type": "stream",
     "text": [
      "Decision Tree Accuracy: 93.6409\n"
     ]
    }
   ],
   "source": [
    "acc_dec_tree = round(accuracy_score(y_test, y_pred_dec_tree) * 100, 4)\n",
    "print(f\"Decision Tree Accuracy: {acc_dec_tree}\")"
   ]
  },
  {
   "cell_type": "markdown",
   "metadata": {},
   "source": [
    "## LGBM"
   ]
  },
  {
   "cell_type": "code",
   "execution_count": 69,
   "metadata": {},
   "outputs": [
    {
     "name": "stdout",
     "output_type": "stream",
     "text": [
      "[LightGBM] [Info] Number of positive: 2467, number of negative: 575\n",
      "[LightGBM] [Info] Auto-choosing col-wise multi-threading, the overhead of testing was 0.041334 seconds.\n",
      "You can set `force_col_wise=true` to remove the overhead.\n",
      "[LightGBM] [Info] Total Bins 191558\n",
      "[LightGBM] [Info] Number of data points in the train set: 3042, number of used features: 753\n",
      "[LightGBM] [Info] [binary:BoostFromScore]: pavg=0.810980 -> initscore=1.456388\n",
      "[LightGBM] [Info] Start training from score 1.456388\n",
      "Test accuracy: 96.3840\n"
     ]
    }
   ],
   "source": [
    "import lightgbm as lgb\n",
    "\n",
    "lgbm = lgb.LGBMClassifier()\n",
    "\n",
    "lgbm.fit(X_train, y_train)\n",
    "accuracy_lgbm = lgbm.score(X_test, y_test)\n",
    "print(f\"Test accuracy: {accuracy_lgbm * 100:.4f}\")"
   ]
  },
  {
   "cell_type": "code",
   "execution_count": 70,
   "metadata": {},
   "outputs": [
    {
     "name": "stdout",
     "output_type": "stream",
     "text": [
      "Classification Report:\n",
      "              precision    recall  f1-score   support\n",
      "\n",
      "           0       0.92      0.89      0.90       152\n",
      "           1       0.97      0.98      0.98       650\n",
      "\n",
      "    accuracy                           0.96       802\n",
      "   macro avg       0.95      0.93      0.94       802\n",
      "weighted avg       0.96      0.96      0.96       802\n",
      "\n",
      "                  Predicted: Spam  Predicted: Not Spam\n",
      "Actual: Spam                  135                   17\n",
      "Actual: Not Spam               12                  638\n"
     ]
    }
   ],
   "source": [
    "y_pred_lgbm = lgbm.predict(X_test)\n",
    "\n",
    "report = classification_report(y_test, y_pred_lgbm)\n",
    "print(\"Classification Report:\")\n",
    "print(report)\n",
    "\n",
    "cm = pd.DataFrame(confusion_matrix(y_test, y_pred_lgbm),\n",
    "                  ['Actual: Spam', 'Actual: Not Spam'], ['Predicted: Spam', 'Predicted: Not Spam'])\n",
    "\n",
    "print(cm)"
   ]
  },
  {
   "cell_type": "markdown",
   "metadata": {},
   "source": [
    "## Stacking Ensemble"
   ]
  },
  {
   "cell_type": "code",
   "execution_count": 71,
   "metadata": {},
   "outputs": [],
   "source": [
    "from sklearn.ensemble import GradientBoostingClassifier\n",
    "from sklearn.svm import SVC\n",
    "from sklearn.neural_network import MLPClassifier\n",
    "import xgboost as xgb"
   ]
  },
  {
   "cell_type": "code",
   "execution_count": 72,
   "metadata": {},
   "outputs": [
    {
     "name": "stderr",
     "output_type": "stream",
     "text": [
      "c:\\Users\\DELL\\AppData\\Local\\Programs\\Python\\Python312\\Lib\\site-packages\\sklearn\\linear_model\\_sag.py:349: ConvergenceWarning: The max_iter was reached which means the coef_ did not converge\n",
      "  warnings.warn(\n",
      "c:\\Users\\DELL\\AppData\\Local\\Programs\\Python\\Python312\\Lib\\site-packages\\sklearn\\linear_model\\_sag.py:349: ConvergenceWarning: The max_iter was reached which means the coef_ did not converge\n",
      "  warnings.warn(\n",
      "c:\\Users\\DELL\\AppData\\Local\\Programs\\Python\\Python312\\Lib\\site-packages\\sklearn\\linear_model\\_sag.py:349: ConvergenceWarning: The max_iter was reached which means the coef_ did not converge\n",
      "  warnings.warn(\n",
      "c:\\Users\\DELL\\AppData\\Local\\Programs\\Python\\Python312\\Lib\\site-packages\\sklearn\\linear_model\\_sag.py:349: ConvergenceWarning: The max_iter was reached which means the coef_ did not converge\n",
      "  warnings.warn(\n",
      "c:\\Users\\DELL\\AppData\\Local\\Programs\\Python\\Python312\\Lib\\site-packages\\sklearn\\linear_model\\_sag.py:349: ConvergenceWarning: The max_iter was reached which means the coef_ did not converge\n",
      "  warnings.warn(\n",
      "c:\\Users\\DELL\\AppData\\Local\\Programs\\Python\\Python312\\Lib\\site-packages\\sklearn\\linear_model\\_sag.py:349: ConvergenceWarning: The max_iter was reached which means the coef_ did not converge\n",
      "  warnings.warn(\n"
     ]
    },
    {
     "name": "stdout",
     "output_type": "stream",
     "text": [
      "Classification Report:\n",
      "              precision    recall  f1-score   support\n",
      "\n",
      "           0       0.91      0.88      0.90       152\n",
      "           1       0.97      0.98      0.98       650\n",
      "\n",
      "    accuracy                           0.96       802\n",
      "   macro avg       0.94      0.93      0.94       802\n",
      "weighted avg       0.96      0.96      0.96       802\n",
      "\n",
      "                  Predicted: Spam  Predicted: Not Spam\n",
      "Actual: Spam                  134                   18\n",
      "Actual: Not Spam               13                  637\n"
     ]
    }
   ],
   "source": [
    "from sklearn.ensemble import StackingClassifier\n",
    "\n",
    "base_models = [\n",
    "    ('logreg', best_logreg_model),\n",
    "    ('knn', best_knn_model),\n",
    "    ('dec_tree', best_dec_tree_model)\n",
    "]\n",
    "stacking_classifier = StackingClassifier(estimators=base_models, \n",
    "                                         final_estimator=GradientBoostingClassifier())\n",
    "\n",
    "stacking_classifier.fit(X_train, y_train)\n",
    "y_pred_stacked = stacking_classifier.predict(X_test)\n",
    "\n",
    "report = classification_report(y_test, y_pred_stacked)\n",
    "print(\"Classification Report:\")\n",
    "print(report)\n",
    "\n",
    "cm = pd.DataFrame(confusion_matrix(y_test, y_pred_stacked),\n",
    "                  ['Actual: Spam', 'Actual: Not Spam'], ['Predicted: Spam', 'Predicted: Not Spam'])\n",
    "\n",
    "print(cm)"
   ]
  },
  {
   "cell_type": "markdown",
   "metadata": {},
   "source": [
    "## Voting Classifier"
   ]
  },
  {
   "cell_type": "code",
   "execution_count": 90,
   "metadata": {},
   "outputs": [],
   "source": [
    "from sklearn.ensemble import VotingClassifier\n",
    "def get_voting():\n",
    "    models = list()\n",
    "    models.append(('Decision Tree', best_dec_tree_model))\n",
    "    models.append(('K Nearest Neighbors', best_knn_model))\n",
    "    models.append(('Logistic Regression', best_logreg_model))\n",
    "    \n",
    "    ensemble = VotingClassifier(estimators=models, voting='hard')\n",
    "    return ensemble\n",
    "\n",
    "voting = get_voting()\n",
    "voting.fit(X_train, y_train)\n",
    "y_pred_voting = voting.predict(X_test)"
   ]
  },
  {
   "cell_type": "code",
   "execution_count": 91,
   "metadata": {},
   "outputs": [
    {
     "name": "stdout",
     "output_type": "stream",
     "text": [
      "Classification Report:\n",
      "              precision    recall  f1-score   support\n",
      "\n",
      "           0       0.96      0.78      0.86       152\n",
      "           1       0.95      0.99      0.97       650\n",
      "\n",
      "    accuracy                           0.95       802\n",
      "   macro avg       0.96      0.89      0.92       802\n",
      "weighted avg       0.95      0.95      0.95       802\n",
      "\n",
      "                  Predicted: Spam  Predicted: Not Spam\n",
      "Actual: Spam                  119                   33\n",
      "Actual: Not Spam                5                  645\n"
     ]
    }
   ],
   "source": [
    "report = classification_report(y_test, y_pred_voting)\n",
    "print(\"Classification Report:\")\n",
    "print(report)\n",
    "\n",
    "cm = pd.DataFrame(confusion_matrix(y_test, y_pred_voting),\n",
    "                  ['Actual: Spam', 'Actual: Not Spam'], ['Predicted: Spam', 'Predicted: Not Spam'])\n",
    "\n",
    "print(cm)"
   ]
  },
  {
   "cell_type": "markdown",
   "metadata": {},
   "source": [
    "## Adaboost"
   ]
  },
  {
   "cell_type": "code",
   "execution_count": 112,
   "metadata": {},
   "outputs": [],
   "source": [
    "from sklearn.ensemble import AdaBoostClassifier\n",
    "\n",
    "estimator = DecisionTreeClassifier(max_depth=1)\n",
    "\n",
    "adabussy = AdaBoostClassifier(\n",
    "    estimator= estimator,\n",
    "    n_estimators=500,\n",
    "    random_state=42\n",
    ")\n",
    "\n",
    "adabussy.fit(X_train, y_train)\n",
    "y_pred_ada = adabussy.predict(X_test)"
   ]
  },
  {
   "cell_type": "code",
   "execution_count": 113,
   "metadata": {},
   "outputs": [
    {
     "name": "stdout",
     "output_type": "stream",
     "text": [
      "Classification Report:\n",
      "              precision    recall  f1-score   support\n",
      "\n",
      "           0       0.93      0.85      0.89       152\n",
      "           1       0.97      0.99      0.98       650\n",
      "\n",
      "    accuracy                           0.96       802\n",
      "   macro avg       0.95      0.92      0.93       802\n",
      "weighted avg       0.96      0.96      0.96       802\n",
      "\n",
      "                  Predicted: Spam  Predicted: Not Spam\n",
      "Actual: Spam                  129                   23\n",
      "Actual: Not Spam                9                  641\n"
     ]
    }
   ],
   "source": [
    "report = classification_report(y_test, y_pred_ada)\n",
    "print(\"Classification Report:\")\n",
    "print(report)\n",
    "\n",
    "cm = pd.DataFrame(confusion_matrix(y_test, y_pred_ada),\n",
    "                  ['Actual: Spam', 'Actual: Not Spam'], ['Predicted: Spam', 'Predicted: Not Spam'])\n",
    "\n",
    "print(cm)"
   ]
  },
  {
   "cell_type": "markdown",
   "metadata": {},
   "source": [
    "## Resultats"
   ]
  },
  {
   "cell_type": "code",
   "execution_count": 114,
   "metadata": {},
   "outputs": [
    {
     "name": "stdout",
     "output_type": "stream",
     "text": [
      "[LightGBM] [Info] Number of positive: 2934, number of negative: 684\n",
      "[LightGBM] [Info] Auto-choosing col-wise multi-threading, the overhead of testing was 0.033295 seconds.\n",
      "You can set `force_col_wise=true` to remove the overhead.\n",
      "[LightGBM] [Info] Total Bins 191555\n",
      "[LightGBM] [Info] Number of data points in the train set: 3618, number of used features: 753\n",
      "[LightGBM] [Info] [binary:BoostFromScore]: pavg=0.810945 -> initscore=1.456164\n",
      "[LightGBM] [Info] Start training from score 1.456164\n",
      "[LightGBM] [Info] Number of positive: 2934, number of negative: 684\n",
      "[LightGBM] [Info] Auto-choosing col-wise multi-threading, the overhead of testing was 0.031595 seconds.\n",
      "You can set `force_col_wise=true` to remove the overhead.\n",
      "[LightGBM] [Info] Total Bins 191568\n",
      "[LightGBM] [Info] Number of data points in the train set: 3618, number of used features: 753\n",
      "[LightGBM] [Info] [binary:BoostFromScore]: pavg=0.810945 -> initscore=1.456164\n",
      "[LightGBM] [Info] Start training from score 1.456164\n",
      "[LightGBM] [Info] Number of positive: 2934, number of negative: 684\n",
      "[LightGBM] [Info] Auto-choosing col-wise multi-threading, the overhead of testing was 0.030326 seconds.\n",
      "You can set `force_col_wise=true` to remove the overhead.\n",
      "[LightGBM] [Info] Total Bins 191557\n",
      "[LightGBM] [Info] Number of data points in the train set: 3618, number of used features: 753\n",
      "[LightGBM] [Info] [binary:BoostFromScore]: pavg=0.810945 -> initscore=1.456164\n",
      "[LightGBM] [Info] Start training from score 1.456164\n",
      "[LightGBM] [Info] Number of positive: 2934, number of negative: 684\n",
      "[LightGBM] [Info] Auto-choosing col-wise multi-threading, the overhead of testing was 0.028173 seconds.\n",
      "You can set `force_col_wise=true` to remove the overhead.\n",
      "[LightGBM] [Info] Total Bins 191563\n",
      "[LightGBM] [Info] Number of data points in the train set: 3618, number of used features: 753\n",
      "[LightGBM] [Info] [binary:BoostFromScore]: pavg=0.810945 -> initscore=1.456164\n",
      "[LightGBM] [Info] Start training from score 1.456164\n",
      "[LightGBM] [Info] Number of positive: 2934, number of negative: 684\n",
      "[LightGBM] [Info] Auto-choosing col-wise multi-threading, the overhead of testing was 0.026079 seconds.\n",
      "You can set `force_col_wise=true` to remove the overhead.\n",
      "[LightGBM] [Info] Total Bins 191549\n",
      "[LightGBM] [Info] Number of data points in the train set: 3618, number of used features: 753\n",
      "[LightGBM] [Info] [binary:BoostFromScore]: pavg=0.810945 -> initscore=1.456164\n",
      "[LightGBM] [Info] Start training from score 1.456164\n",
      "[LightGBM] [Info] Number of positive: 2934, number of negative: 684\n",
      "[LightGBM] [Info] Auto-choosing col-wise multi-threading, the overhead of testing was 0.027002 seconds.\n",
      "You can set `force_col_wise=true` to remove the overhead.\n",
      "[LightGBM] [Info] Total Bins 191558\n",
      "[LightGBM] [Info] Number of data points in the train set: 3618, number of used features: 753\n",
      "[LightGBM] [Info] [binary:BoostFromScore]: pavg=0.810945 -> initscore=1.456164\n",
      "[LightGBM] [Info] Start training from score 1.456164\n",
      "[LightGBM] [Info] Number of positive: 2934, number of negative: 684\n",
      "[LightGBM] [Info] Auto-choosing col-wise multi-threading, the overhead of testing was 0.029171 seconds.\n",
      "You can set `force_col_wise=true` to remove the overhead.\n",
      "[LightGBM] [Info] Total Bins 191549\n",
      "[LightGBM] [Info] Number of data points in the train set: 3618, number of used features: 753\n",
      "[LightGBM] [Info] [binary:BoostFromScore]: pavg=0.810945 -> initscore=1.456164\n",
      "[LightGBM] [Info] Start training from score 1.456164\n"
     ]
    }
   ],
   "source": [
    "classifiers = [best_rf_model, lgbm, best_dec_tree_model, \n",
    "               best_knn_model, best_logreg_model, stacking_classifier, voting, adabussy]\n",
    "\n",
    "stratified_kfold = StratifiedKFold(n_splits=7)\n",
    "\n",
    "cv_results = []\n",
    "cv_results.append(cross_val_score(best_rf_model, X, y = y, scoring = \"accuracy\", cv = stratified_kfold))\n",
    "cv_results.append(cross_val_score(lgbm, X, y = y, scoring = \"accuracy\", cv = stratified_kfold))\n",
    "cv_results.append(cross_val_score(best_dec_tree_model, X, y = y, scoring = \"accuracy\", cv = stratified_kfold))\n",
    "cv_results.append(cross_val_score(best_knn_model, X, y = y, scoring = \"accuracy\", cv = stratified_kfold))\n",
    "cv_results.append(cross_val_score(best_logreg_model, X, y = y, scoring = \"accuracy\", cv = stratified_kfold))\n",
    "cv_results.append(cross_val_score(stacking_classifier, X, y = y, scoring = \"accuracy\", cv = stratified_kfold))\n",
    "cv_results.append(cross_val_score(voting, X, y = y, scoring = \"accuracy\", cv = stratified_kfold))\n",
    "cv_results.append(cross_val_score(adabussy, X, y = y, scoring = \"accuracy\", cv = stratified_kfold))\n",
    "\n",
    "cv_means = []\n",
    "cv_std = []\n",
    "for cv_result in cv_results:\n",
    "    cv_means.append(cv_result.mean())\n",
    "    cv_std.append(cv_result.std())\n",
    "\n",
    "cv_max = np.max(cv_results, axis=1)\n",
    "\n",
    "cv_res = pd.DataFrame({\"CrossValMeans\": cv_means,\n",
    "                       \"CrossValMax\": cv_max,\n",
    "                       \"CrossValErrors\": cv_std, \n",
    "                       \"Algorithm\": ['Random Forest', \n",
    "                                     'Light Gradient Boosting Machine',\n",
    "                                     'Decision Tree',\n",
    "                                     'K Nearest Neighbors',\n",
    "                                     'Logistic Regression',\n",
    "                                     'Stacking Ensemble',\n",
    "                                     'Voting Ensemble',\n",
    "                                     'Adaboost']})"
   ]
  },
  {
   "cell_type": "code",
   "execution_count": 115,
   "metadata": {},
   "outputs": [
    {
     "data": {
      "image/png": "[encoded data removed]",
      "text/plain": [
       "<Figure size 1000x600 with 1 Axes>"
      ]
     },
     "metadata": {},
     "output_type": "display_data"
    }
   ],
   "source": [
    "plt.figure(figsize=(10, 6))\n",
    "sns.boxplot(data=cv_results, orient='h', palette='Spectral', showmeans = True)\n",
    "plt.yticks(range(len(classifiers)), ['Random Forest', \n",
    "                                     'Light Gradient Boosting Machine',\n",
    "                                     'Decision Tree',\n",
    "                                     'K Nearest Neighbors',\n",
    "                                     'Logistic Regression',\n",
    "                                     'Stacking Ensemble',\n",
    "                                     'Voting Ensemble',\n",
    "                                     'Adaboost'], rotation = 20)\n",
    "plt.xlabel(\"Mean Accuracy\")\n",
    "plt.title(\"Algorithms' performance post hyperparam tuning (with Stratified KFold CV)\")\n",
    "plt.legend(handles=[plt.Line2D([], [], color='green', marker='^', markersize=7, linestyle= '-', label='Mean Accuracy')], loc = 'best')\n",
    "\n",
    "\n",
    "plt.show()"
   ]
  },
  {
   "cell_type": "code",
   "execution_count": 117,
   "metadata": {},
   "outputs": [
    {
     "name": "stdout",
     "output_type": "stream",
     "text": [
      "Random Forest mean accuracy: 91.3528\n",
      "LGBM mean accuracy: 93.248\n",
      "Decision Tree mean accuracy: 94.3141\n",
      "KNN mean accuracy: 89.1258\n",
      "Logistic Regression mean accuracy: 93.2717\n",
      "Stacking Ensemble mean accuracy: 93.9351\n",
      "Voting Ensemble mean accuracy: 93.6271\n",
      "Adaboost mean accuracy: 95.4276\n"
     ]
    }
   ],
   "source": [
    "classifiers_name = ['Random Forest', 'LGBM', 'Decision Tree', 'KNN', \n",
    "                    'Logistic Regression', 'Stacking Ensemble', 'Voting Ensemble', 'Adaboost']\n",
    "for i in range(len(cv_means)):\n",
    "    print(f\"{classifiers_name[i]} mean accuracy: {round(cv_means[i] * 100, 4)}\")"
   ]
  },
  {
   "cell_type": "markdown",
   "metadata": {},
   "source": [
    "## Learning Curve"
   ]
  },
  {
   "cell_type": "code",
   "execution_count": 80,
   "metadata": {},
   "outputs": [
    {
     "name": "stderr",
     "output_type": "stream",
     "text": [
      "C:\\Users\\DELL\\AppData\\Local\\Temp\\ipykernel_27752\\220633770.py:27: UserWarning: linestyle is redundantly defined by the 'linestyle' keyword argument and the fmt string \".-\" (-> linestyle='-'). The keyword argument will take precedence.\n",
      "  plt.plot(train_sizes, test_scores_mean, '.-', color=\"g\", linestyle = '--',\n"
     ]
    },
    {
     "data": {
      "text/plain": [
       "<module 'matplotlib.pyplot' from 'C:\\\\Users\\\\DELL\\\\AppData\\\\Roaming\\\\Python\\\\Python312\\\\site-packages\\\\matplotlib\\\\pyplot.py'>"
      ]
     },
     "execution_count": 80,
     "metadata": {},
     "output_type": "execute_result"
    },
    {
     "data": {
      "image/png": "[encoded data removed]",
      "text/plain": [
       "<Figure size 640x480 with 1 Axes>"
      ]
     },
     "metadata": {},
     "output_type": "display_data"
    }
   ],
   "source": [
    "kfold = KFold(n_splits = 5)\n",
    "\n",
    "def plot_learning_curve(estimator, title, X, y, ylim=None, cv=None, n_jobs=-1, train_sizes=np.linspace(.1, 1.0, 5)):\n",
    "    plt.figure()\n",
    "    plt.title(title)\n",
    "    if ylim is not None:\n",
    "        plt.ylim(*ylim)\n",
    "    plt.xlabel(\"Training examples\")\n",
    "    plt.ylabel(\"Score\")\n",
    "    train_sizes, train_scores, test_scores = learning_curve(estimator, X, y, \n",
    "                                                            cv=cv,\n",
    "                                                            n_jobs=n_jobs,\n",
    "                                                            train_sizes=train_sizes)\n",
    "    train_scores_mean = np.mean(train_scores, axis=1)\n",
    "    train_scores_std = np.std(train_scores, axis=1)\n",
    "    test_scores_mean = np.mean(test_scores, axis=1)\n",
    "    test_scores_std = np.std(test_scores, axis=1)\n",
    "    plt.grid()\n",
    "\n",
    "    plt.fill_between(train_sizes, train_scores_mean - train_scores_std,\n",
    "                     train_scores_mean + train_scores_std, alpha=0.1,\n",
    "                     color=\"r\")\n",
    "    plt.fill_between(train_sizes, test_scores_mean - test_scores_std,\n",
    "                     test_scores_mean + test_scores_std, alpha=0.1, color=\"g\")\n",
    "    plt.plot(train_sizes, train_scores_mean, '.-', color=\"r\",\n",
    "             label=\"Training score\")\n",
    "    plt.plot(train_sizes, test_scores_mean, '.-', color=\"g\", linestyle = '--',\n",
    "             label=\"Cross-validation score\")\n",
    "    plt.legend(loc=\"best\")\n",
    "    return plt\n",
    "\n",
    "plot_learning_curve(best_rf_model, \"Random Forest Learning Curve\", X, y, cv=kfold)"
   ]
  },
  {
   "cell_type": "code",
   "execution_count": 81,
   "metadata": {},
   "outputs": [
    {
     "name": "stderr",
     "output_type": "stream",
     "text": [
      "C:\\Users\\DELL\\AppData\\Local\\Temp\\ipykernel_27752\\220633770.py:27: UserWarning: linestyle is redundantly defined by the 'linestyle' keyword argument and the fmt string \".-\" (-> linestyle='-'). The keyword argument will take precedence.\n",
      "  plt.plot(train_sizes, test_scores_mean, '.-', color=\"g\", linestyle = '--',\n"
     ]
    },
    {
     "data": {
      "text/plain": [
       "<module 'matplotlib.pyplot' from 'C:\\\\Users\\\\DELL\\\\AppData\\\\Roaming\\\\Python\\\\Python312\\\\site-packages\\\\matplotlib\\\\pyplot.py'>"
      ]
     },
     "execution_count": 81,
     "metadata": {},
     "output_type": "execute_result"
    },
    {
     "data": {
      "image/png": "[encoded data removed]",
      "text/plain": [
       "<Figure size 640x480 with 1 Axes>"
      ]
     },
     "metadata": {},
     "output_type": "display_data"
    }
   ],
   "source": [
    "plot_learning_curve(best_dec_tree_model, \"Decision Tree Learning Curve\", X, y, cv=kfold)"
   ]
  },
  {
   "cell_type": "code",
   "execution_count": 82,
   "metadata": {},
   "outputs": [
    {
     "name": "stderr",
     "output_type": "stream",
     "text": [
      "C:\\Users\\DELL\\AppData\\Local\\Temp\\ipykernel_27752\\220633770.py:27: UserWarning: linestyle is redundantly defined by the 'linestyle' keyword argument and the fmt string \".-\" (-> linestyle='-'). The keyword argument will take precedence.\n",
      "  plt.plot(train_sizes, test_scores_mean, '.-', color=\"g\", linestyle = '--',\n"
     ]
    },
    {
     "data": {
      "text/plain": [
       "<module 'matplotlib.pyplot' from 'C:\\\\Users\\\\DELL\\\\AppData\\\\Roaming\\\\Python\\\\Python312\\\\site-packages\\\\matplotlib\\\\pyplot.py'>"
      ]
     },
     "execution_count": 82,
     "metadata": {},
     "output_type": "execute_result"
    },
    {
     "data": {
      "image/png": "[encoded data removed]",
      "text/plain": [
       "<Figure size 640x480 with 1 Axes>"
      ]
     },
     "metadata": {},
     "output_type": "display_data"
    }
   ],
   "source": [
    "plot_learning_curve(best_knn_model, \"KNN Learning Curve\", X, y, cv=kfold)"
   ]
  },
  {
   "cell_type": "code",
   "execution_count": 83,
   "metadata": {},
   "outputs": [
    {
     "name": "stderr",
     "output_type": "stream",
     "text": [
      "c:\\Users\\DELL\\AppData\\Local\\Programs\\Python\\Python312\\Lib\\site-packages\\sklearn\\model_selection\\_validation.py:540: FitFailedWarning: \n",
      "1 fits failed out of a total of 25.\n",
      "The score on these train-test partitions for these parameters will be set to nan.\n",
      "If these failures are not expected, you can try to debug them by setting error_score='raise'.\n",
      "\n",
      "Below are more details about the failures:\n",
      "--------------------------------------------------------------------------------\n",
      "1 fits failed with the following error:\n",
      "Traceback (most recent call last):\n",
      "  File \"c:\\Users\\DELL\\AppData\\Local\\Programs\\Python\\Python312\\Lib\\site-packages\\sklearn\\model_selection\\_validation.py\", line 888, in _fit_and_score\n",
      "    estimator.fit(X_train, y_train, **fit_params)\n",
      "  File \"c:\\Users\\DELL\\AppData\\Local\\Programs\\Python\\Python312\\Lib\\site-packages\\sklearn\\base.py\", line 1473, in wrapper\n",
      "    return fit_method(estimator, *args, **kwargs)\n",
      "           ^^^^^^^^^^^^^^^^^^^^^^^^^^^^^^^^^^^^^^\n",
      "  File \"c:\\Users\\DELL\\AppData\\Local\\Programs\\Python\\Python312\\Lib\\site-packages\\sklearn\\pipeline.py\", line 473, in fit\n",
      "    self._final_estimator.fit(Xt, y, **last_step_params[\"fit\"])\n",
      "  File \"c:\\Users\\DELL\\AppData\\Local\\Programs\\Python\\Python312\\Lib\\site-packages\\sklearn\\base.py\", line 1473, in wrapper\n",
      "    return fit_method(estimator, *args, **kwargs)\n",
      "           ^^^^^^^^^^^^^^^^^^^^^^^^^^^^^^^^^^^^^^\n",
      "  File \"c:\\Users\\DELL\\AppData\\Local\\Programs\\Python\\Python312\\Lib\\site-packages\\sklearn\\linear_model\\_logistic.py\", line 1301, in fit\n",
      "    raise ValueError(\n",
      "ValueError: This solver needs samples of at least 2 classes in the data, but the data contains only one class: 1\n",
      "\n",
      "  warnings.warn(some_fits_failed_message, FitFailedWarning)\n",
      "C:\\Users\\DELL\\AppData\\Local\\Temp\\ipykernel_27752\\220633770.py:27: UserWarning: linestyle is redundantly defined by the 'linestyle' keyword argument and the fmt string \".-\" (-> linestyle='-'). The keyword argument will take precedence.\n",
      "  plt.plot(train_sizes, test_scores_mean, '.-', color=\"g\", linestyle = '--',\n"
     ]
    },
    {
     "data": {
      "text/plain": [
       "<module 'matplotlib.pyplot' from 'C:\\\\Users\\\\DELL\\\\AppData\\\\Roaming\\\\Python\\\\Python312\\\\site-packages\\\\matplotlib\\\\pyplot.py'>"
      ]
     },
     "execution_count": 83,
     "metadata": {},
     "output_type": "execute_result"
    },
    {
     "data": {
      "image/png": "[encoded data removed]",
      "text/plain": [
       "<Figure size 640x480 with 1 Axes>"
      ]
     },
     "metadata": {},
     "output_type": "display_data"
    }
   ],
   "source": [
    "plot_learning_curve(best_logreg_model, \"Logistic Regression Learning Curve\", X, y, cv=kfold)"
   ]
  },
  {
   "cell_type": "code",
   "execution_count": 118,
   "metadata": {},
   "outputs": [
    {
     "name": "stdout",
     "output_type": "stream",
     "text": [
      "No Skill: ROC AUC=0.500\n"
     ]
    },
    {
     "data": {
      "image/png": "[encoded data removed]",
      "text/plain": [
       "<Figure size 1200x800 with 1 Axes>"
      ]
     },
     "metadata": {},
     "output_type": "display_data"
    }
   ],
   "source": [
    "from sklearn.metrics import roc_auc_score, roc_curve\n",
    "\n",
    "ns_probs = [0 for _ in range(len(y_test))]\n",
    "ns_auc = roc_auc_score(y_test, ns_probs)\n",
    "print('No Skill: ROC AUC=%.3f' % (ns_auc))\n",
    "ns_fpr, ns_tpr, _ = roc_curve(y_test, ns_probs)\n",
    "\n",
    "y_scores_lr = best_logreg_model.decision_function(X_test)\n",
    "lr_fpr, lr_tpr, thresholds = roc_curve(y_test, y_scores_lr)\n",
    "lr_auc = roc_auc_score(y_test, y_scores_lr)\n",
    "\n",
    "y_scores_knn = best_knn_model.predict_proba(X_test)[:, 1]\n",
    "knn_fpr, knn_tpr, thresholds = roc_curve(y_test, y_scores_knn)\n",
    "knn_auc = roc_auc_score(y_test, y_scores_knn)\n",
    "\n",
    "y_scores_tree = best_dec_tree_model.predict_proba(X_test)[:, 1]\n",
    "tree_fpr, tree_tpr, thresholds = roc_curve(y_test, y_scores_tree)\n",
    "tree_auc = roc_auc_score(y_test, y_scores_tree)\n",
    "\n",
    "# y_scores_rf = best_rf_model.predict_proba(X_test)[:, 1]\n",
    "# rf_fpr, rf_tpr, thresholds = roc_curve(y_test, y_scores_rf)\n",
    "# rf_auc = roc_auc_score(y_test, y_scores_rf)\n",
    "\n",
    "plt.figure(figsize=(12,8))\n",
    "plt.title('ROC curve (base learners only)', fontsize = 16)\n",
    "\n",
    "plt.plot(ns_fpr, ns_tpr, linestyle='--', label='No Skill', color = 'black')\n",
    "plt.plot(lr_fpr, lr_tpr, marker='.', label='Logistic (AUC = {:.2f})'.format(lr_auc*100), color = 'red')\n",
    "plt.plot(knn_fpr, knn_tpr, label='KNN (AUC = {:.2f})'.format(knn_auc*100), color = 'blue', marker = '^')\n",
    "plt.plot(tree_fpr, tree_tpr, label='Decision tree (AUC = {:.2f})'.format(tree_auc*100), color = 'green', marker= '*')\n",
    "# plt.plot(rf_fpr, rf_tpr, label='Random Forest (AUC = {:.2f})'.format(tree_auc*100), color = 'purple', marker= 'o')\n",
    "\n",
    "plt.xlabel('False Positive Rate')\n",
    "plt.ylabel('True Positive Rate')\n",
    "plt.legend()\n",
    "plt.grid()\n",
    "plt.show()"
   ]
  },
  {
   "cell_type": "markdown",
   "metadata": {},
   "source": [
    "## Lazy Classifier - J4F"
   ]
  },
  {
   "cell_type": "code",
   "execution_count": 86,
   "metadata": {},
   "outputs": [],
   "source": [
    "from lazypredict.Supervised import LazyClassifier"
   ]
  },
  {
   "cell_type": "code",
   "execution_count": 87,
   "metadata": {},
   "outputs": [
    {
     "name": "stderr",
     "output_type": "stream",
     "text": [
      "  0%|          | 0/31 [00:00<?, ?it/s]"
     ]
    },
    {
     "name": "stderr",
     "output_type": "stream",
     "text": [
      "  3%|▎         | 1/31 [00:11<05:36, 11.20s/it]"
     ]
    },
    {
     "name": "stdout",
     "output_type": "stream",
     "text": [
      "{'Model': 'AdaBoostClassifier', 'Accuracy': 0.8840399002493765, 'Balanced Accuracy': 0.757085020242915, 'ROC AUC': 0.7570850202429149, 'F1 Score': 0.8763440292209453, 'Time taken': 11.200330257415771}\n"
     ]
    },
    {
     "name": "stderr",
     "output_type": "stream",
     "text": [
      "  6%|▋         | 2/31 [01:02<16:51, 34.89s/it]"
     ]
    },
    {
     "name": "stdout",
     "output_type": "stream",
     "text": [
      "{'Model': 'BaggingClassifier', 'Accuracy': 0.9551122194513716, 'Balanced Accuracy': 0.9319838056680162, 'ROC AUC': 0.9319838056680162, 'F1 Score': 0.9553344272795644, 'Time taken': 51.47179079055786}\n"
     ]
    },
    {
     "name": "stderr",
     "output_type": "stream",
     "text": [
      " 10%|▉         | 3/31 [01:02<08:54, 19.08s/it]"
     ]
    },
    {
     "name": "stdout",
     "output_type": "stream",
     "text": [
      "{'Model': 'BernoulliNB', 'Accuracy': 0.8802992518703242, 'Balanced Accuracy': 0.7522570850202429, 'ROC AUC': 0.7522570850202429, 'F1 Score': 0.8725780286544874, 'Time taken': 0.26790595054626465}\n"
     ]
    },
    {
     "name": "stderr",
     "output_type": "stream",
     "text": [
      " 16%|█▌        | 5/31 [01:36<06:54, 15.94s/it]"
     ]
    },
    {
     "name": "stdout",
     "output_type": "stream",
     "text": [
      "{'Model': 'CalibratedClassifierCV', 'Accuracy': 0.9389027431421446, 'Balanced Accuracy': 0.8564574898785425, 'ROC AUC': 0.8564574898785425, 'F1 Score': 0.9357289149069462, 'Time taken': 33.72432017326355}\n"
     ]
    },
    {
     "name": "stderr",
     "output_type": "stream",
     "text": [
      " 23%|██▎       | 7/31 [01:41<03:17,  8.22s/it]"
     ]
    },
    {
     "name": "stdout",
     "output_type": "stream",
     "text": [
      "{'Model': 'DecisionTreeClassifier', 'Accuracy': 0.92643391521197, 'Balanced Accuracy': 0.8714473684210526, 'ROC AUC': 0.8714473684210526, 'F1 Score': 0.92576397657612, 'Time taken': 4.787379741668701}\n",
      "{'Model': 'DummyClassifier', 'Accuracy': 0.8104738154613467, 'Balanced Accuracy': 0.5, 'ROC AUC': 0.5, 'F1 Score': 0.7256308265149798, 'Time taken': 0.13730788230895996}\n"
     ]
    },
    {
     "name": "stderr",
     "output_type": "stream",
     "text": [
      " 26%|██▌       | 8/31 [01:41<02:09,  5.65s/it]"
     ]
    },
    {
     "name": "stdout",
     "output_type": "stream",
     "text": [
      "{'Model': 'ExtraTreeClassifier', 'Accuracy': 0.92643391521197, 'Balanced Accuracy': 0.8512854251012145, 'ROC AUC': 0.8512854251012145, 'F1 Score': 0.9240626668789864, 'Time taken': 0.14567017555236816}\n"
     ]
    },
    {
     "name": "stderr",
     "output_type": "stream",
     "text": [
      " 35%|███▌      | 11/31 [01:43<00:46,  2.34s/it]"
     ]
    },
    {
     "name": "stdout",
     "output_type": "stream",
     "text": [
      "{'Model': 'ExtraTreesClassifier', 'Accuracy': 0.9650872817955112, 'Balanced Accuracy': 0.9330971659919028, 'ROC AUC': 0.9330971659919027, 'F1 Score': 0.9647222550285992, 'Time taken': 1.5115699768066406}\n",
      "{'Model': 'GaussianNB', 'Accuracy': 0.7219451371571073, 'Balanced Accuracy': 0.7276518218623482, 'ROC AUC': 0.7276518218623482, 'F1 Score': 0.7492383085972072, 'Time taken': 0.16936874389648438}\n"
     ]
    },
    {
     "name": "stderr",
     "output_type": "stream",
     "text": [
      " 39%|███▊      | 12/31 [01:43<00:34,  1.81s/it]"
     ]
    },
    {
     "name": "stdout",
     "output_type": "stream",
     "text": [
      "{'Model': 'KNeighborsClassifier', 'Accuracy': 0.844139650872818, 'Balanced Accuracy': 0.5963765182186235, 'ROC AUC': 0.5963765182186235, 'F1 Score': 0.8005469631636771, 'Time taken': 0.2336869239807129}\n"
     ]
    },
    {
     "name": "stderr",
     "output_type": "stream",
     "text": [
      " 42%|████▏     | 13/31 [01:45<00:30,  1.70s/it]"
     ]
    },
    {
     "name": "stdout",
     "output_type": "stream",
     "text": [
      "{'Model': 'LabelPropagation', 'Accuracy': 0.9451371571072319, 'Balanced Accuracy': 0.9611133603238866, 'ROC AUC': 0.9611133603238866, 'F1 Score': 0.9474560184993405, 'Time taken': 1.394956350326538}\n"
     ]
    },
    {
     "name": "stderr",
     "output_type": "stream",
     "text": [
      " 45%|████▌     | 14/31 [01:46<00:26,  1.54s/it]"
     ]
    },
    {
     "name": "stdout",
     "output_type": "stream",
     "text": [
      "{'Model': 'LabelSpreading', 'Accuracy': 0.9451371571072319, 'Balanced Accuracy': 0.9611133603238866, 'ROC AUC': 0.9611133603238866, 'F1 Score': 0.9474560184993405, 'Time taken': 1.1214909553527832}\n"
     ]
    },
    {
     "name": "stderr",
     "output_type": "stream",
     "text": [
      " 48%|████▊     | 15/31 [01:47<00:21,  1.31s/it]"
     ]
    },
    {
     "name": "stdout",
     "output_type": "stream",
     "text": [
      "{'Model': 'LinearDiscriminantAnalysis', 'Accuracy': 0.9389027431421446, 'Balanced Accuracy': 0.8816599190283401, 'ROC AUC': 0.8816599190283401, 'F1 Score': 0.9376656376347013, 'Time taken': 0.7353630065917969}\n"
     ]
    },
    {
     "name": "stderr",
     "output_type": "stream",
     "text": [
      " 55%|█████▍    | 17/31 [01:53<00:27,  1.99s/it]"
     ]
    },
    {
     "name": "stdout",
     "output_type": "stream",
     "text": [
      "{'Model': 'LinearSVC', 'Accuracy': 0.9600997506234414, 'Balanced Accuracy': 0.9224595141700405, 'ROC AUC': 0.9224595141700405, 'F1 Score': 0.9595734659819268, 'Time taken': 6.215160846710205}\n",
      "{'Model': 'LogisticRegression', 'Accuracy': 0.9588528678304239, 'Balanced Accuracy': 0.91917004048583, 'ROC AUC': 0.91917004048583, 'F1 Score': 0.9582531047518854, 'Time taken': 0.19362497329711914}\n"
     ]
    },
    {
     "name": "stderr",
     "output_type": "stream",
     "text": [
      " 61%|██████▏   | 19/31 [01:53<00:12,  1.05s/it]"
     ]
    },
    {
     "name": "stdout",
     "output_type": "stream",
     "text": [
      "{'Model': 'NearestCentroid', 'Accuracy': 0.9301745635910225, 'Balanced Accuracy': 0.8586336032388664, 'ROC AUC': 0.8586336032388664, 'F1 Score': 0.9280318746914433, 'Time taken': 0.12163472175598145}\n"
     ]
    },
    {
     "name": "stderr",
     "output_type": "stream",
     "text": [
      " 68%|██████▊   | 21/31 [01:54<00:06,  1.55it/s]"
     ]
    },
    {
     "name": "stdout",
     "output_type": "stream",
     "text": [
      "{'Model': 'PassiveAggressiveClassifier', 'Accuracy': 0.9488778054862843, 'Balanced Accuracy': 0.9104959514170041, 'ROC AUC': 0.910495951417004, 'F1 Score': 0.9485482976268755, 'Time taken': 0.323199987411499}\n",
      "{'Model': 'Perceptron', 'Accuracy': 0.9588528678304239, 'Balanced Accuracy': 0.9317712550607288, 'ROC AUC': 0.9317712550607288, 'F1 Score': 0.9588007819281029, 'Time taken': 0.19393563270568848}\n"
     ]
    },
    {
     "name": "stderr",
     "output_type": "stream",
     "text": [
      " 71%|███████   | 22/31 [01:55<00:06,  1.43it/s]"
     ]
    },
    {
     "name": "stdout",
     "output_type": "stream",
     "text": [
      "{'Model': 'QuadraticDiscriminantAnalysis', 'Accuracy': 0.9014962593516209, 'Balanced Accuracy': 0.7451720647773279, 'ROC AUC': 0.7451720647773279, 'F1 Score': 0.8880521997903217, 'Time taken': 0.8197417259216309}\n"
     ]
    },
    {
     "name": "stderr",
     "output_type": "stream",
     "text": [
      " 74%|███████▍  | 23/31 [02:07<00:34,  4.26s/it]"
     ]
    },
    {
     "name": "stdout",
     "output_type": "stream",
     "text": [
      "{'Model': 'RandomForestClassifier', 'Accuracy': 0.9600997506234414, 'Balanced Accuracy': 0.9325404858299595, 'ROC AUC': 0.9325404858299595, 'F1 Score': 0.9599982759452169, 'Time taken': 12.612973928451538}\n"
     ]
    },
    {
     "name": "stderr",
     "output_type": "stream",
     "text": [
      " 77%|███████▋  | 24/31 [02:07<00:21,  3.05s/it]"
     ]
    },
    {
     "name": "stdout",
     "output_type": "stream",
     "text": [
      "{'Model': 'RidgeClassifier', 'Accuracy': 0.940149625935162, 'Balanced Accuracy': 0.8799089068825912, 'ROC AUC': 0.8799089068825912, 'F1 Score': 0.9386749125149709, 'Time taken': 0.20195579528808594}\n"
     ]
    },
    {
     "name": "stderr",
     "output_type": "stream",
     "text": [
      " 81%|████████  | 25/31 [02:08<00:14,  2.38s/it]"
     ]
    },
    {
     "name": "stdout",
     "output_type": "stream",
     "text": [
      "{'Model': 'RidgeClassifierCV', 'Accuracy': 0.9413965087281796, 'Balanced Accuracy': 0.878157894736842, 'ROC AUC': 0.8781578947368421, 'F1 Score': 0.9396879854941708, 'Time taken': 0.8302505016326904}\n"
     ]
    },
    {
     "name": "stderr",
     "output_type": "stream",
     "text": [
      " 84%|████████▍ | 26/31 [02:08<00:08,  1.77s/it]"
     ]
    },
    {
     "name": "stdout",
     "output_type": "stream",
     "text": [
      "{'Model': 'SGDClassifier', 'Accuracy': 0.928927680798005, 'Balanced Accuracy': 0.8301417004048584, 'ROC AUC': 0.8301417004048584, 'F1 Score': 0.9242108566192891, 'Time taken': 0.3237435817718506}\n"
     ]
    },
    {
     "name": "stderr",
     "output_type": "stream",
     "text": [
      " 87%|████████▋ | 27/31 [02:12<00:08,  2.22s/it]"
     ]
    },
    {
     "name": "stdout",
     "output_type": "stream",
     "text": [
      "{'Model': 'SVC', 'Accuracy': 0.9501246882793017, 'Balanced Accuracy': 0.8810222672064778, 'ROC AUC': 0.8810222672064778, 'F1 Score': 0.9479567915182682, 'Time taken': 3.276434898376465}\n"
     ]
    },
    {
     "name": "stderr",
     "output_type": "stream",
     "text": [
      " 97%|█████████▋| 30/31 [02:18<00:02,  2.05s/it]"
     ]
    },
    {
     "name": "stdout",
     "output_type": "stream",
     "text": [
      "{'Model': 'XGBClassifier', 'Accuracy': 0.9688279301745636, 'Balanced Accuracy': 0.9404453441295546, 'ROC AUC': 0.9404453441295546, 'F1 Score': 0.9685440578712372, 'Time taken': 5.7734620571136475}\n",
      "[LightGBM] [Info] Number of positive: 2467, number of negative: 575\n",
      "[LightGBM] [Info] Auto-choosing col-wise multi-threading, the overhead of testing was 0.028456 seconds.\n",
      "You can set `force_col_wise=true` to remove the overhead.\n",
      "[LightGBM] [Info] Total Bins 191558\n",
      "[LightGBM] [Info] Number of data points in the train set: 3042, number of used features: 753\n",
      "[LightGBM] [Info] [binary:BoostFromScore]: pavg=0.810980 -> initscore=1.456388\n",
      "[LightGBM] [Info] Start training from score 1.456388\n"
     ]
    },
    {
     "name": "stderr",
     "output_type": "stream",
     "text": [
      "100%|██████████| 31/31 [02:24<00:00,  4.65s/it]"
     ]
    },
    {
     "name": "stdout",
     "output_type": "stream",
     "text": [
      "{'Model': 'LGBMClassifier', 'Accuracy': 0.970074812967581, 'Balanced Accuracy': 0.9538157894736843, 'ROC AUC': 0.9538157894736841, 'F1 Score': 0.9701495528528145, 'Time taken': 6.116413593292236}\n"
     ]
    },
    {
     "name": "stderr",
     "output_type": "stream",
     "text": [
      "\n"
     ]
    }
   ],
   "source": [
    "lazy = LazyClassifier(verbose=1, \n",
    "                      ignore_warnings=True,\n",
    "                      custom_metric=None)\n",
    "models = lazy.fit(X_train, X_test, y_train, y_test)"
   ]
  },
  {
   "cell_type": "code",
   "execution_count": 88,
   "metadata": {},
   "outputs": [
    {
     "data": {
      "text/plain": [
       "(                               Accuracy  Balanced Accuracy  ROC AUC  F1 Score  \\\n",
       " Model                                                                           \n",
       " LabelPropagation                   0.95               0.96     0.96      0.95   \n",
       " LabelSpreading                     0.95               0.96     0.96      0.95   \n",
       " LGBMClassifier                     0.97               0.95     0.95      0.97   \n",
       " XGBClassifier                      0.97               0.94     0.94      0.97   \n",
       " ExtraTreesClassifier               0.97               0.93     0.93      0.96   \n",
       " RandomForestClassifier             0.96               0.93     0.93      0.96   \n",
       " BaggingClassifier                  0.96               0.93     0.93      0.96   \n",
       " Perceptron                         0.96               0.93     0.93      0.96   \n",
       " LinearSVC                          0.96               0.92     0.92      0.96   \n",
       " LogisticRegression                 0.96               0.92     0.92      0.96   \n",
       " PassiveAggressiveClassifier        0.95               0.91     0.91      0.95   \n",
       " LinearDiscriminantAnalysis         0.94               0.88     0.88      0.94   \n",
       " SVC                                0.95               0.88     0.88      0.95   \n",
       " RidgeClassifier                    0.94               0.88     0.88      0.94   \n",
       " RidgeClassifierCV                  0.94               0.88     0.88      0.94   \n",
       " DecisionTreeClassifier             0.93               0.87     0.87      0.93   \n",
       " NearestCentroid                    0.93               0.86     0.86      0.93   \n",
       " CalibratedClassifierCV             0.94               0.86     0.86      0.94   \n",
       " ExtraTreeClassifier                0.93               0.85     0.85      0.92   \n",
       " SGDClassifier                      0.93               0.83     0.83      0.92   \n",
       " AdaBoostClassifier                 0.88               0.76     0.76      0.88   \n",
       " BernoulliNB                        0.88               0.75     0.75      0.87   \n",
       " QuadraticDiscriminantAnalysis      0.90               0.75     0.75      0.89   \n",
       " GaussianNB                         0.72               0.73     0.73      0.75   \n",
       " KNeighborsClassifier               0.84               0.60     0.60      0.80   \n",
       " DummyClassifier                    0.81               0.50     0.50      0.73   \n",
       " \n",
       "                                Time Taken  \n",
       " Model                                      \n",
       " LabelPropagation                     1.39  \n",
       " LabelSpreading                       1.12  \n",
       " LGBMClassifier                       6.12  \n",
       " XGBClassifier                        5.77  \n",
       " ExtraTreesClassifier                 1.51  \n",
       " RandomForestClassifier              12.61  \n",
       " BaggingClassifier                   51.47  \n",
       " Perceptron                           0.19  \n",
       " LinearSVC                            6.22  \n",
       " LogisticRegression                   0.19  \n",
       " PassiveAggressiveClassifier          0.32  \n",
       " LinearDiscriminantAnalysis           0.74  \n",
       " SVC                                  3.28  \n",
       " RidgeClassifier                      0.20  \n",
       " RidgeClassifierCV                    0.83  \n",
       " DecisionTreeClassifier               4.79  \n",
       " NearestCentroid                      0.12  \n",
       " CalibratedClassifierCV              33.72  \n",
       " ExtraTreeClassifier                  0.15  \n",
       " SGDClassifier                        0.32  \n",
       " AdaBoostClassifier                  11.20  \n",
       " BernoulliNB                          0.27  \n",
       " QuadraticDiscriminantAnalysis        0.82  \n",
       " GaussianNB                           0.17  \n",
       " KNeighborsClassifier                 0.23  \n",
       " DummyClassifier                      0.14  ,\n",
       "                                Accuracy  Balanced Accuracy  ROC AUC  F1 Score  \\\n",
       " Model                                                                           \n",
       " LabelPropagation                   0.95               0.96     0.96      0.95   \n",
       " LabelSpreading                     0.95               0.96     0.96      0.95   \n",
       " LGBMClassifier                     0.97               0.95     0.95      0.97   \n",
       " XGBClassifier                      0.97               0.94     0.94      0.97   \n",
       " ExtraTreesClassifier               0.97               0.93     0.93      0.96   \n",
       " RandomForestClassifier             0.96               0.93     0.93      0.96   \n",
       " BaggingClassifier                  0.96               0.93     0.93      0.96   \n",
       " Perceptron                         0.96               0.93     0.93      0.96   \n",
       " LinearSVC                          0.96               0.92     0.92      0.96   \n",
       " LogisticRegression                 0.96               0.92     0.92      0.96   \n",
       " PassiveAggressiveClassifier        0.95               0.91     0.91      0.95   \n",
       " LinearDiscriminantAnalysis         0.94               0.88     0.88      0.94   \n",
       " SVC                                0.95               0.88     0.88      0.95   \n",
       " RidgeClassifier                    0.94               0.88     0.88      0.94   \n",
       " RidgeClassifierCV                  0.94               0.88     0.88      0.94   \n",
       " DecisionTreeClassifier             0.93               0.87     0.87      0.93   \n",
       " NearestCentroid                    0.93               0.86     0.86      0.93   \n",
       " CalibratedClassifierCV             0.94               0.86     0.86      0.94   \n",
       " ExtraTreeClassifier                0.93               0.85     0.85      0.92   \n",
       " SGDClassifier                      0.93               0.83     0.83      0.92   \n",
       " AdaBoostClassifier                 0.88               0.76     0.76      0.88   \n",
       " BernoulliNB                        0.88               0.75     0.75      0.87   \n",
       " QuadraticDiscriminantAnalysis      0.90               0.75     0.75      0.89   \n",
       " GaussianNB                         0.72               0.73     0.73      0.75   \n",
       " KNeighborsClassifier               0.84               0.60     0.60      0.80   \n",
       " DummyClassifier                    0.81               0.50     0.50      0.73   \n",
       " \n",
       "                                Time Taken  \n",
       " Model                                      \n",
       " LabelPropagation                     1.39  \n",
       " LabelSpreading                       1.12  \n",
       " LGBMClassifier                       6.12  \n",
       " XGBClassifier                        5.77  \n",
       " ExtraTreesClassifier                 1.51  \n",
       " RandomForestClassifier              12.61  \n",
       " BaggingClassifier                   51.47  \n",
       " Perceptron                           0.19  \n",
       " LinearSVC                            6.22  \n",
       " LogisticRegression                   0.19  \n",
       " PassiveAggressiveClassifier          0.32  \n",
       " LinearDiscriminantAnalysis           0.74  \n",
       " SVC                                  3.28  \n",
       " RidgeClassifier                      0.20  \n",
       " RidgeClassifierCV                    0.83  \n",
       " DecisionTreeClassifier               4.79  \n",
       " NearestCentroid                      0.12  \n",
       " CalibratedClassifierCV              33.72  \n",
       " ExtraTreeClassifier                  0.15  \n",
       " SGDClassifier                        0.32  \n",
       " AdaBoostClassifier                  11.20  \n",
       " BernoulliNB                          0.27  \n",
       " QuadraticDiscriminantAnalysis        0.82  \n",
       " GaussianNB                           0.17  \n",
       " KNeighborsClassifier                 0.23  \n",
       " DummyClassifier                      0.14  )"
      ]
     },
     "execution_count": 88,
     "metadata": {},
     "output_type": "execute_result"
    }
   ],
   "source": [
    "models"
   ]
  }
 ],
 "metadata": {
  "kernelspec": {
   "display_name": "Python 3",
   "language": "python",
   "name": "python3"
  },
  "language_info": {
   "codemirror_mode": {
    "name": "ipython",
    "version": 3
   },
   "file_extension": ".py",
   "mimetype": "text/x-python",
   "name": "python",
   "nbconvert_exporter": "python",
   "pygments_lexer": "ipython3",
   "version": "3.12.4"
  }
 },
 "nbformat": 4,
 "nbformat_minor": 2
}
