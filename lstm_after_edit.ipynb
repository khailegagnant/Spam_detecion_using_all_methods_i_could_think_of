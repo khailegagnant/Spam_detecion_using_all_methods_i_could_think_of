{
 "cells": [
  {
   "cell_type": "code",
   "execution_count": 1,
   "metadata": {},
   "outputs": [
    {
     "name": "stderr",
     "output_type": "stream",
     "text": [
      "[nltk_data] Downloading package punkt to\n",
      "[nltk_data]     C:\\Users\\Admin\\AppData\\Roaming\\nltk_data...\n",
      "[nltk_data]   Package punkt is already up-to-date!\n",
      "[nltk_data] Downloading package wordnet to\n",
      "[nltk_data]     C:\\Users\\Admin\\AppData\\Roaming\\nltk_data...\n",
      "[nltk_data]   Package wordnet is already up-to-date!\n",
      "[nltk_data] Downloading package stopwords to\n",
      "[nltk_data]     C:\\Users\\Admin\\AppData\\Roaming\\nltk_data...\n",
      "[nltk_data]   Package stopwords is already up-to-date!\n"
     ]
    }
   ],
   "source": [
    "import pandas as pd\n",
    "import numpy as np\n",
    "import matplotlib.pyplot as plt\n",
    "import re\n",
    "import nltk\n",
    "from sklearn.decomposition import PCA\n",
    "from sklearn.preprocessing import LabelEncoder\n",
    "from nltk.tokenize import word_tokenize\n",
    "from nltk.corpus import stopwords\n",
    "from sklearn.model_selection import train_test_split\n",
    "import tensorflow as tf\n",
    "from tensorflow.keras.models import load_model\n",
    "from sklearn.metrics import classification_report\n",
    "from sklearn.linear_model import LogisticRegression\n",
    "from sklearn.metrics import accuracy_score\n",
    "from sklearn.metrics import f1_score\n",
    "from sklearn.metrics import accuracy_score, f1_score, classification_report\n",
    "from sklearn.ensemble import RandomForestClassifier\n",
    "from sklearn.metrics import confusion_matrix\n",
    "import seaborn as siuu\n",
    "import matplotlib.pyplot as plt\n",
    "nltk.download('punkt')\n",
    "nltk.download('wordnet')\n",
    "nltk.download('stopwords')\n",
    "from sklearn.feature_extraction.text import TfidfVectorizer\n"
   ]
  },
  {
   "cell_type": "code",
   "execution_count": 2,
   "metadata": {},
   "outputs": [],
   "source": [
    "df = pd.read_csv('data.csv')"
   ]
  },
  {
   "cell_type": "code",
   "execution_count": 3,
   "metadata": {},
   "outputs": [
    {
     "data": {
      "text/html": [
       "<div>\n",
       "<style scoped>\n",
       "    .dataframe tbody tr th:only-of-type {\n",
       "        vertical-align: middle;\n",
       "    }\n",
       "\n",
       "    .dataframe tbody tr th {\n",
       "        vertical-align: top;\n",
       "    }\n",
       "\n",
       "    .dataframe thead th {\n",
       "        text-align: right;\n",
       "    }\n",
       "</style>\n",
       "<table border=\"1\" class=\"dataframe\">\n",
       "  <thead>\n",
       "    <tr style=\"text-align: right;\">\n",
       "      <th></th>\n",
       "      <th>overall</th>\n",
       "      <th>verified</th>\n",
       "      <th>reviewerID</th>\n",
       "      <th>product</th>\n",
       "      <th>productID</th>\n",
       "      <th>reviewText</th>\n",
       "      <th>unixReviewTime</th>\n",
       "    </tr>\n",
       "  </thead>\n",
       "  <tbody>\n",
       "    <tr>\n",
       "      <th>0</th>\n",
       "      <td>5</td>\n",
       "      <td>1</td>\n",
       "      <td>A30VYJQW4XWDQ6</td>\n",
       "      <td>AGELESS™: UltraMAX Gold™ Capsules, HGH Anti-Ag...</td>\n",
       "      <td>B0011FYB5I</td>\n",
       "      <td>Made me look older, it was the opposite.</td>\n",
       "      <td>1472692083</td>\n",
       "    </tr>\n",
       "    <tr>\n",
       "      <th>1</th>\n",
       "      <td>5</td>\n",
       "      <td>1</td>\n",
       "      <td>A30VYJQW4XWDQ6</td>\n",
       "      <td>AGELESS™: UltraMAX Gold™ Capsules, HGH Anti-Ag...</td>\n",
       "      <td>B0011FYB5I</td>\n",
       "      <td>Works good with exercise.</td>\n",
       "      <td>1472690218</td>\n",
       "    </tr>\n",
       "    <tr>\n",
       "      <th>2</th>\n",
       "      <td>5</td>\n",
       "      <td>1</td>\n",
       "      <td>A28F08XFZRKIH5</td>\n",
       "      <td>All Natural Deodorant for Women &amp; Men. Organic...</td>\n",
       "      <td>B01DKQAXC0</td>\n",
       "      <td>great smell, and work better than the bad stuf...</td>\n",
       "      <td>1472692009</td>\n",
       "    </tr>\n",
       "    <tr>\n",
       "      <th>3</th>\n",
       "      <td>3</td>\n",
       "      <td>1</td>\n",
       "      <td>A157AUOFPJQ46Q</td>\n",
       "      <td>American Crew Body Wash for Men, Tea Tree Leaf...</td>\n",
       "      <td>B000X7ST9Y</td>\n",
       "      <td>I don't understand the bad reviews because thi...</td>\n",
       "      <td>1472690166</td>\n",
       "    </tr>\n",
       "    <tr>\n",
       "      <th>4</th>\n",
       "      <td>5</td>\n",
       "      <td>1</td>\n",
       "      <td>A2USMIT2CSA08</td>\n",
       "      <td>Andalou Naturals, Toner Facial Toner Helps Hyd...</td>\n",
       "      <td>B0091OCA86</td>\n",
       "      <td>Smells amazing and does a good job of refreshi...</td>\n",
       "      <td>1472691711</td>\n",
       "    </tr>\n",
       "  </tbody>\n",
       "</table>\n",
       "</div>"
      ],
      "text/plain": [
       "   overall  verified      reviewerID  \\\n",
       "0        5         1  A30VYJQW4XWDQ6   \n",
       "1        5         1  A30VYJQW4XWDQ6   \n",
       "2        5         1  A28F08XFZRKIH5   \n",
       "3        3         1  A157AUOFPJQ46Q   \n",
       "4        5         1   A2USMIT2CSA08   \n",
       "\n",
       "                                             product   productID  \\\n",
       "0  AGELESS™: UltraMAX Gold™ Capsules, HGH Anti-Ag...  B0011FYB5I   \n",
       "1  AGELESS™: UltraMAX Gold™ Capsules, HGH Anti-Ag...  B0011FYB5I   \n",
       "2  All Natural Deodorant for Women & Men. Organic...  B01DKQAXC0   \n",
       "3  American Crew Body Wash for Men, Tea Tree Leaf...  B000X7ST9Y   \n",
       "4  Andalou Naturals, Toner Facial Toner Helps Hyd...  B0091OCA86   \n",
       "\n",
       "                                          reviewText  unixReviewTime  \n",
       "0           Made me look older, it was the opposite.      1472692083  \n",
       "1                          Works good with exercise.      1472690218  \n",
       "2  great smell, and work better than the bad stuf...      1472692009  \n",
       "3  I don't understand the bad reviews because thi...      1472690166  \n",
       "4  Smells amazing and does a good job of refreshi...      1472691711  "
      ]
     },
     "execution_count": 3,
     "metadata": {},
     "output_type": "execute_result"
    }
   ],
   "source": [
    "df.head()"
   ]
  },
  {
   "cell_type": "code",
   "execution_count": 4,
   "metadata": {},
   "outputs": [],
   "source": [
    "# from ydata_profiling import ProfileReport "
   ]
  },
  {
   "cell_type": "code",
   "execution_count": 5,
   "metadata": {},
   "outputs": [],
   "source": [
    "# profile = ProfileReport(df)\n",
    "\n",
    "# profile.to_file(output_file='report.html')"
   ]
  },
  {
   "cell_type": "markdown",
   "metadata": {},
   "source": [
    "## Text preprocessing"
   ]
  },
  {
   "cell_type": "code",
   "execution_count": 6,
   "metadata": {},
   "outputs": [
    {
     "data": {
      "text/html": [
       "<div>\n",
       "<style scoped>\n",
       "    .dataframe tbody tr th:only-of-type {\n",
       "        vertical-align: middle;\n",
       "    }\n",
       "\n",
       "    .dataframe tbody tr th {\n",
       "        vertical-align: top;\n",
       "    }\n",
       "\n",
       "    .dataframe thead th {\n",
       "        text-align: right;\n",
       "    }\n",
       "</style>\n",
       "<table border=\"1\" class=\"dataframe\">\n",
       "  <thead>\n",
       "    <tr style=\"text-align: right;\">\n",
       "      <th></th>\n",
       "      <th>overall</th>\n",
       "      <th>verified</th>\n",
       "      <th>reviewerID</th>\n",
       "      <th>productID</th>\n",
       "      <th>reviewText</th>\n",
       "    </tr>\n",
       "  </thead>\n",
       "  <tbody>\n",
       "    <tr>\n",
       "      <th>0</th>\n",
       "      <td>5</td>\n",
       "      <td>1</td>\n",
       "      <td>A30VYJQW4XWDQ6</td>\n",
       "      <td>B0011FYB5I</td>\n",
       "      <td>Made me look older, it was the opposite.</td>\n",
       "    </tr>\n",
       "    <tr>\n",
       "      <th>1</th>\n",
       "      <td>5</td>\n",
       "      <td>1</td>\n",
       "      <td>A30VYJQW4XWDQ6</td>\n",
       "      <td>B0011FYB5I</td>\n",
       "      <td>Works good with exercise.</td>\n",
       "    </tr>\n",
       "    <tr>\n",
       "      <th>2</th>\n",
       "      <td>5</td>\n",
       "      <td>1</td>\n",
       "      <td>A28F08XFZRKIH5</td>\n",
       "      <td>B01DKQAXC0</td>\n",
       "      <td>great smell, and work better than the bad stuf...</td>\n",
       "    </tr>\n",
       "    <tr>\n",
       "      <th>3</th>\n",
       "      <td>3</td>\n",
       "      <td>1</td>\n",
       "      <td>A157AUOFPJQ46Q</td>\n",
       "      <td>B000X7ST9Y</td>\n",
       "      <td>I don't understand the bad reviews because thi...</td>\n",
       "    </tr>\n",
       "    <tr>\n",
       "      <th>4</th>\n",
       "      <td>5</td>\n",
       "      <td>1</td>\n",
       "      <td>A2USMIT2CSA08</td>\n",
       "      <td>B0091OCA86</td>\n",
       "      <td>Smells amazing and does a good job of refreshi...</td>\n",
       "    </tr>\n",
       "    <tr>\n",
       "      <th>...</th>\n",
       "      <td>...</td>\n",
       "      <td>...</td>\n",
       "      <td>...</td>\n",
       "      <td>...</td>\n",
       "      <td>...</td>\n",
       "    </tr>\n",
       "    <tr>\n",
       "      <th>4216</th>\n",
       "      <td>5</td>\n",
       "      <td>0</td>\n",
       "      <td>A3E5V5TSTAY3R9</td>\n",
       "      <td>B0006O10P4</td>\n",
       "      <td>This is the best smelling soap I've ever found...</td>\n",
       "    </tr>\n",
       "    <tr>\n",
       "      <th>4217</th>\n",
       "      <td>5</td>\n",
       "      <td>0</td>\n",
       "      <td>A3E5V5TSTAY3R9</td>\n",
       "      <td>B0006O10P4</td>\n",
       "      <td>This is the best smelling soap I've ever found...</td>\n",
       "    </tr>\n",
       "    <tr>\n",
       "      <th>4218</th>\n",
       "      <td>5</td>\n",
       "      <td>0</td>\n",
       "      <td>A281NPSIMI1C2R</td>\n",
       "      <td>B0006O10P4</td>\n",
       "      <td>Warm, soothing and a little spicy. This zum ba...</td>\n",
       "    </tr>\n",
       "    <tr>\n",
       "      <th>4219</th>\n",
       "      <td>5</td>\n",
       "      <td>1</td>\n",
       "      <td>A3E5V5TSTAY3R9</td>\n",
       "      <td>B0006O10P4</td>\n",
       "      <td>I decided to SPLURGE ($8.98 for a 3 oz. bar) a...</td>\n",
       "    </tr>\n",
       "    <tr>\n",
       "      <th>4220</th>\n",
       "      <td>5</td>\n",
       "      <td>1</td>\n",
       "      <td>A3E5V5TSTAY3R9</td>\n",
       "      <td>B0006O10P4</td>\n",
       "      <td>This is the best smelling soap I've ever found...</td>\n",
       "    </tr>\n",
       "  </tbody>\n",
       "</table>\n",
       "<p>4221 rows × 5 columns</p>\n",
       "</div>"
      ],
      "text/plain": [
       "      overall  verified      reviewerID   productID  \\\n",
       "0           5         1  A30VYJQW4XWDQ6  B0011FYB5I   \n",
       "1           5         1  A30VYJQW4XWDQ6  B0011FYB5I   \n",
       "2           5         1  A28F08XFZRKIH5  B01DKQAXC0   \n",
       "3           3         1  A157AUOFPJQ46Q  B000X7ST9Y   \n",
       "4           5         1   A2USMIT2CSA08  B0091OCA86   \n",
       "...       ...       ...             ...         ...   \n",
       "4216        5         0  A3E5V5TSTAY3R9  B0006O10P4   \n",
       "4217        5         0  A3E5V5TSTAY3R9  B0006O10P4   \n",
       "4218        5         0  A281NPSIMI1C2R  B0006O10P4   \n",
       "4219        5         1  A3E5V5TSTAY3R9  B0006O10P4   \n",
       "4220        5         1  A3E5V5TSTAY3R9  B0006O10P4   \n",
       "\n",
       "                                             reviewText  \n",
       "0              Made me look older, it was the opposite.  \n",
       "1                             Works good with exercise.  \n",
       "2     great smell, and work better than the bad stuf...  \n",
       "3     I don't understand the bad reviews because thi...  \n",
       "4     Smells amazing and does a good job of refreshi...  \n",
       "...                                                 ...  \n",
       "4216  This is the best smelling soap I've ever found...  \n",
       "4217  This is the best smelling soap I've ever found...  \n",
       "4218  Warm, soothing and a little spicy. This zum ba...  \n",
       "4219  I decided to SPLURGE ($8.98 for a 3 oz. bar) a...  \n",
       "4220  This is the best smelling soap I've ever found...  \n",
       "\n",
       "[4221 rows x 5 columns]"
      ]
     },
     "execution_count": 6,
     "metadata": {},
     "output_type": "execute_result"
    }
   ],
   "source": [
    "df.drop('product', axis=1, inplace=True)\n",
    "df.drop('unixReviewTime', axis=1, inplace=True)\n",
    "df"
   ]
  },
  {
   "cell_type": "code",
   "execution_count": 7,
   "metadata": {},
   "outputs": [],
   "source": [
    "def remove_bullet_points(text):\n",
    "    bullet_point_pattern = re.compile(r'\\s*[\\u2022\\u2023\\u25E6]\\s*') \n",
    "    cleaned_text = bullet_point_pattern.sub(' ', text)\n",
    "\n",
    "    return cleaned_text"
   ]
  },
  {
   "cell_type": "code",
   "execution_count": 8,
   "metadata": {},
   "outputs": [],
   "source": [
    "def remove_emojis_and_symbols_from_text(text):\n",
    "    # Define pattern to match emojis\n",
    "    emoji_pattern = re.compile(\"[\"\n",
    "                           u\"\\U0001F600-\\U0001F64F\"  # emoticons\n",
    "                           u\"\\U0001F300-\\U0001F5FF\"  # symbols & pictographs\n",
    "                           u\"\\U0001F680-\\U0001F6FF\"  # transport & map symbols\n",
    "                           u\"\\U0001F1E0-\\U0001F1FF\"  # flags (iOS)\n",
    "                           u\"\\U00002500-\\U00002BEF\"  # chinese char\n",
    "                           u\"\\U00002702-\\U000027B0\"\n",
    "                           u\"\\U00002702-\\U000027B0\"\n",
    "                           u\"\\U000024C2-\\U0001F251\"\n",
    "                           u\"\\U0001f926-\\U0001f937\"\n",
    "                           u\"\\U00010000-\\U0010ffff\"\n",
    "                           u\"\\u2640-\\u2642\"\n",
    "                           u\"\\u2600-\\u2B55\"\n",
    "                           u\"\\u200d\"\n",
    "                           u\"\\u23cf\"\n",
    "                           u\"\\u23e9\"\n",
    "                           u\"\\u231a\"\n",
    "                           u\"\\ufe0f\"  # dingbats\n",
    "                           u\"\\u3030\"\n",
    "                           u\"\\u00ae\" # trade Marks ®\n",
    "                           u\"\\u00A9\" # copy Right ©\n",
    "                           u\"\\u2122\" # Trade Mark TM\n",
    "                           u\"\\u200b\"\n",
    "                           \"]+\", flags=re.UNICODE)\n",
    "    # Remove emojis from the text\n",
    "    cleaned_text = emoji_pattern.sub(r' ', text)\n",
    "    return cleaned_text"
   ]
  },
  {
   "cell_type": "code",
   "execution_count": 9,
   "metadata": {},
   "outputs": [],
   "source": [
    "def decontraction(x):\n",
    "    contractions = {\n",
    "        \"you've\": 'you have',\n",
    "        \"you're\": 'you are',\n",
    "        \"haven't\": 'have not',\n",
    "        \"hasn't\": 'has not',\n",
    "        \"hadn't've\": 'had not have',\n",
    "        \"hadn't\": 'had not',\n",
    "        \"don't\": 'do not',\n",
    "        \"doesn't\": 'does not',\n",
    "        \"didn't\": 'did not',\n",
    "        \"couldn't've\": 'could not have',\n",
    "        \"couldn't\": 'could not',\n",
    "        \"could've\": 'could have',\n",
    "        \"'cause\": 'because',\n",
    "        \"can't've\": 'cannot have',\n",
    "        \"aren't\": 'are not',\n",
    "        \"ain't\": 'am not',\n",
    "        \"can't\": 'can not',\n",
    "        \"won't\": 'will not',\n",
    "        \"he'd\": 'he would',\n",
    "        \"he'd've\": 'he would have',\n",
    "        \"he'll\": 'he will',\n",
    "        \"he'll've\": 'he will have',\n",
    "        \"he's\": 'he is',\n",
    "        \"how'd\": 'how did',\n",
    "        \"how'd'y\": 'how do you',\n",
    "        \"how'll\": 'how will',\n",
    "        \"how's\": 'how does',\n",
    "        \"i'd\": 'i would',\n",
    "        \"i'd've\": 'i would have',\n",
    "        \"i'll\": 'i will',\n",
    "        \"i'll've\": 'i will have',\n",
    "        \"i'm\": 'i am',\n",
    "        \"i've\": 'i have',\n",
    "        \"isn't\": 'is not',\n",
    "        \"it'd\": 'it would',\n",
    "        \"it'd've\": 'it would have',\n",
    "        \"it'll\": 'it will',\n",
    "        \"it'll've\": 'it will have',\n",
    "        \"it's\": 'it is',\n",
    "        \"let's\": 'let us',\n",
    "        \"ma'am\": 'madam',\n",
    "        \"mayn't\": 'may not',\n",
    "        \"might've\": 'might have',\n",
    "        \"mightn't\": 'might not',\n",
    "        \"mightn't've\": 'might not have',\n",
    "        \"must've\": 'must have',\n",
    "        \"mustn't\": 'must not',\n",
    "        \"mustn't've\": 'must not have',\n",
    "        \"needn't\": 'need not',\n",
    "        \"needn't've\": 'need not have',\n",
    "        \"o'clock\": 'of the clock',\n",
    "        \"oughtn't\": 'ought not',\n",
    "        \"oughtn't've\": 'ought not have',\n",
    "        \"shan't\": 'shall not',\n",
    "        \"sha'n't\": 'shall not',\n",
    "        \"shan't've\": 'shall not have',\n",
    "        \"she'd\": 'she would',\n",
    "        \"she'd've\": 'she would have',\n",
    "        \"she'll\": 'she will',\n",
    "        \"she'll've\": 'she will have',\n",
    "        \"she's\": 'she is',\n",
    "        \"should've\": 'should have',\n",
    "        \"shouldn't\": 'should not',\n",
    "        \"shouldn't've\": 'should not have',\n",
    "        \"so've\": 'so have',\n",
    "        \"so's\": 'so is',\n",
    "        \"that'd\": 'that would',\n",
    "        \"that'd've\": 'that would have',\n",
    "        \"that's\": 'that is',\n",
    "        \"there'd\": 'there would',\n",
    "        \"there'd've\": 'there would have',\n",
    "        \"there's\": 'there is',\n",
    "        \"they'd\": 'they would',\n",
    "        \"they'd've\": 'they would have',\n",
    "        \"they'll\": 'they will',\n",
    "        \"they'll've\": 'they will have',\n",
    "        \"they're\": 'they are',\n",
    "        \"they've\": 'they have',\n",
    "        \"to've\": 'to have',\n",
    "        \"wasn't\": 'was not',\n",
    "        \"we're\": 'we are',\n",
    "        \"'s\": \" is\",\n",
    "        \"n't\": ' not',\n",
    "        \"'re\": ' are',\n",
    "        \"'d\": ' would',\n",
    "        \"'ll\": ' will',\n",
    "        \"'t\": ' not',\n",
    "        \"'ve\": ' have',\n",
    "        \"'m\": ' am',\n",
    "        ' u ': ' you ',\n",
    "        ' ur ': ' your ',\n",
    "        ' n ': ' and '\n",
    "    }\n",
    "\n",
    "    contractions_comma = {\n",
    "        \"you’ve\": 'you have',\n",
    "        \"you’re\": 'you are',\n",
    "        \"haven’t\": 'have not',\n",
    "        \"hasn’t\": 'has not',\n",
    "        \"hadn’t've\": 'had not have',\n",
    "        \"hadn’t\": 'had not',\n",
    "        \"don’t\": 'do not',\n",
    "        \"doesn’t\": 'does not',\n",
    "        \"didn’t\": 'did not',\n",
    "        \"couldn’t’ve\": 'could not have',\n",
    "        \"couldn’t\": 'could not',\n",
    "        \"could’ve\": 'could have',\n",
    "        \"’cause\": 'because',\n",
    "        \"can’t’ve\": 'cannot have',\n",
    "        \"aren’t\": 'are not',\n",
    "        \"ain’t\": 'am not',\n",
    "        \"can’t\": 'can not',\n",
    "        \"won’t\": 'will not',\n",
    "        \"he’d\": 'he would',\n",
    "        \"he'd've\": 'he would have',\n",
    "        \"he’ll\": 'he will',\n",
    "        \"he’ll’ve\": 'he will have',\n",
    "        \"he’s\": 'he is',\n",
    "        \"how’d\": 'how did',\n",
    "        \"how’d'y\": 'how do you',\n",
    "        \"how’ll\": 'how will',\n",
    "        \"how’s\": 'how does',\n",
    "        \"i’d\": 'i would',\n",
    "        \"i’d’ve\": 'i would have',\n",
    "        \"i’ll\": 'i will',\n",
    "        \"i’ll’ve\": 'i will have',\n",
    "        \"i’m\": 'i am',\n",
    "        \"i’ve\": 'i have',\n",
    "        \"isn’t\": 'is not',\n",
    "        \"it’d\": 'it would',\n",
    "        \"it’d’ve\": 'it would have',\n",
    "        \"it’ll\": 'it will',\n",
    "        \"it'll've\": 'it will have',\n",
    "        \"it’s\": 'it is',\n",
    "        \"let's\": 'let us',\n",
    "        \"ma’am\": 'madam',\n",
    "        \"mayn’t\": 'may not',\n",
    "        \"might’ve\": 'might have',\n",
    "        \"mightn’t\": 'might not',\n",
    "        \"mightn’t've\": 'might not have',\n",
    "        \"must’ve\": 'must have',\n",
    "        \"mustn’t\": 'must not',\n",
    "        \"mustn’t’ve\": 'must not have',\n",
    "        \"needn’t\": 'need not',\n",
    "        \"needn’t’ve\": 'need not have',\n",
    "        \"o’clock\": 'of the clock',\n",
    "        \"oughtn’t\": 'ought not',\n",
    "        \"oughtn’t’ve\": 'ought not have',\n",
    "        \"shan’t\": 'shall not',\n",
    "        \"sha’n’t\": 'shall not',\n",
    "        \"shan’t’ve\": 'shall not have',\n",
    "        \"she’d\": 'she would',\n",
    "        \"she’d’ve\": 'she would have',\n",
    "        \"she’ll\": 'she will',\n",
    "        \"she’ll’ve\": 'she will have',\n",
    "        \"she’s\": 'she is',\n",
    "        \"should’ve\": 'should have',\n",
    "        \"shouldn’t\": 'should not',\n",
    "        \"shouldn't've\": 'should not have',\n",
    "        \"so’ve\": 'so have',\n",
    "        \"so's\": 'so is',\n",
    "        \"that’d\": 'that would',\n",
    "        \"that’d've\": 'that would have',\n",
    "        \"that’s\": 'that is',\n",
    "        \"there’d\": 'there would',\n",
    "        \"there’d’ve\": 'there would have',\n",
    "        \"there’s\": 'there is',\n",
    "        \"they’d\": 'they would',\n",
    "        \"they’d've\": 'they would have',\n",
    "        \"they’ll\": 'they will',\n",
    "        \"they’ll've\": 'they will have',\n",
    "        \"they’re\": 'they are',\n",
    "        \"they’ve\": 'they have',\n",
    "        \"to’ve\": 'to have',\n",
    "        \"wasn’t\": 'was not',\n",
    "        \"we’re\": 'we are',\n",
    "        \"’s\": \" is\",\n",
    "        \"n’t\": ' not',\n",
    "        \"’re\": ' are',\n",
    "        \"’d\": ' would',\n",
    "        \"’ll\": ' will',\n",
    "        \"’t\": ' not',\n",
    "        \"’ve\": ' have',\n",
    "        \"’m\": ' am',\n",
    "        ' u ': ' you ',\n",
    "        ' ur ': ' your ',\n",
    "        ' n ': ' and '\n",
    "    }\n",
    "\n",
    "    for key in contractions:\n",
    "        value = contractions[key]\n",
    "        x = x.replace(key, value)\n",
    "\n",
    "    for key in contractions_comma:\n",
    "        value = contractions_comma[key]\n",
    "        x = x.replace(key, value)\n",
    "    return x"
   ]
  },
  {
   "cell_type": "code",
   "execution_count": 10,
   "metadata": {},
   "outputs": [],
   "source": [
    "def removepunc(x):\n",
    "    punctuation = '!\\xad\\xa0\\xe2\\x80\\x9d\\xe2\\x80\\x99\\xe2\\x80\\xa2()*+-/:;<=>[]^_`{|}~@#,.?$%&\"”“’‘\\'…<>«»'\n",
    "    translation_table = str.maketrans(punctuation, ' ' * len(punctuation))\n",
    "    return x.translate(translation_table)"
   ]
  },
  {
   "cell_type": "code",
   "execution_count": 11,
   "metadata": {},
   "outputs": [],
   "source": [
    "def remove_extra_spaces(text):\n",
    "    return re.sub(r'\\s+', ' ', text)"
   ]
  },
  {
   "cell_type": "code",
   "execution_count": 12,
   "metadata": {},
   "outputs": [],
   "source": [
    "def remove_html_tags(text):\n",
    "    clean = re.compile('<.*?>')\n",
    "    return re.sub(clean, ' ', text)"
   ]
  },
  {
   "cell_type": "code",
   "execution_count": 13,
   "metadata": {},
   "outputs": [],
   "source": [
    "def remove_ampersand(text):\n",
    "    text = text.replace('&amp;', '')\n",
    "    text = text.replace('andamp;', '')\n",
    "    return text"
   ]
  },
  {
   "cell_type": "code",
   "execution_count": 14,
   "metadata": {},
   "outputs": [],
   "source": [
    "def remove_code_from_text(text):\n",
    "    code_pattern = r'\\b[0-9a-fA-F]{64}\\b'  # Assuming the code is a 64-character hexadecimal string\n",
    "    cleaned_text = re.sub(code_pattern, ' ', text)\n",
    "\n",
    "    return cleaned_text"
   ]
  },
  {
   "cell_type": "code",
   "execution_count": 15,
   "metadata": {},
   "outputs": [],
   "source": [
    "def remove_number_from_text(text):\n",
    "    number_pattern = r'[0-9]'  # Assuming the code is a 64-character hexadecimal string\n",
    "    cleaned_text = re.sub(number_pattern, ' ', text)\n",
    "\n",
    "    return cleaned_text"
   ]
  },
  {
   "cell_type": "code",
   "execution_count": 16,
   "metadata": {},
   "outputs": [],
   "source": [
    "def remove_currency_symbols(text):\n",
    "    currency_pattern = re.compile(r'[$€¥₹£¢₽₩₪₴₱₨฿₦₮₲₭₵₿]')  # Matches any currency symbol\n",
    "    cleaned_text = currency_pattern.sub(' ', text)\n",
    "\n",
    "    return cleaned_text"
   ]
  },
  {
   "cell_type": "code",
   "execution_count": 17,
   "metadata": {},
   "outputs": [],
   "source": [
    "def remove_hyphens(text):\n",
    "    hyphen_pattern = re.compile(r'\\b(\\w+)[-—‑–](\\w+)\\b')  # Matches hyphens within words\n",
    "    cleaned_text = hyphen_pattern.sub(r'\\1 \\2', text)\n",
    "\n",
    "    return cleaned_text"
   ]
  },
  {
   "cell_type": "code",
   "execution_count": 18,
   "metadata": {},
   "outputs": [],
   "source": [
    "def text_processing(text):\n",
    "\n",
    "    # Lowercasing text\n",
    "    text = text.lower()\n",
    "\n",
    "    # Removing URLs from text\n",
    "    text = re.sub(r\"http\\S+\", \"\", text)\n",
    "\n",
    "    # Removing newline character\n",
    "    text = re.sub(r\"\\n\", \"\", text)\n",
    "\n",
    "    # Replacing & character with 'and'\n",
    "    text = re.sub(r\"&\", \"and\", text)\n",
    "\n",
    "    # Removing HTML tags\n",
    "    text = remove_html_tags(text)\n",
    "\n",
    "    # Removing ampersand from the text\n",
    "    text = remove_ampersand(text)\n",
    "\n",
    "    # Performing decontraction on the text\n",
    "    text = decontraction(text)\n",
    "\n",
    "    # Removing the punctuations from the text\n",
    "    text = removepunc(text)\n",
    "\n",
    "    # Removing 64-character hexadecimal string in the text\n",
    "    text = remove_code_from_text(text)\n",
    "\n",
    "    # Removing number in the text\n",
    "    text = remove_number_from_text(text)\n",
    "\n",
    "    # Removing emojis from text\n",
    "    text = remove_emojis_and_symbols_from_text(text)\n",
    "\n",
    "    # Remove •, ‣, and ◦ bullet points\n",
    "    text = remove_bullet_points(text)\n",
    "\n",
    "    # Remove hyphens from hyphenated word\n",
    "    text = remove_hyphens(text)\n",
    "\n",
    "    # Remove currency symbols from the text\n",
    "    text = remove_currency_symbols(text)\n",
    "\n",
    "    # Removing extra space in the text\n",
    "    text = remove_extra_spaces(text)\n",
    "\n",
    "    return text"
   ]
  },
  {
   "cell_type": "code",
   "execution_count": 19,
   "metadata": {},
   "outputs": [
    {
     "data": {
      "text/plain": [
       "0                 made me look older it was the opposite \n",
       "1                               works good with exercise \n",
       "2       great smell and work better than the bad stuff...\n",
       "3       i do not understand the bad reviews because th...\n",
       "4       smells amazing and does a good job of refreshi...\n",
       "                              ...                        \n",
       "4216    this is the best smelling soap i have ever fou...\n",
       "4217    this is the best smelling soap i have ever fou...\n",
       "4218    warm soothing and a little spicy this zum bar ...\n",
       "4219    i decided to splurge for a oz bar and buy this...\n",
       "4220    this is the best smelling soap i have ever fou...\n",
       "Name: clean_reviewText, Length: 4221, dtype: object"
      ]
     },
     "execution_count": 19,
     "metadata": {},
     "output_type": "execute_result"
    }
   ],
   "source": [
    "df['clean_reviewText'] = df['reviewText'].map(str).apply(text_processing)\n",
    "df['clean_reviewText']"
   ]
  },
  {
   "cell_type": "markdown",
   "metadata": {},
   "source": [
    "#### Tokenization\n",
    "\n",
    "Splitting the input text into individual words. The most basic and common method for word tokenization is to split the text on whitespace characters (spaces, tabs, newlines) to separate words"
   ]
  },
  {
   "cell_type": "code",
   "execution_count": 20,
   "metadata": {},
   "outputs": [],
   "source": [
    "df['tokenized'] = df['clean_reviewText'].apply(lambda sentence:word_tokenize(sentence))"
   ]
  },
  {
   "cell_type": "code",
   "execution_count": 21,
   "metadata": {},
   "outputs": [
    {
     "data": {
      "text/plain": [
       "0         [made, me, look, older, it, was, the, opposite]\n",
       "1                           [works, good, with, exercise]\n",
       "2       [great, smell, and, work, better, than, the, b...\n",
       "3       [i, do, not, understand, the, bad, reviews, be...\n",
       "4       [smells, amazing, and, does, a, good, job, of,...\n",
       "                              ...                        \n",
       "4216    [this, is, the, best, smelling, soap, i, have,...\n",
       "4217    [this, is, the, best, smelling, soap, i, have,...\n",
       "4218    [warm, soothing, and, a, little, spicy, this, ...\n",
       "4219    [i, decided, to, splurge, for, a, oz, bar, and...\n",
       "4220    [this, is, the, best, smelling, soap, i, have,...\n",
       "Name: tokenized, Length: 4221, dtype: object"
      ]
     },
     "execution_count": 21,
     "metadata": {},
     "output_type": "execute_result"
    }
   ],
   "source": [
    "df['tokenized']"
   ]
  },
  {
   "cell_type": "markdown",
   "metadata": {},
   "source": [
    "#### Removing stopwords\n",
    "\n",
    "Stopwords are commonly used words in a language that are considered to have little or no semantic meaning, e.g 'the', 'is', 'and', 'a', 'an'\n",
    "\n",
    "Removing them reduce dimensionality without losing meaning -> overall W"
   ]
  },
  {
   "cell_type": "code",
   "execution_count": 22,
   "metadata": {},
   "outputs": [
    {
     "name": "stdout",
     "output_type": "stream",
     "text": [
      "Total number of Stop words:  179\n",
      "\n",
      "['i', 'me', 'my', 'myself', 'we', 'our', 'ours', 'ourselves', 'you', \"you're\", \"you've\", \"you'll\", \"you'd\", 'your', 'yours', 'yourself', 'yourselves', 'he', 'him', 'his', 'himself', 'she', \"she's\", 'her', 'hers', 'herself', 'it', \"it's\", 'its', 'itself', 'they', 'them', 'their', 'theirs', 'themselves', 'what', 'which', 'who', 'whom', 'this', 'that', \"that'll\", 'these', 'those', 'am', 'is', 'are', 'was', 'were', 'be', 'been', 'being', 'have', 'has', 'had', 'having', 'do', 'does', 'did', 'doing', 'a', 'an', 'the', 'and', 'but', 'if', 'or', 'because', 'as', 'until', 'while', 'of', 'at', 'by', 'for', 'with', 'about', 'against', 'between', 'into', 'through', 'during', 'before', 'after', 'above', 'below', 'to', 'from', 'up', 'down', 'in', 'out', 'on', 'off', 'over', 'under', 'again', 'further', 'then', 'once', 'here', 'there', 'when', 'where', 'why', 'how', 'all', 'any', 'both', 'each', 'few', 'more', 'most', 'other', 'some', 'such', 'no', 'nor', 'not', 'only', 'own', 'same', 'so', 'than', 'too', 'very', 's', 't', 'can', 'will', 'just', 'don', \"don't\", 'should', \"should've\", 'now', 'd', 'll', 'm', 'o', 're', 've', 'y', 'ain', 'aren', \"aren't\", 'couldn', \"couldn't\", 'didn', \"didn't\", 'doesn', \"doesn't\", 'hadn', \"hadn't\", 'hasn', \"hasn't\", 'haven', \"haven't\", 'isn', \"isn't\", 'ma', 'mightn', \"mightn't\", 'mustn', \"mustn't\", 'needn', \"needn't\", 'shan', \"shan't\", 'shouldn', \"shouldn't\", 'wasn', \"wasn't\", 'weren', \"weren't\", 'won', \"won't\", 'wouldn', \"wouldn't\"]\n"
     ]
    }
   ],
   "source": [
    "nltk_stopwords = stopwords.words('english')\n",
    "print(\"Total number of Stop words: \",len(nltk_stopwords))\n",
    "print()\n",
    "print(nltk_stopwords)"
   ]
  },
  {
   "cell_type": "code",
   "execution_count": 23,
   "metadata": {},
   "outputs": [
    {
     "data": {
      "text/plain": [
       "0                           [made, look, older, opposite]\n",
       "1                                 [works, good, exercise]\n",
       "2       [great, smell, work, better, bad, stuff, go, f...\n",
       "3       [understand, bad, reviews, excellent, body, wa...\n",
       "4       [smells, amazing, good, job, refreshing, provi...\n",
       "                              ...                        \n",
       "4216    [best, smelling, soap, ever, found, potently, ...\n",
       "4217    [best, smelling, soap, ever, found, potently, ...\n",
       "4218    [warm, soothing, little, spicy, zum, bar, soap...\n",
       "4219    [decided, splurge, oz, bar, buy, wonderfully, ...\n",
       "4220    [best, smelling, soap, ever, found, potently, ...\n",
       "Name: stopwords_removed, Length: 4221, dtype: object"
      ]
     },
     "execution_count": 23,
     "metadata": {},
     "output_type": "execute_result"
    }
   ],
   "source": [
    "def remove_stopwords(tokens):\n",
    "    # Get the English stop words from NLTK\n",
    "    stop_words = set(stopwords.words('english'))\n",
    "\n",
    "    return [word for word in tokens if word.lower() not in stop_words]\n",
    "\n",
    "# Removing stop words from the tokenized text column\n",
    "df['stopwords_removed'] = df['tokenized'].apply(remove_stopwords)\n",
    "\n",
    "df['stopwords_removed']"
   ]
  },
  {
   "cell_type": "code",
   "execution_count": 24,
   "metadata": {},
   "outputs": [],
   "source": [
    "# from sklearn.feature_extraction.text import TfidfVectorizer\n",
    "\n",
    "# # Sample data: a list of documents\n",
    "# documents = [\n",
    "#     \"The sky is blue.\",\n",
    "#     \"The sun is bright today.\",\n",
    "#     \"The sun in the sky is bright.\",\n",
    "#     \"We can see the shining sun, the bright sun.\"\n",
    "# ]\n",
    "\n",
    "# # Initialize the TfidfVectorizer\n",
    "# vectorizer = TfidfVectorizer()\n",
    "\n",
    "# # Fit and transform the documents\n",
    "# tfidf_matrix = vectorizer.fit_transform(documents)\n",
    "\n",
    "# # Convert the TF-IDF matrix to a dense format (optional)\n",
    "# tfidf_matrix_dense = tfidf_matrix.toarray()\n",
    "\n",
    "# # Get the feature names (words)\n",
    "# feature_names = vectorizer.get_feature_names_out()\n",
    "\n",
    "# # Display the TF-IDF matrix\n",
    "# print(\"TF-IDF Matrix (Dense Format):\")\n",
    "# print(tfidf_matrix_dense)\n",
    "\n",
    "# print(\"\\nFeature Names:\")\n",
    "# print(feature_names)\n",
    "\n",
    "# # Create a DataFrame for better visualization (optional)\n",
    "# import pandas as pd\n",
    "\n",
    "# df = pd.DataFrame(tfidf_matrix_dense, columns=feature_names)\n",
    "# print(\"\\nTF-IDF DataFrame:\")\n",
    "# print(df)\n"
   ]
  },
  {
   "cell_type": "markdown",
   "metadata": {},
   "source": [
    "#### Stemming\n",
    "\n",
    "Reduce words to their base or root form, called a stem. The stem may not necessarily be a valid word itself, but it represents the core meaning of the word."
   ]
  },
  {
   "cell_type": "code",
   "execution_count": 25,
   "metadata": {},
   "outputs": [
    {
     "data": {
      "text/html": [
       "<div>\n",
       "<style scoped>\n",
       "    .dataframe tbody tr th:only-of-type {\n",
       "        vertical-align: middle;\n",
       "    }\n",
       "\n",
       "    .dataframe tbody tr th {\n",
       "        vertical-align: top;\n",
       "    }\n",
       "\n",
       "    .dataframe thead th {\n",
       "        text-align: right;\n",
       "    }\n",
       "</style>\n",
       "<table border=\"1\" class=\"dataframe\">\n",
       "  <thead>\n",
       "    <tr style=\"text-align: right;\">\n",
       "      <th></th>\n",
       "      <th>overall</th>\n",
       "      <th>verified</th>\n",
       "      <th>reviewerID</th>\n",
       "      <th>productID</th>\n",
       "      <th>reviewText</th>\n",
       "      <th>clean_reviewText</th>\n",
       "      <th>tokenized</th>\n",
       "      <th>stopwords_removed</th>\n",
       "      <th>stemmatized_text</th>\n",
       "    </tr>\n",
       "  </thead>\n",
       "  <tbody>\n",
       "    <tr>\n",
       "      <th>0</th>\n",
       "      <td>5</td>\n",
       "      <td>1</td>\n",
       "      <td>A30VYJQW4XWDQ6</td>\n",
       "      <td>B0011FYB5I</td>\n",
       "      <td>Made me look older, it was the opposite.</td>\n",
       "      <td>made me look older it was the opposite</td>\n",
       "      <td>[made, me, look, older, it, was, the, opposite]</td>\n",
       "      <td>[made, look, older, opposite]</td>\n",
       "      <td>[made, look, older, opposit]</td>\n",
       "    </tr>\n",
       "    <tr>\n",
       "      <th>1</th>\n",
       "      <td>5</td>\n",
       "      <td>1</td>\n",
       "      <td>A30VYJQW4XWDQ6</td>\n",
       "      <td>B0011FYB5I</td>\n",
       "      <td>Works good with exercise.</td>\n",
       "      <td>works good with exercise</td>\n",
       "      <td>[works, good, with, exercise]</td>\n",
       "      <td>[works, good, exercise]</td>\n",
       "      <td>[work, good, exercis]</td>\n",
       "    </tr>\n",
       "    <tr>\n",
       "      <th>2</th>\n",
       "      <td>5</td>\n",
       "      <td>1</td>\n",
       "      <td>A28F08XFZRKIH5</td>\n",
       "      <td>B01DKQAXC0</td>\n",
       "      <td>great smell, and work better than the bad stuf...</td>\n",
       "      <td>great smell and work better than the bad stuff...</td>\n",
       "      <td>[great, smell, and, work, better, than, the, b...</td>\n",
       "      <td>[great, smell, work, better, bad, stuff, go, f...</td>\n",
       "      <td>[great, smell, work, better, bad, stuff, go, f...</td>\n",
       "    </tr>\n",
       "    <tr>\n",
       "      <th>3</th>\n",
       "      <td>3</td>\n",
       "      <td>1</td>\n",
       "      <td>A157AUOFPJQ46Q</td>\n",
       "      <td>B000X7ST9Y</td>\n",
       "      <td>I don't understand the bad reviews because thi...</td>\n",
       "      <td>i do not understand the bad reviews because th...</td>\n",
       "      <td>[i, do, not, understand, the, bad, reviews, be...</td>\n",
       "      <td>[understand, bad, reviews, excellent, body, wa...</td>\n",
       "      <td>[understand, bad, review, excel, bodi, wash, s...</td>\n",
       "    </tr>\n",
       "    <tr>\n",
       "      <th>4</th>\n",
       "      <td>5</td>\n",
       "      <td>1</td>\n",
       "      <td>A2USMIT2CSA08</td>\n",
       "      <td>B0091OCA86</td>\n",
       "      <td>Smells amazing and does a good job of refreshi...</td>\n",
       "      <td>smells amazing and does a good job of refreshi...</td>\n",
       "      <td>[smells, amazing, and, does, a, good, job, of,...</td>\n",
       "      <td>[smells, amazing, good, job, refreshing, provi...</td>\n",
       "      <td>[smell, amaz, good, job, refresh, provid, mois...</td>\n",
       "    </tr>\n",
       "    <tr>\n",
       "      <th>...</th>\n",
       "      <td>...</td>\n",
       "      <td>...</td>\n",
       "      <td>...</td>\n",
       "      <td>...</td>\n",
       "      <td>...</td>\n",
       "      <td>...</td>\n",
       "      <td>...</td>\n",
       "      <td>...</td>\n",
       "      <td>...</td>\n",
       "    </tr>\n",
       "    <tr>\n",
       "      <th>4216</th>\n",
       "      <td>5</td>\n",
       "      <td>0</td>\n",
       "      <td>A3E5V5TSTAY3R9</td>\n",
       "      <td>B0006O10P4</td>\n",
       "      <td>This is the best smelling soap I've ever found...</td>\n",
       "      <td>this is the best smelling soap i have ever fou...</td>\n",
       "      <td>[this, is, the, best, smelling, soap, i, have,...</td>\n",
       "      <td>[best, smelling, soap, ever, found, potently, ...</td>\n",
       "      <td>[best, smell, soap, ever, found, potent, scent...</td>\n",
       "    </tr>\n",
       "    <tr>\n",
       "      <th>4217</th>\n",
       "      <td>5</td>\n",
       "      <td>0</td>\n",
       "      <td>A3E5V5TSTAY3R9</td>\n",
       "      <td>B0006O10P4</td>\n",
       "      <td>This is the best smelling soap I've ever found...</td>\n",
       "      <td>this is the best smelling soap i have ever fou...</td>\n",
       "      <td>[this, is, the, best, smelling, soap, i, have,...</td>\n",
       "      <td>[best, smelling, soap, ever, found, potently, ...</td>\n",
       "      <td>[best, smell, soap, ever, found, potent, scent...</td>\n",
       "    </tr>\n",
       "    <tr>\n",
       "      <th>4218</th>\n",
       "      <td>5</td>\n",
       "      <td>0</td>\n",
       "      <td>A281NPSIMI1C2R</td>\n",
       "      <td>B0006O10P4</td>\n",
       "      <td>Warm, soothing and a little spicy. This zum ba...</td>\n",
       "      <td>warm soothing and a little spicy this zum bar ...</td>\n",
       "      <td>[warm, soothing, and, a, little, spicy, this, ...</td>\n",
       "      <td>[warm, soothing, little, spicy, zum, bar, soap...</td>\n",
       "      <td>[warm, sooth, littl, spici, zum, bar, soap, pe...</td>\n",
       "    </tr>\n",
       "    <tr>\n",
       "      <th>4219</th>\n",
       "      <td>5</td>\n",
       "      <td>1</td>\n",
       "      <td>A3E5V5TSTAY3R9</td>\n",
       "      <td>B0006O10P4</td>\n",
       "      <td>I decided to SPLURGE ($8.98 for a 3 oz. bar) a...</td>\n",
       "      <td>i decided to splurge for a oz bar and buy this...</td>\n",
       "      <td>[i, decided, to, splurge, for, a, oz, bar, and...</td>\n",
       "      <td>[decided, splurge, oz, bar, buy, wonderfully, ...</td>\n",
       "      <td>[decid, splurg, oz, bar, buy, wonder, strong, ...</td>\n",
       "    </tr>\n",
       "    <tr>\n",
       "      <th>4220</th>\n",
       "      <td>5</td>\n",
       "      <td>1</td>\n",
       "      <td>A3E5V5TSTAY3R9</td>\n",
       "      <td>B0006O10P4</td>\n",
       "      <td>This is the best smelling soap I've ever found...</td>\n",
       "      <td>this is the best smelling soap i have ever fou...</td>\n",
       "      <td>[this, is, the, best, smelling, soap, i, have,...</td>\n",
       "      <td>[best, smelling, soap, ever, found, potently, ...</td>\n",
       "      <td>[best, smell, soap, ever, found, potent, scent...</td>\n",
       "    </tr>\n",
       "  </tbody>\n",
       "</table>\n",
       "<p>4221 rows × 9 columns</p>\n",
       "</div>"
      ],
      "text/plain": [
       "      overall  verified      reviewerID   productID  \\\n",
       "0           5         1  A30VYJQW4XWDQ6  B0011FYB5I   \n",
       "1           5         1  A30VYJQW4XWDQ6  B0011FYB5I   \n",
       "2           5         1  A28F08XFZRKIH5  B01DKQAXC0   \n",
       "3           3         1  A157AUOFPJQ46Q  B000X7ST9Y   \n",
       "4           5         1   A2USMIT2CSA08  B0091OCA86   \n",
       "...       ...       ...             ...         ...   \n",
       "4216        5         0  A3E5V5TSTAY3R9  B0006O10P4   \n",
       "4217        5         0  A3E5V5TSTAY3R9  B0006O10P4   \n",
       "4218        5         0  A281NPSIMI1C2R  B0006O10P4   \n",
       "4219        5         1  A3E5V5TSTAY3R9  B0006O10P4   \n",
       "4220        5         1  A3E5V5TSTAY3R9  B0006O10P4   \n",
       "\n",
       "                                             reviewText  \\\n",
       "0              Made me look older, it was the opposite.   \n",
       "1                             Works good with exercise.   \n",
       "2     great smell, and work better than the bad stuf...   \n",
       "3     I don't understand the bad reviews because thi...   \n",
       "4     Smells amazing and does a good job of refreshi...   \n",
       "...                                                 ...   \n",
       "4216  This is the best smelling soap I've ever found...   \n",
       "4217  This is the best smelling soap I've ever found...   \n",
       "4218  Warm, soothing and a little spicy. This zum ba...   \n",
       "4219  I decided to SPLURGE ($8.98 for a 3 oz. bar) a...   \n",
       "4220  This is the best smelling soap I've ever found...   \n",
       "\n",
       "                                       clean_reviewText  \\\n",
       "0               made me look older it was the opposite    \n",
       "1                             works good with exercise    \n",
       "2     great smell and work better than the bad stuff...   \n",
       "3     i do not understand the bad reviews because th...   \n",
       "4     smells amazing and does a good job of refreshi...   \n",
       "...                                                 ...   \n",
       "4216  this is the best smelling soap i have ever fou...   \n",
       "4217  this is the best smelling soap i have ever fou...   \n",
       "4218  warm soothing and a little spicy this zum bar ...   \n",
       "4219  i decided to splurge for a oz bar and buy this...   \n",
       "4220  this is the best smelling soap i have ever fou...   \n",
       "\n",
       "                                              tokenized  \\\n",
       "0       [made, me, look, older, it, was, the, opposite]   \n",
       "1                         [works, good, with, exercise]   \n",
       "2     [great, smell, and, work, better, than, the, b...   \n",
       "3     [i, do, not, understand, the, bad, reviews, be...   \n",
       "4     [smells, amazing, and, does, a, good, job, of,...   \n",
       "...                                                 ...   \n",
       "4216  [this, is, the, best, smelling, soap, i, have,...   \n",
       "4217  [this, is, the, best, smelling, soap, i, have,...   \n",
       "4218  [warm, soothing, and, a, little, spicy, this, ...   \n",
       "4219  [i, decided, to, splurge, for, a, oz, bar, and...   \n",
       "4220  [this, is, the, best, smelling, soap, i, have,...   \n",
       "\n",
       "                                      stopwords_removed  \\\n",
       "0                         [made, look, older, opposite]   \n",
       "1                               [works, good, exercise]   \n",
       "2     [great, smell, work, better, bad, stuff, go, f...   \n",
       "3     [understand, bad, reviews, excellent, body, wa...   \n",
       "4     [smells, amazing, good, job, refreshing, provi...   \n",
       "...                                                 ...   \n",
       "4216  [best, smelling, soap, ever, found, potently, ...   \n",
       "4217  [best, smelling, soap, ever, found, potently, ...   \n",
       "4218  [warm, soothing, little, spicy, zum, bar, soap...   \n",
       "4219  [decided, splurge, oz, bar, buy, wonderfully, ...   \n",
       "4220  [best, smelling, soap, ever, found, potently, ...   \n",
       "\n",
       "                                       stemmatized_text  \n",
       "0                          [made, look, older, opposit]  \n",
       "1                                 [work, good, exercis]  \n",
       "2     [great, smell, work, better, bad, stuff, go, f...  \n",
       "3     [understand, bad, review, excel, bodi, wash, s...  \n",
       "4     [smell, amaz, good, job, refresh, provid, mois...  \n",
       "...                                                 ...  \n",
       "4216  [best, smell, soap, ever, found, potent, scent...  \n",
       "4217  [best, smell, soap, ever, found, potent, scent...  \n",
       "4218  [warm, sooth, littl, spici, zum, bar, soap, pe...  \n",
       "4219  [decid, splurg, oz, bar, buy, wonder, strong, ...  \n",
       "4220  [best, smell, soap, ever, found, potent, scent...  \n",
       "\n",
       "[4221 rows x 9 columns]"
      ]
     },
     "execution_count": 25,
     "metadata": {},
     "output_type": "execute_result"
    }
   ],
   "source": [
    "snow_stemmer = nltk.stem.SnowballStemmer('english')\n",
    "\n",
    "df['stemmatized_text'] = df['stopwords_removed'].apply(lambda x: [snow_stemmer.stem(word) for word in x])\n",
    "df"
   ]
  },
  {
   "cell_type": "code",
   "execution_count": 26,
   "metadata": {},
   "outputs": [
    {
     "data": {
      "text/html": [
       "<div>\n",
       "<style scoped>\n",
       "    .dataframe tbody tr th:only-of-type {\n",
       "        vertical-align: middle;\n",
       "    }\n",
       "\n",
       "    .dataframe tbody tr th {\n",
       "        vertical-align: top;\n",
       "    }\n",
       "\n",
       "    .dataframe thead th {\n",
       "        text-align: right;\n",
       "    }\n",
       "</style>\n",
       "<table border=\"1\" class=\"dataframe\">\n",
       "  <thead>\n",
       "    <tr style=\"text-align: right;\">\n",
       "      <th></th>\n",
       "      <th>overall</th>\n",
       "      <th>verified</th>\n",
       "      <th>reviewerID</th>\n",
       "      <th>productID</th>\n",
       "      <th>reviewText</th>\n",
       "    </tr>\n",
       "  </thead>\n",
       "  <tbody>\n",
       "    <tr>\n",
       "      <th>0</th>\n",
       "      <td>5</td>\n",
       "      <td>1</td>\n",
       "      <td>A30VYJQW4XWDQ6</td>\n",
       "      <td>B0011FYB5I</td>\n",
       "      <td>[made, look, older, opposit]</td>\n",
       "    </tr>\n",
       "    <tr>\n",
       "      <th>1</th>\n",
       "      <td>5</td>\n",
       "      <td>1</td>\n",
       "      <td>A30VYJQW4XWDQ6</td>\n",
       "      <td>B0011FYB5I</td>\n",
       "      <td>[work, good, exercis]</td>\n",
       "    </tr>\n",
       "    <tr>\n",
       "      <th>2</th>\n",
       "      <td>5</td>\n",
       "      <td>1</td>\n",
       "      <td>A28F08XFZRKIH5</td>\n",
       "      <td>B01DKQAXC0</td>\n",
       "      <td>[great, smell, work, better, bad, stuff, go, f...</td>\n",
       "    </tr>\n",
       "    <tr>\n",
       "      <th>3</th>\n",
       "      <td>3</td>\n",
       "      <td>1</td>\n",
       "      <td>A157AUOFPJQ46Q</td>\n",
       "      <td>B000X7ST9Y</td>\n",
       "      <td>[understand, bad, review, excel, bodi, wash, s...</td>\n",
       "    </tr>\n",
       "    <tr>\n",
       "      <th>4</th>\n",
       "      <td>5</td>\n",
       "      <td>1</td>\n",
       "      <td>A2USMIT2CSA08</td>\n",
       "      <td>B0091OCA86</td>\n",
       "      <td>[smell, amaz, good, job, refresh, provid, mois...</td>\n",
       "    </tr>\n",
       "    <tr>\n",
       "      <th>...</th>\n",
       "      <td>...</td>\n",
       "      <td>...</td>\n",
       "      <td>...</td>\n",
       "      <td>...</td>\n",
       "      <td>...</td>\n",
       "    </tr>\n",
       "    <tr>\n",
       "      <th>4216</th>\n",
       "      <td>5</td>\n",
       "      <td>0</td>\n",
       "      <td>A3E5V5TSTAY3R9</td>\n",
       "      <td>B0006O10P4</td>\n",
       "      <td>[best, smell, soap, ever, found, potent, scent...</td>\n",
       "    </tr>\n",
       "    <tr>\n",
       "      <th>4217</th>\n",
       "      <td>5</td>\n",
       "      <td>0</td>\n",
       "      <td>A3E5V5TSTAY3R9</td>\n",
       "      <td>B0006O10P4</td>\n",
       "      <td>[best, smell, soap, ever, found, potent, scent...</td>\n",
       "    </tr>\n",
       "    <tr>\n",
       "      <th>4218</th>\n",
       "      <td>5</td>\n",
       "      <td>0</td>\n",
       "      <td>A281NPSIMI1C2R</td>\n",
       "      <td>B0006O10P4</td>\n",
       "      <td>[warm, sooth, littl, spici, zum, bar, soap, pe...</td>\n",
       "    </tr>\n",
       "    <tr>\n",
       "      <th>4219</th>\n",
       "      <td>5</td>\n",
       "      <td>1</td>\n",
       "      <td>A3E5V5TSTAY3R9</td>\n",
       "      <td>B0006O10P4</td>\n",
       "      <td>[decid, splurg, oz, bar, buy, wonder, strong, ...</td>\n",
       "    </tr>\n",
       "    <tr>\n",
       "      <th>4220</th>\n",
       "      <td>5</td>\n",
       "      <td>1</td>\n",
       "      <td>A3E5V5TSTAY3R9</td>\n",
       "      <td>B0006O10P4</td>\n",
       "      <td>[best, smell, soap, ever, found, potent, scent...</td>\n",
       "    </tr>\n",
       "  </tbody>\n",
       "</table>\n",
       "<p>4221 rows × 5 columns</p>\n",
       "</div>"
      ],
      "text/plain": [
       "      overall  verified      reviewerID   productID  \\\n",
       "0           5         1  A30VYJQW4XWDQ6  B0011FYB5I   \n",
       "1           5         1  A30VYJQW4XWDQ6  B0011FYB5I   \n",
       "2           5         1  A28F08XFZRKIH5  B01DKQAXC0   \n",
       "3           3         1  A157AUOFPJQ46Q  B000X7ST9Y   \n",
       "4           5         1   A2USMIT2CSA08  B0091OCA86   \n",
       "...       ...       ...             ...         ...   \n",
       "4216        5         0  A3E5V5TSTAY3R9  B0006O10P4   \n",
       "4217        5         0  A3E5V5TSTAY3R9  B0006O10P4   \n",
       "4218        5         0  A281NPSIMI1C2R  B0006O10P4   \n",
       "4219        5         1  A3E5V5TSTAY3R9  B0006O10P4   \n",
       "4220        5         1  A3E5V5TSTAY3R9  B0006O10P4   \n",
       "\n",
       "                                             reviewText  \n",
       "0                          [made, look, older, opposit]  \n",
       "1                                 [work, good, exercis]  \n",
       "2     [great, smell, work, better, bad, stuff, go, f...  \n",
       "3     [understand, bad, review, excel, bodi, wash, s...  \n",
       "4     [smell, amaz, good, job, refresh, provid, mois...  \n",
       "...                                                 ...  \n",
       "4216  [best, smell, soap, ever, found, potent, scent...  \n",
       "4217  [best, smell, soap, ever, found, potent, scent...  \n",
       "4218  [warm, sooth, littl, spici, zum, bar, soap, pe...  \n",
       "4219  [decid, splurg, oz, bar, buy, wonder, strong, ...  \n",
       "4220  [best, smell, soap, ever, found, potent, scent...  \n",
       "\n",
       "[4221 rows x 5 columns]"
      ]
     },
     "execution_count": 26,
     "metadata": {},
     "output_type": "execute_result"
    }
   ],
   "source": [
    "df = df.drop(['reviewText',\n",
    "              'tokenized', 'clean_reviewText', 'stopwords_removed'], axis=1)\n",
    "\n",
    "# Rename the column\n",
    "df = df.rename(columns={'stemmatized_text': 'reviewText'})\n",
    "df"
   ]
  },
  {
   "cell_type": "code",
   "execution_count": 27,
   "metadata": {},
   "outputs": [
    {
     "data": {
      "text/plain": [
       "0                                 made look older opposit\n",
       "1                                       work good exercis\n",
       "2              great smell work better bad stuff go figur\n",
       "3       understand bad review excel bodi wash smell ni...\n",
       "4       smell amaz good job refresh provid moistur fre...\n",
       "                              ...                        \n",
       "4216    best smell soap ever found potent scent put ba...\n",
       "4217    best smell soap ever found potent scent put ba...\n",
       "4218    warm sooth littl spici zum bar soap perfect fa...\n",
       "4219    decid splurg oz bar buy wonder strong smell so...\n",
       "4220    best smell soap ever found potent scent put ba...\n",
       "Name: new_reviewText, Length: 4221, dtype: object"
      ]
     },
     "execution_count": 27,
     "metadata": {},
     "output_type": "execute_result"
    }
   ],
   "source": [
    "def join_words(tokens):\n",
    "    sentence = ' '.join(tokens)\n",
    "    return sentence\n",
    "\n",
    "# joining the tokenized words to provide as input to the TfidfVectorizer\n",
    "df['new_reviewText'] = df['reviewText'].apply(join_words)\n",
    "df['new_reviewText']"
   ]
  },
  {
   "cell_type": "code",
   "execution_count": 28,
   "metadata": {},
   "outputs": [],
   "source": [
    "df.to_csv('data_processed.csv')"
   ]
  },
  {
   "cell_type": "markdown",
   "metadata": {},
   "source": [
    "### see distribution"
   ]
  },
  {
   "cell_type": "code",
   "execution_count": 2,
   "metadata": {},
   "outputs": [],
   "source": [
    "df = pd.read_csv('data_processed.csv')\n",
    "df = df.dropna()"
   ]
  },
  {
   "cell_type": "code",
   "execution_count": 3,
   "metadata": {},
   "outputs": [
    {
     "name": "stdout",
     "output_type": "stream",
     "text": [
      "<class 'pandas.core.frame.DataFrame'>\n",
      "Index: 4212 entries, 0 to 4220\n",
      "Data columns (total 7 columns):\n",
      " #   Column          Non-Null Count  Dtype \n",
      "---  ------          --------------  ----- \n",
      " 0   Unnamed: 0      4212 non-null   int64 \n",
      " 1   overall         4212 non-null   int64 \n",
      " 2   verified        4212 non-null   int64 \n",
      " 3   reviewerID      4212 non-null   object\n",
      " 4   productID       4212 non-null   object\n",
      " 5   reviewText      4212 non-null   object\n",
      " 6   new_reviewText  4212 non-null   object\n",
      "dtypes: int64(3), object(4)\n",
      "memory usage: 263.2+ KB\n"
     ]
    }
   ],
   "source": [
    "df.info()"
   ]
  },
  {
   "cell_type": "code",
   "execution_count": 128,
   "metadata": {},
   "outputs": [],
   "source": [
    "df0 = df[df['verified'] == 0 ]\n",
    "df1 = df[df['verified'] == 1 ]\n",
    "\n",
    "df1 = df1.sample(n = 800,random_state= 23463456)\n",
    "df = pd.concat([df1,df0])"
   ]
  },
  {
   "cell_type": "code",
   "execution_count": 33,
   "metadata": {},
   "outputs": [],
   "source": [
    "# len_word = []\n",
    "# len_word_spam = []\n",
    "# len_word_no_spam =[]\n",
    "# for i  in df['reviewText']:\n",
    "#     len_word.append(len(i))\n",
    "\n",
    "# for i  in df[df['verified'] == 0]['reviewText']:\n",
    "#     len_word_spam.append(len(i))\n",
    "\n",
    "# for i  in df[df['verified'] == 1]['reviewText']:\n",
    "#     len_word_no_spam.append(len(i))\n",
    "\n",
    "\n",
    "\n"
   ]
  },
  {
   "cell_type": "code",
   "execution_count": null,
   "metadata": {},
   "outputs": [],
   "source": [
    "plt.figure(figsize=(30,10))\n",
    "plt.subplot(1,3,1)\n",
    "plt.hist(len_word,bins = 50)\n",
    "plt.title('distribution of len of words')\n",
    "\n",
    "plt.subplot(1,3,2)\n",
    "plt.hist(len_word_no_spam,bins = 50)\n",
    "plt.title('distribution of len of words of normal comments')\n",
    "\n",
    "\n",
    "plt.subplot(1,3,3)\n",
    "plt.hist(len_word_spam,bins = 100)\n",
    "plt.title('distribution of len of words of spam comments')"
   ]
  },
  {
   "cell_type": "code",
   "execution_count": 53,
   "metadata": {},
   "outputs": [
    {
     "data": {
      "text/html": [
       "<div>\n",
       "<style scoped>\n",
       "    .dataframe tbody tr th:only-of-type {\n",
       "        vertical-align: middle;\n",
       "    }\n",
       "\n",
       "    .dataframe tbody tr th {\n",
       "        vertical-align: top;\n",
       "    }\n",
       "\n",
       "    .dataframe thead th {\n",
       "        text-align: right;\n",
       "    }\n",
       "</style>\n",
       "<table border=\"1\" class=\"dataframe\">\n",
       "  <thead>\n",
       "    <tr style=\"text-align: right;\">\n",
       "      <th></th>\n",
       "      <th>Unnamed: 0</th>\n",
       "      <th>overall</th>\n",
       "      <th>verified</th>\n",
       "      <th>reviewerID</th>\n",
       "      <th>productID</th>\n",
       "      <th>reviewText</th>\n",
       "      <th>new_reviewText</th>\n",
       "    </tr>\n",
       "  </thead>\n",
       "  <tbody>\n",
       "    <tr>\n",
       "      <th>0</th>\n",
       "      <td>0</td>\n",
       "      <td>5</td>\n",
       "      <td>1</td>\n",
       "      <td>A30VYJQW4XWDQ6</td>\n",
       "      <td>B0011FYB5I</td>\n",
       "      <td>['made', 'look', 'older', 'opposit']</td>\n",
       "      <td>made look older opposit</td>\n",
       "    </tr>\n",
       "    <tr>\n",
       "      <th>1</th>\n",
       "      <td>1</td>\n",
       "      <td>5</td>\n",
       "      <td>1</td>\n",
       "      <td>A30VYJQW4XWDQ6</td>\n",
       "      <td>B0011FYB5I</td>\n",
       "      <td>['work', 'good', 'exercis']</td>\n",
       "      <td>work good exercis</td>\n",
       "    </tr>\n",
       "    <tr>\n",
       "      <th>2</th>\n",
       "      <td>2</td>\n",
       "      <td>5</td>\n",
       "      <td>1</td>\n",
       "      <td>A28F08XFZRKIH5</td>\n",
       "      <td>B01DKQAXC0</td>\n",
       "      <td>['great', 'smell', 'work', 'better', 'bad', 's...</td>\n",
       "      <td>great smell work better bad stuff go figur</td>\n",
       "    </tr>\n",
       "    <tr>\n",
       "      <th>3</th>\n",
       "      <td>3</td>\n",
       "      <td>3</td>\n",
       "      <td>1</td>\n",
       "      <td>A157AUOFPJQ46Q</td>\n",
       "      <td>B000X7ST9Y</td>\n",
       "      <td>['understand', 'bad', 'review', 'excel', 'bodi...</td>\n",
       "      <td>understand bad review excel bodi wash smell ni...</td>\n",
       "    </tr>\n",
       "    <tr>\n",
       "      <th>4</th>\n",
       "      <td>4</td>\n",
       "      <td>5</td>\n",
       "      <td>1</td>\n",
       "      <td>A2USMIT2CSA08</td>\n",
       "      <td>B0091OCA86</td>\n",
       "      <td>['smell', 'amaz', 'good', 'job', 'refresh', 'p...</td>\n",
       "      <td>smell amaz good job refresh provid moistur fre...</td>\n",
       "    </tr>\n",
       "    <tr>\n",
       "      <th>...</th>\n",
       "      <td>...</td>\n",
       "      <td>...</td>\n",
       "      <td>...</td>\n",
       "      <td>...</td>\n",
       "      <td>...</td>\n",
       "      <td>...</td>\n",
       "      <td>...</td>\n",
       "    </tr>\n",
       "    <tr>\n",
       "      <th>4216</th>\n",
       "      <td>4216</td>\n",
       "      <td>5</td>\n",
       "      <td>0</td>\n",
       "      <td>A3E5V5TSTAY3R9</td>\n",
       "      <td>B0006O10P4</td>\n",
       "      <td>['best', 'smell', 'soap', 'ever', 'found', 'po...</td>\n",
       "      <td>best smell soap ever found potent scent put ba...</td>\n",
       "    </tr>\n",
       "    <tr>\n",
       "      <th>4217</th>\n",
       "      <td>4217</td>\n",
       "      <td>5</td>\n",
       "      <td>0</td>\n",
       "      <td>A3E5V5TSTAY3R9</td>\n",
       "      <td>B0006O10P4</td>\n",
       "      <td>['best', 'smell', 'soap', 'ever', 'found', 'po...</td>\n",
       "      <td>best smell soap ever found potent scent put ba...</td>\n",
       "    </tr>\n",
       "    <tr>\n",
       "      <th>4218</th>\n",
       "      <td>4218</td>\n",
       "      <td>5</td>\n",
       "      <td>0</td>\n",
       "      <td>A281NPSIMI1C2R</td>\n",
       "      <td>B0006O10P4</td>\n",
       "      <td>['warm', 'sooth', 'littl', 'spici', 'zum', 'ba...</td>\n",
       "      <td>warm sooth littl spici zum bar soap perfect fa...</td>\n",
       "    </tr>\n",
       "    <tr>\n",
       "      <th>4219</th>\n",
       "      <td>4219</td>\n",
       "      <td>5</td>\n",
       "      <td>1</td>\n",
       "      <td>A3E5V5TSTAY3R9</td>\n",
       "      <td>B0006O10P4</td>\n",
       "      <td>['decid', 'splurg', 'oz', 'bar', 'buy', 'wonde...</td>\n",
       "      <td>decid splurg oz bar buy wonder strong smell so...</td>\n",
       "    </tr>\n",
       "    <tr>\n",
       "      <th>4220</th>\n",
       "      <td>4220</td>\n",
       "      <td>5</td>\n",
       "      <td>1</td>\n",
       "      <td>A3E5V5TSTAY3R9</td>\n",
       "      <td>B0006O10P4</td>\n",
       "      <td>['best', 'smell', 'soap', 'ever', 'found', 'po...</td>\n",
       "      <td>best smell soap ever found potent scent put ba...</td>\n",
       "    </tr>\n",
       "  </tbody>\n",
       "</table>\n",
       "<p>4212 rows × 7 columns</p>\n",
       "</div>"
      ],
      "text/plain": [
       "      Unnamed: 0  overall  verified      reviewerID   productID  \\\n",
       "0              0        5         1  A30VYJQW4XWDQ6  B0011FYB5I   \n",
       "1              1        5         1  A30VYJQW4XWDQ6  B0011FYB5I   \n",
       "2              2        5         1  A28F08XFZRKIH5  B01DKQAXC0   \n",
       "3              3        3         1  A157AUOFPJQ46Q  B000X7ST9Y   \n",
       "4              4        5         1   A2USMIT2CSA08  B0091OCA86   \n",
       "...          ...      ...       ...             ...         ...   \n",
       "4216        4216        5         0  A3E5V5TSTAY3R9  B0006O10P4   \n",
       "4217        4217        5         0  A3E5V5TSTAY3R9  B0006O10P4   \n",
       "4218        4218        5         0  A281NPSIMI1C2R  B0006O10P4   \n",
       "4219        4219        5         1  A3E5V5TSTAY3R9  B0006O10P4   \n",
       "4220        4220        5         1  A3E5V5TSTAY3R9  B0006O10P4   \n",
       "\n",
       "                                             reviewText  \\\n",
       "0                  ['made', 'look', 'older', 'opposit']   \n",
       "1                           ['work', 'good', 'exercis']   \n",
       "2     ['great', 'smell', 'work', 'better', 'bad', 's...   \n",
       "3     ['understand', 'bad', 'review', 'excel', 'bodi...   \n",
       "4     ['smell', 'amaz', 'good', 'job', 'refresh', 'p...   \n",
       "...                                                 ...   \n",
       "4216  ['best', 'smell', 'soap', 'ever', 'found', 'po...   \n",
       "4217  ['best', 'smell', 'soap', 'ever', 'found', 'po...   \n",
       "4218  ['warm', 'sooth', 'littl', 'spici', 'zum', 'ba...   \n",
       "4219  ['decid', 'splurg', 'oz', 'bar', 'buy', 'wonde...   \n",
       "4220  ['best', 'smell', 'soap', 'ever', 'found', 'po...   \n",
       "\n",
       "                                         new_reviewText  \n",
       "0                               made look older opposit  \n",
       "1                                     work good exercis  \n",
       "2            great smell work better bad stuff go figur  \n",
       "3     understand bad review excel bodi wash smell ni...  \n",
       "4     smell amaz good job refresh provid moistur fre...  \n",
       "...                                                 ...  \n",
       "4216  best smell soap ever found potent scent put ba...  \n",
       "4217  best smell soap ever found potent scent put ba...  \n",
       "4218  warm sooth littl spici zum bar soap perfect fa...  \n",
       "4219  decid splurg oz bar buy wonder strong smell so...  \n",
       "4220  best smell soap ever found potent scent put ba...  \n",
       "\n",
       "[4212 rows x 7 columns]"
      ]
     },
     "execution_count": 53,
     "metadata": {},
     "output_type": "execute_result"
    }
   ],
   "source": [
    "df"
   ]
  },
  {
   "cell_type": "code",
   "execution_count": 141,
   "metadata": {},
   "outputs": [
    {
     "data": {
      "text/plain": [
       "(1598, 150)"
      ]
     },
     "execution_count": 141,
     "metadata": {},
     "output_type": "execute_result"
    }
   ],
   "source": [
    "X2.shape "
   ]
  },
  {
   "cell_type": "code",
   "execution_count": 47,
   "metadata": {},
   "outputs": [],
   "source": [
    "X2 = df.drop(['overall','verified','reviewerID','productID','reviewText','Unnamed: 0'],axis =1)\n",
    "y2 = df['verified']\n",
    "\n",
    "star = df['overall'].to_numpy().reshape(X2.shape[0],1)\n",
    "\n",
    "\n",
    "list_text = []\n",
    "for i in X2['new_reviewText']:\n",
    "    list_text.append(i)\n",
    "\n",
    "from keras_preprocessing.text import Tokenizer\n",
    "from keras_preprocessing.sequence import pad_sequences\n",
    "max_words = 500\n",
    "max_len = 150\n",
    "tokenizer = Tokenizer(num_words=max_words)\n",
    "tokenizer.fit_on_texts(list_text)\n",
    "sequences = tokenizer.texts_to_sequences(list_text)\n",
    "X2 = pad_sequences(sequences, maxlen=max_len)\n",
    "\n",
    "\n",
    "X2_new = np.concatenate([star,X2],axis = 1)\n"
   ]
  },
  {
   "cell_type": "code",
   "execution_count": null,
   "metadata": {},
   "outputs": [],
   "source": [
    "\n",
    "from sklearn.preprocessing import OneHotEncoder\n",
    "encoder = OneHotEncoder(sparse_output= False)\n",
    "encoded_data = encoder.fit_transform(df['verified'].to_numpy().reshape(X2.shape[0],1))\n",
    "\n",
    "encoded_data = pd.DataFrame(encoded_data)\n"
   ]
  },
  {
   "cell_type": "code",
   "execution_count": 48,
   "metadata": {},
   "outputs": [
    {
     "data": {
      "text/plain": [
       "array([[  0,   0,   0, ...,   0,  85,  33],\n",
       "       [  0,   0,   0, ...,   0,  23,   9],\n",
       "       [  0,   0,   0, ..., 198,  76,  62],\n",
       "       ...,\n",
       "       [  0,   0,   0, ...,   5, 116,  87],\n",
       "       [  0,   0,   0, ...,   6,  53, 107],\n",
       "       [  0,   0,   0, ...,  18,  46, 116]])"
      ]
     },
     "execution_count": 48,
     "metadata": {},
     "output_type": "execute_result"
    }
   ],
   "source": [
    "X2"
   ]
  },
  {
   "cell_type": "code",
   "execution_count": 29,
   "metadata": {},
   "outputs": [
    {
     "data": {
      "text/plain": [
       "(4212, 150)"
      ]
     },
     "execution_count": 29,
     "metadata": {},
     "output_type": "execute_result"
    }
   ],
   "source": [
    "X2.shape"
   ]
  },
  {
   "cell_type": "code",
   "execution_count": 49,
   "metadata": {},
   "outputs": [
    {
     "data": {
      "text/plain": [
       "array([[  5,   0,   0, ...,   0,  85,  33],\n",
       "       [  5,   0,   0, ...,   0,  23,   9],\n",
       "       [  5,   0,   0, ..., 198,  76,  62],\n",
       "       ...,\n",
       "       [  5,   0,   0, ...,   5, 116,  87],\n",
       "       [  5,   0,   0, ...,   6,  53, 107],\n",
       "       [  5,   0,   0, ...,  18,  46, 116]], dtype=int64)"
      ]
     },
     "execution_count": 49,
     "metadata": {},
     "output_type": "execute_result"
    }
   ],
   "source": [
    "X2_new"
   ]
  },
  {
   "cell_type": "code",
   "execution_count": 33,
   "metadata": {},
   "outputs": [
    {
     "data": {
      "text/plain": [
       "0       1\n",
       "1       1\n",
       "2       1\n",
       "3       1\n",
       "4       1\n",
       "       ..\n",
       "4216    0\n",
       "4217    0\n",
       "4218    0\n",
       "4219    1\n",
       "4220    1\n",
       "Name: verified, Length: 4212, dtype: int64"
      ]
     },
     "execution_count": 33,
     "metadata": {},
     "output_type": "execute_result"
    }
   ],
   "source": [
    "y2"
   ]
  },
  {
   "cell_type": "code",
   "execution_count": 10,
   "metadata": {},
   "outputs": [],
   "source": [
    "X_T,X_test,y_T,y_test =     train_test_split(X2_new,encoded_data,test_size= 0.19,shuffle=True,stratify=y2,random_state= 4122004)\n",
    "X_train,X_val,y_train,y_val =     train_test_split(X_T,y_T,test_size= 0.11,shuffle=True,stratify=y_T,random_state= 4122004)\n"
   ]
  },
  {
   "cell_type": "code",
   "execution_count": 11,
   "metadata": {},
   "outputs": [
    {
     "data": {
      "text/plain": [
       "0     575.0\n",
       "1    2460.0\n",
       "dtype: float64"
      ]
     },
     "execution_count": 11,
     "metadata": {},
     "output_type": "execute_result"
    }
   ],
   "source": [
    "y_train.sum(axis=0)"
   ]
  },
  {
   "cell_type": "code",
   "execution_count": 157,
   "metadata": {},
   "outputs": [
    {
     "data": {
      "text/plain": [
       "array([  5,   0,   0,   0,   0,   0,   0,   0,   0,   0,   0,   0,   0,\n",
       "         0,   0,   0,   0,   0,   0,   0,   0,   0,   0,   0,   0,   0,\n",
       "         0,   0,   0,   0,   0,   0,   0,   0,   0,   0,   0,   0,   0,\n",
       "         0,   0,   0,   0,   0,   0,   0,   0,   0,   0,   0,   0,   0,\n",
       "         0,   0,   0,   0,   0,   0,   0,   0,   0,   0,   0,   0,   0,\n",
       "         0,   0,   0,   0,   0,   0,   0,   0,   0,   0,   0,   0,   0,\n",
       "         0,   0,   0,   0,   0,   0,   0,   0,   0,   0,   0,   0,   0,\n",
       "         0,   0,   0,   0,   0,   0,   0,   0,   0,   0,   0,   0,   0,\n",
       "         0,   0,   0,   0,   0,   0,   0,   0,   0,   0,   0,   0,   0,\n",
       "         0,   0,   0,   0,   0,   0,   0,   0,   0,   0,   0,   0,   0,\n",
       "         0,   0,   0,   0,   0,   0,   0,   0,   0,   0,   0,   0,  14,\n",
       "        10,   9,  10, 233,  14,   9,  15,   8], dtype=int64)"
      ]
     },
     "execution_count": 157,
     "metadata": {},
     "output_type": "execute_result"
    }
   ],
   "source": [
    "X_train[456]"
   ]
  },
  {
   "cell_type": "code",
   "execution_count": null,
   "metadata": {},
   "outputs": [],
   "source": [
    "\n",
    "# from keras_preprocessing.sequence import pad_sequences\n",
    "# maxlen = 350\n",
    "\n",
    "# X_train = pad_sequences(X_train, padding='post', maxlen=maxlen)\n",
    "# X_test = pad_sequences(X_test, padding='post', maxlen=maxlen)"
   ]
  },
  {
   "cell_type": "code",
   "execution_count": 158,
   "metadata": {},
   "outputs": [
    {
     "data": {
      "text/plain": [
       "array([[  5,   0,   0, ...,   9,  38,  78],\n",
       "       [  5,   0,   0, ...,  99, 330,   3],\n",
       "       [  5,   0,   0, ...,   3,  46,  42],\n",
       "       ...,\n",
       "       [  5,   0,   0, ...,  67, 234, 380],\n",
       "       [  5,   0,   0, ...,   6, 470,  17],\n",
       "       [  1,   0,   0, ...,  13,  41,  45]], dtype=int64)"
      ]
     },
     "execution_count": 158,
     "metadata": {},
     "output_type": "execute_result"
    }
   ],
   "source": [
    "X_test"
   ]
  },
  {
   "cell_type": "markdown",
   "metadata": {},
   "source": [
    "# TTVS"
   ]
  },
  {
   "cell_type": "code",
   "execution_count": 92,
   "metadata": {},
   "outputs": [
    {
     "data": {
      "text/plain": [
       "verified\n",
       "1    3423\n",
       "0     798\n",
       "Name: count, dtype: int64"
      ]
     },
     "execution_count": 92,
     "metadata": {},
     "output_type": "execute_result"
    }
   ],
   "source": [
    "# y.value_counts()"
   ]
  },
  {
   "cell_type": "code",
   "execution_count": 94,
   "metadata": {},
   "outputs": [
    {
     "data": {
      "text/plain": [
       "<Axes: xlabel='verified', ylabel='count'>"
      ]
     },
     "execution_count": 94,
     "metadata": {},
     "output_type": "execute_result"
    },
    {
     "data": {
      "image/png": "[encoded data removed]",
      "text/plain": [
       "<Figure size 640x480 with 1 Axes>"
      ]
     },
     "metadata": {},
     "output_type": "display_data"
    }
   ],
   "source": [
    "# siuu.countplot(df_final,x =y)\n"
   ]
  },
  {
   "cell_type": "code",
   "execution_count": 41,
   "metadata": {},
   "outputs": [
    {
     "data": {
      "image/png": "[encoded data removed]",
      "text/plain": [
       "<Figure size 640x480 with 1 Axes>"
      ]
     },
     "metadata": {},
     "output_type": "display_data"
    }
   ],
   "source": [
    "\n",
    "\n",
    "p = siuu.barplot(data = hehe.reset_index(),x = 'overall',y = 'PC1',hue = 'verified')\n",
    "for b in p.patches:\n",
    "\n",
    "    p.annotate(b.get_height(),xy=( b.get_x()+ b.get_width()/10,  b.get_height()))\n"
   ]
  },
  {
   "cell_type": "code",
   "execution_count": 42,
   "metadata": {},
   "outputs": [],
   "source": [
    "# X = data.drop(['verified','reviewerID_encoded','productID_encoded'],axis =1)\n",
    "# y = data['verified']"
   ]
  },
  {
   "cell_type": "code",
   "execution_count": 43,
   "metadata": {},
   "outputs": [],
   "source": [
    "# X_T,X_test,y_T,y_test =     train_test_split(X,y,test_size= 0.19,stratify=y,random_state= 4122004)\n",
    "# X_train,X_val,y_train,y_val =     train_test_split(X_T,y_T,test_size= 0.11,stratify=y_T,random_state= 4122004)\n"
   ]
  },
  {
   "cell_type": "markdown",
   "metadata": {},
   "source": [
    "# LSTM"
   ]
  },
  {
   "cell_type": "code",
   "execution_count": 41,
   "metadata": {},
   "outputs": [],
   "source": [
    "\n",
    "from sklearn.metrics import mean_squared_error\n",
    "from sklearn.preprocessing import MinMaxScaler\n",
    "from keras.models import Sequential\n",
    "from keras.layers import Dense,LSTM,Dropout\n",
    "\n",
    "from math import sqrt\n",
    "import matplotlib.pyplot as plt\n",
    "# be able to save images on server\n",
    "import seaborn as siuu\n",
    "import numpy as np"
   ]
  },
  {
   "cell_type": "code",
   "execution_count": 12,
   "metadata": {},
   "outputs": [],
   "source": [
    "\n",
    "from keras.callbacks import ModelCheckpoint, ReduceLROnPlateau\n",
    "checkp = ModelCheckpoint('models/best_model.keras', monitor = 'val_accuracy', verbose = 1, save_best_only = True)\n",
    "reduce = ReduceLROnPlateau(monitor = 'val_loss', patience = 20, verbose = 1)"
   ]
  },
  {
   "cell_type": "code",
   "execution_count": 55,
   "metadata": {},
   "outputs": [],
   "source": [
    "def lstm_model(hp):\n",
    "    model = Sequential()\n",
    "    unit_lstm = hp.Int('unit_lstm', min_value=20, max_value=100, step=20)\n",
    "    neuron_dense =  hp.Int('layer_1', min_value=40, max_value=150)\n",
    "\n",
    "    model.add(LSTM(units = unit_lstm, input_shape = (X_train.shape[1], 1)))\n",
    "    model.add(Dropout(rate = hp.Float('dropout',min_value = 0.1,max_value = 0.4,step = 0.1)))\n",
    "    model.add(Dense(neuron_dense,activation= 'relu'))\n",
    "    model.add(Dense(2,activation = 'softmax'))\n",
    "    optimizer = tf.keras.optimizers.Adam(learning_rate= 1e-3)\n",
    "    model.compile(loss = 'categorical_crossentropy', optimizer = 'adam', metrics = ['accuracy'])\n",
    "    print(model.summary())\n",
    "    return model\n",
    "\n",
    "\n"
   ]
  },
  {
   "cell_type": "code",
   "execution_count": 22,
   "metadata": {},
   "outputs": [],
   "source": [
    "from sklearn.model_selection import StratifiedKFold\n",
    "from imblearn.over_sampling import SMOTE\n",
    "from sklearn.pipeline import Pipeline as imbalanced_make_pipeline\n"
   ]
  },
  {
   "cell_type": "code",
   "execution_count": 73,
   "metadata": {},
   "outputs": [],
   "source": [
    "from sklearn.metrics import precision_score, recall_score,f1_score,roc_auc_score,accuracy_score,classification_report,confusion_matrix"
   ]
  },
  {
   "cell_type": "code",
   "execution_count": 58,
   "metadata": {},
   "outputs": [],
   "source": [
    "sss = StratifiedKFold(shuffle = True,random_state= 4122004)\n"
   ]
  },
  {
   "cell_type": "code",
   "execution_count": 24,
   "metadata": {},
   "outputs": [],
   "source": [
    "from keras_tuner import RandomSearch"
   ]
  },
  {
   "cell_type": "code",
   "execution_count": 59,
   "metadata": {},
   "outputs": [
    {
     "name": "stdout",
     "output_type": "stream",
     "text": [
      "Reloading Tuner from my_dir\\smote_tuning\\tuner0.json\n"
     ]
    }
   ],
   "source": [
    "## tuner\n",
    "tuner = RandomSearch(\n",
    "    lstm_model,\n",
    "    objective='val_accuracy',\n",
    "    max_trials= 10,\n",
    "    executions_per_trial=1,\n",
    "    directory='my_dir',\n",
    "    project_name='smote_tuning'\n",
    ")"
   ]
  },
  {
   "cell_type": "code",
   "execution_count": 38,
   "metadata": {},
   "outputs": [
    {
     "data": {
      "text/plain": [
       "(4212,)"
      ]
     },
     "execution_count": 38,
     "metadata": {},
     "output_type": "execute_result"
    }
   ],
   "source": [
    "y2.shape"
   ]
  },
  {
   "cell_type": "code",
   "execution_count": null,
   "metadata": {},
   "outputs": [],
   "source": [
    "from sklearn.preprocessing import OneHotEncoder\n",
    "y2 = y2.to_numpy()\n"
   ]
  },
  {
   "cell_type": "code",
   "execution_count": 74,
   "metadata": {},
   "outputs": [
    {
     "name": "stdout",
     "output_type": "stream",
     "text": [
      "\n",
      "\n",
      "\n",
      "FOLD 0\n"
     ]
    },
    {
     "name": "stderr",
     "output_type": "stream",
     "text": [
      "c:\\Users\\Admin\\miniconda3\\Lib\\site-packages\\keras\\src\\layers\\rnn\\rnn.py:204: UserWarning: Do not pass an `input_shape`/`input_dim` argument to a layer. When using Sequential models, prefer using an `Input(shape)` object as the first layer in the model instead.\n",
      "  super().__init__(**kwargs)\n"
     ]
    },
    {
     "data": {
      "text/html": [
       "<pre style=\"white-space:pre;overflow-x:auto;line-height:normal;font-family:Menlo,'DejaVu Sans Mono',consolas,'Courier New',monospace\"><span style=\"font-weight: bold\">Model: \"sequential\"</span>\n",
       "</pre>\n"
      ],
      "text/plain": [
       "\u001b[1mModel: \"sequential\"\u001b[0m\n"
      ]
     },
     "metadata": {},
     "output_type": "display_data"
    },
    {
     "data": {
      "text/html": [
       "<pre style=\"white-space:pre;overflow-x:auto;line-height:normal;font-family:Menlo,'DejaVu Sans Mono',consolas,'Courier New',monospace\">┏━━━━━━━━━━━━━━━━━━━━━━━━━━━━━━━━━┳━━━━━━━━━━━━━━━━━━━━━━━━┳━━━━━━━━━━━━━━━┓\n",
       "┃<span style=\"font-weight: bold\"> Layer (type)                    </span>┃<span style=\"font-weight: bold\"> Output Shape           </span>┃<span style=\"font-weight: bold\">       Param # </span>┃\n",
       "┡━━━━━━━━━━━━━━━━━━━━━━━━━━━━━━━━━╇━━━━━━━━━━━━━━━━━━━━━━━━╇━━━━━━━━━━━━━━━┩\n",
       "│ lstm (<span style=\"color: #0087ff; text-decoration-color: #0087ff\">LSTM</span>)                     │ (<span style=\"color: #00d7ff; text-decoration-color: #00d7ff\">None</span>, <span style=\"color: #00af00; text-decoration-color: #00af00\">100</span>)            │        <span style=\"color: #00af00; text-decoration-color: #00af00\">40,800</span> │\n",
       "├─────────────────────────────────┼────────────────────────┼───────────────┤\n",
       "│ dropout (<span style=\"color: #0087ff; text-decoration-color: #0087ff\">Dropout</span>)               │ (<span style=\"color: #00d7ff; text-decoration-color: #00d7ff\">None</span>, <span style=\"color: #00af00; text-decoration-color: #00af00\">100</span>)            │             <span style=\"color: #00af00; text-decoration-color: #00af00\">0</span> │\n",
       "├─────────────────────────────────┼────────────────────────┼───────────────┤\n",
       "│ dense (<span style=\"color: #0087ff; text-decoration-color: #0087ff\">Dense</span>)                   │ (<span style=\"color: #00d7ff; text-decoration-color: #00d7ff\">None</span>, <span style=\"color: #00af00; text-decoration-color: #00af00\">75</span>)             │         <span style=\"color: #00af00; text-decoration-color: #00af00\">7,575</span> │\n",
       "├─────────────────────────────────┼────────────────────────┼───────────────┤\n",
       "│ dense_1 (<span style=\"color: #0087ff; text-decoration-color: #0087ff\">Dense</span>)                 │ (<span style=\"color: #00d7ff; text-decoration-color: #00d7ff\">None</span>, <span style=\"color: #00af00; text-decoration-color: #00af00\">2</span>)              │           <span style=\"color: #00af00; text-decoration-color: #00af00\">152</span> │\n",
       "└─────────────────────────────────┴────────────────────────┴───────────────┘\n",
       "</pre>\n"
      ],
      "text/plain": [
       "┏━━━━━━━━━━━━━━━━━━━━━━━━━━━━━━━━━┳━━━━━━━━━━━━━━━━━━━━━━━━┳━━━━━━━━━━━━━━━┓\n",
       "┃\u001b[1m \u001b[0m\u001b[1mLayer (type)                   \u001b[0m\u001b[1m \u001b[0m┃\u001b[1m \u001b[0m\u001b[1mOutput Shape          \u001b[0m\u001b[1m \u001b[0m┃\u001b[1m \u001b[0m\u001b[1m      Param #\u001b[0m\u001b[1m \u001b[0m┃\n",
       "┡━━━━━━━━━━━━━━━━━━━━━━━━━━━━━━━━━╇━━━━━━━━━━━━━━━━━━━━━━━━╇━━━━━━━━━━━━━━━┩\n",
       "│ lstm (\u001b[38;5;33mLSTM\u001b[0m)                     │ (\u001b[38;5;45mNone\u001b[0m, \u001b[38;5;34m100\u001b[0m)            │        \u001b[38;5;34m40,800\u001b[0m │\n",
       "├─────────────────────────────────┼────────────────────────┼───────────────┤\n",
       "│ dropout (\u001b[38;5;33mDropout\u001b[0m)               │ (\u001b[38;5;45mNone\u001b[0m, \u001b[38;5;34m100\u001b[0m)            │             \u001b[38;5;34m0\u001b[0m │\n",
       "├─────────────────────────────────┼────────────────────────┼───────────────┤\n",
       "│ dense (\u001b[38;5;33mDense\u001b[0m)                   │ (\u001b[38;5;45mNone\u001b[0m, \u001b[38;5;34m75\u001b[0m)             │         \u001b[38;5;34m7,575\u001b[0m │\n",
       "├─────────────────────────────────┼────────────────────────┼───────────────┤\n",
       "│ dense_1 (\u001b[38;5;33mDense\u001b[0m)                 │ (\u001b[38;5;45mNone\u001b[0m, \u001b[38;5;34m2\u001b[0m)              │           \u001b[38;5;34m152\u001b[0m │\n",
       "└─────────────────────────────────┴────────────────────────┴───────────────┘\n"
      ]
     },
     "metadata": {},
     "output_type": "display_data"
    },
    {
     "data": {
      "text/html": [
       "<pre style=\"white-space:pre;overflow-x:auto;line-height:normal;font-family:Menlo,'DejaVu Sans Mono',consolas,'Courier New',monospace\"><span style=\"font-weight: bold\"> Total params: </span><span style=\"color: #00af00; text-decoration-color: #00af00\">48,527</span> (189.56 KB)\n",
       "</pre>\n"
      ],
      "text/plain": [
       "\u001b[1m Total params: \u001b[0m\u001b[38;5;34m48,527\u001b[0m (189.56 KB)\n"
      ]
     },
     "metadata": {},
     "output_type": "display_data"
    },
    {
     "data": {
      "text/html": [
       "<pre style=\"white-space:pre;overflow-x:auto;line-height:normal;font-family:Menlo,'DejaVu Sans Mono',consolas,'Courier New',monospace\"><span style=\"font-weight: bold\"> Trainable params: </span><span style=\"color: #00af00; text-decoration-color: #00af00\">48,527</span> (189.56 KB)\n",
       "</pre>\n"
      ],
      "text/plain": [
       "\u001b[1m Trainable params: \u001b[0m\u001b[38;5;34m48,527\u001b[0m (189.56 KB)\n"
      ]
     },
     "metadata": {},
     "output_type": "display_data"
    },
    {
     "data": {
      "text/html": [
       "<pre style=\"white-space:pre;overflow-x:auto;line-height:normal;font-family:Menlo,'DejaVu Sans Mono',consolas,'Courier New',monospace\"><span style=\"font-weight: bold\"> Non-trainable params: </span><span style=\"color: #00af00; text-decoration-color: #00af00\">0</span> (0.00 B)\n",
       "</pre>\n"
      ],
      "text/plain": [
       "\u001b[1m Non-trainable params: \u001b[0m\u001b[38;5;34m0\u001b[0m (0.00 B)\n"
      ]
     },
     "metadata": {},
     "output_type": "display_data"
    },
    {
     "name": "stderr",
     "output_type": "stream",
     "text": [
      "c:\\Users\\Admin\\miniconda3\\Lib\\site-packages\\keras\\src\\saving\\saving_lib.py:415: UserWarning: Skipping variable loading for optimizer 'adam', because it has 2 variables whereas the saved optimizer has 16 variables. \n",
      "  saveable.load_own_variables(weights_store.get(inner_path))\n"
     ]
    },
    {
     "name": "stdout",
     "output_type": "stream",
     "text": [
      "None\n",
      "\u001b[1m27/27\u001b[0m \u001b[32m━━━━━━━━━━━━━━━━━━━━\u001b[0m\u001b[37m\u001b[0m \u001b[1m1s\u001b[0m 24ms/step\n",
      "0.9157769869513642\n",
      "0.9622356495468278\n",
      "0.9326500732064422\n",
      "0.9472118959107807\n",
      "0.8882000366032211\n",
      "Accuracy : 0.9157769869513642\n",
      "[[135  25]\n",
      " [ 46 637]]\n",
      "              precision    recall  f1-score   support\n",
      "\n",
      "        Spam       0.75      0.84      0.79       160\n",
      "     No spam       0.96      0.93      0.95       683\n",
      "\n",
      "    accuracy                           0.92       843\n",
      "   macro avg       0.85      0.89      0.87       843\n",
      "weighted avg       0.92      0.92      0.92       843\n",
      "\n",
      "\n",
      "\n",
      "\n",
      "FOLD 1\n"
     ]
    },
    {
     "name": "stderr",
     "output_type": "stream",
     "text": [
      "c:\\Users\\Admin\\miniconda3\\Lib\\site-packages\\keras\\src\\layers\\rnn\\rnn.py:204: UserWarning: Do not pass an `input_shape`/`input_dim` argument to a layer. When using Sequential models, prefer using an `Input(shape)` object as the first layer in the model instead.\n",
      "  super().__init__(**kwargs)\n"
     ]
    },
    {
     "data": {
      "text/html": [
       "<pre style=\"white-space:pre;overflow-x:auto;line-height:normal;font-family:Menlo,'DejaVu Sans Mono',consolas,'Courier New',monospace\"><span style=\"font-weight: bold\">Model: \"sequential\"</span>\n",
       "</pre>\n"
      ],
      "text/plain": [
       "\u001b[1mModel: \"sequential\"\u001b[0m\n"
      ]
     },
     "metadata": {},
     "output_type": "display_data"
    },
    {
     "data": {
      "text/html": [
       "<pre style=\"white-space:pre;overflow-x:auto;line-height:normal;font-family:Menlo,'DejaVu Sans Mono',consolas,'Courier New',monospace\">┏━━━━━━━━━━━━━━━━━━━━━━━━━━━━━━━━━┳━━━━━━━━━━━━━━━━━━━━━━━━┳━━━━━━━━━━━━━━━┓\n",
       "┃<span style=\"font-weight: bold\"> Layer (type)                    </span>┃<span style=\"font-weight: bold\"> Output Shape           </span>┃<span style=\"font-weight: bold\">       Param # </span>┃\n",
       "┡━━━━━━━━━━━━━━━━━━━━━━━━━━━━━━━━━╇━━━━━━━━━━━━━━━━━━━━━━━━╇━━━━━━━━━━━━━━━┩\n",
       "│ lstm (<span style=\"color: #0087ff; text-decoration-color: #0087ff\">LSTM</span>)                     │ (<span style=\"color: #00d7ff; text-decoration-color: #00d7ff\">None</span>, <span style=\"color: #00af00; text-decoration-color: #00af00\">100</span>)            │        <span style=\"color: #00af00; text-decoration-color: #00af00\">40,800</span> │\n",
       "├─────────────────────────────────┼────────────────────────┼───────────────┤\n",
       "│ dropout (<span style=\"color: #0087ff; text-decoration-color: #0087ff\">Dropout</span>)               │ (<span style=\"color: #00d7ff; text-decoration-color: #00d7ff\">None</span>, <span style=\"color: #00af00; text-decoration-color: #00af00\">100</span>)            │             <span style=\"color: #00af00; text-decoration-color: #00af00\">0</span> │\n",
       "├─────────────────────────────────┼────────────────────────┼───────────────┤\n",
       "│ dense (<span style=\"color: #0087ff; text-decoration-color: #0087ff\">Dense</span>)                   │ (<span style=\"color: #00d7ff; text-decoration-color: #00d7ff\">None</span>, <span style=\"color: #00af00; text-decoration-color: #00af00\">75</span>)             │         <span style=\"color: #00af00; text-decoration-color: #00af00\">7,575</span> │\n",
       "├─────────────────────────────────┼────────────────────────┼───────────────┤\n",
       "│ dense_1 (<span style=\"color: #0087ff; text-decoration-color: #0087ff\">Dense</span>)                 │ (<span style=\"color: #00d7ff; text-decoration-color: #00d7ff\">None</span>, <span style=\"color: #00af00; text-decoration-color: #00af00\">2</span>)              │           <span style=\"color: #00af00; text-decoration-color: #00af00\">152</span> │\n",
       "└─────────────────────────────────┴────────────────────────┴───────────────┘\n",
       "</pre>\n"
      ],
      "text/plain": [
       "┏━━━━━━━━━━━━━━━━━━━━━━━━━━━━━━━━━┳━━━━━━━━━━━━━━━━━━━━━━━━┳━━━━━━━━━━━━━━━┓\n",
       "┃\u001b[1m \u001b[0m\u001b[1mLayer (type)                   \u001b[0m\u001b[1m \u001b[0m┃\u001b[1m \u001b[0m\u001b[1mOutput Shape          \u001b[0m\u001b[1m \u001b[0m┃\u001b[1m \u001b[0m\u001b[1m      Param #\u001b[0m\u001b[1m \u001b[0m┃\n",
       "┡━━━━━━━━━━━━━━━━━━━━━━━━━━━━━━━━━╇━━━━━━━━━━━━━━━━━━━━━━━━╇━━━━━━━━━━━━━━━┩\n",
       "│ lstm (\u001b[38;5;33mLSTM\u001b[0m)                     │ (\u001b[38;5;45mNone\u001b[0m, \u001b[38;5;34m100\u001b[0m)            │        \u001b[38;5;34m40,800\u001b[0m │\n",
       "├─────────────────────────────────┼────────────────────────┼───────────────┤\n",
       "│ dropout (\u001b[38;5;33mDropout\u001b[0m)               │ (\u001b[38;5;45mNone\u001b[0m, \u001b[38;5;34m100\u001b[0m)            │             \u001b[38;5;34m0\u001b[0m │\n",
       "├─────────────────────────────────┼────────────────────────┼───────────────┤\n",
       "│ dense (\u001b[38;5;33mDense\u001b[0m)                   │ (\u001b[38;5;45mNone\u001b[0m, \u001b[38;5;34m75\u001b[0m)             │         \u001b[38;5;34m7,575\u001b[0m │\n",
       "├─────────────────────────────────┼────────────────────────┼───────────────┤\n",
       "│ dense_1 (\u001b[38;5;33mDense\u001b[0m)                 │ (\u001b[38;5;45mNone\u001b[0m, \u001b[38;5;34m2\u001b[0m)              │           \u001b[38;5;34m152\u001b[0m │\n",
       "└─────────────────────────────────┴────────────────────────┴───────────────┘\n"
      ]
     },
     "metadata": {},
     "output_type": "display_data"
    },
    {
     "data": {
      "text/html": [
       "<pre style=\"white-space:pre;overflow-x:auto;line-height:normal;font-family:Menlo,'DejaVu Sans Mono',consolas,'Courier New',monospace\"><span style=\"font-weight: bold\"> Total params: </span><span style=\"color: #00af00; text-decoration-color: #00af00\">48,527</span> (189.56 KB)\n",
       "</pre>\n"
      ],
      "text/plain": [
       "\u001b[1m Total params: \u001b[0m\u001b[38;5;34m48,527\u001b[0m (189.56 KB)\n"
      ]
     },
     "metadata": {},
     "output_type": "display_data"
    },
    {
     "data": {
      "text/html": [
       "<pre style=\"white-space:pre;overflow-x:auto;line-height:normal;font-family:Menlo,'DejaVu Sans Mono',consolas,'Courier New',monospace\"><span style=\"font-weight: bold\"> Trainable params: </span><span style=\"color: #00af00; text-decoration-color: #00af00\">48,527</span> (189.56 KB)\n",
       "</pre>\n"
      ],
      "text/plain": [
       "\u001b[1m Trainable params: \u001b[0m\u001b[38;5;34m48,527\u001b[0m (189.56 KB)\n"
      ]
     },
     "metadata": {},
     "output_type": "display_data"
    },
    {
     "data": {
      "text/html": [
       "<pre style=\"white-space:pre;overflow-x:auto;line-height:normal;font-family:Menlo,'DejaVu Sans Mono',consolas,'Courier New',monospace\"><span style=\"font-weight: bold\"> Non-trainable params: </span><span style=\"color: #00af00; text-decoration-color: #00af00\">0</span> (0.00 B)\n",
       "</pre>\n"
      ],
      "text/plain": [
       "\u001b[1m Non-trainable params: \u001b[0m\u001b[38;5;34m0\u001b[0m (0.00 B)\n"
      ]
     },
     "metadata": {},
     "output_type": "display_data"
    },
    {
     "name": "stderr",
     "output_type": "stream",
     "text": [
      "c:\\Users\\Admin\\miniconda3\\Lib\\site-packages\\keras\\src\\saving\\saving_lib.py:415: UserWarning: Skipping variable loading for optimizer 'adam', because it has 2 variables whereas the saved optimizer has 16 variables. \n",
      "  saveable.load_own_variables(weights_store.get(inner_path))\n"
     ]
    },
    {
     "name": "stdout",
     "output_type": "stream",
     "text": [
      "None\n",
      "\u001b[1m27/27\u001b[0m \u001b[32m━━━━━━━━━━━━━━━━━━━━\u001b[0m\u001b[37m\u001b[0m \u001b[1m1s\u001b[0m 22ms/step\n",
      "0.9584816132858838\n",
      "0.9924012158054711\n",
      "0.9560761346998536\n",
      "0.9739000745712155\n",
      "0.9624130673499268\n",
      "Accuracy : 0.9584816132858838\n",
      "[[155   5]\n",
      " [ 30 653]]\n",
      "              precision    recall  f1-score   support\n",
      "\n",
      "        Spam       0.84      0.97      0.90       160\n",
      "     No spam       0.99      0.96      0.97       683\n",
      "\n",
      "    accuracy                           0.96       843\n",
      "   macro avg       0.92      0.96      0.94       843\n",
      "weighted avg       0.96      0.96      0.96       843\n",
      "\n",
      "\n",
      "\n",
      "\n",
      "FOLD 2\n"
     ]
    },
    {
     "name": "stderr",
     "output_type": "stream",
     "text": [
      "c:\\Users\\Admin\\miniconda3\\Lib\\site-packages\\keras\\src\\layers\\rnn\\rnn.py:204: UserWarning: Do not pass an `input_shape`/`input_dim` argument to a layer. When using Sequential models, prefer using an `Input(shape)` object as the first layer in the model instead.\n",
      "  super().__init__(**kwargs)\n"
     ]
    },
    {
     "data": {
      "text/html": [
       "<pre style=\"white-space:pre;overflow-x:auto;line-height:normal;font-family:Menlo,'DejaVu Sans Mono',consolas,'Courier New',monospace\"><span style=\"font-weight: bold\">Model: \"sequential\"</span>\n",
       "</pre>\n"
      ],
      "text/plain": [
       "\u001b[1mModel: \"sequential\"\u001b[0m\n"
      ]
     },
     "metadata": {},
     "output_type": "display_data"
    },
    {
     "data": {
      "text/html": [
       "<pre style=\"white-space:pre;overflow-x:auto;line-height:normal;font-family:Menlo,'DejaVu Sans Mono',consolas,'Courier New',monospace\">┏━━━━━━━━━━━━━━━━━━━━━━━━━━━━━━━━━┳━━━━━━━━━━━━━━━━━━━━━━━━┳━━━━━━━━━━━━━━━┓\n",
       "┃<span style=\"font-weight: bold\"> Layer (type)                    </span>┃<span style=\"font-weight: bold\"> Output Shape           </span>┃<span style=\"font-weight: bold\">       Param # </span>┃\n",
       "┡━━━━━━━━━━━━━━━━━━━━━━━━━━━━━━━━━╇━━━━━━━━━━━━━━━━━━━━━━━━╇━━━━━━━━━━━━━━━┩\n",
       "│ lstm (<span style=\"color: #0087ff; text-decoration-color: #0087ff\">LSTM</span>)                     │ (<span style=\"color: #00d7ff; text-decoration-color: #00d7ff\">None</span>, <span style=\"color: #00af00; text-decoration-color: #00af00\">100</span>)            │        <span style=\"color: #00af00; text-decoration-color: #00af00\">40,800</span> │\n",
       "├─────────────────────────────────┼────────────────────────┼───────────────┤\n",
       "│ dropout (<span style=\"color: #0087ff; text-decoration-color: #0087ff\">Dropout</span>)               │ (<span style=\"color: #00d7ff; text-decoration-color: #00d7ff\">None</span>, <span style=\"color: #00af00; text-decoration-color: #00af00\">100</span>)            │             <span style=\"color: #00af00; text-decoration-color: #00af00\">0</span> │\n",
       "├─────────────────────────────────┼────────────────────────┼───────────────┤\n",
       "│ dense (<span style=\"color: #0087ff; text-decoration-color: #0087ff\">Dense</span>)                   │ (<span style=\"color: #00d7ff; text-decoration-color: #00d7ff\">None</span>, <span style=\"color: #00af00; text-decoration-color: #00af00\">75</span>)             │         <span style=\"color: #00af00; text-decoration-color: #00af00\">7,575</span> │\n",
       "├─────────────────────────────────┼────────────────────────┼───────────────┤\n",
       "│ dense_1 (<span style=\"color: #0087ff; text-decoration-color: #0087ff\">Dense</span>)                 │ (<span style=\"color: #00d7ff; text-decoration-color: #00d7ff\">None</span>, <span style=\"color: #00af00; text-decoration-color: #00af00\">2</span>)              │           <span style=\"color: #00af00; text-decoration-color: #00af00\">152</span> │\n",
       "└─────────────────────────────────┴────────────────────────┴───────────────┘\n",
       "</pre>\n"
      ],
      "text/plain": [
       "┏━━━━━━━━━━━━━━━━━━━━━━━━━━━━━━━━━┳━━━━━━━━━━━━━━━━━━━━━━━━┳━━━━━━━━━━━━━━━┓\n",
       "┃\u001b[1m \u001b[0m\u001b[1mLayer (type)                   \u001b[0m\u001b[1m \u001b[0m┃\u001b[1m \u001b[0m\u001b[1mOutput Shape          \u001b[0m\u001b[1m \u001b[0m┃\u001b[1m \u001b[0m\u001b[1m      Param #\u001b[0m\u001b[1m \u001b[0m┃\n",
       "┡━━━━━━━━━━━━━━━━━━━━━━━━━━━━━━━━━╇━━━━━━━━━━━━━━━━━━━━━━━━╇━━━━━━━━━━━━━━━┩\n",
       "│ lstm (\u001b[38;5;33mLSTM\u001b[0m)                     │ (\u001b[38;5;45mNone\u001b[0m, \u001b[38;5;34m100\u001b[0m)            │        \u001b[38;5;34m40,800\u001b[0m │\n",
       "├─────────────────────────────────┼────────────────────────┼───────────────┤\n",
       "│ dropout (\u001b[38;5;33mDropout\u001b[0m)               │ (\u001b[38;5;45mNone\u001b[0m, \u001b[38;5;34m100\u001b[0m)            │             \u001b[38;5;34m0\u001b[0m │\n",
       "├─────────────────────────────────┼────────────────────────┼───────────────┤\n",
       "│ dense (\u001b[38;5;33mDense\u001b[0m)                   │ (\u001b[38;5;45mNone\u001b[0m, \u001b[38;5;34m75\u001b[0m)             │         \u001b[38;5;34m7,575\u001b[0m │\n",
       "├─────────────────────────────────┼────────────────────────┼───────────────┤\n",
       "│ dense_1 (\u001b[38;5;33mDense\u001b[0m)                 │ (\u001b[38;5;45mNone\u001b[0m, \u001b[38;5;34m2\u001b[0m)              │           \u001b[38;5;34m152\u001b[0m │\n",
       "└─────────────────────────────────┴────────────────────────┴───────────────┘\n"
      ]
     },
     "metadata": {},
     "output_type": "display_data"
    },
    {
     "data": {
      "text/html": [
       "<pre style=\"white-space:pre;overflow-x:auto;line-height:normal;font-family:Menlo,'DejaVu Sans Mono',consolas,'Courier New',monospace\"><span style=\"font-weight: bold\"> Total params: </span><span style=\"color: #00af00; text-decoration-color: #00af00\">48,527</span> (189.56 KB)\n",
       "</pre>\n"
      ],
      "text/plain": [
       "\u001b[1m Total params: \u001b[0m\u001b[38;5;34m48,527\u001b[0m (189.56 KB)\n"
      ]
     },
     "metadata": {},
     "output_type": "display_data"
    },
    {
     "data": {
      "text/html": [
       "<pre style=\"white-space:pre;overflow-x:auto;line-height:normal;font-family:Menlo,'DejaVu Sans Mono',consolas,'Courier New',monospace\"><span style=\"font-weight: bold\"> Trainable params: </span><span style=\"color: #00af00; text-decoration-color: #00af00\">48,527</span> (189.56 KB)\n",
       "</pre>\n"
      ],
      "text/plain": [
       "\u001b[1m Trainable params: \u001b[0m\u001b[38;5;34m48,527\u001b[0m (189.56 KB)\n"
      ]
     },
     "metadata": {},
     "output_type": "display_data"
    },
    {
     "data": {
      "text/html": [
       "<pre style=\"white-space:pre;overflow-x:auto;line-height:normal;font-family:Menlo,'DejaVu Sans Mono',consolas,'Courier New',monospace\"><span style=\"font-weight: bold\"> Non-trainable params: </span><span style=\"color: #00af00; text-decoration-color: #00af00\">0</span> (0.00 B)\n",
       "</pre>\n"
      ],
      "text/plain": [
       "\u001b[1m Non-trainable params: \u001b[0m\u001b[38;5;34m0\u001b[0m (0.00 B)\n"
      ]
     },
     "metadata": {},
     "output_type": "display_data"
    },
    {
     "name": "stderr",
     "output_type": "stream",
     "text": [
      "c:\\Users\\Admin\\miniconda3\\Lib\\site-packages\\keras\\src\\saving\\saving_lib.py:415: UserWarning: Skipping variable loading for optimizer 'adam', because it has 2 variables whereas the saved optimizer has 16 variables. \n",
      "  saveable.load_own_variables(weights_store.get(inner_path))\n"
     ]
    },
    {
     "name": "stdout",
     "output_type": "stream",
     "text": [
      "None\n",
      "\u001b[1m27/27\u001b[0m \u001b[32m━━━━━━━━━━━━━━━━━━━━\u001b[0m\u001b[37m\u001b[0m \u001b[1m1s\u001b[0m 24ms/step\n",
      "0.9703087885985748\n",
      "0.9969788519637462\n",
      "0.9663250366032211\n",
      "0.9814126394052045\n",
      "0.97687321012551\n",
      "Accuracy : 0.9703087885985748\n",
      "[[157   2]\n",
      " [ 23 660]]\n",
      "              precision    recall  f1-score   support\n",
      "\n",
      "        Spam       0.87      0.99      0.93       159\n",
      "     No spam       1.00      0.97      0.98       683\n",
      "\n",
      "    accuracy                           0.97       842\n",
      "   macro avg       0.93      0.98      0.95       842\n",
      "weighted avg       0.97      0.97      0.97       842\n",
      "\n",
      "\n",
      "\n",
      "\n",
      "FOLD 3\n"
     ]
    },
    {
     "name": "stderr",
     "output_type": "stream",
     "text": [
      "c:\\Users\\Admin\\miniconda3\\Lib\\site-packages\\keras\\src\\layers\\rnn\\rnn.py:204: UserWarning: Do not pass an `input_shape`/`input_dim` argument to a layer. When using Sequential models, prefer using an `Input(shape)` object as the first layer in the model instead.\n",
      "  super().__init__(**kwargs)\n"
     ]
    },
    {
     "data": {
      "text/html": [
       "<pre style=\"white-space:pre;overflow-x:auto;line-height:normal;font-family:Menlo,'DejaVu Sans Mono',consolas,'Courier New',monospace\"><span style=\"font-weight: bold\">Model: \"sequential\"</span>\n",
       "</pre>\n"
      ],
      "text/plain": [
       "\u001b[1mModel: \"sequential\"\u001b[0m\n"
      ]
     },
     "metadata": {},
     "output_type": "display_data"
    },
    {
     "data": {
      "text/html": [
       "<pre style=\"white-space:pre;overflow-x:auto;line-height:normal;font-family:Menlo,'DejaVu Sans Mono',consolas,'Courier New',monospace\">┏━━━━━━━━━━━━━━━━━━━━━━━━━━━━━━━━━┳━━━━━━━━━━━━━━━━━━━━━━━━┳━━━━━━━━━━━━━━━┓\n",
       "┃<span style=\"font-weight: bold\"> Layer (type)                    </span>┃<span style=\"font-weight: bold\"> Output Shape           </span>┃<span style=\"font-weight: bold\">       Param # </span>┃\n",
       "┡━━━━━━━━━━━━━━━━━━━━━━━━━━━━━━━━━╇━━━━━━━━━━━━━━━━━━━━━━━━╇━━━━━━━━━━━━━━━┩\n",
       "│ lstm (<span style=\"color: #0087ff; text-decoration-color: #0087ff\">LSTM</span>)                     │ (<span style=\"color: #00d7ff; text-decoration-color: #00d7ff\">None</span>, <span style=\"color: #00af00; text-decoration-color: #00af00\">100</span>)            │        <span style=\"color: #00af00; text-decoration-color: #00af00\">40,800</span> │\n",
       "├─────────────────────────────────┼────────────────────────┼───────────────┤\n",
       "│ dropout (<span style=\"color: #0087ff; text-decoration-color: #0087ff\">Dropout</span>)               │ (<span style=\"color: #00d7ff; text-decoration-color: #00d7ff\">None</span>, <span style=\"color: #00af00; text-decoration-color: #00af00\">100</span>)            │             <span style=\"color: #00af00; text-decoration-color: #00af00\">0</span> │\n",
       "├─────────────────────────────────┼────────────────────────┼───────────────┤\n",
       "│ dense (<span style=\"color: #0087ff; text-decoration-color: #0087ff\">Dense</span>)                   │ (<span style=\"color: #00d7ff; text-decoration-color: #00d7ff\">None</span>, <span style=\"color: #00af00; text-decoration-color: #00af00\">75</span>)             │         <span style=\"color: #00af00; text-decoration-color: #00af00\">7,575</span> │\n",
       "├─────────────────────────────────┼────────────────────────┼───────────────┤\n",
       "│ dense_1 (<span style=\"color: #0087ff; text-decoration-color: #0087ff\">Dense</span>)                 │ (<span style=\"color: #00d7ff; text-decoration-color: #00d7ff\">None</span>, <span style=\"color: #00af00; text-decoration-color: #00af00\">2</span>)              │           <span style=\"color: #00af00; text-decoration-color: #00af00\">152</span> │\n",
       "└─────────────────────────────────┴────────────────────────┴───────────────┘\n",
       "</pre>\n"
      ],
      "text/plain": [
       "┏━━━━━━━━━━━━━━━━━━━━━━━━━━━━━━━━━┳━━━━━━━━━━━━━━━━━━━━━━━━┳━━━━━━━━━━━━━━━┓\n",
       "┃\u001b[1m \u001b[0m\u001b[1mLayer (type)                   \u001b[0m\u001b[1m \u001b[0m┃\u001b[1m \u001b[0m\u001b[1mOutput Shape          \u001b[0m\u001b[1m \u001b[0m┃\u001b[1m \u001b[0m\u001b[1m      Param #\u001b[0m\u001b[1m \u001b[0m┃\n",
       "┡━━━━━━━━━━━━━━━━━━━━━━━━━━━━━━━━━╇━━━━━━━━━━━━━━━━━━━━━━━━╇━━━━━━━━━━━━━━━┩\n",
       "│ lstm (\u001b[38;5;33mLSTM\u001b[0m)                     │ (\u001b[38;5;45mNone\u001b[0m, \u001b[38;5;34m100\u001b[0m)            │        \u001b[38;5;34m40,800\u001b[0m │\n",
       "├─────────────────────────────────┼────────────────────────┼───────────────┤\n",
       "│ dropout (\u001b[38;5;33mDropout\u001b[0m)               │ (\u001b[38;5;45mNone\u001b[0m, \u001b[38;5;34m100\u001b[0m)            │             \u001b[38;5;34m0\u001b[0m │\n",
       "├─────────────────────────────────┼────────────────────────┼───────────────┤\n",
       "│ dense (\u001b[38;5;33mDense\u001b[0m)                   │ (\u001b[38;5;45mNone\u001b[0m, \u001b[38;5;34m75\u001b[0m)             │         \u001b[38;5;34m7,575\u001b[0m │\n",
       "├─────────────────────────────────┼────────────────────────┼───────────────┤\n",
       "│ dense_1 (\u001b[38;5;33mDense\u001b[0m)                 │ (\u001b[38;5;45mNone\u001b[0m, \u001b[38;5;34m2\u001b[0m)              │           \u001b[38;5;34m152\u001b[0m │\n",
       "└─────────────────────────────────┴────────────────────────┴───────────────┘\n"
      ]
     },
     "metadata": {},
     "output_type": "display_data"
    },
    {
     "data": {
      "text/html": [
       "<pre style=\"white-space:pre;overflow-x:auto;line-height:normal;font-family:Menlo,'DejaVu Sans Mono',consolas,'Courier New',monospace\"><span style=\"font-weight: bold\"> Total params: </span><span style=\"color: #00af00; text-decoration-color: #00af00\">48,527</span> (189.56 KB)\n",
       "</pre>\n"
      ],
      "text/plain": [
       "\u001b[1m Total params: \u001b[0m\u001b[38;5;34m48,527\u001b[0m (189.56 KB)\n"
      ]
     },
     "metadata": {},
     "output_type": "display_data"
    },
    {
     "data": {
      "text/html": [
       "<pre style=\"white-space:pre;overflow-x:auto;line-height:normal;font-family:Menlo,'DejaVu Sans Mono',consolas,'Courier New',monospace\"><span style=\"font-weight: bold\"> Trainable params: </span><span style=\"color: #00af00; text-decoration-color: #00af00\">48,527</span> (189.56 KB)\n",
       "</pre>\n"
      ],
      "text/plain": [
       "\u001b[1m Trainable params: \u001b[0m\u001b[38;5;34m48,527\u001b[0m (189.56 KB)\n"
      ]
     },
     "metadata": {},
     "output_type": "display_data"
    },
    {
     "data": {
      "text/html": [
       "<pre style=\"white-space:pre;overflow-x:auto;line-height:normal;font-family:Menlo,'DejaVu Sans Mono',consolas,'Courier New',monospace\"><span style=\"font-weight: bold\"> Non-trainable params: </span><span style=\"color: #00af00; text-decoration-color: #00af00\">0</span> (0.00 B)\n",
       "</pre>\n"
      ],
      "text/plain": [
       "\u001b[1m Non-trainable params: \u001b[0m\u001b[38;5;34m0\u001b[0m (0.00 B)\n"
      ]
     },
     "metadata": {},
     "output_type": "display_data"
    },
    {
     "name": "stderr",
     "output_type": "stream",
     "text": [
      "c:\\Users\\Admin\\miniconda3\\Lib\\site-packages\\keras\\src\\saving\\saving_lib.py:415: UserWarning: Skipping variable loading for optimizer 'adam', because it has 2 variables whereas the saved optimizer has 16 variables. \n",
      "  saveable.load_own_variables(weights_store.get(inner_path))\n"
     ]
    },
    {
     "name": "stdout",
     "output_type": "stream",
     "text": [
      "None\n",
      "\u001b[1m27/27\u001b[0m \u001b[32m━━━━━━━━━━━━━━━━━━━━\u001b[0m\u001b[37m\u001b[0m \u001b[1m1s\u001b[0m 24ms/step\n",
      "0.9631828978622328\n",
      "0.9880239520958084\n",
      "0.9663250366032211\n",
      "0.9770540340488527\n",
      "0.9580052855972081\n",
      "Accuracy : 0.9631828978622328\n",
      "[[151   8]\n",
      " [ 23 660]]\n",
      "              precision    recall  f1-score   support\n",
      "\n",
      "        Spam       0.87      0.95      0.91       159\n",
      "     No spam       0.99      0.97      0.98       683\n",
      "\n",
      "    accuracy                           0.96       842\n",
      "   macro avg       0.93      0.96      0.94       842\n",
      "weighted avg       0.97      0.96      0.96       842\n",
      "\n",
      "\n",
      "\n",
      "\n",
      "FOLD 4\n"
     ]
    },
    {
     "name": "stderr",
     "output_type": "stream",
     "text": [
      "c:\\Users\\Admin\\miniconda3\\Lib\\site-packages\\keras\\src\\layers\\rnn\\rnn.py:204: UserWarning: Do not pass an `input_shape`/`input_dim` argument to a layer. When using Sequential models, prefer using an `Input(shape)` object as the first layer in the model instead.\n",
      "  super().__init__(**kwargs)\n"
     ]
    },
    {
     "data": {
      "text/html": [
       "<pre style=\"white-space:pre;overflow-x:auto;line-height:normal;font-family:Menlo,'DejaVu Sans Mono',consolas,'Courier New',monospace\"><span style=\"font-weight: bold\">Model: \"sequential\"</span>\n",
       "</pre>\n"
      ],
      "text/plain": [
       "\u001b[1mModel: \"sequential\"\u001b[0m\n"
      ]
     },
     "metadata": {},
     "output_type": "display_data"
    },
    {
     "data": {
      "text/html": [
       "<pre style=\"white-space:pre;overflow-x:auto;line-height:normal;font-family:Menlo,'DejaVu Sans Mono',consolas,'Courier New',monospace\">┏━━━━━━━━━━━━━━━━━━━━━━━━━━━━━━━━━┳━━━━━━━━━━━━━━━━━━━━━━━━┳━━━━━━━━━━━━━━━┓\n",
       "┃<span style=\"font-weight: bold\"> Layer (type)                    </span>┃<span style=\"font-weight: bold\"> Output Shape           </span>┃<span style=\"font-weight: bold\">       Param # </span>┃\n",
       "┡━━━━━━━━━━━━━━━━━━━━━━━━━━━━━━━━━╇━━━━━━━━━━━━━━━━━━━━━━━━╇━━━━━━━━━━━━━━━┩\n",
       "│ lstm (<span style=\"color: #0087ff; text-decoration-color: #0087ff\">LSTM</span>)                     │ (<span style=\"color: #00d7ff; text-decoration-color: #00d7ff\">None</span>, <span style=\"color: #00af00; text-decoration-color: #00af00\">100</span>)            │        <span style=\"color: #00af00; text-decoration-color: #00af00\">40,800</span> │\n",
       "├─────────────────────────────────┼────────────────────────┼───────────────┤\n",
       "│ dropout (<span style=\"color: #0087ff; text-decoration-color: #0087ff\">Dropout</span>)               │ (<span style=\"color: #00d7ff; text-decoration-color: #00d7ff\">None</span>, <span style=\"color: #00af00; text-decoration-color: #00af00\">100</span>)            │             <span style=\"color: #00af00; text-decoration-color: #00af00\">0</span> │\n",
       "├─────────────────────────────────┼────────────────────────┼───────────────┤\n",
       "│ dense (<span style=\"color: #0087ff; text-decoration-color: #0087ff\">Dense</span>)                   │ (<span style=\"color: #00d7ff; text-decoration-color: #00d7ff\">None</span>, <span style=\"color: #00af00; text-decoration-color: #00af00\">75</span>)             │         <span style=\"color: #00af00; text-decoration-color: #00af00\">7,575</span> │\n",
       "├─────────────────────────────────┼────────────────────────┼───────────────┤\n",
       "│ dense_1 (<span style=\"color: #0087ff; text-decoration-color: #0087ff\">Dense</span>)                 │ (<span style=\"color: #00d7ff; text-decoration-color: #00d7ff\">None</span>, <span style=\"color: #00af00; text-decoration-color: #00af00\">2</span>)              │           <span style=\"color: #00af00; text-decoration-color: #00af00\">152</span> │\n",
       "└─────────────────────────────────┴────────────────────────┴───────────────┘\n",
       "</pre>\n"
      ],
      "text/plain": [
       "┏━━━━━━━━━━━━━━━━━━━━━━━━━━━━━━━━━┳━━━━━━━━━━━━━━━━━━━━━━━━┳━━━━━━━━━━━━━━━┓\n",
       "┃\u001b[1m \u001b[0m\u001b[1mLayer (type)                   \u001b[0m\u001b[1m \u001b[0m┃\u001b[1m \u001b[0m\u001b[1mOutput Shape          \u001b[0m\u001b[1m \u001b[0m┃\u001b[1m \u001b[0m\u001b[1m      Param #\u001b[0m\u001b[1m \u001b[0m┃\n",
       "┡━━━━━━━━━━━━━━━━━━━━━━━━━━━━━━━━━╇━━━━━━━━━━━━━━━━━━━━━━━━╇━━━━━━━━━━━━━━━┩\n",
       "│ lstm (\u001b[38;5;33mLSTM\u001b[0m)                     │ (\u001b[38;5;45mNone\u001b[0m, \u001b[38;5;34m100\u001b[0m)            │        \u001b[38;5;34m40,800\u001b[0m │\n",
       "├─────────────────────────────────┼────────────────────────┼───────────────┤\n",
       "│ dropout (\u001b[38;5;33mDropout\u001b[0m)               │ (\u001b[38;5;45mNone\u001b[0m, \u001b[38;5;34m100\u001b[0m)            │             \u001b[38;5;34m0\u001b[0m │\n",
       "├─────────────────────────────────┼────────────────────────┼───────────────┤\n",
       "│ dense (\u001b[38;5;33mDense\u001b[0m)                   │ (\u001b[38;5;45mNone\u001b[0m, \u001b[38;5;34m75\u001b[0m)             │         \u001b[38;5;34m7,575\u001b[0m │\n",
       "├─────────────────────────────────┼────────────────────────┼───────────────┤\n",
       "│ dense_1 (\u001b[38;5;33mDense\u001b[0m)                 │ (\u001b[38;5;45mNone\u001b[0m, \u001b[38;5;34m2\u001b[0m)              │           \u001b[38;5;34m152\u001b[0m │\n",
       "└─────────────────────────────────┴────────────────────────┴───────────────┘\n"
      ]
     },
     "metadata": {},
     "output_type": "display_data"
    },
    {
     "data": {
      "text/html": [
       "<pre style=\"white-space:pre;overflow-x:auto;line-height:normal;font-family:Menlo,'DejaVu Sans Mono',consolas,'Courier New',monospace\"><span style=\"font-weight: bold\"> Total params: </span><span style=\"color: #00af00; text-decoration-color: #00af00\">48,527</span> (189.56 KB)\n",
       "</pre>\n"
      ],
      "text/plain": [
       "\u001b[1m Total params: \u001b[0m\u001b[38;5;34m48,527\u001b[0m (189.56 KB)\n"
      ]
     },
     "metadata": {},
     "output_type": "display_data"
    },
    {
     "data": {
      "text/html": [
       "<pre style=\"white-space:pre;overflow-x:auto;line-height:normal;font-family:Menlo,'DejaVu Sans Mono',consolas,'Courier New',monospace\"><span style=\"font-weight: bold\"> Trainable params: </span><span style=\"color: #00af00; text-decoration-color: #00af00\">48,527</span> (189.56 KB)\n",
       "</pre>\n"
      ],
      "text/plain": [
       "\u001b[1m Trainable params: \u001b[0m\u001b[38;5;34m48,527\u001b[0m (189.56 KB)\n"
      ]
     },
     "metadata": {},
     "output_type": "display_data"
    },
    {
     "data": {
      "text/html": [
       "<pre style=\"white-space:pre;overflow-x:auto;line-height:normal;font-family:Menlo,'DejaVu Sans Mono',consolas,'Courier New',monospace\"><span style=\"font-weight: bold\"> Non-trainable params: </span><span style=\"color: #00af00; text-decoration-color: #00af00\">0</span> (0.00 B)\n",
       "</pre>\n"
      ],
      "text/plain": [
       "\u001b[1m Non-trainable params: \u001b[0m\u001b[38;5;34m0\u001b[0m (0.00 B)\n"
      ]
     },
     "metadata": {},
     "output_type": "display_data"
    },
    {
     "name": "stderr",
     "output_type": "stream",
     "text": [
      "c:\\Users\\Admin\\miniconda3\\Lib\\site-packages\\keras\\src\\saving\\saving_lib.py:415: UserWarning: Skipping variable loading for optimizer 'adam', because it has 2 variables whereas the saved optimizer has 16 variables. \n",
      "  saveable.load_own_variables(weights_store.get(inner_path))\n"
     ]
    },
    {
     "name": "stdout",
     "output_type": "stream",
     "text": [
      "None\n",
      "\u001b[1m27/27\u001b[0m \u001b[32m━━━━━━━━━━━━━━━━━━━━\u001b[0m\u001b[37m\u001b[0m \u001b[1m1s\u001b[0m 27ms/step\n",
      "0.9513064133016627\n",
      "0.9893129770992366\n",
      "0.9501466275659824\n",
      "0.9693343305908751\n",
      "0.9531983137829912\n",
      "Accuracy : 0.9513064133016627\n",
      "[[153   7]\n",
      " [ 34 648]]\n",
      "              precision    recall  f1-score   support\n",
      "\n",
      "        Spam       0.82      0.96      0.88       160\n",
      "     No spam       0.99      0.95      0.97       682\n",
      "\n",
      "    accuracy                           0.95       842\n",
      "   macro avg       0.90      0.95      0.93       842\n",
      "weighted avg       0.96      0.95      0.95       842\n",
      "\n"
     ]
    }
   ],
   "source": [
    "\n",
    "accuracy_lst = []\n",
    "precision_lst = []\n",
    "recall_lst = []\n",
    "f1_lst = []\n",
    "auc_lst = []\n",
    "for fold,( train, test) in enumerate(sss.split(X2_new, y2)):\n",
    "\n",
    "    print(f'\\n\\n\\nFOLD { fold}')\n",
    "    smote = SMOTE(sampling_strategy='minority',random_state = 4122004)\n",
    "    X_train_sm, y_train_sm = smote.fit_resample(X2_new[train], y2[train]) \n",
    "    \n",
    "    # SMOTE happens during Cross Validation not before..\n",
    "    encoder = OneHotEncoder(sparse_output= False)\n",
    "    encoded_y_train = encoder.fit_transform(y_train_sm.reshape(X_train_sm.shape[0],1))\n",
    "\n",
    "    encoded_y_train = pd.DataFrame(encoded_y_train)\n",
    "\n",
    "\n",
    "    \n",
    "    tuner.search(X_train_sm, encoded_y_train ,\n",
    "             epochs=50,\n",
    "             batch_size=40,\n",
    "             validation_split =0.1,\n",
    "             \n",
    "             callbacks=[checkp, reduce]   #check and reduce are below\n",
    "            )\n",
    "    \n",
    "    best_model = tuner.get_best_models(num_models=1)[0]\n",
    "    best_model.save(f'models/do2/best_model_fold_{fold}.keras')\n",
    "\n",
    "    prediction = best_model.predict(X2_new[test])\n",
    "    prediction = np.argmax(prediction, axis=1)\n",
    "\n",
    "\n",
    "    print(accuracy_score(y2[test], prediction))\n",
    "    print(precision_score(y2[test], prediction))\n",
    "\n",
    "    print(recall_score(y2[test], prediction))\n",
    "    print(f1_score(y2[test], prediction))\n",
    "\n",
    "    print(roc_auc_score(y2[test], prediction))\n",
    "    \n",
    "\n",
    "    print('Accuracy : ' + str(accuracy_score(y2[test], prediction)))\n",
    "    print(confusion_matrix(y2[test], prediction))\n",
    "    print(classification_report(y2[test], prediction, target_names = ['Spam','No spam']))\n",
    "\n",
    "\n",
    "    accuracy_lst.append(accuracy_score(y2[test], prediction))\n",
    "    precision_lst.append(precision_score(y2[test], prediction))\n",
    "    recall_lst.append(recall_score(y2[test], prediction))\n",
    "    f1_lst.append(f1_score(y2[test], prediction))\n",
    "    auc_lst.append(roc_auc_score(y2[test], prediction))"
   ]
  },
  {
   "cell_type": "markdown",
   "metadata": {},
   "source": [
    "### old"
   ]
  },
  {
   "cell_type": "code",
   "execution_count": 167,
   "metadata": {},
   "outputs": [
    {
     "name": "stdout",
     "output_type": "stream",
     "text": [
      "Epoch 1/100\n",
      "\u001b[1m11/12\u001b[0m \u001b[32m━━━━━━━━━━━━━━━━━━\u001b[0m\u001b[37m━━\u001b[0m \u001b[1m0s\u001b[0m 35ms/step - accuracy: 0.4919 - loss: 0.7734\n",
      "Epoch 1: val_accuracy did not improve from 0.92021\n",
      "\u001b[1m12/12\u001b[0m \u001b[32m━━━━━━━━━━━━━━━━━━━━\u001b[0m\u001b[37m\u001b[0m \u001b[1m3s\u001b[0m 68ms/step - accuracy: 0.4939 - loss: 0.7668 - val_accuracy: 0.5594 - val_loss: 0.6724 - learning_rate: 0.0010\n",
      "Epoch 2/100\n",
      "\u001b[1m11/12\u001b[0m \u001b[32m━━━━━━━━━━━━━━━━━━\u001b[0m\u001b[37m━━\u001b[0m \u001b[1m0s\u001b[0m 36ms/step - accuracy: 0.5916 - loss: 0.6546\n",
      "Epoch 2: val_accuracy did not improve from 0.92021\n",
      "\u001b[1m12/12\u001b[0m \u001b[32m━━━━━━━━━━━━━━━━━━━━\u001b[0m\u001b[37m\u001b[0m \u001b[1m1s\u001b[0m 40ms/step - accuracy: 0.5900 - loss: 0.6557 - val_accuracy: 0.7133 - val_loss: 0.6300 - learning_rate: 0.0010\n",
      "Epoch 3/100\n",
      "\u001b[1m11/12\u001b[0m \u001b[32m━━━━━━━━━━━━━━━━━━\u001b[0m\u001b[37m━━\u001b[0m \u001b[1m0s\u001b[0m 36ms/step - accuracy: 0.6918 - loss: 0.6210\n",
      "Epoch 3: val_accuracy did not improve from 0.92021\n",
      "\u001b[1m12/12\u001b[0m \u001b[32m━━━━━━━━━━━━━━━━━━━━\u001b[0m\u001b[37m\u001b[0m \u001b[1m1s\u001b[0m 40ms/step - accuracy: 0.6919 - loss: 0.6188 - val_accuracy: 0.7692 - val_loss: 0.5366 - learning_rate: 0.0010\n",
      "Epoch 4/100\n",
      "\u001b[1m11/12\u001b[0m \u001b[32m━━━━━━━━━━━━━━━━━━\u001b[0m\u001b[37m━━\u001b[0m \u001b[1m0s\u001b[0m 37ms/step - accuracy: 0.7232 - loss: 0.5612\n",
      "Epoch 4: val_accuracy did not improve from 0.92021\n",
      "\u001b[1m12/12\u001b[0m \u001b[32m━━━━━━━━━━━━━━━━━━━━\u001b[0m\u001b[37m\u001b[0m \u001b[1m1s\u001b[0m 42ms/step - accuracy: 0.7215 - loss: 0.5623 - val_accuracy: 0.7692 - val_loss: 0.5061 - learning_rate: 0.0010\n",
      "Epoch 5/100\n",
      "\u001b[1m11/12\u001b[0m \u001b[32m━━━━━━━━━━━━━━━━━━\u001b[0m\u001b[37m━━\u001b[0m \u001b[1m0s\u001b[0m 36ms/step - accuracy: 0.7195 - loss: 0.5528\n",
      "Epoch 5: val_accuracy did not improve from 0.92021\n",
      "\u001b[1m12/12\u001b[0m \u001b[32m━━━━━━━━━━━━━━━━━━━━\u001b[0m\u001b[37m\u001b[0m \u001b[1m1s\u001b[0m 40ms/step - accuracy: 0.7188 - loss: 0.5528 - val_accuracy: 0.7552 - val_loss: 0.5178 - learning_rate: 0.0010\n",
      "Epoch 6/100\n",
      "\u001b[1m11/12\u001b[0m \u001b[32m━━━━━━━━━━━━━━━━━━\u001b[0m\u001b[37m━━\u001b[0m \u001b[1m0s\u001b[0m 46ms/step - accuracy: 0.7282 - loss: 0.5279\n",
      "Epoch 6: val_accuracy did not improve from 0.92021\n",
      "\u001b[1m12/12\u001b[0m \u001b[32m━━━━━━━━━━━━━━━━━━━━\u001b[0m\u001b[37m\u001b[0m \u001b[1m1s\u001b[0m 52ms/step - accuracy: 0.7266 - loss: 0.5299 - val_accuracy: 0.7692 - val_loss: 0.5204 - learning_rate: 0.0010\n",
      "Epoch 7/100\n",
      "\u001b[1m11/12\u001b[0m \u001b[32m━━━━━━━━━━━━━━━━━━\u001b[0m\u001b[37m━━\u001b[0m \u001b[1m0s\u001b[0m 38ms/step - accuracy: 0.7195 - loss: 0.5542\n",
      "Epoch 7: val_accuracy did not improve from 0.92021\n",
      "\u001b[1m12/12\u001b[0m \u001b[32m━━━━━━━━━━━━━━━━━━━━\u001b[0m\u001b[37m\u001b[0m \u001b[1m1s\u001b[0m 42ms/step - accuracy: 0.7197 - loss: 0.5528 - val_accuracy: 0.7762 - val_loss: 0.5153 - learning_rate: 0.0010\n",
      "Epoch 8/100\n",
      "\u001b[1m11/12\u001b[0m \u001b[32m━━━━━━━━━━━━━━━━━━\u001b[0m\u001b[37m━━\u001b[0m \u001b[1m0s\u001b[0m 37ms/step - accuracy: 0.7109 - loss: 0.5442\n",
      "Epoch 8: val_accuracy did not improve from 0.92021\n",
      "\u001b[1m12/12\u001b[0m \u001b[32m━━━━━━━━━━━━━━━━━━━━\u001b[0m\u001b[37m\u001b[0m \u001b[1m1s\u001b[0m 42ms/step - accuracy: 0.7127 - loss: 0.5431 - val_accuracy: 0.7413 - val_loss: 0.5512 - learning_rate: 0.0010\n",
      "Epoch 9/100\n",
      "\u001b[1m11/12\u001b[0m \u001b[32m━━━━━━━━━━━━━━━━━━\u001b[0m\u001b[37m━━\u001b[0m \u001b[1m0s\u001b[0m 37ms/step - accuracy: 0.7361 - loss: 0.5433\n",
      "Epoch 9: val_accuracy did not improve from 0.92021\n",
      "\u001b[1m12/12\u001b[0m \u001b[32m━━━━━━━━━━━━━━━━━━━━\u001b[0m\u001b[37m\u001b[0m \u001b[1m1s\u001b[0m 42ms/step - accuracy: 0.7362 - loss: 0.5416 - val_accuracy: 0.7622 - val_loss: 0.5284 - learning_rate: 0.0010\n",
      "Epoch 10/100\n",
      "\u001b[1m11/12\u001b[0m \u001b[32m━━━━━━━━━━━━━━━━━━\u001b[0m\u001b[37m━━\u001b[0m \u001b[1m0s\u001b[0m 38ms/step - accuracy: 0.7074 - loss: 0.5443\n",
      "Epoch 10: val_accuracy did not improve from 0.92021\n",
      "\u001b[1m12/12\u001b[0m \u001b[32m━━━━━━━━━━━━━━━━━━━━\u001b[0m\u001b[37m\u001b[0m \u001b[1m1s\u001b[0m 42ms/step - accuracy: 0.7104 - loss: 0.5425 - val_accuracy: 0.7413 - val_loss: 0.5301 - learning_rate: 0.0010\n",
      "Epoch 11/100\n",
      "\u001b[1m11/12\u001b[0m \u001b[32m━━━━━━━━━━━━━━━━━━\u001b[0m\u001b[37m━━\u001b[0m \u001b[1m0s\u001b[0m 38ms/step - accuracy: 0.7215 - loss: 0.5450\n",
      "Epoch 11: val_accuracy did not improve from 0.92021\n",
      "\u001b[1m12/12\u001b[0m \u001b[32m━━━━━━━━━━━━━━━━━━━━\u001b[0m\u001b[37m\u001b[0m \u001b[1m1s\u001b[0m 42ms/step - accuracy: 0.7237 - loss: 0.5424 - val_accuracy: 0.7552 - val_loss: 0.5291 - learning_rate: 0.0010\n",
      "Epoch 12/100\n",
      "\u001b[1m11/12\u001b[0m \u001b[32m━━━━━━━━━━━━━━━━━━\u001b[0m\u001b[37m━━\u001b[0m \u001b[1m0s\u001b[0m 37ms/step - accuracy: 0.7296 - loss: 0.5227\n",
      "Epoch 12: val_accuracy did not improve from 0.92021\n",
      "\u001b[1m12/12\u001b[0m \u001b[32m━━━━━━━━━━━━━━━━━━━━\u001b[0m\u001b[37m\u001b[0m \u001b[1m1s\u001b[0m 42ms/step - accuracy: 0.7298 - loss: 0.5227 - val_accuracy: 0.7413 - val_loss: 0.5298 - learning_rate: 0.0010\n",
      "Epoch 13/100\n",
      "\u001b[1m11/12\u001b[0m \u001b[32m━━━━━━━━━━━━━━━━━━\u001b[0m\u001b[37m━━\u001b[0m \u001b[1m0s\u001b[0m 37ms/step - accuracy: 0.7189 - loss: 0.5319\n",
      "Epoch 13: val_accuracy did not improve from 0.92021\n",
      "\u001b[1m12/12\u001b[0m \u001b[32m━━━━━━━━━━━━━━━━━━━━\u001b[0m\u001b[37m\u001b[0m \u001b[1m1s\u001b[0m 42ms/step - accuracy: 0.7198 - loss: 0.5313 - val_accuracy: 0.7413 - val_loss: 0.5354 - learning_rate: 0.0010\n",
      "Epoch 14/100\n",
      "\u001b[1m11/12\u001b[0m \u001b[32m━━━━━━━━━━━━━━━━━━\u001b[0m\u001b[37m━━\u001b[0m \u001b[1m0s\u001b[0m 37ms/step - accuracy: 0.7262 - loss: 0.5390\n",
      "Epoch 14: val_accuracy did not improve from 0.92021\n",
      "\u001b[1m12/12\u001b[0m \u001b[32m━━━━━━━━━━━━━━━━━━━━\u001b[0m\u001b[37m\u001b[0m \u001b[1m1s\u001b[0m 41ms/step - accuracy: 0.7283 - loss: 0.5358 - val_accuracy: 0.7483 - val_loss: 0.5326 - learning_rate: 0.0010\n",
      "Epoch 15/100\n",
      "\u001b[1m11/12\u001b[0m \u001b[32m━━━━━━━━━━━━━━━━━━\u001b[0m\u001b[37m━━\u001b[0m \u001b[1m0s\u001b[0m 37ms/step - accuracy: 0.7400 - loss: 0.5064\n",
      "Epoch 15: val_accuracy did not improve from 0.92021\n",
      "\u001b[1m12/12\u001b[0m \u001b[32m━━━━━━━━━━━━━━━━━━━━\u001b[0m\u001b[37m\u001b[0m \u001b[1m1s\u001b[0m 40ms/step - accuracy: 0.7384 - loss: 0.5085 - val_accuracy: 0.7413 - val_loss: 0.5324 - learning_rate: 0.0010\n",
      "Epoch 16/100\n",
      "\u001b[1m11/12\u001b[0m \u001b[32m━━━━━━━━━━━━━━━━━━\u001b[0m\u001b[37m━━\u001b[0m \u001b[1m0s\u001b[0m 38ms/step - accuracy: 0.7301 - loss: 0.5193\n",
      "Epoch 16: val_accuracy did not improve from 0.92021\n",
      "\u001b[1m12/12\u001b[0m \u001b[32m━━━━━━━━━━━━━━━━━━━━\u001b[0m\u001b[37m\u001b[0m \u001b[1m1s\u001b[0m 43ms/step - accuracy: 0.7307 - loss: 0.5187 - val_accuracy: 0.7552 - val_loss: 0.5274 - learning_rate: 0.0010\n",
      "Epoch 17/100\n",
      "\u001b[1m11/12\u001b[0m \u001b[32m━━━━━━━━━━━━━━━━━━\u001b[0m\u001b[37m━━\u001b[0m \u001b[1m0s\u001b[0m 37ms/step - accuracy: 0.7637 - loss: 0.4920\n",
      "Epoch 17: val_accuracy did not improve from 0.92021\n",
      "\u001b[1m12/12\u001b[0m \u001b[32m━━━━━━━━━━━━━━━━━━━━\u001b[0m\u001b[37m\u001b[0m \u001b[1m1s\u001b[0m 41ms/step - accuracy: 0.7612 - loss: 0.4951 - val_accuracy: 0.7483 - val_loss: 0.5299 - learning_rate: 0.0010\n",
      "Epoch 18/100\n",
      "\u001b[1m11/12\u001b[0m \u001b[32m━━━━━━━━━━━━━━━━━━\u001b[0m\u001b[37m━━\u001b[0m \u001b[1m0s\u001b[0m 39ms/step - accuracy: 0.7299 - loss: 0.5279\n",
      "Epoch 18: val_accuracy did not improve from 0.92021\n",
      "\u001b[1m12/12\u001b[0m \u001b[32m━━━━━━━━━━━━━━━━━━━━\u001b[0m\u001b[37m\u001b[0m \u001b[1m1s\u001b[0m 43ms/step - accuracy: 0.7302 - loss: 0.5265 - val_accuracy: 0.7413 - val_loss: 0.5398 - learning_rate: 0.0010\n",
      "Epoch 19/100\n",
      "\u001b[1m11/12\u001b[0m \u001b[32m━━━━━━━━━━━━━━━━━━\u001b[0m\u001b[37m━━\u001b[0m \u001b[1m0s\u001b[0m 48ms/step - accuracy: 0.7585 - loss: 0.4827\n",
      "Epoch 19: val_accuracy did not improve from 0.92021\n",
      "\u001b[1m12/12\u001b[0m \u001b[32m━━━━━━━━━━━━━━━━━━━━\u001b[0m\u001b[37m\u001b[0m \u001b[1m1s\u001b[0m 54ms/step - accuracy: 0.7556 - loss: 0.4873 - val_accuracy: 0.7552 - val_loss: 0.5326 - learning_rate: 0.0010\n",
      "Epoch 20/100\n",
      "\u001b[1m12/12\u001b[0m \u001b[32m━━━━━━━━━━━━━━━━━━━━\u001b[0m\u001b[37m\u001b[0m \u001b[1m0s\u001b[0m 42ms/step - accuracy: 0.7534 - loss: 0.5006\n",
      "Epoch 20: val_accuracy did not improve from 0.92021\n",
      "\u001b[1m12/12\u001b[0m \u001b[32m━━━━━━━━━━━━━━━━━━━━\u001b[0m\u001b[37m\u001b[0m \u001b[1m1s\u001b[0m 47ms/step - accuracy: 0.7518 - loss: 0.5018 - val_accuracy: 0.7902 - val_loss: 0.5267 - learning_rate: 0.0010\n",
      "Epoch 21/100\n",
      "\u001b[1m11/12\u001b[0m \u001b[32m━━━━━━━━━━━━━━━━━━\u001b[0m\u001b[37m━━\u001b[0m \u001b[1m0s\u001b[0m 37ms/step - accuracy: 0.7394 - loss: 0.5364\n",
      "Epoch 21: val_accuracy did not improve from 0.92021\n",
      "\u001b[1m12/12\u001b[0m \u001b[32m━━━━━━━━━━━━━━━━━━━━\u001b[0m\u001b[37m\u001b[0m \u001b[1m1s\u001b[0m 41ms/step - accuracy: 0.7383 - loss: 0.5340 - val_accuracy: 0.7832 - val_loss: 0.5299 - learning_rate: 0.0010\n",
      "Epoch 22/100\n",
      "\u001b[1m11/12\u001b[0m \u001b[32m━━━━━━━━━━━━━━━━━━\u001b[0m\u001b[37m━━\u001b[0m \u001b[1m0s\u001b[0m 34ms/step - accuracy: 0.7375 - loss: 0.5128\n",
      "Epoch 22: val_accuracy did not improve from 0.92021\n",
      "\u001b[1m12/12\u001b[0m \u001b[32m━━━━━━━━━━━━━━━━━━━━\u001b[0m\u001b[37m\u001b[0m \u001b[1m0s\u001b[0m 38ms/step - accuracy: 0.7382 - loss: 0.5119 - val_accuracy: 0.7063 - val_loss: 0.5637 - learning_rate: 0.0010\n",
      "Epoch 23/100\n",
      "\u001b[1m11/12\u001b[0m \u001b[32m━━━━━━━━━━━━━━━━━━\u001b[0m\u001b[37m━━\u001b[0m \u001b[1m0s\u001b[0m 33ms/step - accuracy: 0.7458 - loss: 0.5097\n",
      "Epoch 23: val_accuracy did not improve from 0.92021\n",
      "\u001b[1m12/12\u001b[0m \u001b[32m━━━━━━━━━━━━━━━━━━━━\u001b[0m\u001b[37m\u001b[0m \u001b[1m0s\u001b[0m 37ms/step - accuracy: 0.7435 - loss: 0.5107 - val_accuracy: 0.7902 - val_loss: 0.5153 - learning_rate: 0.0010\n",
      "Epoch 24/100\n",
      "\u001b[1m11/12\u001b[0m \u001b[32m━━━━━━━━━━━━━━━━━━\u001b[0m\u001b[37m━━\u001b[0m \u001b[1m0s\u001b[0m 36ms/step - accuracy: 0.7514 - loss: 0.5031\n",
      "Epoch 24: val_accuracy did not improve from 0.92021\n",
      "\n",
      "Epoch 24: ReduceLROnPlateau reducing learning rate to 0.00010000000474974513.\n",
      "\u001b[1m12/12\u001b[0m \u001b[32m━━━━━━━━━━━━━━━━━━━━\u001b[0m\u001b[37m\u001b[0m \u001b[1m0s\u001b[0m 40ms/step - accuracy: 0.7507 - loss: 0.5053 - val_accuracy: 0.7692 - val_loss: 0.5178 - learning_rate: 0.0010\n",
      "Epoch 25/100\n",
      "\u001b[1m11/12\u001b[0m \u001b[32m━━━━━━━━━━━━━━━━━━\u001b[0m\u001b[37m━━\u001b[0m \u001b[1m0s\u001b[0m 33ms/step - accuracy: 0.7512 - loss: 0.4936\n",
      "Epoch 25: val_accuracy did not improve from 0.92021\n",
      "\u001b[1m12/12\u001b[0m \u001b[32m━━━━━━━━━━━━━━━━━━━━\u001b[0m\u001b[37m\u001b[0m \u001b[1m0s\u001b[0m 38ms/step - accuracy: 0.7506 - loss: 0.4945 - val_accuracy: 0.7762 - val_loss: 0.5193 - learning_rate: 1.0000e-04\n",
      "Epoch 26/100\n",
      "\u001b[1m11/12\u001b[0m \u001b[32m━━━━━━━━━━━━━━━━━━\u001b[0m\u001b[37m━━\u001b[0m \u001b[1m0s\u001b[0m 33ms/step - accuracy: 0.7512 - loss: 0.5065\n",
      "Epoch 26: val_accuracy did not improve from 0.92021\n",
      "\u001b[1m12/12\u001b[0m \u001b[32m━━━━━━━━━━━━━━━━━━━━\u001b[0m\u001b[37m\u001b[0m \u001b[1m0s\u001b[0m 37ms/step - accuracy: 0.7502 - loss: 0.5062 - val_accuracy: 0.7552 - val_loss: 0.5224 - learning_rate: 1.0000e-04\n",
      "Epoch 27/100\n",
      "\u001b[1m11/12\u001b[0m \u001b[32m━━━━━━━━━━━━━━━━━━\u001b[0m\u001b[37m━━\u001b[0m \u001b[1m0s\u001b[0m 33ms/step - accuracy: 0.7444 - loss: 0.5117\n",
      "Epoch 27: val_accuracy did not improve from 0.92021\n",
      "\u001b[1m12/12\u001b[0m \u001b[32m━━━━━━━━━━━━━━━━━━━━\u001b[0m\u001b[37m\u001b[0m \u001b[1m0s\u001b[0m 37ms/step - accuracy: 0.7447 - loss: 0.5101 - val_accuracy: 0.7552 - val_loss: 0.5233 - learning_rate: 1.0000e-04\n",
      "Epoch 28/100\n",
      "\u001b[1m11/12\u001b[0m \u001b[32m━━━━━━━━━━━━━━━━━━\u001b[0m\u001b[37m━━\u001b[0m \u001b[1m0s\u001b[0m 33ms/step - accuracy: 0.7410 - loss: 0.5087\n",
      "Epoch 28: val_accuracy did not improve from 0.92021\n",
      "\u001b[1m12/12\u001b[0m \u001b[32m━━━━━━━━━━━━━━━━━━━━\u001b[0m\u001b[37m\u001b[0m \u001b[1m0s\u001b[0m 37ms/step - accuracy: 0.7421 - loss: 0.5071 - val_accuracy: 0.7483 - val_loss: 0.5243 - learning_rate: 1.0000e-04\n",
      "Epoch 29/100\n",
      "\u001b[1m11/12\u001b[0m \u001b[32m━━━━━━━━━━━━━━━━━━\u001b[0m\u001b[37m━━\u001b[0m \u001b[1m0s\u001b[0m 33ms/step - accuracy: 0.7378 - loss: 0.5073\n",
      "Epoch 29: val_accuracy did not improve from 0.92021\n",
      "\u001b[1m12/12\u001b[0m \u001b[32m━━━━━━━━━━━━━━━━━━━━\u001b[0m\u001b[37m\u001b[0m \u001b[1m0s\u001b[0m 37ms/step - accuracy: 0.7408 - loss: 0.5057 - val_accuracy: 0.7552 - val_loss: 0.5240 - learning_rate: 1.0000e-04\n",
      "Epoch 30/100\n",
      "\u001b[1m11/12\u001b[0m \u001b[32m━━━━━━━━━━━━━━━━━━\u001b[0m\u001b[37m━━\u001b[0m \u001b[1m0s\u001b[0m 33ms/step - accuracy: 0.7591 - loss: 0.4889\n",
      "Epoch 30: val_accuracy did not improve from 0.92021\n",
      "\u001b[1m12/12\u001b[0m \u001b[32m━━━━━━━━━━━━━━━━━━━━\u001b[0m\u001b[37m\u001b[0m \u001b[1m0s\u001b[0m 37ms/step - accuracy: 0.7584 - loss: 0.4903 - val_accuracy: 0.7552 - val_loss: 0.5239 - learning_rate: 1.0000e-04\n",
      "Epoch 31/100\n",
      "\u001b[1m11/12\u001b[0m \u001b[32m━━━━━━━━━━━━━━━━━━\u001b[0m\u001b[37m━━\u001b[0m \u001b[1m0s\u001b[0m 42ms/step - accuracy: 0.7623 - loss: 0.4995\n",
      "Epoch 31: val_accuracy did not improve from 0.92021\n",
      "\u001b[1m12/12\u001b[0m \u001b[32m━━━━━━━━━━━━━━━━━━━━\u001b[0m\u001b[37m\u001b[0m \u001b[1m1s\u001b[0m 45ms/step - accuracy: 0.7616 - loss: 0.4990 - val_accuracy: 0.7552 - val_loss: 0.5240 - learning_rate: 1.0000e-04\n",
      "Epoch 32/100\n",
      "\u001b[1m11/12\u001b[0m \u001b[32m━━━━━━━━━━━━━━━━━━\u001b[0m\u001b[37m━━\u001b[0m \u001b[1m0s\u001b[0m 33ms/step - accuracy: 0.7450 - loss: 0.4987\n",
      "Epoch 32: val_accuracy did not improve from 0.92021\n",
      "\u001b[1m12/12\u001b[0m \u001b[32m━━━━━━━━━━━━━━━━━━━━\u001b[0m\u001b[37m\u001b[0m \u001b[1m1s\u001b[0m 37ms/step - accuracy: 0.7452 - loss: 0.4988 - val_accuracy: 0.7622 - val_loss: 0.5228 - learning_rate: 1.0000e-04\n",
      "Epoch 33/100\n",
      "\u001b[1m11/12\u001b[0m \u001b[32m━━━━━━━━━━━━━━━━━━\u001b[0m\u001b[37m━━\u001b[0m \u001b[1m0s\u001b[0m 33ms/step - accuracy: 0.7685 - loss: 0.4803\n",
      "Epoch 33: val_accuracy did not improve from 0.92021\n",
      "\u001b[1m12/12\u001b[0m \u001b[32m━━━━━━━━━━━━━━━━━━━━\u001b[0m\u001b[37m\u001b[0m \u001b[1m0s\u001b[0m 37ms/step - accuracy: 0.7667 - loss: 0.4826 - val_accuracy: 0.7622 - val_loss: 0.5235 - learning_rate: 1.0000e-04\n",
      "Epoch 34/100\n",
      "\u001b[1m11/12\u001b[0m \u001b[32m━━━━━━━━━━━━━━━━━━\u001b[0m\u001b[37m━━\u001b[0m \u001b[1m0s\u001b[0m 33ms/step - accuracy: 0.7550 - loss: 0.4953\n",
      "Epoch 34: val_accuracy did not improve from 0.92021\n",
      "\u001b[1m12/12\u001b[0m \u001b[32m━━━━━━━━━━━━━━━━━━━━\u001b[0m\u001b[37m\u001b[0m \u001b[1m0s\u001b[0m 37ms/step - accuracy: 0.7547 - loss: 0.4954 - val_accuracy: 0.7552 - val_loss: 0.5247 - learning_rate: 1.0000e-04\n",
      "Epoch 35/100\n",
      "\u001b[1m11/12\u001b[0m \u001b[32m━━━━━━━━━━━━━━━━━━\u001b[0m\u001b[37m━━\u001b[0m \u001b[1m0s\u001b[0m 33ms/step - accuracy: 0.7319 - loss: 0.5025\n",
      "Epoch 35: val_accuracy did not improve from 0.92021\n",
      "\u001b[1m12/12\u001b[0m \u001b[32m━━━━━━━━━━━━━━━━━━━━\u001b[0m\u001b[37m\u001b[0m \u001b[1m0s\u001b[0m 37ms/step - accuracy: 0.7337 - loss: 0.5024 - val_accuracy: 0.7622 - val_loss: 0.5229 - learning_rate: 1.0000e-04\n",
      "Epoch 36/100\n",
      "\u001b[1m11/12\u001b[0m \u001b[32m━━━━━━━━━━━━━━━━━━\u001b[0m\u001b[37m━━\u001b[0m \u001b[1m0s\u001b[0m 33ms/step - accuracy: 0.7545 - loss: 0.4931\n",
      "Epoch 36: val_accuracy did not improve from 0.92021\n",
      "\u001b[1m12/12\u001b[0m \u001b[32m━━━━━━━━━━━━━━━━━━━━\u001b[0m\u001b[37m\u001b[0m \u001b[1m0s\u001b[0m 37ms/step - accuracy: 0.7550 - loss: 0.4936 - val_accuracy: 0.7552 - val_loss: 0.5235 - learning_rate: 1.0000e-04\n",
      "Epoch 37/100\n",
      "\u001b[1m11/12\u001b[0m \u001b[32m━━━━━━━━━━━━━━━━━━\u001b[0m\u001b[37m━━\u001b[0m \u001b[1m0s\u001b[0m 33ms/step - accuracy: 0.7674 - loss: 0.4874\n",
      "Epoch 37: val_accuracy did not improve from 0.92021\n",
      "\u001b[1m12/12\u001b[0m \u001b[32m━━━━━━━━━━━━━━━━━━━━\u001b[0m\u001b[37m\u001b[0m \u001b[1m0s\u001b[0m 37ms/step - accuracy: 0.7651 - loss: 0.4885 - val_accuracy: 0.7552 - val_loss: 0.5237 - learning_rate: 1.0000e-04\n",
      "Epoch 38/100\n",
      "\u001b[1m11/12\u001b[0m \u001b[32m━━━━━━━━━━━━━━━━━━\u001b[0m\u001b[37m━━\u001b[0m \u001b[1m0s\u001b[0m 33ms/step - accuracy: 0.7704 - loss: 0.4851\n",
      "Epoch 38: val_accuracy did not improve from 0.92021\n",
      "\u001b[1m12/12\u001b[0m \u001b[32m━━━━━━━━━━━━━━━━━━━━\u001b[0m\u001b[37m\u001b[0m \u001b[1m0s\u001b[0m 38ms/step - accuracy: 0.7682 - loss: 0.4861 - val_accuracy: 0.7622 - val_loss: 0.5230 - learning_rate: 1.0000e-04\n",
      "Epoch 39/100\n",
      "\u001b[1m12/12\u001b[0m \u001b[32m━━━━━━━━━━━━━━━━━━━━\u001b[0m\u001b[37m\u001b[0m \u001b[1m0s\u001b[0m 42ms/step - accuracy: 0.7642 - loss: 0.4840\n",
      "Epoch 39: val_accuracy did not improve from 0.92021\n",
      "\u001b[1m12/12\u001b[0m \u001b[32m━━━━━━━━━━━━━━━━━━━━\u001b[0m\u001b[37m\u001b[0m \u001b[1m1s\u001b[0m 49ms/step - accuracy: 0.7637 - loss: 0.4846 - val_accuracy: 0.7552 - val_loss: 0.5228 - learning_rate: 1.0000e-04\n",
      "Epoch 40/100\n",
      "\u001b[1m11/12\u001b[0m \u001b[32m━━━━━━━━━━━━━━━━━━\u001b[0m\u001b[37m━━\u001b[0m \u001b[1m0s\u001b[0m 47ms/step - accuracy: 0.7793 - loss: 0.4825\n",
      "Epoch 40: val_accuracy did not improve from 0.92021\n",
      "\u001b[1m12/12\u001b[0m \u001b[32m━━━━━━━━━━━━━━━━━━━━\u001b[0m\u001b[37m\u001b[0m \u001b[1m1s\u001b[0m 50ms/step - accuracy: 0.7750 - loss: 0.4850 - val_accuracy: 0.7552 - val_loss: 0.5245 - learning_rate: 1.0000e-04\n",
      "Epoch 41/100\n",
      "\u001b[1m12/12\u001b[0m \u001b[32m━━━━━━━━━━━━━━━━━━━━\u001b[0m\u001b[37m\u001b[0m \u001b[1m0s\u001b[0m 52ms/step - accuracy: 0.7690 - loss: 0.4802\n",
      "Epoch 41: val_accuracy did not improve from 0.92021\n",
      "\u001b[1m12/12\u001b[0m \u001b[32m━━━━━━━━━━━━━━━━━━━━\u001b[0m\u001b[37m\u001b[0m \u001b[1m1s\u001b[0m 57ms/step - accuracy: 0.7674 - loss: 0.4814 - val_accuracy: 0.7622 - val_loss: 0.5231 - learning_rate: 1.0000e-04\n",
      "Epoch 42/100\n",
      "\u001b[1m11/12\u001b[0m \u001b[32m━━━━━━━━━━━━━━━━━━\u001b[0m\u001b[37m━━\u001b[0m \u001b[1m0s\u001b[0m 37ms/step - accuracy: 0.7405 - loss: 0.4985\n",
      "Epoch 42: val_accuracy did not improve from 0.92021\n",
      "\u001b[1m12/12\u001b[0m \u001b[32m━━━━━━━━━━━━━━━━━━━━\u001b[0m\u001b[37m\u001b[0m \u001b[1m1s\u001b[0m 41ms/step - accuracy: 0.7433 - loss: 0.4980 - val_accuracy: 0.7552 - val_loss: 0.5253 - learning_rate: 1.0000e-04\n",
      "Epoch 43/100\n",
      "\u001b[1m11/12\u001b[0m \u001b[32m━━━━━━━━━━━━━━━━━━\u001b[0m\u001b[37m━━\u001b[0m \u001b[1m0s\u001b[0m 36ms/step - accuracy: 0.7608 - loss: 0.5139\n",
      "Epoch 43: val_accuracy did not improve from 0.92021\n",
      "\u001b[1m12/12\u001b[0m \u001b[32m━━━━━━━━━━━━━━━━━━━━\u001b[0m\u001b[37m\u001b[0m \u001b[1m1s\u001b[0m 40ms/step - accuracy: 0.7605 - loss: 0.5107 - val_accuracy: 0.7552 - val_loss: 0.5264 - learning_rate: 1.0000e-04\n",
      "Epoch 44/100\n",
      "\u001b[1m11/12\u001b[0m \u001b[32m━━━━━━━━━━━━━━━━━━\u001b[0m\u001b[37m━━\u001b[0m \u001b[1m0s\u001b[0m 36ms/step - accuracy: 0.7598 - loss: 0.5091\n",
      "Epoch 44: val_accuracy did not improve from 0.92021\n",
      "\n",
      "Epoch 44: ReduceLROnPlateau reducing learning rate to 1.0000000474974514e-05.\n",
      "\u001b[1m12/12\u001b[0m \u001b[32m━━━━━━━━━━━━━━━━━━━━\u001b[0m\u001b[37m\u001b[0m \u001b[1m0s\u001b[0m 40ms/step - accuracy: 0.7603 - loss: 0.5069 - val_accuracy: 0.7622 - val_loss: 0.5252 - learning_rate: 1.0000e-04\n",
      "Epoch 45/100\n",
      "\u001b[1m11/12\u001b[0m \u001b[32m━━━━━━━━━━━━━━━━━━\u001b[0m\u001b[37m━━\u001b[0m \u001b[1m0s\u001b[0m 36ms/step - accuracy: 0.7503 - loss: 0.5006\n",
      "Epoch 45: val_accuracy did not improve from 0.92021\n",
      "\u001b[1m12/12\u001b[0m \u001b[32m━━━━━━━━━━━━━━━━━━━━\u001b[0m\u001b[37m\u001b[0m \u001b[1m1s\u001b[0m 40ms/step - accuracy: 0.7517 - loss: 0.4986 - val_accuracy: 0.7622 - val_loss: 0.5253 - learning_rate: 1.0000e-05\n",
      "Epoch 46/100\n",
      "\u001b[1m11/12\u001b[0m \u001b[32m━━━━━━━━━━━━━━━━━━\u001b[0m\u001b[37m━━\u001b[0m \u001b[1m0s\u001b[0m 36ms/step - accuracy: 0.7682 - loss: 0.4780\n",
      "Epoch 46: val_accuracy did not improve from 0.92021\n",
      "\u001b[1m12/12\u001b[0m \u001b[32m━━━━━━━━━━━━━━━━━━━━\u001b[0m\u001b[37m\u001b[0m \u001b[1m1s\u001b[0m 40ms/step - accuracy: 0.7653 - loss: 0.4814 - val_accuracy: 0.7622 - val_loss: 0.5255 - learning_rate: 1.0000e-05\n",
      "Epoch 47/100\n",
      "\u001b[1m11/12\u001b[0m \u001b[32m━━━━━━━━━━━━━━━━━━\u001b[0m\u001b[37m━━\u001b[0m \u001b[1m0s\u001b[0m 36ms/step - accuracy: 0.7440 - loss: 0.5018\n",
      "Epoch 47: val_accuracy did not improve from 0.92021\n",
      "\u001b[1m12/12\u001b[0m \u001b[32m━━━━━━━━━━━━━━━━━━━━\u001b[0m\u001b[37m\u001b[0m \u001b[1m0s\u001b[0m 40ms/step - accuracy: 0.7442 - loss: 0.5012 - val_accuracy: 0.7622 - val_loss: 0.5256 - learning_rate: 1.0000e-05\n",
      "Epoch 48/100\n",
      "\u001b[1m11/12\u001b[0m \u001b[32m━━━━━━━━━━━━━━━━━━\u001b[0m\u001b[37m━━\u001b[0m \u001b[1m0s\u001b[0m 36ms/step - accuracy: 0.7601 - loss: 0.4817\n",
      "Epoch 48: val_accuracy did not improve from 0.92021\n",
      "\u001b[1m12/12\u001b[0m \u001b[32m━━━━━━━━━━━━━━━━━━━━\u001b[0m\u001b[37m\u001b[0m \u001b[1m1s\u001b[0m 40ms/step - accuracy: 0.7596 - loss: 0.4833 - val_accuracy: 0.7622 - val_loss: 0.5253 - learning_rate: 1.0000e-05\n",
      "Epoch 49/100\n",
      "\u001b[1m12/12\u001b[0m \u001b[32m━━━━━━━━━━━━━━━━━━━━\u001b[0m\u001b[37m\u001b[0m \u001b[1m0s\u001b[0m 37ms/step - accuracy: 0.7424 - loss: 0.4915\n",
      "Epoch 49: val_accuracy did not improve from 0.92021\n",
      "\u001b[1m12/12\u001b[0m \u001b[32m━━━━━━━━━━━━━━━━━━━━\u001b[0m\u001b[37m\u001b[0m \u001b[1m1s\u001b[0m 42ms/step - accuracy: 0.7431 - loss: 0.4914 - val_accuracy: 0.7622 - val_loss: 0.5252 - learning_rate: 1.0000e-05\n",
      "Epoch 50/100\n",
      "\u001b[1m11/12\u001b[0m \u001b[32m━━━━━━━━━━━━━━━━━━\u001b[0m\u001b[37m━━\u001b[0m \u001b[1m0s\u001b[0m 35ms/step - accuracy: 0.7679 - loss: 0.4990\n",
      "Epoch 50: val_accuracy did not improve from 0.92021\n",
      "\u001b[1m12/12\u001b[0m \u001b[32m━━━━━━━━━━━━━━━━━━━━\u001b[0m\u001b[37m\u001b[0m \u001b[1m0s\u001b[0m 40ms/step - accuracy: 0.7658 - loss: 0.4986 - val_accuracy: 0.7622 - val_loss: 0.5254 - learning_rate: 1.0000e-05\n",
      "Epoch 51/100\n",
      "\u001b[1m11/12\u001b[0m \u001b[32m━━━━━━━━━━━━━━━━━━\u001b[0m\u001b[37m━━\u001b[0m \u001b[1m0s\u001b[0m 36ms/step - accuracy: 0.7692 - loss: 0.4911\n",
      "Epoch 51: val_accuracy did not improve from 0.92021\n",
      "\u001b[1m12/12\u001b[0m \u001b[32m━━━━━━━━━━━━━━━━━━━━\u001b[0m\u001b[37m\u001b[0m \u001b[1m1s\u001b[0m 48ms/step - accuracy: 0.7669 - loss: 0.4919 - val_accuracy: 0.7622 - val_loss: 0.5254 - learning_rate: 1.0000e-05\n",
      "Epoch 52/100\n",
      "\u001b[1m11/12\u001b[0m \u001b[32m━━━━━━━━━━━━━━━━━━\u001b[0m\u001b[37m━━\u001b[0m \u001b[1m0s\u001b[0m 36ms/step - accuracy: 0.7601 - loss: 0.4812\n",
      "Epoch 52: val_accuracy did not improve from 0.92021\n",
      "\u001b[1m12/12\u001b[0m \u001b[32m━━━━━━━━━━━━━━━━━━━━\u001b[0m\u001b[37m\u001b[0m \u001b[1m0s\u001b[0m 40ms/step - accuracy: 0.7588 - loss: 0.4829 - val_accuracy: 0.7622 - val_loss: 0.5256 - learning_rate: 1.0000e-05\n",
      "Epoch 53/100\n",
      "\u001b[1m11/12\u001b[0m \u001b[32m━━━━━━━━━━━━━━━━━━\u001b[0m\u001b[37m━━\u001b[0m \u001b[1m0s\u001b[0m 36ms/step - accuracy: 0.7310 - loss: 0.5089\n",
      "Epoch 53: val_accuracy did not improve from 0.92021\n",
      "\u001b[1m12/12\u001b[0m \u001b[32m━━━━━━━━━━━━━━━━━━━━\u001b[0m\u001b[37m\u001b[0m \u001b[1m0s\u001b[0m 40ms/step - accuracy: 0.7336 - loss: 0.5069 - val_accuracy: 0.7622 - val_loss: 0.5256 - learning_rate: 1.0000e-05\n",
      "Epoch 54/100\n",
      "\u001b[1m11/12\u001b[0m \u001b[32m━━━━━━━━━━━━━━━━━━\u001b[0m\u001b[37m━━\u001b[0m \u001b[1m0s\u001b[0m 37ms/step - accuracy: 0.7715 - loss: 0.4797\n",
      "Epoch 54: val_accuracy did not improve from 0.92021\n",
      "\u001b[1m12/12\u001b[0m \u001b[32m━━━━━━━━━━━━━━━━━━━━\u001b[0m\u001b[37m\u001b[0m \u001b[1m1s\u001b[0m 41ms/step - accuracy: 0.7685 - loss: 0.4824 - val_accuracy: 0.7622 - val_loss: 0.5256 - learning_rate: 1.0000e-05\n",
      "Epoch 55/100\n",
      "\u001b[1m11/12\u001b[0m \u001b[32m━━━━━━━━━━━━━━━━━━\u001b[0m\u001b[37m━━\u001b[0m \u001b[1m0s\u001b[0m 36ms/step - accuracy: 0.7677 - loss: 0.4866\n",
      "Epoch 55: val_accuracy did not improve from 0.92021\n",
      "\u001b[1m12/12\u001b[0m \u001b[32m━━━━━━━━━━━━━━━━━━━━\u001b[0m\u001b[37m\u001b[0m \u001b[1m1s\u001b[0m 40ms/step - accuracy: 0.7659 - loss: 0.4882 - val_accuracy: 0.7622 - val_loss: 0.5256 - learning_rate: 1.0000e-05\n",
      "Epoch 56/100\n",
      "\u001b[1m11/12\u001b[0m \u001b[32m━━━━━━━━━━━━━━━━━━\u001b[0m\u001b[37m━━\u001b[0m \u001b[1m0s\u001b[0m 36ms/step - accuracy: 0.7737 - loss: 0.4787\n",
      "Epoch 56: val_accuracy did not improve from 0.92021\n",
      "\u001b[1m12/12\u001b[0m \u001b[32m━━━━━━━━━━━━━━━━━━━━\u001b[0m\u001b[37m\u001b[0m \u001b[1m0s\u001b[0m 40ms/step - accuracy: 0.7719 - loss: 0.4816 - val_accuracy: 0.7622 - val_loss: 0.5255 - learning_rate: 1.0000e-05\n",
      "Epoch 57/100\n",
      "\u001b[1m11/12\u001b[0m \u001b[32m━━━━━━━━━━━━━━━━━━\u001b[0m\u001b[37m━━\u001b[0m \u001b[1m0s\u001b[0m 35ms/step - accuracy: 0.7572 - loss: 0.4903\n",
      "Epoch 57: val_accuracy did not improve from 0.92021\n",
      "\u001b[1m12/12\u001b[0m \u001b[32m━━━━━━━━━━━━━━━━━━━━\u001b[0m\u001b[37m\u001b[0m \u001b[1m0s\u001b[0m 40ms/step - accuracy: 0.7565 - loss: 0.4906 - val_accuracy: 0.7622 - val_loss: 0.5255 - learning_rate: 1.0000e-05\n",
      "Epoch 58/100\n",
      "\u001b[1m11/12\u001b[0m \u001b[32m━━━━━━━━━━━━━━━━━━\u001b[0m\u001b[37m━━\u001b[0m \u001b[1m0s\u001b[0m 36ms/step - accuracy: 0.7414 - loss: 0.4924\n",
      "Epoch 58: val_accuracy did not improve from 0.92021\n",
      "\u001b[1m12/12\u001b[0m \u001b[32m━━━━━━━━━━━━━━━━━━━━\u001b[0m\u001b[37m\u001b[0m \u001b[1m0s\u001b[0m 40ms/step - accuracy: 0.7420 - loss: 0.4926 - val_accuracy: 0.7622 - val_loss: 0.5251 - learning_rate: 1.0000e-05\n",
      "Epoch 59/100\n",
      "\u001b[1m12/12\u001b[0m \u001b[32m━━━━━━━━━━━━━━━━━━━━\u001b[0m\u001b[37m\u001b[0m \u001b[1m0s\u001b[0m 37ms/step - accuracy: 0.7557 - loss: 0.4967\n",
      "Epoch 59: val_accuracy did not improve from 0.92021\n",
      "\u001b[1m12/12\u001b[0m \u001b[32m━━━━━━━━━━━━━━━━━━━━\u001b[0m\u001b[37m\u001b[0m \u001b[1m1s\u001b[0m 42ms/step - accuracy: 0.7555 - loss: 0.4967 - val_accuracy: 0.7622 - val_loss: 0.5257 - learning_rate: 1.0000e-05\n",
      "Epoch 60/100\n",
      "\u001b[1m11/12\u001b[0m \u001b[32m━━━━━━━━━━━━━━━━━━\u001b[0m\u001b[37m━━\u001b[0m \u001b[1m0s\u001b[0m 36ms/step - accuracy: 0.7474 - loss: 0.5175\n",
      "Epoch 60: val_accuracy did not improve from 0.92021\n",
      "\u001b[1m12/12\u001b[0m \u001b[32m━━━━━━━━━━━━━━━━━━━━\u001b[0m\u001b[37m\u001b[0m \u001b[1m1s\u001b[0m 40ms/step - accuracy: 0.7489 - loss: 0.5149 - val_accuracy: 0.7622 - val_loss: 0.5256 - learning_rate: 1.0000e-05\n",
      "Epoch 61/100\n",
      "\u001b[1m12/12\u001b[0m \u001b[32m━━━━━━━━━━━━━━━━━━━━\u001b[0m\u001b[37m\u001b[0m \u001b[1m0s\u001b[0m 45ms/step - accuracy: 0.7700 - loss: 0.4760\n",
      "Epoch 61: val_accuracy did not improve from 0.92021\n",
      "\u001b[1m12/12\u001b[0m \u001b[32m━━━━━━━━━━━━━━━━━━━━\u001b[0m\u001b[37m\u001b[0m \u001b[1m1s\u001b[0m 50ms/step - accuracy: 0.7690 - loss: 0.4776 - val_accuracy: 0.7622 - val_loss: 0.5255 - learning_rate: 1.0000e-05\n",
      "Epoch 62/100\n",
      "\u001b[1m11/12\u001b[0m \u001b[32m━━━━━━━━━━━━━━━━━━\u001b[0m\u001b[37m━━\u001b[0m \u001b[1m0s\u001b[0m 36ms/step - accuracy: 0.7532 - loss: 0.4873\n",
      "Epoch 62: val_accuracy did not improve from 0.92021\n",
      "\u001b[1m12/12\u001b[0m \u001b[32m━━━━━━━━━━━━━━━━━━━━\u001b[0m\u001b[37m\u001b[0m \u001b[1m0s\u001b[0m 40ms/step - accuracy: 0.7525 - loss: 0.4891 - val_accuracy: 0.7622 - val_loss: 0.5255 - learning_rate: 1.0000e-05\n",
      "Epoch 63/100\n",
      "\u001b[1m11/12\u001b[0m \u001b[32m━━━━━━━━━━━━━━━━━━\u001b[0m\u001b[37m━━\u001b[0m \u001b[1m0s\u001b[0m 36ms/step - accuracy: 0.7443 - loss: 0.5118\n",
      "Epoch 63: val_accuracy did not improve from 0.92021\n",
      "\u001b[1m12/12\u001b[0m \u001b[32m━━━━━━━━━━━━━━━━━━━━\u001b[0m\u001b[37m\u001b[0m \u001b[1m1s\u001b[0m 41ms/step - accuracy: 0.7466 - loss: 0.5092 - val_accuracy: 0.7622 - val_loss: 0.5255 - learning_rate: 1.0000e-05\n",
      "Epoch 64/100\n",
      "\u001b[1m11/12\u001b[0m \u001b[32m━━━━━━━━━━━━━━━━━━\u001b[0m\u001b[37m━━\u001b[0m \u001b[1m0s\u001b[0m 36ms/step - accuracy: 0.7594 - loss: 0.4966\n",
      "Epoch 64: val_accuracy did not improve from 0.92021\n",
      "\n",
      "Epoch 64: ReduceLROnPlateau reducing learning rate to 1.0000000656873453e-06.\n",
      "\u001b[1m12/12\u001b[0m \u001b[32m━━━━━━━━━━━━━━━━━━━━\u001b[0m\u001b[37m\u001b[0m \u001b[1m0s\u001b[0m 40ms/step - accuracy: 0.7587 - loss: 0.4972 - val_accuracy: 0.7622 - val_loss: 0.5255 - learning_rate: 1.0000e-05\n",
      "Epoch 65/100\n",
      "\u001b[1m11/12\u001b[0m \u001b[32m━━━━━━━━━━━━━━━━━━\u001b[0m\u001b[37m━━\u001b[0m \u001b[1m0s\u001b[0m 36ms/step - accuracy: 0.7663 - loss: 0.4905\n",
      "Epoch 65: val_accuracy did not improve from 0.92021\n",
      "\u001b[1m12/12\u001b[0m \u001b[32m━━━━━━━━━━━━━━━━━━━━\u001b[0m\u001b[37m\u001b[0m \u001b[1m0s\u001b[0m 40ms/step - accuracy: 0.7649 - loss: 0.4908 - val_accuracy: 0.7622 - val_loss: 0.5255 - learning_rate: 1.0000e-06\n",
      "Epoch 66/100\n",
      "\u001b[1m11/12\u001b[0m \u001b[32m━━━━━━━━━━━━━━━━━━\u001b[0m\u001b[37m━━\u001b[0m \u001b[1m0s\u001b[0m 36ms/step - accuracy: 0.7269 - loss: 0.5124\n",
      "Epoch 66: val_accuracy did not improve from 0.92021\n",
      "\u001b[1m12/12\u001b[0m \u001b[32m━━━━━━━━━━━━━━━━━━━━\u001b[0m\u001b[37m\u001b[0m \u001b[1m0s\u001b[0m 40ms/step - accuracy: 0.7301 - loss: 0.5096 - val_accuracy: 0.7622 - val_loss: 0.5255 - learning_rate: 1.0000e-06\n",
      "Epoch 67/100\n",
      "\u001b[1m11/12\u001b[0m \u001b[32m━━━━━━━━━━━━━━━━━━\u001b[0m\u001b[37m━━\u001b[0m \u001b[1m0s\u001b[0m 36ms/step - accuracy: 0.7409 - loss: 0.5140\n",
      "Epoch 67: val_accuracy did not improve from 0.92021\n",
      "\u001b[1m12/12\u001b[0m \u001b[32m━━━━━━━━━━━━━━━━━━━━\u001b[0m\u001b[37m\u001b[0m \u001b[1m0s\u001b[0m 40ms/step - accuracy: 0.7435 - loss: 0.5104 - val_accuracy: 0.7622 - val_loss: 0.5255 - learning_rate: 1.0000e-06\n",
      "Epoch 68/100\n",
      "\u001b[1m11/12\u001b[0m \u001b[32m━━━━━━━━━━━━━━━━━━\u001b[0m\u001b[37m━━\u001b[0m \u001b[1m0s\u001b[0m 36ms/step - accuracy: 0.7537 - loss: 0.4905\n",
      "Epoch 68: val_accuracy did not improve from 0.92021\n",
      "\u001b[1m12/12\u001b[0m \u001b[32m━━━━━━━━━━━━━━━━━━━━\u001b[0m\u001b[37m\u001b[0m \u001b[1m1s\u001b[0m 41ms/step - accuracy: 0.7542 - loss: 0.4905 - val_accuracy: 0.7622 - val_loss: 0.5255 - learning_rate: 1.0000e-06\n",
      "Epoch 69/100\n",
      "\u001b[1m11/12\u001b[0m \u001b[32m━━━━━━━━━━━━━━━━━━\u001b[0m\u001b[37m━━\u001b[0m \u001b[1m0s\u001b[0m 37ms/step - accuracy: 0.7409 - loss: 0.4936\n",
      "Epoch 69: val_accuracy did not improve from 0.92021\n",
      "\u001b[1m12/12\u001b[0m \u001b[32m━━━━━━━━━━━━━━━━━━━━\u001b[0m\u001b[37m\u001b[0m \u001b[1m1s\u001b[0m 41ms/step - accuracy: 0.7421 - loss: 0.4933 - val_accuracy: 0.7622 - val_loss: 0.5255 - learning_rate: 1.0000e-06\n",
      "Epoch 70/100\n",
      "\u001b[1m11/12\u001b[0m \u001b[32m━━━━━━━━━━━━━━━━━━\u001b[0m\u001b[37m━━\u001b[0m \u001b[1m0s\u001b[0m 45ms/step - accuracy: 0.7800 - loss: 0.4725\n",
      "Epoch 70: val_accuracy did not improve from 0.92021\n",
      "\u001b[1m12/12\u001b[0m \u001b[32m━━━━━━━━━━━━━━━━━━━━\u001b[0m\u001b[37m\u001b[0m \u001b[1m1s\u001b[0m 49ms/step - accuracy: 0.7767 - loss: 0.4760 - val_accuracy: 0.7622 - val_loss: 0.5255 - learning_rate: 1.0000e-06\n",
      "Epoch 71/100\n",
      "\u001b[1m11/12\u001b[0m \u001b[32m━━━━━━━━━━━━━━━━━━\u001b[0m\u001b[37m━━\u001b[0m \u001b[1m0s\u001b[0m 36ms/step - accuracy: 0.7501 - loss: 0.4866\n",
      "Epoch 71: val_accuracy did not improve from 0.92021\n",
      "\u001b[1m12/12\u001b[0m \u001b[32m━━━━━━━━━━━━━━━━━━━━\u001b[0m\u001b[37m\u001b[0m \u001b[1m1s\u001b[0m 40ms/step - accuracy: 0.7494 - loss: 0.4883 - val_accuracy: 0.7622 - val_loss: 0.5255 - learning_rate: 1.0000e-06\n",
      "Epoch 72/100\n",
      "\u001b[1m11/12\u001b[0m \u001b[32m━━━━━━━━━━━━━━━━━━\u001b[0m\u001b[37m━━\u001b[0m \u001b[1m0s\u001b[0m 36ms/step - accuracy: 0.7433 - loss: 0.5029\n",
      "Epoch 72: val_accuracy did not improve from 0.92021\n",
      "\u001b[1m12/12\u001b[0m \u001b[32m━━━━━━━━━━━━━━━━━━━━\u001b[0m\u001b[37m\u001b[0m \u001b[1m1s\u001b[0m 40ms/step - accuracy: 0.7448 - loss: 0.5019 - val_accuracy: 0.7622 - val_loss: 0.5255 - learning_rate: 1.0000e-06\n",
      "Epoch 73/100\n",
      "\u001b[1m11/12\u001b[0m \u001b[32m━━━━━━━━━━━━━━━━━━\u001b[0m\u001b[37m━━\u001b[0m \u001b[1m0s\u001b[0m 37ms/step - accuracy: 0.7681 - loss: 0.5056\n",
      "Epoch 73: val_accuracy did not improve from 0.92021\n",
      "\u001b[1m12/12\u001b[0m \u001b[32m━━━━━━━━━━━━━━━━━━━━\u001b[0m\u001b[37m\u001b[0m \u001b[1m1s\u001b[0m 41ms/step - accuracy: 0.7676 - loss: 0.5036 - val_accuracy: 0.7622 - val_loss: 0.5255 - learning_rate: 1.0000e-06\n",
      "Epoch 74/100\n",
      "\u001b[1m11/12\u001b[0m \u001b[32m━━━━━━━━━━━━━━━━━━\u001b[0m\u001b[37m━━\u001b[0m \u001b[1m0s\u001b[0m 36ms/step - accuracy: 0.7759 - loss: 0.4755\n",
      "Epoch 74: val_accuracy did not improve from 0.92021\n",
      "\u001b[1m12/12\u001b[0m \u001b[32m━━━━━━━━━━━━━━━━━━━━\u001b[0m\u001b[37m\u001b[0m \u001b[1m1s\u001b[0m 40ms/step - accuracy: 0.7738 - loss: 0.4784 - val_accuracy: 0.7622 - val_loss: 0.5255 - learning_rate: 1.0000e-06\n",
      "Epoch 75/100\n",
      "\u001b[1m11/12\u001b[0m \u001b[32m━━━━━━━━━━━━━━━━━━\u001b[0m\u001b[37m━━\u001b[0m \u001b[1m0s\u001b[0m 36ms/step - accuracy: 0.7730 - loss: 0.4843\n",
      "Epoch 75: val_accuracy did not improve from 0.92021\n",
      "\u001b[1m12/12\u001b[0m \u001b[32m━━━━━━━━━━━━━━━━━━━━\u001b[0m\u001b[37m\u001b[0m \u001b[1m0s\u001b[0m 40ms/step - accuracy: 0.7701 - loss: 0.4860 - val_accuracy: 0.7622 - val_loss: 0.5255 - learning_rate: 1.0000e-06\n",
      "Epoch 76/100\n",
      "\u001b[1m12/12\u001b[0m \u001b[32m━━━━━━━━━━━━━━━━━━━━\u001b[0m\u001b[37m\u001b[0m \u001b[1m0s\u001b[0m 41ms/step - accuracy: 0.7472 - loss: 0.5020\n",
      "Epoch 76: val_accuracy did not improve from 0.92021\n",
      "\u001b[1m12/12\u001b[0m \u001b[32m━━━━━━━━━━━━━━━━━━━━\u001b[0m\u001b[37m\u001b[0m \u001b[1m1s\u001b[0m 53ms/step - accuracy: 0.7479 - loss: 0.5014 - val_accuracy: 0.7622 - val_loss: 0.5255 - learning_rate: 1.0000e-06\n",
      "Epoch 77/100\n",
      "\u001b[1m12/12\u001b[0m \u001b[32m━━━━━━━━━━━━━━━━━━━━\u001b[0m\u001b[37m\u001b[0m \u001b[1m0s\u001b[0m 43ms/step - accuracy: 0.7680 - loss: 0.4890\n",
      "Epoch 77: val_accuracy did not improve from 0.92021\n",
      "\u001b[1m12/12\u001b[0m \u001b[32m━━━━━━━━━━━━━━━━━━━━\u001b[0m\u001b[37m\u001b[0m \u001b[1m1s\u001b[0m 48ms/step - accuracy: 0.7671 - loss: 0.4894 - val_accuracy: 0.7622 - val_loss: 0.5255 - learning_rate: 1.0000e-06\n",
      "Epoch 78/100\n",
      "\u001b[1m11/12\u001b[0m \u001b[32m━━━━━━━━━━━━━━━━━━\u001b[0m\u001b[37m━━\u001b[0m \u001b[1m0s\u001b[0m 38ms/step - accuracy: 0.7508 - loss: 0.4866\n",
      "Epoch 78: val_accuracy did not improve from 0.92021\n",
      "\u001b[1m12/12\u001b[0m \u001b[32m━━━━━━━━━━━━━━━━━━━━\u001b[0m\u001b[37m\u001b[0m \u001b[1m1s\u001b[0m 43ms/step - accuracy: 0.7504 - loss: 0.4882 - val_accuracy: 0.7622 - val_loss: 0.5255 - learning_rate: 1.0000e-06\n",
      "Epoch 79/100\n",
      "\u001b[1m11/12\u001b[0m \u001b[32m━━━━━━━━━━━━━━━━━━\u001b[0m\u001b[37m━━\u001b[0m \u001b[1m0s\u001b[0m 38ms/step - accuracy: 0.7691 - loss: 0.4684\n",
      "Epoch 79: val_accuracy did not improve from 0.92021\n",
      "\u001b[1m12/12\u001b[0m \u001b[32m━━━━━━━━━━━━━━━━━━━━\u001b[0m\u001b[37m\u001b[0m \u001b[1m1s\u001b[0m 43ms/step - accuracy: 0.7661 - loss: 0.4716 - val_accuracy: 0.7622 - val_loss: 0.5255 - learning_rate: 1.0000e-06\n",
      "Epoch 80/100\n",
      "\u001b[1m11/12\u001b[0m \u001b[32m━━━━━━━━━━━━━━━━━━\u001b[0m\u001b[37m━━\u001b[0m \u001b[1m0s\u001b[0m 38ms/step - accuracy: 0.7440 - loss: 0.5219\n",
      "Epoch 80: val_accuracy did not improve from 0.92021\n",
      "\u001b[1m12/12\u001b[0m \u001b[32m━━━━━━━━━━━━━━━━━━━━\u001b[0m\u001b[37m\u001b[0m \u001b[1m1s\u001b[0m 42ms/step - accuracy: 0.7457 - loss: 0.5188 - val_accuracy: 0.7622 - val_loss: 0.5255 - learning_rate: 1.0000e-06\n",
      "Epoch 81/100\n",
      "\u001b[1m11/12\u001b[0m \u001b[32m━━━━━━━━━━━━━━━━━━\u001b[0m\u001b[37m━━\u001b[0m \u001b[1m0s\u001b[0m 38ms/step - accuracy: 0.7695 - loss: 0.4738\n",
      "Epoch 81: val_accuracy did not improve from 0.92021\n",
      "\u001b[1m12/12\u001b[0m \u001b[32m━━━━━━━━━━━━━━━━━━━━\u001b[0m\u001b[37m\u001b[0m \u001b[1m1s\u001b[0m 42ms/step - accuracy: 0.7674 - loss: 0.4765 - val_accuracy: 0.7622 - val_loss: 0.5255 - learning_rate: 1.0000e-06\n",
      "Epoch 82/100\n",
      "\u001b[1m11/12\u001b[0m \u001b[32m━━━━━━━━━━━━━━━━━━\u001b[0m\u001b[37m━━\u001b[0m \u001b[1m0s\u001b[0m 38ms/step - accuracy: 0.7489 - loss: 0.4929\n",
      "Epoch 82: val_accuracy did not improve from 0.92021\n",
      "\u001b[1m12/12\u001b[0m \u001b[32m━━━━━━━━━━━━━━━━━━━━\u001b[0m\u001b[37m\u001b[0m \u001b[1m1s\u001b[0m 43ms/step - accuracy: 0.7500 - loss: 0.4926 - val_accuracy: 0.7622 - val_loss: 0.5255 - learning_rate: 1.0000e-06\n",
      "Epoch 83/100\n",
      "\u001b[1m12/12\u001b[0m \u001b[32m━━━━━━━━━━━━━━━━━━━━\u001b[0m\u001b[37m\u001b[0m \u001b[1m0s\u001b[0m 49ms/step - accuracy: 0.7436 - loss: 0.4887\n",
      "Epoch 83: val_accuracy did not improve from 0.92021\n",
      "\u001b[1m12/12\u001b[0m \u001b[32m━━━━━━━━━━━━━━━━━━━━\u001b[0m\u001b[37m\u001b[0m \u001b[1m1s\u001b[0m 59ms/step - accuracy: 0.7439 - loss: 0.4889 - val_accuracy: 0.7622 - val_loss: 0.5256 - learning_rate: 1.0000e-06\n",
      "Epoch 84/100\n",
      "\u001b[1m12/12\u001b[0m \u001b[32m━━━━━━━━━━━━━━━━━━━━\u001b[0m\u001b[37m\u001b[0m \u001b[1m0s\u001b[0m 39ms/step - accuracy: 0.7476 - loss: 0.4844\n",
      "Epoch 84: val_accuracy did not improve from 0.92021\n",
      "\n",
      "Epoch 84: ReduceLROnPlateau reducing learning rate to 1.0000001111620805e-07.\n",
      "\u001b[1m12/12\u001b[0m \u001b[32m━━━━━━━━━━━━━━━━━━━━\u001b[0m\u001b[37m\u001b[0m \u001b[1m1s\u001b[0m 44ms/step - accuracy: 0.7486 - loss: 0.4850 - val_accuracy: 0.7622 - val_loss: 0.5256 - learning_rate: 1.0000e-06\n",
      "Epoch 85/100\n",
      "\u001b[1m11/12\u001b[0m \u001b[32m━━━━━━━━━━━━━━━━━━\u001b[0m\u001b[37m━━\u001b[0m \u001b[1m0s\u001b[0m 42ms/step - accuracy: 0.7546 - loss: 0.4911\n",
      "Epoch 85: val_accuracy did not improve from 0.92021\n",
      "\u001b[1m12/12\u001b[0m \u001b[32m━━━━━━━━━━━━━━━━━━━━\u001b[0m\u001b[37m\u001b[0m \u001b[1m1s\u001b[0m 46ms/step - accuracy: 0.7541 - loss: 0.4919 - val_accuracy: 0.7622 - val_loss: 0.5256 - learning_rate: 1.0000e-07\n",
      "Epoch 86/100\n",
      "\u001b[1m11/12\u001b[0m \u001b[32m━━━━━━━━━━━━━━━━━━\u001b[0m\u001b[37m━━\u001b[0m \u001b[1m0s\u001b[0m 35ms/step - accuracy: 0.7511 - loss: 0.5088\n",
      "Epoch 86: val_accuracy did not improve from 0.92021\n",
      "\u001b[1m12/12\u001b[0m \u001b[32m━━━━━━━━━━━━━━━━━━━━\u001b[0m\u001b[37m\u001b[0m \u001b[1m0s\u001b[0m 39ms/step - accuracy: 0.7516 - loss: 0.5062 - val_accuracy: 0.7622 - val_loss: 0.5256 - learning_rate: 1.0000e-07\n",
      "Epoch 87/100\n",
      "\u001b[1m11/12\u001b[0m \u001b[32m━━━━━━━━━━━━━━━━━━\u001b[0m\u001b[37m━━\u001b[0m \u001b[1m0s\u001b[0m 38ms/step - accuracy: 0.7646 - loss: 0.4836\n",
      "Epoch 87: val_accuracy did not improve from 0.92021\n",
      "\u001b[1m12/12\u001b[0m \u001b[32m━━━━━━━━━━━━━━━━━━━━\u001b[0m\u001b[37m\u001b[0m \u001b[1m1s\u001b[0m 43ms/step - accuracy: 0.7632 - loss: 0.4858 - val_accuracy: 0.7622 - val_loss: 0.5256 - learning_rate: 1.0000e-07\n",
      "Epoch 88/100\n",
      "\u001b[1m11/12\u001b[0m \u001b[32m━━━━━━━━━━━━━━━━━━\u001b[0m\u001b[37m━━\u001b[0m \u001b[1m0s\u001b[0m 49ms/step - accuracy: 0.7573 - loss: 0.4814\n",
      "Epoch 88: val_accuracy did not improve from 0.92021\n",
      "\u001b[1m12/12\u001b[0m \u001b[32m━━━━━━━━━━━━━━━━━━━━\u001b[0m\u001b[37m\u001b[0m \u001b[1m1s\u001b[0m 55ms/step - accuracy: 0.7567 - loss: 0.4833 - val_accuracy: 0.7622 - val_loss: 0.5256 - learning_rate: 1.0000e-07\n",
      "Epoch 89/100\n",
      "\u001b[1m11/12\u001b[0m \u001b[32m━━━━━━━━━━━━━━━━━━\u001b[0m\u001b[37m━━\u001b[0m \u001b[1m0s\u001b[0m 36ms/step - accuracy: 0.7725 - loss: 0.4715\n",
      "Epoch 89: val_accuracy did not improve from 0.92021\n",
      "\u001b[1m12/12\u001b[0m \u001b[32m━━━━━━━━━━━━━━━━━━━━\u001b[0m\u001b[37m\u001b[0m \u001b[1m1s\u001b[0m 40ms/step - accuracy: 0.7694 - loss: 0.4751 - val_accuracy: 0.7622 - val_loss: 0.5256 - learning_rate: 1.0000e-07\n",
      "Epoch 90/100\n",
      "\u001b[1m12/12\u001b[0m \u001b[32m━━━━━━━━━━━━━━━━━━━━\u001b[0m\u001b[37m\u001b[0m \u001b[1m0s\u001b[0m 43ms/step - accuracy: 0.7334 - loss: 0.5042\n",
      "Epoch 90: val_accuracy did not improve from 0.92021\n",
      "\u001b[1m12/12\u001b[0m \u001b[32m━━━━━━━━━━━━━━━━━━━━\u001b[0m\u001b[37m\u001b[0m \u001b[1m1s\u001b[0m 48ms/step - accuracy: 0.7348 - loss: 0.5033 - val_accuracy: 0.7622 - val_loss: 0.5256 - learning_rate: 1.0000e-07\n",
      "Epoch 91/100\n",
      "\u001b[1m11/12\u001b[0m \u001b[32m━━━━━━━━━━━━━━━━━━\u001b[0m\u001b[37m━━\u001b[0m \u001b[1m0s\u001b[0m 35ms/step - accuracy: 0.7764 - loss: 0.4666\n",
      "Epoch 91: val_accuracy did not improve from 0.92021\n",
      "\u001b[1m12/12\u001b[0m \u001b[32m━━━━━━━━━━━━━━━━━━━━\u001b[0m\u001b[37m\u001b[0m \u001b[1m1s\u001b[0m 41ms/step - accuracy: 0.7724 - loss: 0.4715 - val_accuracy: 0.7622 - val_loss: 0.5256 - learning_rate: 1.0000e-07\n",
      "Epoch 92/100\n",
      "\u001b[1m11/12\u001b[0m \u001b[32m━━━━━━━━━━━━━━━━━━\u001b[0m\u001b[37m━━\u001b[0m \u001b[1m0s\u001b[0m 35ms/step - accuracy: 0.7530 - loss: 0.4880\n",
      "Epoch 92: val_accuracy did not improve from 0.92021\n",
      "\u001b[1m12/12\u001b[0m \u001b[32m━━━━━━━━━━━━━━━━━━━━\u001b[0m\u001b[37m\u001b[0m \u001b[1m1s\u001b[0m 41ms/step - accuracy: 0.7541 - loss: 0.4887 - val_accuracy: 0.7622 - val_loss: 0.5256 - learning_rate: 1.0000e-07\n",
      "Epoch 93/100\n",
      "\u001b[1m11/12\u001b[0m \u001b[32m━━━━━━━━━━━━━━━━━━\u001b[0m\u001b[37m━━\u001b[0m \u001b[1m0s\u001b[0m 52ms/step - accuracy: 0.7727 - loss: 0.4824\n",
      "Epoch 93: val_accuracy did not improve from 0.92021\n",
      "\u001b[1m12/12\u001b[0m \u001b[32m━━━━━━━━━━━━━━━━━━━━\u001b[0m\u001b[37m\u001b[0m \u001b[1m1s\u001b[0m 55ms/step - accuracy: 0.7707 - loss: 0.4840 - val_accuracy: 0.7622 - val_loss: 0.5256 - learning_rate: 1.0000e-07\n",
      "Epoch 94/100\n",
      "\u001b[1m11/12\u001b[0m \u001b[32m━━━━━━━━━━━━━━━━━━\u001b[0m\u001b[37m━━\u001b[0m \u001b[1m0s\u001b[0m 34ms/step - accuracy: 0.7422 - loss: 0.5175\n",
      "Epoch 94: val_accuracy did not improve from 0.92021\n",
      "\u001b[1m12/12\u001b[0m \u001b[32m━━━━━━━━━━━━━━━━━━━━\u001b[0m\u001b[37m\u001b[0m \u001b[1m0s\u001b[0m 37ms/step - accuracy: 0.7447 - loss: 0.5142 - val_accuracy: 0.7622 - val_loss: 0.5256 - learning_rate: 1.0000e-07\n",
      "Epoch 95/100\n",
      "\u001b[1m11/12\u001b[0m \u001b[32m━━━━━━━━━━━━━━━━━━\u001b[0m\u001b[37m━━\u001b[0m \u001b[1m0s\u001b[0m 33ms/step - accuracy: 0.7659 - loss: 0.4775\n",
      "Epoch 95: val_accuracy did not improve from 0.92021\n",
      "\u001b[1m12/12\u001b[0m \u001b[32m━━━━━━━━━━━━━━━━━━━━\u001b[0m\u001b[37m\u001b[0m \u001b[1m0s\u001b[0m 37ms/step - accuracy: 0.7637 - loss: 0.4803 - val_accuracy: 0.7622 - val_loss: 0.5256 - learning_rate: 1.0000e-07\n",
      "Epoch 96/100\n",
      "\u001b[1m11/12\u001b[0m \u001b[32m━━━━━━━━━━━━━━━━━━\u001b[0m\u001b[37m━━\u001b[0m \u001b[1m0s\u001b[0m 34ms/step - accuracy: 0.7479 - loss: 0.4934\n",
      "Epoch 96: val_accuracy did not improve from 0.92021\n",
      "\u001b[1m12/12\u001b[0m \u001b[32m━━━━━━━━━━━━━━━━━━━━\u001b[0m\u001b[37m\u001b[0m \u001b[1m0s\u001b[0m 38ms/step - accuracy: 0.7493 - loss: 0.4933 - val_accuracy: 0.7622 - val_loss: 0.5256 - learning_rate: 1.0000e-07\n",
      "Epoch 97/100\n",
      "\u001b[1m11/12\u001b[0m \u001b[32m━━━━━━━━━━━━━━━━━━\u001b[0m\u001b[37m━━\u001b[0m \u001b[1m0s\u001b[0m 33ms/step - accuracy: 0.7521 - loss: 0.5016\n",
      "Epoch 97: val_accuracy did not improve from 0.92021\n",
      "\u001b[1m12/12\u001b[0m \u001b[32m━━━━━━━━━━━━━━━━━━━━\u001b[0m\u001b[37m\u001b[0m \u001b[1m0s\u001b[0m 36ms/step - accuracy: 0.7516 - loss: 0.5011 - val_accuracy: 0.7622 - val_loss: 0.5256 - learning_rate: 1.0000e-07\n",
      "Epoch 98/100\n",
      "\u001b[1m12/12\u001b[0m \u001b[32m━━━━━━━━━━━━━━━━━━━━\u001b[0m\u001b[37m\u001b[0m \u001b[1m0s\u001b[0m 38ms/step - accuracy: 0.7372 - loss: 0.5131\n",
      "Epoch 98: val_accuracy did not improve from 0.92021\n",
      "\u001b[1m12/12\u001b[0m \u001b[32m━━━━━━━━━━━━━━━━━━━━\u001b[0m\u001b[37m\u001b[0m \u001b[1m1s\u001b[0m 43ms/step - accuracy: 0.7386 - loss: 0.5115 - val_accuracy: 0.7622 - val_loss: 0.5256 - learning_rate: 1.0000e-07\n",
      "Epoch 99/100\n",
      "\u001b[1m11/12\u001b[0m \u001b[32m━━━━━━━━━━━━━━━━━━\u001b[0m\u001b[37m━━\u001b[0m \u001b[1m0s\u001b[0m 51ms/step - accuracy: 0.7505 - loss: 0.4979\n",
      "Epoch 99: val_accuracy did not improve from 0.92021\n",
      "\u001b[1m12/12\u001b[0m \u001b[32m━━━━━━━━━━━━━━━━━━━━\u001b[0m\u001b[37m\u001b[0m \u001b[1m1s\u001b[0m 53ms/step - accuracy: 0.7513 - loss: 0.4975 - val_accuracy: 0.7622 - val_loss: 0.5256 - learning_rate: 1.0000e-07\n",
      "Epoch 100/100\n",
      "\u001b[1m11/12\u001b[0m \u001b[32m━━━━━━━━━━━━━━━━━━\u001b[0m\u001b[37m━━\u001b[0m \u001b[1m0s\u001b[0m 42ms/step - accuracy: 0.7578 - loss: 0.4956\n",
      "Epoch 100: val_accuracy did not improve from 0.92021\n",
      "\u001b[1m12/12\u001b[0m \u001b[32m━━━━━━━━━━━━━━━━━━━━\u001b[0m\u001b[37m\u001b[0m \u001b[1m1s\u001b[0m 46ms/step - accuracy: 0.7575 - loss: 0.4959 - val_accuracy: 0.7622 - val_loss: 0.5256 - learning_rate: 1.0000e-07\n"
     ]
    }
   ],
   "source": [
    "\n",
    "result = model.fit(X_train, y_train, batch_size = 100, validation_data = (X_val, y_val),class_weight= {0:1,1:1},epochs = 100, callbacks = [checkp, reduce])\n"
   ]
  },
  {
   "cell_type": "code",
   "execution_count": 87,
   "metadata": {},
   "outputs": [
    {
     "data": {
      "text/plain": [
       "<keras.src.callbacks.history.History at 0x2a73407ffb0>"
      ]
     },
     "execution_count": 87,
     "metadata": {},
     "output_type": "execute_result"
    }
   ],
   "source": [
    "result"
   ]
  },
  {
   "cell_type": "code",
   "execution_count": 168,
   "metadata": {},
   "outputs": [
    {
     "data": {
      "text/plain": [
       "Text(0.5, 1.0, 'Model accuracy by Epoch')"
      ]
     },
     "execution_count": 168,
     "metadata": {},
     "output_type": "execute_result"
    },
    {
     "data": {
      "image/png": "[encoded data removed]",
      "text/plain": [
       "<Figure size 2000x1000 with 2 Axes>"
      ]
     },
     "metadata": {},
     "output_type": "display_data"
    }
   ],
   "source": [
    "plt.figure(figsize=(20, 10))\n",
    "\n",
    "plt.subplot(2, 1, 1)\n",
    "siuu.lineplot(x=range(1, len(result.history['loss']) + 1), y=result.history['loss'])\n",
    "siuu.lineplot(x=range(1, len(result.history['val_loss']) + 1), y=result.history['val_loss'])\n",
    "plt.xlabel('Epochs')\n",
    "plt.ylabel('Loss')\n",
    "plt.legend(['training loss', 'val loss'])\n",
    "plt.title('Loss function by epochs')\n",
    "\n",
    "plt.subplot(2, 1, 2)\n",
    "siuu.lineplot(x=range(1, len(result.history['accuracy']) + 1), y=result.history['accuracy'])\n",
    "siuu.lineplot(x=range(1, len(result.history['val_accuracy']) + 1), y=result.history['val_accuracy'])\n",
    "plt.xlabel('Epochs')\n",
    "plt.ylabel('Accuracy')\n",
    "max_val_acc = max(result.history['val_accuracy'])\n",
    "plt.axvline(x=result.history['val_accuracy'].index(max_val_acc), color='red', linestyle='--')\n",
    "plt.legend(['train acc', 'val acc', f'Max Validation Accuracy: {max_val_acc:.4f}'])\n",
    "plt.title('Model accuracy by Epoch')"
   ]
  },
  {
   "cell_type": "code",
   "execution_count": 138,
   "metadata": {},
   "outputs": [
    {
     "name": "stdout",
     "output_type": "stream",
     "text": [
      "Collecting pydot\n",
      "  Downloading pydot-3.0.1-py3-none-any.whl.metadata (9.9 kB)\n",
      "Requirement already satisfied: pyparsing>=3.0.9 in c:\\users\\admin\\miniconda3\\lib\\site-packages (from pydot) (3.1.2)\n",
      "Downloading pydot-3.0.1-py3-none-any.whl (22 kB)\n",
      "Installing collected packages: pydot\n",
      "Successfully installed pydot-3.0.1\n",
      "Note: you may need to restart the kernel to use updated packages.\n"
     ]
    }
   ],
   "source": [
    "pip install pydot"
   ]
  },
  {
   "cell_type": "code",
   "execution_count": 89,
   "metadata": {},
   "outputs": [
    {
     "ename": "AttributeError",
     "evalue": "module 'pydot' has no attribute 'InvocationException'",
     "output_type": "error",
     "traceback": [
      "\u001b[1;31m---------------------------------------------------------------------------\u001b[0m",
      "\u001b[1;31mFileNotFoundError\u001b[0m                         Traceback (most recent call last)",
      "File \u001b[1;32mc:\\Users\\Admin\\miniconda3\\Lib\\site-packages\\pydot\\core.py:1799\u001b[0m, in \u001b[0;36mDot.create\u001b[1;34m(self, prog, format, encoding)\u001b[0m\n\u001b[0;32m   1798\u001b[0m \u001b[38;5;28;01mtry\u001b[39;00m:\n\u001b[1;32m-> 1799\u001b[0m     stdout_data, stderr_data, process \u001b[38;5;241m=\u001b[39m \u001b[43mcall_graphviz\u001b[49m\u001b[43m(\u001b[49m\n\u001b[0;32m   1800\u001b[0m \u001b[43m        \u001b[49m\u001b[43mprogram\u001b[49m\u001b[38;5;241;43m=\u001b[39;49m\u001b[43mprog\u001b[49m\u001b[43m,\u001b[49m\n\u001b[0;32m   1801\u001b[0m \u001b[43m        \u001b[49m\u001b[43marguments\u001b[49m\u001b[38;5;241;43m=\u001b[39;49m\u001b[43marguments\u001b[49m\u001b[43m,\u001b[49m\n\u001b[0;32m   1802\u001b[0m \u001b[43m        \u001b[49m\u001b[43mworking_dir\u001b[49m\u001b[38;5;241;43m=\u001b[39;49m\u001b[43mtmp_dir\u001b[49m\u001b[43m,\u001b[49m\n\u001b[0;32m   1803\u001b[0m \u001b[43m    \u001b[49m\u001b[43m)\u001b[49m\n\u001b[0;32m   1804\u001b[0m \u001b[38;5;28;01mexcept\u001b[39;00m \u001b[38;5;167;01mOSError\u001b[39;00m \u001b[38;5;28;01mas\u001b[39;00m e:\n",
      "File \u001b[1;32mc:\\Users\\Admin\\miniconda3\\Lib\\site-packages\\pydot\\core.py:222\u001b[0m, in \u001b[0;36mcall_graphviz\u001b[1;34m(program, arguments, working_dir, **kwargs)\u001b[0m\n\u001b[0;32m    220\u001b[0m program_with_args \u001b[38;5;241m=\u001b[39m [program] \u001b[38;5;241m+\u001b[39m arguments\n\u001b[1;32m--> 222\u001b[0m process \u001b[38;5;241m=\u001b[39m \u001b[43msubprocess\u001b[49m\u001b[38;5;241;43m.\u001b[39;49m\u001b[43mPopen\u001b[49m\u001b[43m(\u001b[49m\n\u001b[0;32m    223\u001b[0m \u001b[43m    \u001b[49m\u001b[43mprogram_with_args\u001b[49m\u001b[43m,\u001b[49m\n\u001b[0;32m    224\u001b[0m \u001b[43m    \u001b[49m\u001b[43menv\u001b[49m\u001b[38;5;241;43m=\u001b[39;49m\u001b[43menv\u001b[49m\u001b[43m,\u001b[49m\n\u001b[0;32m    225\u001b[0m \u001b[43m    \u001b[49m\u001b[43mcwd\u001b[49m\u001b[38;5;241;43m=\u001b[39;49m\u001b[43mworking_dir\u001b[49m\u001b[43m,\u001b[49m\n\u001b[0;32m    226\u001b[0m \u001b[43m    \u001b[49m\u001b[43mshell\u001b[49m\u001b[38;5;241;43m=\u001b[39;49m\u001b[38;5;28;43;01mFalse\u001b[39;49;00m\u001b[43m,\u001b[49m\n\u001b[0;32m    227\u001b[0m \u001b[43m    \u001b[49m\u001b[43mstderr\u001b[49m\u001b[38;5;241;43m=\u001b[39;49m\u001b[43msubprocess\u001b[49m\u001b[38;5;241;43m.\u001b[39;49m\u001b[43mPIPE\u001b[49m\u001b[43m,\u001b[49m\n\u001b[0;32m    228\u001b[0m \u001b[43m    \u001b[49m\u001b[43mstdout\u001b[49m\u001b[38;5;241;43m=\u001b[39;49m\u001b[43msubprocess\u001b[49m\u001b[38;5;241;43m.\u001b[39;49m\u001b[43mPIPE\u001b[49m\u001b[43m,\u001b[49m\n\u001b[0;32m    229\u001b[0m \u001b[43m    \u001b[49m\u001b[38;5;241;43m*\u001b[39;49m\u001b[38;5;241;43m*\u001b[39;49m\u001b[43mkwargs\u001b[49m\u001b[43m,\u001b[49m\n\u001b[0;32m    230\u001b[0m \u001b[43m\u001b[49m\u001b[43m)\u001b[49m\n\u001b[0;32m    231\u001b[0m stdout_data, stderr_data \u001b[38;5;241m=\u001b[39m process\u001b[38;5;241m.\u001b[39mcommunicate()\n",
      "File \u001b[1;32mc:\\Users\\Admin\\miniconda3\\Lib\\subprocess.py:1026\u001b[0m, in \u001b[0;36mPopen.__init__\u001b[1;34m(self, args, bufsize, executable, stdin, stdout, stderr, preexec_fn, close_fds, shell, cwd, env, universal_newlines, startupinfo, creationflags, restore_signals, start_new_session, pass_fds, user, group, extra_groups, encoding, errors, text, umask, pipesize, process_group)\u001b[0m\n\u001b[0;32m   1023\u001b[0m             \u001b[38;5;28mself\u001b[39m\u001b[38;5;241m.\u001b[39mstderr \u001b[38;5;241m=\u001b[39m io\u001b[38;5;241m.\u001b[39mTextIOWrapper(\u001b[38;5;28mself\u001b[39m\u001b[38;5;241m.\u001b[39mstderr,\n\u001b[0;32m   1024\u001b[0m                     encoding\u001b[38;5;241m=\u001b[39mencoding, errors\u001b[38;5;241m=\u001b[39merrors)\n\u001b[1;32m-> 1026\u001b[0m     \u001b[38;5;28;43mself\u001b[39;49m\u001b[38;5;241;43m.\u001b[39;49m\u001b[43m_execute_child\u001b[49m\u001b[43m(\u001b[49m\u001b[43margs\u001b[49m\u001b[43m,\u001b[49m\u001b[43m \u001b[49m\u001b[43mexecutable\u001b[49m\u001b[43m,\u001b[49m\u001b[43m \u001b[49m\u001b[43mpreexec_fn\u001b[49m\u001b[43m,\u001b[49m\u001b[43m \u001b[49m\u001b[43mclose_fds\u001b[49m\u001b[43m,\u001b[49m\n\u001b[0;32m   1027\u001b[0m \u001b[43m                        \u001b[49m\u001b[43mpass_fds\u001b[49m\u001b[43m,\u001b[49m\u001b[43m \u001b[49m\u001b[43mcwd\u001b[49m\u001b[43m,\u001b[49m\u001b[43m \u001b[49m\u001b[43menv\u001b[49m\u001b[43m,\u001b[49m\n\u001b[0;32m   1028\u001b[0m \u001b[43m                        \u001b[49m\u001b[43mstartupinfo\u001b[49m\u001b[43m,\u001b[49m\u001b[43m \u001b[49m\u001b[43mcreationflags\u001b[49m\u001b[43m,\u001b[49m\u001b[43m \u001b[49m\u001b[43mshell\u001b[49m\u001b[43m,\u001b[49m\n\u001b[0;32m   1029\u001b[0m \u001b[43m                        \u001b[49m\u001b[43mp2cread\u001b[49m\u001b[43m,\u001b[49m\u001b[43m \u001b[49m\u001b[43mp2cwrite\u001b[49m\u001b[43m,\u001b[49m\n\u001b[0;32m   1030\u001b[0m \u001b[43m                        \u001b[49m\u001b[43mc2pread\u001b[49m\u001b[43m,\u001b[49m\u001b[43m \u001b[49m\u001b[43mc2pwrite\u001b[49m\u001b[43m,\u001b[49m\n\u001b[0;32m   1031\u001b[0m \u001b[43m                        \u001b[49m\u001b[43merrread\u001b[49m\u001b[43m,\u001b[49m\u001b[43m \u001b[49m\u001b[43merrwrite\u001b[49m\u001b[43m,\u001b[49m\n\u001b[0;32m   1032\u001b[0m \u001b[43m                        \u001b[49m\u001b[43mrestore_signals\u001b[49m\u001b[43m,\u001b[49m\n\u001b[0;32m   1033\u001b[0m \u001b[43m                        \u001b[49m\u001b[43mgid\u001b[49m\u001b[43m,\u001b[49m\u001b[43m \u001b[49m\u001b[43mgids\u001b[49m\u001b[43m,\u001b[49m\u001b[43m \u001b[49m\u001b[43muid\u001b[49m\u001b[43m,\u001b[49m\u001b[43m \u001b[49m\u001b[43mumask\u001b[49m\u001b[43m,\u001b[49m\n\u001b[0;32m   1034\u001b[0m \u001b[43m                        \u001b[49m\u001b[43mstart_new_session\u001b[49m\u001b[43m,\u001b[49m\u001b[43m \u001b[49m\u001b[43mprocess_group\u001b[49m\u001b[43m)\u001b[49m\n\u001b[0;32m   1035\u001b[0m \u001b[38;5;28;01mexcept\u001b[39;00m:\n\u001b[0;32m   1036\u001b[0m     \u001b[38;5;66;03m# Cleanup if the child failed starting.\u001b[39;00m\n",
      "File \u001b[1;32mc:\\Users\\Admin\\miniconda3\\Lib\\subprocess.py:1538\u001b[0m, in \u001b[0;36mPopen._execute_child\u001b[1;34m(self, args, executable, preexec_fn, close_fds, pass_fds, cwd, env, startupinfo, creationflags, shell, p2cread, p2cwrite, c2pread, c2pwrite, errread, errwrite, unused_restore_signals, unused_gid, unused_gids, unused_uid, unused_umask, unused_start_new_session, unused_process_group)\u001b[0m\n\u001b[0;32m   1537\u001b[0m \u001b[38;5;28;01mtry\u001b[39;00m:\n\u001b[1;32m-> 1538\u001b[0m     hp, ht, pid, tid \u001b[38;5;241m=\u001b[39m \u001b[43m_winapi\u001b[49m\u001b[38;5;241;43m.\u001b[39;49m\u001b[43mCreateProcess\u001b[49m\u001b[43m(\u001b[49m\u001b[43mexecutable\u001b[49m\u001b[43m,\u001b[49m\u001b[43m \u001b[49m\u001b[43margs\u001b[49m\u001b[43m,\u001b[49m\n\u001b[0;32m   1539\u001b[0m \u001b[43m                             \u001b[49m\u001b[38;5;66;43;03m# no special security\u001b[39;49;00m\n\u001b[0;32m   1540\u001b[0m \u001b[43m                             \u001b[49m\u001b[38;5;28;43;01mNone\u001b[39;49;00m\u001b[43m,\u001b[49m\u001b[43m \u001b[49m\u001b[38;5;28;43;01mNone\u001b[39;49;00m\u001b[43m,\u001b[49m\n\u001b[0;32m   1541\u001b[0m \u001b[43m                             \u001b[49m\u001b[38;5;28;43mint\u001b[39;49m\u001b[43m(\u001b[49m\u001b[38;5;129;43;01mnot\u001b[39;49;00m\u001b[43m \u001b[49m\u001b[43mclose_fds\u001b[49m\u001b[43m)\u001b[49m\u001b[43m,\u001b[49m\n\u001b[0;32m   1542\u001b[0m \u001b[43m                             \u001b[49m\u001b[43mcreationflags\u001b[49m\u001b[43m,\u001b[49m\n\u001b[0;32m   1543\u001b[0m \u001b[43m                             \u001b[49m\u001b[43menv\u001b[49m\u001b[43m,\u001b[49m\n\u001b[0;32m   1544\u001b[0m \u001b[43m                             \u001b[49m\u001b[43mcwd\u001b[49m\u001b[43m,\u001b[49m\n\u001b[0;32m   1545\u001b[0m \u001b[43m                             \u001b[49m\u001b[43mstartupinfo\u001b[49m\u001b[43m)\u001b[49m\n\u001b[0;32m   1546\u001b[0m \u001b[38;5;28;01mfinally\u001b[39;00m:\n\u001b[0;32m   1547\u001b[0m     \u001b[38;5;66;03m# Child is launched. Close the parent's copy of those pipe\u001b[39;00m\n\u001b[0;32m   1548\u001b[0m     \u001b[38;5;66;03m# handles that only the child should have open.  You need\u001b[39;00m\n\u001b[1;32m   (...)\u001b[0m\n\u001b[0;32m   1551\u001b[0m     \u001b[38;5;66;03m# pipe will not close when the child process exits and the\u001b[39;00m\n\u001b[0;32m   1552\u001b[0m     \u001b[38;5;66;03m# ReadFile will hang.\u001b[39;00m\n",
      "\u001b[1;31mFileNotFoundError\u001b[0m: [WinError 2] The system cannot find the file specified",
      "\nDuring handling of the above exception, another exception occurred:\n",
      "\u001b[1;31mFileNotFoundError\u001b[0m                         Traceback (most recent call last)",
      "File \u001b[1;32mc:\\Users\\Admin\\miniconda3\\Lib\\site-packages\\keras\\src\\utils\\model_visualization.py:37\u001b[0m, in \u001b[0;36mcheck_graphviz\u001b[1;34m()\u001b[0m\n\u001b[0;32m     34\u001b[0m \u001b[38;5;28;01mtry\u001b[39;00m:\n\u001b[0;32m     35\u001b[0m     \u001b[38;5;66;03m# Attempt to create an image of a blank graph\u001b[39;00m\n\u001b[0;32m     36\u001b[0m     \u001b[38;5;66;03m# to check the pydot/graphviz installation.\u001b[39;00m\n\u001b[1;32m---> 37\u001b[0m     \u001b[43mpydot\u001b[49m\u001b[38;5;241;43m.\u001b[39;49m\u001b[43mDot\u001b[49m\u001b[38;5;241;43m.\u001b[39;49m\u001b[43mcreate\u001b[49m\u001b[43m(\u001b[49m\u001b[43mpydot\u001b[49m\u001b[38;5;241;43m.\u001b[39;49m\u001b[43mDot\u001b[49m\u001b[43m(\u001b[49m\u001b[43m)\u001b[49m\u001b[43m)\u001b[49m\n\u001b[0;32m     38\u001b[0m     \u001b[38;5;28;01mreturn\u001b[39;00m \u001b[38;5;28;01mTrue\u001b[39;00m\n",
      "File \u001b[1;32mc:\\Users\\Admin\\miniconda3\\Lib\\site-packages\\pydot\\core.py:1808\u001b[0m, in \u001b[0;36mDot.create\u001b[1;34m(self, prog, format, encoding)\u001b[0m\n\u001b[0;32m   1807\u001b[0m     args[\u001b[38;5;241m1\u001b[39m] \u001b[38;5;241m=\u001b[39m \u001b[38;5;124mf\u001b[39m\u001b[38;5;124m'\u001b[39m\u001b[38;5;124m\"\u001b[39m\u001b[38;5;132;01m{\u001b[39;00mprog\u001b[38;5;132;01m}\u001b[39;00m\u001b[38;5;124m\"\u001b[39m\u001b[38;5;124m not found in path.\u001b[39m\u001b[38;5;124m'\u001b[39m\n\u001b[1;32m-> 1808\u001b[0m     \u001b[38;5;28;01mraise\u001b[39;00m \u001b[38;5;167;01mOSError\u001b[39;00m(\u001b[38;5;241m*\u001b[39margs)\n\u001b[0;32m   1809\u001b[0m \u001b[38;5;28;01melse\u001b[39;00m:\n",
      "\u001b[1;31mFileNotFoundError\u001b[0m: [WinError 2] \"dot\" not found in path.",
      "\nDuring handling of the above exception, another exception occurred:\n",
      "\u001b[1;31mAttributeError\u001b[0m                            Traceback (most recent call last)",
      "Cell \u001b[1;32mIn[89], line 3\u001b[0m\n\u001b[0;32m      1\u001b[0m \u001b[38;5;28;01mfrom\u001b[39;00m \u001b[38;5;21;01mkeras\u001b[39;00m\u001b[38;5;21;01m.\u001b[39;00m\u001b[38;5;21;01mutils\u001b[39;00m \u001b[38;5;28;01mimport\u001b[39;00m plot_model\n\u001b[0;32m      2\u001b[0m model \u001b[38;5;241m=\u001b[39m load_model(\u001b[38;5;124m'\u001b[39m\u001b[38;5;124mmodels/best_model.keras\u001b[39m\u001b[38;5;124m'\u001b[39m)\n\u001b[1;32m----> 3\u001b[0m \u001b[43mplot_model\u001b[49m\u001b[43m(\u001b[49m\u001b[43mmodel\u001b[49m\u001b[43m,\u001b[49m\u001b[43m \u001b[49m\u001b[43mto_file\u001b[49m\u001b[38;5;241;43m=\u001b[39;49m\u001b[38;5;124;43m'\u001b[39;49m\u001b[38;5;124;43mmodel_visualization.png\u001b[39;49m\u001b[38;5;124;43m'\u001b[39;49m\u001b[43m,\u001b[49m\u001b[43m \u001b[49m\u001b[43mshow_shapes\u001b[49m\u001b[38;5;241;43m=\u001b[39;49m\u001b[38;5;28;43;01mTrue\u001b[39;49;00m\u001b[43m,\u001b[49m\u001b[43m \u001b[49m\u001b[43mdpi\u001b[49m\u001b[38;5;241;43m=\u001b[39;49m\u001b[38;5;241;43m50\u001b[39;49m\u001b[43m)\u001b[49m\n",
      "File \u001b[1;32mc:\\Users\\Admin\\miniconda3\\Lib\\site-packages\\keras\\src\\utils\\model_visualization.py:416\u001b[0m, in \u001b[0;36mplot_model\u001b[1;34m(model, to_file, show_shapes, show_dtype, show_layer_names, rankdir, expand_nested, dpi, show_layer_activations, show_trainable, **kwargs)\u001b[0m\n\u001b[0;32m    414\u001b[0m     \u001b[38;5;28;01melse\u001b[39;00m:\n\u001b[0;32m    415\u001b[0m         \u001b[38;5;28;01mraise\u001b[39;00m \u001b[38;5;167;01mImportError\u001b[39;00m(message)\n\u001b[1;32m--> 416\u001b[0m \u001b[38;5;28;01mif\u001b[39;00m \u001b[38;5;129;01mnot\u001b[39;00m \u001b[43mcheck_graphviz\u001b[49m\u001b[43m(\u001b[49m\u001b[43m)\u001b[49m:\n\u001b[0;32m    417\u001b[0m     message \u001b[38;5;241m=\u001b[39m (\n\u001b[0;32m    418\u001b[0m         \u001b[38;5;124m\"\u001b[39m\u001b[38;5;124mYou must install graphviz \u001b[39m\u001b[38;5;124m\"\u001b[39m\n\u001b[0;32m    419\u001b[0m         \u001b[38;5;124m\"\u001b[39m\u001b[38;5;124m(see instructions at https://graphviz.gitlab.io/download/) \u001b[39m\u001b[38;5;124m\"\u001b[39m\n\u001b[0;32m    420\u001b[0m         \u001b[38;5;124m\"\u001b[39m\u001b[38;5;124mfor `plot_model` to work.\u001b[39m\u001b[38;5;124m\"\u001b[39m\n\u001b[0;32m    421\u001b[0m     )\n\u001b[0;32m    422\u001b[0m     \u001b[38;5;28;01mif\u001b[39;00m \u001b[38;5;124m\"\u001b[39m\u001b[38;5;124mIPython.core.magics.namespace\u001b[39m\u001b[38;5;124m\"\u001b[39m \u001b[38;5;129;01min\u001b[39;00m sys\u001b[38;5;241m.\u001b[39mmodules:\n\u001b[0;32m    423\u001b[0m         \u001b[38;5;66;03m# We don't raise an exception here in order to avoid crashing\u001b[39;00m\n\u001b[0;32m    424\u001b[0m         \u001b[38;5;66;03m# notebook tests where graphviz is not available.\u001b[39;00m\n",
      "File \u001b[1;32mc:\\Users\\Admin\\miniconda3\\Lib\\site-packages\\keras\\src\\utils\\model_visualization.py:39\u001b[0m, in \u001b[0;36mcheck_graphviz\u001b[1;34m()\u001b[0m\n\u001b[0;32m     37\u001b[0m     pydot\u001b[38;5;241m.\u001b[39mDot\u001b[38;5;241m.\u001b[39mcreate(pydot\u001b[38;5;241m.\u001b[39mDot())\n\u001b[0;32m     38\u001b[0m     \u001b[38;5;28;01mreturn\u001b[39;00m \u001b[38;5;28;01mTrue\u001b[39;00m\n\u001b[1;32m---> 39\u001b[0m \u001b[38;5;28;01mexcept\u001b[39;00m (\u001b[38;5;167;01mOSError\u001b[39;00m, \u001b[43mpydot\u001b[49m\u001b[38;5;241;43m.\u001b[39;49m\u001b[43mInvocationException\u001b[49m):\n\u001b[0;32m     40\u001b[0m     \u001b[38;5;28;01mreturn\u001b[39;00m \u001b[38;5;28;01mFalse\u001b[39;00m\n",
      "\u001b[1;31mAttributeError\u001b[0m: module 'pydot' has no attribute 'InvocationException'"
     ]
    }
   ],
   "source": [
    "from keras.utils import plot_model\n",
    "model = load_model('models/best_model.keras')\n",
    "plot_model(model, to_file='model_visualization.png', show_shapes=True, dpi=50)\n"
   ]
  },
  {
   "cell_type": "code",
   "execution_count": 169,
   "metadata": {},
   "outputs": [
    {
     "name": "stdout",
     "output_type": "stream",
     "text": [
      "\u001b[1m10/10\u001b[0m \u001b[32m━━━━━━━━━━━━━━━━━━━━\u001b[0m\u001b[37m\u001b[0m \u001b[1m1s\u001b[0m 38ms/step\n"
     ]
    }
   ],
   "source": [
    "pred = model.predict(X_test)\n",
    "pred\n",
    "\n",
    "pred = np.argmax(pred, axis = 1)\n"
   ]
  },
  {
   "cell_type": "code",
   "execution_count": 163,
   "metadata": {},
   "outputs": [],
   "source": [
    "y_test_ori = encoder.inverse_transform(y_test)\n",
    "y_test_ori = y_test_ori.reshape(y_test_ori.shape[0])"
   ]
  },
  {
   "cell_type": "code",
   "execution_count": 170,
   "metadata": {},
   "outputs": [
    {
     "name": "stdout",
     "output_type": "stream",
     "text": [
      "Accuracy : 0.756578947368421\n",
      "[[ 96  56]\n",
      " [ 18 134]]\n",
      "              precision    recall  f1-score   support\n",
      "\n",
      "        Spam       0.84      0.63      0.72       152\n",
      "     No spam       0.71      0.88      0.78       152\n",
      "\n",
      "    accuracy                           0.76       304\n",
      "   macro avg       0.77      0.76      0.75       304\n",
      "weighted avg       0.77      0.76      0.75       304\n",
      "\n"
     ]
    }
   ],
   "source": [
    "from sklearn.metrics import accuracy_score,classification_report,confusion_matrix\n",
    "print('Accuracy : ' + str(accuracy_score(y_test_ori, pred)))\n",
    "print(confusion_matrix(y_test_ori, pred))\n",
    "print(classification_report(y_test_ori, pred, target_names = ['Spam','No spam']))"
   ]
  },
  {
   "cell_type": "markdown",
   "metadata": {},
   "source": [
    "\n",
    "*** imbalanced \n",
    "Accuracy : 0.898876404494382\n",
    "[[ 90  62]\n",
    " [ 19 630]]\n",
    "              precision    recall  f1-score   support\n",
    "\n",
    "        Spam       0.83      0.59      0.69       152\n",
    "     No spam       0.91      0.97      0.94       649\n",
    "\n",
    "    accuracy                           0.90       801\n",
    "   macro avg       0.87      0.78      0.81       801\n",
    "weighted avg       0.89      0.90      0.89       801"
   ]
  },
  {
   "cell_type": "code",
   "execution_count": 109,
   "metadata": {},
   "outputs": [
    {
     "data": {
      "text/plain": [
       "array([0, 1, 1, 1, 1, 1, 0, 1, 1, 1, 1, 1, 1, 1, 1, 1, 1, 1, 0, 1, 1, 1,\n",
       "       1, 1, 1, 1, 1, 0, 1, 1, 1, 1, 0, 1, 1, 1, 1, 1, 1, 1, 1, 1, 1, 1,\n",
       "       1, 1, 1, 1, 1, 1, 1, 1, 0, 0, 0, 1, 0, 1, 1, 1, 1, 0, 1, 0, 1, 0,\n",
       "       1, 0, 0, 0, 0, 1, 0, 1, 1, 1, 1, 1, 1, 1, 1, 1, 1, 1, 0, 0, 1, 1,\n",
       "       1, 1, 1, 1, 1, 0, 1, 1, 1, 1, 1, 1, 0, 1, 1, 0, 1, 1, 1, 0, 0, 1,\n",
       "       0, 1, 1, 1, 0, 1, 1, 1, 1, 0, 0, 1, 1, 0, 1, 1, 1, 1, 1, 0, 1, 0,\n",
       "       0, 1, 1, 0, 1, 1, 0, 1, 1, 1, 1, 1, 0, 1, 1, 0, 1, 1, 1, 1, 1, 1,\n",
       "       1, 0, 1, 1, 1, 1, 0, 1, 1, 0, 1, 1, 1, 1, 1, 1, 1, 1, 1, 1, 0, 1,\n",
       "       1, 1, 1, 1, 1, 1, 1, 1, 1, 1, 1, 1, 1, 1, 1, 1, 0, 1, 1, 0, 1, 1,\n",
       "       0, 1, 1, 1, 1, 1, 1, 1, 1, 0, 0, 1, 0, 0, 1, 1, 1, 1, 0, 1, 1, 1,\n",
       "       0, 1, 1, 1, 1, 1, 1, 1, 1, 1, 1, 1, 0, 1, 1, 1, 1, 1, 1, 0, 1, 1,\n",
       "       1, 1, 1, 1, 1, 1, 1, 1, 1, 1, 1, 1, 1, 1, 1, 1, 1, 1, 1, 1, 1, 1,\n",
       "       1, 1, 1, 1, 1, 1, 1, 1, 1, 1, 1, 1, 1, 1, 1, 0, 1, 1, 1, 0, 1, 0,\n",
       "       0, 1, 0, 1, 1, 1, 1, 1, 0, 1, 1, 1, 0, 1, 0, 1, 0, 0, 1, 1, 1, 1,\n",
       "       1, 1, 0, 1, 1, 1, 1, 0, 1, 0, 1, 1, 1, 1, 0, 1, 0, 1, 1, 1, 1, 1,\n",
       "       1, 1, 1, 0, 0, 1, 1, 1, 1, 1, 0, 1, 1, 0, 1, 1, 0, 1, 1, 1, 1, 1,\n",
       "       1, 1, 1, 1, 1, 1, 1, 1, 0, 1, 1, 1, 1, 1, 1, 1, 1, 1, 1, 1, 1, 1,\n",
       "       1, 1, 1, 1, 0, 1, 1, 0, 1, 1, 1, 0, 1, 0, 1, 1, 1, 1, 1, 1, 1, 1,\n",
       "       0, 1, 1, 1, 1, 0, 0, 1, 1, 1, 1, 1, 1, 1, 0, 1, 1, 1, 0, 1, 1, 1,\n",
       "       1, 0, 1, 1, 1, 1, 0, 1, 1, 1, 1, 1, 1, 1, 1, 1, 1, 1, 1, 1, 1, 1,\n",
       "       1, 1, 0, 1, 1, 0, 0, 1, 0, 0, 1, 1, 1, 1, 1, 1, 0, 1, 1, 1, 1, 1,\n",
       "       1, 1, 1, 1, 1, 1, 1, 1, 0, 1, 1, 1, 1, 1, 0, 0, 0, 0, 1, 1, 1, 1,\n",
       "       0, 0, 1, 1, 1, 0, 1, 0, 1, 0, 1, 1, 1, 1, 1, 0, 1, 1, 1, 0, 0, 0,\n",
       "       1, 1, 1, 1, 0, 1, 1, 1, 1, 1, 1, 1, 0, 1, 1, 1, 1, 0, 1, 1, 1, 1,\n",
       "       1, 1, 1, 1, 0, 1, 1, 1, 1, 1, 1, 1, 1, 1, 1, 1, 1, 1, 1, 0, 1, 1,\n",
       "       1, 0, 1, 1, 1, 0, 1, 1, 0, 1, 1, 1, 1, 1, 1, 0, 1, 1, 1, 1, 1, 0,\n",
       "       1, 1, 0, 1, 0, 1, 0, 1, 1, 1, 1, 1, 1, 1, 1, 1, 1, 1, 1, 1, 0, 0,\n",
       "       0, 0, 1, 1, 0, 1, 1, 0, 1, 1, 1, 1, 1, 1, 1, 1, 1, 1, 0, 1, 0, 1,\n",
       "       1, 1, 0, 1, 1, 0, 1, 1, 1, 1, 0, 1, 0, 1, 1, 1, 0, 1, 1, 1, 0, 1,\n",
       "       1, 1, 1, 1, 0, 1, 1, 1, 1, 0, 1, 0, 1, 1, 1, 1, 1, 0, 1, 0, 1, 1,\n",
       "       1, 1, 0, 0, 1, 1, 1, 1, 1, 0, 1, 1, 1, 1, 0, 1, 1, 1, 0, 1, 1, 1,\n",
       "       1, 1, 1, 1, 1, 0, 1, 1, 0, 1, 1, 1, 1, 1, 1, 1, 1, 1, 1, 1, 1, 1,\n",
       "       1, 1, 1, 0, 1, 1, 1, 1, 1, 1, 0, 0, 0, 1, 1, 1, 1, 1, 1, 1, 1, 1,\n",
       "       1, 0, 1, 1, 1, 0, 0, 1, 1, 1, 1, 1, 1, 1, 1, 0, 0, 1, 1, 1, 1, 1,\n",
       "       0, 1, 1, 1, 1, 1, 1, 1, 0, 0, 1, 1, 1, 1, 1, 1, 0, 0, 1, 1, 1, 1,\n",
       "       1, 1, 1, 1, 1, 1, 1, 1, 1, 1, 0, 1, 1, 1, 1, 1, 1, 1, 0, 1, 1, 1,\n",
       "       1, 1, 1, 1, 1, 1, 0, 1, 1], dtype=int64)"
      ]
     },
     "execution_count": 109,
     "metadata": {},
     "output_type": "execute_result"
    }
   ],
   "source": [
    "pred"
   ]
  },
  {
   "cell_type": "code",
   "execution_count": 101,
   "metadata": {},
   "outputs": [
    {
     "data": {
      "text/plain": [
       "array([0, 1, 1, 1, 1, 1, 1, 1, 1, 1, 1, 1, 1, 1, 1, 1, 1, 1, 0, 1, 1, 1,\n",
       "       1, 1, 1, 1, 1, 0, 1, 1, 1, 1, 0, 1, 1, 1, 1, 1, 1, 1, 1, 1, 1, 1,\n",
       "       1, 1, 1, 1, 1, 1, 1, 1, 0, 1, 0, 1, 0, 1, 1, 1, 1, 1, 1, 1, 1, 1,\n",
       "       1, 1, 1, 1, 0, 1, 0, 1, 1, 1, 1, 1, 1, 1, 1, 1, 1, 1, 1, 0, 1, 1,\n",
       "       1, 1, 1, 1, 1, 1, 1, 1, 1, 1, 1, 1, 0, 1, 1, 1, 1, 1, 1, 1, 1, 1,\n",
       "       0, 1, 1, 1, 1, 1, 1, 1, 1, 0, 1, 1, 1, 1, 1, 1, 1, 1, 1, 0, 1, 1,\n",
       "       1, 1, 1, 0, 1, 1, 0, 1, 1, 1, 1, 1, 0, 1, 1, 0, 1, 1, 1, 1, 1, 1,\n",
       "       1, 1, 1, 1, 1, 1, 1, 1, 1, 1, 1, 1, 1, 1, 1, 1, 1, 1, 1, 1, 0, 1,\n",
       "       1, 1, 1, 1, 1, 1, 1, 1, 1, 1, 1, 1, 1, 1, 1, 1, 1, 1, 1, 0, 1, 1,\n",
       "       1, 1, 1, 1, 1, 1, 1, 1, 1, 0, 1, 1, 1, 1, 1, 1, 1, 1, 0, 1, 1, 1,\n",
       "       1, 1, 1, 1, 1, 1, 1, 1, 1, 1, 1, 1, 0, 1, 1, 1, 1, 1, 1, 0, 1, 1,\n",
       "       1, 1, 1, 1, 1, 1, 1, 1, 1, 1, 1, 1, 1, 1, 1, 1, 1, 1, 1, 1, 1, 1,\n",
       "       1, 1, 1, 1, 1, 1, 1, 1, 1, 1, 1, 1, 1, 1, 1, 0, 1, 1, 1, 0, 1, 1,\n",
       "       1, 1, 0, 1, 1, 1, 1, 1, 1, 1, 1, 1, 1, 1, 0, 1, 0, 1, 1, 1, 1, 1,\n",
       "       1, 1, 0, 1, 1, 1, 1, 0, 1, 0, 1, 1, 1, 1, 0, 1, 0, 1, 1, 1, 1, 1,\n",
       "       1, 1, 1, 1, 1, 1, 0, 1, 1, 1, 0, 1, 1, 0, 1, 1, 1, 1, 1, 1, 1, 1,\n",
       "       1, 1, 1, 1, 1, 1, 1, 1, 0, 1, 1, 1, 1, 1, 1, 1, 1, 1, 1, 1, 1, 1,\n",
       "       1, 1, 1, 1, 0, 1, 1, 1, 1, 1, 1, 1, 1, 0, 1, 1, 1, 1, 1, 1, 1, 1,\n",
       "       1, 1, 1, 1, 1, 1, 1, 1, 1, 1, 1, 1, 1, 1, 0, 1, 1, 1, 1, 1, 1, 1,\n",
       "       1, 1, 1, 1, 1, 1, 0, 1, 1, 1, 1, 1, 1, 1, 1, 1, 1, 1, 1, 1, 1, 1,\n",
       "       1, 1, 0, 1, 1, 0, 1, 1, 1, 1, 1, 1, 1, 1, 1, 1, 0, 1, 1, 1, 1, 1,\n",
       "       1, 1, 1, 1, 1, 1, 1, 1, 1, 1, 1, 1, 1, 1, 1, 0, 1, 0, 1, 1, 1, 1,\n",
       "       0, 0, 1, 1, 1, 1, 1, 0, 1, 1, 1, 1, 1, 1, 1, 0, 1, 1, 1, 0, 1, 1,\n",
       "       1, 1, 1, 1, 0, 1, 1, 1, 1, 1, 1, 1, 0, 1, 1, 1, 1, 1, 1, 1, 1, 1,\n",
       "       1, 1, 1, 1, 0, 1, 1, 1, 1, 1, 1, 1, 1, 1, 1, 1, 1, 1, 1, 0, 1, 1,\n",
       "       1, 0, 1, 1, 1, 0, 1, 1, 1, 1, 1, 1, 1, 1, 1, 0, 1, 1, 1, 1, 1, 0,\n",
       "       1, 1, 0, 1, 0, 1, 1, 1, 1, 1, 1, 1, 1, 1, 1, 1, 1, 1, 1, 1, 1, 0,\n",
       "       1, 0, 1, 1, 0, 1, 1, 0, 1, 1, 1, 1, 1, 1, 1, 1, 1, 1, 0, 1, 1, 1,\n",
       "       1, 1, 0, 1, 1, 1, 1, 1, 1, 1, 0, 1, 0, 1, 1, 1, 0, 1, 1, 1, 0, 1,\n",
       "       1, 1, 1, 1, 0, 1, 1, 1, 1, 0, 1, 0, 1, 1, 1, 1, 1, 0, 1, 0, 1, 1,\n",
       "       1, 1, 1, 0, 1, 1, 1, 1, 1, 1, 1, 1, 1, 1, 1, 1, 1, 1, 1, 1, 1, 1,\n",
       "       1, 1, 1, 1, 1, 1, 1, 1, 0, 1, 1, 1, 1, 1, 1, 1, 1, 1, 1, 1, 1, 1,\n",
       "       1, 1, 1, 1, 1, 1, 1, 1, 1, 1, 1, 0, 1, 1, 1, 1, 1, 1, 1, 1, 1, 1,\n",
       "       1, 0, 1, 1, 1, 0, 1, 1, 1, 1, 1, 1, 1, 1, 1, 1, 1, 1, 1, 1, 1, 1,\n",
       "       0, 1, 1, 1, 1, 1, 1, 1, 0, 1, 1, 1, 1, 1, 1, 1, 1, 1, 1, 1, 1, 1,\n",
       "       1, 1, 1, 1, 1, 1, 1, 1, 1, 1, 0, 1, 1, 1, 1, 1, 1, 1, 0, 1, 1, 1,\n",
       "       1, 1, 1, 1, 1, 1, 1, 1, 1], dtype=int64)"
      ]
     },
     "execution_count": 101,
     "metadata": {},
     "output_type": "execute_result"
    }
   ],
   "source": [
    "pred"
   ]
  },
  {
   "cell_type": "markdown",
   "metadata": {},
   "source": [
    "## LSTM with smote"
   ]
  },
  {
   "cell_type": "code",
   "execution_count": null,
   "metadata": {},
   "outputs": [],
   "source": []
  },
  {
   "cell_type": "code",
   "execution_count": 175,
   "metadata": {},
   "outputs": [],
   "source": [
    "from scikeras.wrappers import KerasClassifier"
   ]
  },
  {
   "cell_type": "code",
   "execution_count": null,
   "metadata": {},
   "outputs": [],
   "source": [
    "from keras.callbacks import ModelCheckpoint, ReduceLROnPlateau\n",
    "checkp = ModelCheckpoint('models/best_model.keras', monitor = 'val_accuracy', verbose = 1, save_best_only = True)\n",
    "reduce = ReduceLROnPlateau(monitor = 'val_loss', patience = 20, verbose = 1)    \n",
    "\n",
    "def model_lstm():\n",
    "    model = Sequential()\n",
    "\n",
    "    model.add(LSTM(units = 40, input_shape = (X_train.shape[1], 1)))\n",
    "    model.add(Dropout(0.1))\n",
    "    model.add(Dense(100,activation= 'relu'))\n",
    "    model.add(Dense(2,activation = 'softmax'))\n",
    "    model.compile(loss = 'categorical_crossentropy', optimizer = 'adam', metrics = ['accuracy'])\n",
    "    print(model.summary())\n",
    "    return model\n",
    "\n",
    "KerasClassifier(model = model_lstm())\n",
    "\n"
   ]
  }
 ],
 "metadata": {
  "kernelspec": {
   "display_name": "Python 3",
   "language": "python",
   "name": "python3"
  },
  "language_info": {
   "codemirror_mode": {
    "name": "ipython",
    "version": 3
   },
   "file_extension": ".py",
   "mimetype": "text/x-python",
   "name": "python",
   "nbconvert_exporter": "python",
   "pygments_lexer": "ipython3",
   "version": "3.12.3"
  }
 },
 "nbformat": 4,
 "nbformat_minor": 2
}
